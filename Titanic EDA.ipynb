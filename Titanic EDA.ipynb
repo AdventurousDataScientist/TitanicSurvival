{
 "cells": [
  {
   "cell_type": "code",
   "execution_count": 1,
   "id": "e2df3d09",
   "metadata": {},
   "outputs": [],
   "source": [
    "import sys\n",
    " \n",
    "sys.path.append('C:\\\\Users\\\\Nikhil\\\\Developer\\\\Data_Science_Projects')\n",
    "from common_ds_modules import missing_values, data_manipulation, modeling, eda\n",
    "import os\n",
    "import pandas as pd\n",
    "import numpy as np\n",
    "import numpy as np\n",
    "from sklearn.impute import SimpleImputer\n",
    "from sklearn.linear_model import LogisticRegression\n",
    "import seaborn as sns\n",
    "from sklearn.model_selection import cross_val_score\n",
    "import matplotlib.pyplot as plt\n",
    "from sklearn.model_selection import GridSearchCV, RandomizedSearchCV\n",
    "from sklearn.ensemble import RandomForestClassifier\n",
    "import numpy as np\n",
    "from sklearn.preprocessing import StandardScaler\n",
    "from sklearn.pipeline import Pipeline\n",
    "from sklearn.model_selection import train_test_split, GridSearchCV\n",
    "from sklearn.linear_model import Lasso\n",
    "from sklearn.model_selection import cross_val_score\n",
    "from sklearn.model_selection import RandomizedSearchCV\n",
    "from sklearn.tree import DecisionTreeClassifier\n",
    "from xgboost import XGBClassifier\n",
    "import pickle\n",
    "from sklearn.linear_model import Lasso, Ridge, ElasticNet\n",
    "from sklearn.preprocessing import StandardScaler\n",
    "from sklearn.neighbors import KNeighborsClassifier\n",
    "from sklearn.ensemble import StackingClassifier, GradientBoostingClassifier\n",
    "\n",
    "from sklearn.compose import make_column_transformer \n",
    "from sklearn.pipeline import make_pipeline\n",
    "\n",
    "from sklearn.preprocessing import FunctionTransformer\n",
    "log_transformer = FunctionTransformer(np.log1p)\n",
    "\n",
    "from sklearn.compose import make_column_selector as selector\n",
    "from scipy.stats import skew"
   ]
  },
  {
   "cell_type": "code",
   "execution_count": 2,
   "id": "578197f0",
   "metadata": {},
   "outputs": [],
   "source": [
    "train = pd.read_csv('train.csv')\n",
    "test = pd.read_csv('test.csv')"
   ]
  },
  {
   "cell_type": "code",
   "execution_count": 3,
   "id": "8610b41d",
   "metadata": {},
   "outputs": [
    {
     "data": {
      "text/plain": [
       "PassengerId    0.000000\n",
       "Survived       0.000000\n",
       "Pclass         0.000000\n",
       "Name           0.000000\n",
       "Sex            0.000000\n",
       "Age            0.198653\n",
       "SibSp          0.000000\n",
       "Parch          0.000000\n",
       "Ticket         0.000000\n",
       "Fare           0.000000\n",
       "Cabin          0.771044\n",
       "Embarked       0.002245\n",
       "dtype: float64"
      ]
     },
     "execution_count": 3,
     "metadata": {},
     "output_type": "execute_result"
    }
   ],
   "source": [
    "train.isna().sum()/train.shape[0]"
   ]
  },
  {
   "cell_type": "markdown",
   "id": "4b18c2a1",
   "metadata": {},
   "source": [
    "May have to drop Cabin as a variable, as there are so many missing values"
   ]
  },
  {
   "cell_type": "markdown",
   "id": "cb521bae",
   "metadata": {},
   "source": [
    "#### Survival Distribution"
   ]
  },
  {
   "cell_type": "code",
   "execution_count": 4,
   "id": "f00df387",
   "metadata": {},
   "outputs": [
    {
     "data": {
      "image/png": "[encoded data removed]",
      "text/plain": [
       "<Figure size 640x480 with 1 Axes>"
      ]
     },
     "metadata": {},
     "output_type": "display_data"
    }
   ],
   "source": [
    "train['Survived'].hist()\n",
    "plt.show()"
   ]
  },
  {
   "cell_type": "code",
   "execution_count": 5,
   "id": "1ddd0d2a",
   "metadata": {},
   "outputs": [
    {
     "data": {
      "text/plain": [
       "Survived\n",
       "0    0.616162\n",
       "1    0.383838\n",
       "Name: proportion, dtype: float64"
      ]
     },
     "execution_count": 5,
     "metadata": {},
     "output_type": "execute_result"
    }
   ],
   "source": [
    "train['Survived'].value_counts(normalize=True)"
   ]
  },
  {
   "cell_type": "markdown",
   "id": "fdc4715d",
   "metadata": {},
   "source": [
    "Slightly over 1/3 survive, would be interesting trying to use SMOTE to balance the population"
   ]
  },
  {
   "cell_type": "markdown",
   "id": "c1a52642",
   "metadata": {},
   "source": [
    "#### PClass Distribution"
   ]
  },
  {
   "cell_type": "code",
   "execution_count": 6,
   "id": "1ef70cc1",
   "metadata": {},
   "outputs": [
    {
     "data": {
      "image/png": "[encoded data removed]",
      "text/plain": [
       "<Figure size 640x480 with 1 Axes>"
      ]
     },
     "metadata": {},
     "output_type": "display_data"
    }
   ],
   "source": [
    "train['Pclass'].hist()\n",
    "plt.show()"
   ]
  },
  {
   "cell_type": "code",
   "execution_count": 7,
   "id": "ad02bb8c",
   "metadata": {},
   "outputs": [
    {
     "data": {
      "text/plain": [
       "Pclass\n",
       "1    0.629630\n",
       "2    0.472826\n",
       "3    0.242363\n",
       "Name: class_survival_rate, dtype: float64"
      ]
     },
     "execution_count": 7,
     "metadata": {},
     "output_type": "execute_result"
    }
   ],
   "source": [
    "pclass_survivability = pd.crosstab(train['Pclass'], train['Survived'])\n",
    "pclass_survivability['class_survival_rate'] = pclass_survivability[1]/(pclass_survivability[1] + pclass_survivability[0])\n",
    "pclass_survivability['class_survival_rate']"
   ]
  },
  {
   "cell_type": "markdown",
   "id": "186bc3f7",
   "metadata": {},
   "source": [
    "### PClass Survivability"
   ]
  },
  {
   "cell_type": "code",
   "execution_count": 8,
   "id": "a2b437df",
   "metadata": {},
   "outputs": [
    {
     "data": {
      "text/html": [
       "<div>\n",
       "<style scoped>\n",
       "    .dataframe tbody tr th:only-of-type {\n",
       "        vertical-align: middle;\n",
       "    }\n",
       "\n",
       "    .dataframe tbody tr th {\n",
       "        vertical-align: top;\n",
       "    }\n",
       "\n",
       "    .dataframe thead th {\n",
       "        text-align: right;\n",
       "    }\n",
       "</style>\n",
       "<table border=\"1\" class=\"dataframe\">\n",
       "  <thead>\n",
       "    <tr style=\"text-align: right;\">\n",
       "      <th>Survived</th>\n",
       "      <th>0</th>\n",
       "      <th>1</th>\n",
       "      <th>class_survival_rate</th>\n",
       "    </tr>\n",
       "    <tr>\n",
       "      <th>Pclass</th>\n",
       "      <th></th>\n",
       "      <th></th>\n",
       "      <th></th>\n",
       "    </tr>\n",
       "  </thead>\n",
       "  <tbody>\n",
       "    <tr>\n",
       "      <th>1</th>\n",
       "      <td>80</td>\n",
       "      <td>136</td>\n",
       "      <td>0.629630</td>\n",
       "    </tr>\n",
       "    <tr>\n",
       "      <th>2</th>\n",
       "      <td>97</td>\n",
       "      <td>87</td>\n",
       "      <td>0.472826</td>\n",
       "    </tr>\n",
       "    <tr>\n",
       "      <th>3</th>\n",
       "      <td>372</td>\n",
       "      <td>119</td>\n",
       "      <td>0.242363</td>\n",
       "    </tr>\n",
       "  </tbody>\n",
       "</table>\n",
       "</div>"
      ],
      "text/plain": [
       "Survived    0    1  class_survival_rate\n",
       "Pclass                                 \n",
       "1          80  136             0.629630\n",
       "2          97   87             0.472826\n",
       "3         372  119             0.242363"
      ]
     },
     "execution_count": 8,
     "metadata": {},
     "output_type": "execute_result"
    }
   ],
   "source": [
    "pclass_survivability"
   ]
  },
  {
   "cell_type": "code",
   "execution_count": 9,
   "id": "5634306c",
   "metadata": {},
   "outputs": [
    {
     "data": {
      "image/png": "[encoded data removed]",
      "text/plain": [
       "<Figure size 640x480 with 1 Axes>"
      ]
     },
     "metadata": {},
     "output_type": "display_data"
    }
   ],
   "source": [
    "pclass_survivability['class_survival_rate'].plot.bar()\n",
    "plt.show()"
   ]
  },
  {
   "cell_type": "code",
   "execution_count": 10,
   "id": "17224a9f",
   "metadata": {},
   "outputs": [
    {
     "name": "stdout",
     "output_type": "stream",
     "text": [
      "Name: Braund, Mr. Owen Harris, sex: male\n",
      "Name: Cumings, Mrs. John Bradley (Florence Briggs Thayer), sex: female\n",
      "Name: Heikkinen, Miss. Laina, sex: female\n",
      "Name: Futrelle, Mrs. Jacques Heath (Lily May Peel), sex: female\n",
      "Name: Allen, Mr. William Henry, sex: male\n",
      "Name: Moran, Mr. James, sex: male\n",
      "Name: McCarthy, Mr. Timothy J, sex: male\n",
      "Name: Palsson, Master. Gosta Leonard, sex: male\n",
      "Name: Johnson, Mrs. Oscar W (Elisabeth Vilhelmina Berg), sex: female\n",
      "Name: Nasser, Mrs. Nicholas (Adele Achem), sex: female\n",
      "Name: Sandstrom, Miss. Marguerite Rut, sex: female\n",
      "Name: Bonnell, Miss. Elizabeth, sex: female\n",
      "Name: Saundercock, Mr. William Henry, sex: male\n",
      "Name: Andersson, Mr. Anders Johan, sex: male\n",
      "Name: Vestrom, Miss. Hulda Amanda Adolfina, sex: female\n",
      "Name: Hewlett, Mrs. (Mary D Kingcome) , sex: female\n",
      "Name: Rice, Master. Eugene, sex: male\n",
      "Name: Williams, Mr. Charles Eugene, sex: male\n",
      "Name: Vander Planke, Mrs. Julius (Emelia Maria Vandemoortele), sex: female\n",
      "Name: Masselmani, Mrs. Fatima, sex: female\n"
     ]
    }
   ],
   "source": [
    "for name, sex in zip(train['Name'].values[:20], train['Sex'].values[:20]):\n",
    "    print(f'Name: {name}, sex: {sex}')"
   ]
  },
  {
   "cell_type": "code",
   "execution_count": 11,
   "id": "66334098",
   "metadata": {},
   "outputs": [
    {
     "name": "stdout",
     "output_type": "stream",
     "text": [
      "Name: ('Braund, Mr. Owen Harris',)\n",
      "Name: ('Cumings, Mrs. John Bradley (Florence Briggs Thayer)',)\n",
      "Name: ('Heikkinen, Miss. Laina',)\n",
      "Name: ('Futrelle, Mrs. Jacques Heath (Lily May Peel)',)\n",
      "Name: ('Allen, Mr. William Henry',)\n",
      "Name: ('Moran, Mr. James',)\n",
      "Name: ('McCarthy, Mr. Timothy J',)\n",
      "Name: ('Palsson, Master. Gosta Leonard',)\n",
      "Name: ('Johnson, Mrs. Oscar W (Elisabeth Vilhelmina Berg)',)\n",
      "Name: ('Nasser, Mrs. Nicholas (Adele Achem)',)\n",
      "Name: ('Sandstrom, Miss. Marguerite Rut',)\n",
      "Name: ('Bonnell, Miss. Elizabeth',)\n",
      "Name: ('Saundercock, Mr. William Henry',)\n",
      "Name: ('Andersson, Mr. Anders Johan',)\n",
      "Name: ('Vestrom, Miss. Hulda Amanda Adolfina',)\n",
      "Name: ('Hewlett, Mrs. (Mary D Kingcome) ',)\n",
      "Name: ('Rice, Master. Eugene',)\n",
      "Name: ('Williams, Mr. Charles Eugene',)\n",
      "Name: ('Vander Planke, Mrs. Julius (Emelia Maria Vandemoortele)',)\n",
      "Name: ('Masselmani, Mrs. Fatima',)\n"
     ]
    }
   ],
   "source": [
    "for name in zip(train['Name'].values[:20]):\n",
    "    print(f'Name: {name}')"
   ]
  },
  {
   "cell_type": "code",
   "execution_count": 12,
   "id": "39c8ef93",
   "metadata": {},
   "outputs": [],
   "source": [
    "def is_married(x):\n",
    "    return 'mrs.' in x['Name'].lower() and x['Sex'] == 'female'"
   ]
  },
  {
   "cell_type": "code",
   "execution_count": 13,
   "id": "a8409bde",
   "metadata": {},
   "outputs": [
    {
     "data": {
      "text/plain": [
       "True"
      ]
     },
     "execution_count": 13,
     "metadata": {},
     "output_type": "execute_result"
    }
   ],
   "source": [
    "'(' in train['Name'].values[1].split(', ')[1] and ')' in train['Name'].values[1].split(', ')[1]"
   ]
  },
  {
   "cell_type": "code",
   "execution_count": 14,
   "id": "bbd366f8",
   "metadata": {},
   "outputs": [],
   "source": [
    "def get_title(x):\n",
    "    return x.split(', ')[1].split(' ')[0]"
   ]
  },
  {
   "cell_type": "code",
   "execution_count": 15,
   "id": "80cc9f92",
   "metadata": {},
   "outputs": [],
   "source": [
    "def kept_maiden_name(x):\n",
    "    return '(' in x['Name'].split(', ')[1] and ')' in x['Name'].split(', ')[1] and x['title'] == 'Mrs.'"
   ]
  },
  {
   "cell_type": "code",
   "execution_count": 16,
   "id": "c9ae8b78",
   "metadata": {},
   "outputs": [],
   "source": [
    "train['is_married'] = train.apply(lambda x: is_married(x), axis='columns')"
   ]
  },
  {
   "cell_type": "code",
   "execution_count": 17,
   "id": "c38d9f0e",
   "metadata": {},
   "outputs": [],
   "source": [
    "train['title'] = train['Name'].apply(lambda x: get_title(x))"
   ]
  },
  {
   "cell_type": "code",
   "execution_count": 18,
   "id": "3b7d835e",
   "metadata": {},
   "outputs": [],
   "source": [
    "train['kept_maiden_name'] = train.apply(lambda x: kept_maiden_name(x), axis='columns')"
   ]
  },
  {
   "cell_type": "code",
   "execution_count": 19,
   "id": "6639f05e",
   "metadata": {},
   "outputs": [
    {
     "data": {
      "text/plain": [
       "kept_maiden_name\n",
       "True     121\n",
       "False      4\n",
       "Name: count, dtype: int64"
      ]
     },
     "execution_count": 19,
     "metadata": {},
     "output_type": "execute_result"
    }
   ],
   "source": [
    "train[train['title'] == 'Mrs.']['kept_maiden_name'].value_counts()"
   ]
  },
  {
   "cell_type": "code",
   "execution_count": 20,
   "id": "95f76110",
   "metadata": {},
   "outputs": [
    {
     "data": {
      "text/plain": [
       "is_married\n",
       "False    766\n",
       "True     125\n",
       "Name: count, dtype: int64"
      ]
     },
     "execution_count": 20,
     "metadata": {},
     "output_type": "execute_result"
    }
   ],
   "source": [
    "train['is_married'].value_counts()"
   ]
  },
  {
   "cell_type": "code",
   "execution_count": 21,
   "id": "1fc235f1",
   "metadata": {},
   "outputs": [
    {
     "data": {
      "text/plain": [
       "27"
      ]
     },
     "execution_count": 21,
     "metadata": {},
     "output_type": "execute_result"
    }
   ],
   "source": [
    "train.shape[0] - (517 + 182 + 125 + 40)"
   ]
  },
  {
   "cell_type": "code",
   "execution_count": 22,
   "id": "86700826",
   "metadata": {
    "scrolled": true
   },
   "outputs": [
    {
     "data": {
      "text/plain": [
       "title\n",
       "Mr.          517\n",
       "Miss.        182\n",
       "Mrs.         125\n",
       "Master.       40\n",
       "Dr.            7\n",
       "Rev.           6\n",
       "Mlle.          2\n",
       "Major.         2\n",
       "Col.           2\n",
       "the            1\n",
       "Capt.          1\n",
       "Ms.            1\n",
       "Sir.           1\n",
       "Lady.          1\n",
       "Mme.           1\n",
       "Don.           1\n",
       "Jonkheer.      1\n",
       "Name: count, dtype: int64"
      ]
     },
     "execution_count": 22,
     "metadata": {},
     "output_type": "execute_result"
    }
   ],
   "source": [
    "train['title'].value_counts()"
   ]
  },
  {
   "cell_type": "code",
   "execution_count": 23,
   "id": "2cc30cac",
   "metadata": {},
   "outputs": [
    {
     "data": {
      "text/plain": [
       "False"
      ]
     },
     "execution_count": 23,
     "metadata": {},
     "output_type": "execute_result"
    }
   ],
   "source": [
    "'Lady.' in ['Mr.', 'Miss.']"
   ]
  },
  {
   "cell_type": "code",
   "execution_count": 24,
   "id": "bd4243ad",
   "metadata": {},
   "outputs": [],
   "source": [
    "def convert_title(title):\n",
    "    if title not in ['Mr.', 'Miss.', 'Mrs.', 'Master']:\n",
    "        return 'other'\n",
    "    else:\n",
    "        return title"
   ]
  },
  {
   "cell_type": "code",
   "execution_count": 25,
   "id": "d19b49b4",
   "metadata": {},
   "outputs": [],
   "source": [
    "train['title_converted'] = train['title'].apply(lambda x: convert_title(x) )"
   ]
  },
  {
   "cell_type": "markdown",
   "id": "3159c621",
   "metadata": {},
   "source": [
    "### Title Survivability"
   ]
  },
  {
   "cell_type": "code",
   "execution_count": 26,
   "id": "a09282db",
   "metadata": {},
   "outputs": [
    {
     "data": {
      "text/plain": [
       "array(['Mr.', 'Mrs.', 'Miss.', 'other'], dtype=object)"
      ]
     },
     "execution_count": 26,
     "metadata": {},
     "output_type": "execute_result"
    }
   ],
   "source": [
    "train['title_converted'].unique()"
   ]
  },
  {
   "cell_type": "code",
   "execution_count": 27,
   "id": "ba2fe31e",
   "metadata": {},
   "outputs": [
    {
     "data": {
      "text/plain": [
       "title_converted\n",
       "Miss.    0.697802\n",
       "Mr.      0.156673\n",
       "Mrs.     0.792000\n",
       "other    0.522388\n",
       "Name: class_survival_rate, dtype: float64"
      ]
     },
     "execution_count": 27,
     "metadata": {},
     "output_type": "execute_result"
    }
   ],
   "source": [
    "title_survivability = pd.crosstab(train['title_converted'], train['Survived'])\n",
    "title_survivability['class_survival_rate'] = title_survivability[1]/(title_survivability[1] + title_survivability[0])\n",
    "title_survivability['class_survival_rate']"
   ]
  },
  {
   "cell_type": "markdown",
   "id": "2ecf6b9e",
   "metadata": {},
   "source": [
    "### Survival Rate vs Sex"
   ]
  },
  {
   "cell_type": "code",
   "execution_count": 28,
   "id": "276bfa89",
   "metadata": {},
   "outputs": [
    {
     "data": {
      "text/plain": [
       "Pclass\n",
       "1    0.629630\n",
       "2    0.472826\n",
       "3    0.242363\n",
       "Name: class_survival_rate, dtype: float64"
      ]
     },
     "execution_count": 28,
     "metadata": {},
     "output_type": "execute_result"
    }
   ],
   "source": [
    "pclass_survivability = pd.crosstab(train['Pclass'], train['Survived'])\n",
    "pclass_survivability['class_survival_rate'] = pclass_survivability[1]/(pclass_survivability[1] + pclass_survivability[0])\n",
    "pclass_survivability['class_survival_rate']"
   ]
  },
  {
   "cell_type": "code",
   "execution_count": 29,
   "id": "89f44829",
   "metadata": {},
   "outputs": [],
   "source": [
    "train['sex_converted'] = train['Sex'].apply(lambda x: 1 if x == 'male' else 0)"
   ]
  },
  {
   "cell_type": "code",
   "execution_count": 30,
   "id": "d98b3f6d",
   "metadata": {},
   "outputs": [
    {
     "data": {
      "text/html": [
       "<div>\n",
       "<style scoped>\n",
       "    .dataframe tbody tr th:only-of-type {\n",
       "        vertical-align: middle;\n",
       "    }\n",
       "\n",
       "    .dataframe tbody tr th {\n",
       "        vertical-align: top;\n",
       "    }\n",
       "\n",
       "    .dataframe thead th {\n",
       "        text-align: right;\n",
       "    }\n",
       "</style>\n",
       "<table border=\"1\" class=\"dataframe\">\n",
       "  <thead>\n",
       "    <tr style=\"text-align: right;\">\n",
       "      <th>Survived</th>\n",
       "      <th>0</th>\n",
       "      <th>1</th>\n",
       "      <th>sex_survival_rate</th>\n",
       "    </tr>\n",
       "    <tr>\n",
       "      <th>sex_converted</th>\n",
       "      <th></th>\n",
       "      <th></th>\n",
       "      <th></th>\n",
       "    </tr>\n",
       "  </thead>\n",
       "  <tbody>\n",
       "    <tr>\n",
       "      <th>0</th>\n",
       "      <td>81</td>\n",
       "      <td>233</td>\n",
       "      <td>0.742038</td>\n",
       "    </tr>\n",
       "    <tr>\n",
       "      <th>1</th>\n",
       "      <td>468</td>\n",
       "      <td>109</td>\n",
       "      <td>0.188908</td>\n",
       "    </tr>\n",
       "  </tbody>\n",
       "</table>\n",
       "</div>"
      ],
      "text/plain": [
       "Survived         0    1  sex_survival_rate\n",
       "sex_converted                             \n",
       "0               81  233           0.742038\n",
       "1              468  109           0.188908"
      ]
     },
     "execution_count": 30,
     "metadata": {},
     "output_type": "execute_result"
    }
   ],
   "source": [
    "sex_survivability = pd.crosstab(train['sex_converted'], train['Survived'])\n",
    "sex_survivability['sex_survival_rate'] = sex_survivability[1]/(sex_survivability[1] + sex_survivability[0])\n",
    "sex_survivability"
   ]
  },
  {
   "cell_type": "code",
   "execution_count": 31,
   "id": "8f9c533d",
   "metadata": {},
   "outputs": [],
   "source": [
    "def get_sex_pclass(row):\n",
    "    if row['Pclass'] == 1 and row['sex_converted'] == 0:\n",
    "        return 'pclass_1_female'\n",
    "    elif row['Pclass'] == 2 and row['sex_converted'] == 0:\n",
    "        return 'pclass_2_female'\n",
    "    elif row['Pclass'] == 3 and row['sex_converted'] == 0:\n",
    "        return 'pclass_3_female'\n",
    "    elif row['Pclass'] == 1 and row['sex_converted'] == 1:\n",
    "        return 'pclass_1_male'\n",
    "    elif row['Pclass'] == 2 and row['sex_converted'] == 1:\n",
    "        return 'pclass_2_male'\n",
    "    else:\n",
    "        return'pclass_3_male'"
   ]
  },
  {
   "cell_type": "code",
   "execution_count": 32,
   "id": "57f4b671",
   "metadata": {},
   "outputs": [],
   "source": [
    "train['sex_pclass'] = train.apply(lambda row: get_sex_pclass(row), axis='columns')"
   ]
  },
  {
   "cell_type": "code",
   "execution_count": 33,
   "id": "d6a339b1",
   "metadata": {},
   "outputs": [
    {
     "data": {
      "text/html": [
       "<div>\n",
       "<style scoped>\n",
       "    .dataframe tbody tr th:only-of-type {\n",
       "        vertical-align: middle;\n",
       "    }\n",
       "\n",
       "    .dataframe tbody tr th {\n",
       "        vertical-align: top;\n",
       "    }\n",
       "\n",
       "    .dataframe thead th {\n",
       "        text-align: right;\n",
       "    }\n",
       "</style>\n",
       "<table border=\"1\" class=\"dataframe\">\n",
       "  <thead>\n",
       "    <tr style=\"text-align: right;\">\n",
       "      <th>Survived</th>\n",
       "      <th>0</th>\n",
       "      <th>1</th>\n",
       "      <th>sex_pclass_survival_rate</th>\n",
       "    </tr>\n",
       "    <tr>\n",
       "      <th>sex_pclass</th>\n",
       "      <th></th>\n",
       "      <th></th>\n",
       "      <th></th>\n",
       "    </tr>\n",
       "  </thead>\n",
       "  <tbody>\n",
       "    <tr>\n",
       "      <th>pclass_1_female</th>\n",
       "      <td>3</td>\n",
       "      <td>91</td>\n",
       "      <td>0.968085</td>\n",
       "    </tr>\n",
       "    <tr>\n",
       "      <th>pclass_1_male</th>\n",
       "      <td>77</td>\n",
       "      <td>45</td>\n",
       "      <td>0.368852</td>\n",
       "    </tr>\n",
       "    <tr>\n",
       "      <th>pclass_2_female</th>\n",
       "      <td>6</td>\n",
       "      <td>70</td>\n",
       "      <td>0.921053</td>\n",
       "    </tr>\n",
       "    <tr>\n",
       "      <th>pclass_2_male</th>\n",
       "      <td>91</td>\n",
       "      <td>17</td>\n",
       "      <td>0.157407</td>\n",
       "    </tr>\n",
       "    <tr>\n",
       "      <th>pclass_3_female</th>\n",
       "      <td>72</td>\n",
       "      <td>72</td>\n",
       "      <td>0.500000</td>\n",
       "    </tr>\n",
       "    <tr>\n",
       "      <th>pclass_3_male</th>\n",
       "      <td>300</td>\n",
       "      <td>47</td>\n",
       "      <td>0.135447</td>\n",
       "    </tr>\n",
       "  </tbody>\n",
       "</table>\n",
       "</div>"
      ],
      "text/plain": [
       "Survived           0   1  sex_pclass_survival_rate\n",
       "sex_pclass                                        \n",
       "pclass_1_female    3  91                  0.968085\n",
       "pclass_1_male     77  45                  0.368852\n",
       "pclass_2_female    6  70                  0.921053\n",
       "pclass_2_male     91  17                  0.157407\n",
       "pclass_3_female   72  72                  0.500000\n",
       "pclass_3_male    300  47                  0.135447"
      ]
     },
     "execution_count": 33,
     "metadata": {},
     "output_type": "execute_result"
    }
   ],
   "source": [
    "sex_pclass_survivability = pd.crosstab(train['sex_pclass'], train['Survived'])\n",
    "sex_pclass_survivability['sex_pclass_survival_rate'] = sex_pclass_survivability[1]/(sex_pclass_survivability[1] + sex_pclass_survivability[0])\n",
    "sex_pclass_survivability"
   ]
  },
  {
   "cell_type": "code",
   "execution_count": 34,
   "id": "1e169163",
   "metadata": {},
   "outputs": [],
   "source": [
    "train[\"pclass_1_female\"] = (train['Pclass'] == 1) & (train[\"sex_converted\"] == 0)\n",
    "train[\"pclass_2_female\"] = (train['Pclass'] == 2) & (train[\"sex_converted\"] == 0)\n",
    "train[\"pclass_3_female\"] = (train['Pclass'] == 3) & (train[\"sex_converted\"] == 0)\n",
    "\n",
    "train[\"pclass_1_male\"] = (train['Pclass'] == 1) & (train[\"sex_converted\"] == 1)\n",
    "train[\"pclass_2_male\"] = (train['Pclass'] == 2) & (train[\"sex_converted\"] == 1)\n",
    "train[\"pclass_3_male\"] = (train['Pclass'] == 3) & (train[\"sex_converted\"] == 1)"
   ]
  },
  {
   "cell_type": "code",
   "execution_count": 37,
   "id": "622f4242",
   "metadata": {},
   "outputs": [
    {
     "data": {
      "text/html": [
       "<div>\n",
       "<style scoped>\n",
       "    .dataframe tbody tr th:only-of-type {\n",
       "        vertical-align: middle;\n",
       "    }\n",
       "\n",
       "    .dataframe tbody tr th {\n",
       "        vertical-align: top;\n",
       "    }\n",
       "\n",
       "    .dataframe thead th {\n",
       "        text-align: right;\n",
       "    }\n",
       "</style>\n",
       "<table border=\"1\" class=\"dataframe\">\n",
       "  <thead>\n",
       "    <tr style=\"text-align: right;\">\n",
       "      <th></th>\n",
       "      <th></th>\n",
       "      <th>Survived</th>\n",
       "    </tr>\n",
       "    <tr>\n",
       "      <th>Sex</th>\n",
       "      <th>Pclass</th>\n",
       "      <th></th>\n",
       "    </tr>\n",
       "  </thead>\n",
       "  <tbody>\n",
       "    <tr>\n",
       "      <th rowspan=\"3\" valign=\"top\">female</th>\n",
       "      <th>1</th>\n",
       "      <td>0.968085</td>\n",
       "    </tr>\n",
       "    <tr>\n",
       "      <th>2</th>\n",
       "      <td>0.921053</td>\n",
       "    </tr>\n",
       "    <tr>\n",
       "      <th>3</th>\n",
       "      <td>0.500000</td>\n",
       "    </tr>\n",
       "    <tr>\n",
       "      <th rowspan=\"3\" valign=\"top\">male</th>\n",
       "      <th>1</th>\n",
       "      <td>0.368852</td>\n",
       "    </tr>\n",
       "    <tr>\n",
       "      <th>2</th>\n",
       "      <td>0.157407</td>\n",
       "    </tr>\n",
       "    <tr>\n",
       "      <th>3</th>\n",
       "      <td>0.135447</td>\n",
       "    </tr>\n",
       "  </tbody>\n",
       "</table>\n",
       "</div>"
      ],
      "text/plain": [
       "               Survived\n",
       "Sex    Pclass          \n",
       "female 1       0.968085\n",
       "       2       0.921053\n",
       "       3       0.500000\n",
       "male   1       0.368852\n",
       "       2       0.157407\n",
       "       3       0.135447"
      ]
     },
     "execution_count": 37,
     "metadata": {},
     "output_type": "execute_result"
    }
   ],
   "source": [
    "train.groupby(['Sex', 'Pclass'])['Survived'].mean().to_frame()"
   ]
  },
  {
   "cell_type": "markdown",
   "id": "6916f105",
   "metadata": {},
   "source": [
    "### Age Survivability"
   ]
  },
  {
   "cell_type": "code",
   "execution_count": 42,
   "id": "1c35efdd",
   "metadata": {},
   "outputs": [
    {
     "data": {
      "text/plain": [
       "(Survived\n",
       " 0    30.626179\n",
       " 1    28.343690\n",
       " Name: Age, dtype: float64,\n",
       " Survived\n",
       " 0    14.172110\n",
       " 1    14.950952\n",
       " Name: Age, dtype: float64)"
      ]
     },
     "execution_count": 42,
     "metadata": {},
     "output_type": "execute_result"
    }
   ],
   "source": [
    "train.groupby('Survived')['Age'].mean(), train.groupby('Survived')['Age'].std()"
   ]
  },
  {
   "cell_type": "code",
   "execution_count": 44,
   "id": "b1f00520",
   "metadata": {},
   "outputs": [],
   "source": [
    "train['age_group'] = pd.cut(train['Age'], [0,18,29,45,60,1000], labels=[0, 1, 2, 3, 4])"
   ]
  },
  {
   "cell_type": "code",
   "execution_count": 45,
   "id": "ae11fc51",
   "metadata": {},
   "outputs": [
    {
     "data": {
      "text/html": [
       "<div>\n",
       "<style scoped>\n",
       "    .dataframe tbody tr th:only-of-type {\n",
       "        vertical-align: middle;\n",
       "    }\n",
       "\n",
       "    .dataframe tbody tr th {\n",
       "        vertical-align: top;\n",
       "    }\n",
       "\n",
       "    .dataframe thead th {\n",
       "        text-align: right;\n",
       "    }\n",
       "</style>\n",
       "<table border=\"1\" class=\"dataframe\">\n",
       "  <thead>\n",
       "    <tr style=\"text-align: right;\">\n",
       "      <th></th>\n",
       "      <th>Survived</th>\n",
       "    </tr>\n",
       "    <tr>\n",
       "      <th>age_group</th>\n",
       "      <th></th>\n",
       "    </tr>\n",
       "  </thead>\n",
       "  <tbody>\n",
       "    <tr>\n",
       "      <th>0</th>\n",
       "      <td>0.503597</td>\n",
       "    </tr>\n",
       "    <tr>\n",
       "      <th>1</th>\n",
       "      <td>0.351020</td>\n",
       "    </tr>\n",
       "    <tr>\n",
       "      <th>2</th>\n",
       "      <td>0.422907</td>\n",
       "    </tr>\n",
       "    <tr>\n",
       "      <th>3</th>\n",
       "      <td>0.407407</td>\n",
       "    </tr>\n",
       "    <tr>\n",
       "      <th>4</th>\n",
       "      <td>0.227273</td>\n",
       "    </tr>\n",
       "  </tbody>\n",
       "</table>\n",
       "</div>"
      ],
      "text/plain": [
       "           Survived\n",
       "age_group          \n",
       "0          0.503597\n",
       "1          0.351020\n",
       "2          0.422907\n",
       "3          0.407407\n",
       "4          0.227273"
      ]
     },
     "execution_count": 45,
     "metadata": {},
     "output_type": "execute_result"
    }
   ],
   "source": [
    "train.groupby(['age_group'])['Survived'].mean().to_frame()"
   ]
  },
  {
   "cell_type": "code",
   "execution_count": 46,
   "id": "fc1a5921",
   "metadata": {},
   "outputs": [],
   "source": [
    "train['age_binary'] = train['Age'].apply(lambda x: 1 if x < 30 else 0)"
   ]
  },
  {
   "cell_type": "code",
   "execution_count": 47,
   "id": "8a81e209",
   "metadata": {},
   "outputs": [
    {
     "data": {
      "text/html": [
       "<div>\n",
       "<style scoped>\n",
       "    .dataframe tbody tr th:only-of-type {\n",
       "        vertical-align: middle;\n",
       "    }\n",
       "\n",
       "    .dataframe tbody tr th {\n",
       "        vertical-align: top;\n",
       "    }\n",
       "\n",
       "    .dataframe thead th {\n",
       "        text-align: right;\n",
       "    }\n",
       "</style>\n",
       "<table border=\"1\" class=\"dataframe\">\n",
       "  <thead>\n",
       "    <tr style=\"text-align: right;\">\n",
       "      <th></th>\n",
       "      <th>Survived</th>\n",
       "    </tr>\n",
       "    <tr>\n",
       "      <th>age_binary</th>\n",
       "      <th></th>\n",
       "    </tr>\n",
       "  </thead>\n",
       "  <tbody>\n",
       "    <tr>\n",
       "      <th>0</th>\n",
       "      <td>0.366864</td>\n",
       "    </tr>\n",
       "    <tr>\n",
       "      <th>1</th>\n",
       "      <td>0.406250</td>\n",
       "    </tr>\n",
       "  </tbody>\n",
       "</table>\n",
       "</div>"
      ],
      "text/plain": [
       "            Survived\n",
       "age_binary          \n",
       "0           0.366864\n",
       "1           0.406250"
      ]
     },
     "execution_count": 47,
     "metadata": {},
     "output_type": "execute_result"
    }
   ],
   "source": [
    "train.groupby(['age_binary'])['Survived'].mean().to_frame()"
   ]
  },
  {
   "cell_type": "code",
   "execution_count": 48,
   "id": "4c4ee8a6",
   "metadata": {},
   "outputs": [
    {
     "data": {
      "text/plain": [
       "count    139.000000\n",
       "mean      10.717050\n",
       "std        6.465828\n",
       "min        0.420000\n",
       "25%        4.000000\n",
       "50%       13.000000\n",
       "75%       17.000000\n",
       "max       18.000000\n",
       "Name: Age, dtype: float64"
      ]
     },
     "execution_count": 48,
     "metadata": {},
     "output_type": "execute_result"
    }
   ],
   "source": [
    "train[train['age_group'] == 0]['Age'].describe()"
   ]
  },
  {
   "cell_type": "code",
   "execution_count": 49,
   "id": "99499630",
   "metadata": {},
   "outputs": [],
   "source": [
    "import seaborn as sns"
   ]
  },
  {
   "cell_type": "code",
   "execution_count": 54,
   "id": "28429dfe",
   "metadata": {},
   "outputs": [
    {
     "data": {
      "text/plain": [
       "<Figure size 200x200 with 0 Axes>"
      ]
     },
     "execution_count": 54,
     "metadata": {},
     "output_type": "execute_result"
    },
    {
     "data": {
      "text/plain": [
       "<Figure size 200x200 with 0 Axes>"
      ]
     },
     "metadata": {},
     "output_type": "display_data"
    }
   ],
   "source": [
    "from matplotlib.pyplot import figure\n",
    "\n",
    "figure(figsize=(2, 2))"
   ]
  },
  {
   "cell_type": "code",
   "execution_count": 55,
   "id": "f077e871",
   "metadata": {},
   "outputs": [
    {
     "name": "stderr",
     "output_type": "stream",
     "text": [
      "C:\\Users\\Nikhil\\AppData\\Local\\Programs\\Python\\Python311\\Lib\\site-packages\\seaborn\\categorical.py:3544: UserWarning: 28.6% of the points cannot be placed; you may want to decrease the size of the markers or use stripplot.\n",
      "  warnings.warn(msg, UserWarning)\n",
      "C:\\Users\\Nikhil\\AppData\\Local\\Programs\\Python\\Python311\\Lib\\site-packages\\seaborn\\categorical.py:3544: UserWarning: 40.0% of the points cannot be placed; you may want to decrease the size of the markers or use stripplot.\n",
      "  warnings.warn(msg, UserWarning)\n",
      "C:\\Users\\Nikhil\\AppData\\Local\\Programs\\Python\\Python311\\Lib\\site-packages\\seaborn\\categorical.py:3544: UserWarning: 33.3% of the points cannot be placed; you may want to decrease the size of the markers or use stripplot.\n",
      "  warnings.warn(msg, UserWarning)\n",
      "C:\\Users\\Nikhil\\AppData\\Local\\Programs\\Python\\Python311\\Lib\\site-packages\\seaborn\\categorical.py:3544: UserWarning: 25.0% of the points cannot be placed; you may want to decrease the size of the markers or use stripplot.\n",
      "  warnings.warn(msg, UserWarning)\n",
      "C:\\Users\\Nikhil\\AppData\\Local\\Programs\\Python\\Python311\\Lib\\site-packages\\seaborn\\categorical.py:3544: UserWarning: 37.5% of the points cannot be placed; you may want to decrease the size of the markers or use stripplot.\n",
      "  warnings.warn(msg, UserWarning)\n",
      "C:\\Users\\Nikhil\\AppData\\Local\\Programs\\Python\\Python311\\Lib\\site-packages\\seaborn\\categorical.py:3544: UserWarning: 20.0% of the points cannot be placed; you may want to decrease the size of the markers or use stripplot.\n",
      "  warnings.warn(msg, UserWarning)\n",
      "C:\\Users\\Nikhil\\AppData\\Local\\Programs\\Python\\Python311\\Lib\\site-packages\\seaborn\\categorical.py:3544: UserWarning: 64.7% of the points cannot be placed; you may want to decrease the size of the markers or use stripplot.\n",
      "  warnings.warn(msg, UserWarning)\n",
      "C:\\Users\\Nikhil\\AppData\\Local\\Programs\\Python\\Python311\\Lib\\site-packages\\seaborn\\categorical.py:3544: UserWarning: 53.8% of the points cannot be placed; you may want to decrease the size of the markers or use stripplot.\n",
      "  warnings.warn(msg, UserWarning)\n",
      "C:\\Users\\Nikhil\\AppData\\Local\\Programs\\Python\\Python311\\Lib\\site-packages\\seaborn\\categorical.py:3544: UserWarning: 76.9% of the points cannot be placed; you may want to decrease the size of the markers or use stripplot.\n",
      "  warnings.warn(msg, UserWarning)\n"
     ]
    },
    {
     "data": {
      "image/png": "[encoded data removed]",
      "text/plain": [
       "<Figure size 640x480 with 1 Axes>"
      ]
     },
     "metadata": {},
     "output_type": "display_data"
    }
   ],
   "source": [
    "age_group_0 = train[train['age_group'] == 0]\n",
    "\n",
    "sns.swarmplot(data=age_group_0, x='Age', y='Survived', hue='Survived')\n",
    "plt.show()"
   ]
  },
  {
   "cell_type": "code",
   "execution_count": null,
   "id": "78bcadb0",
   "metadata": {},
   "outputs": [],
   "source": []
  },
  {
   "cell_type": "code",
   "execution_count": 53,
   "id": "75923f98",
   "metadata": {},
   "outputs": [
    {
     "data": {
      "text/plain": [
       "array([22.  , 38.  , 26.  , 35.  ,   nan, 54.  ,  2.  , 27.  , 14.  ,\n",
       "        4.  , 58.  , 20.  , 39.  , 55.  , 31.  , 34.  , 15.  , 28.  ,\n",
       "        8.  , 19.  , 40.  , 66.  , 42.  , 21.  , 18.  ,  3.  ,  7.  ,\n",
       "       49.  , 29.  , 65.  , 28.5 ,  5.  , 11.  , 45.  , 17.  , 32.  ,\n",
       "       16.  , 25.  ,  0.83, 30.  , 33.  , 23.  , 24.  , 46.  , 59.  ,\n",
       "       71.  , 37.  , 47.  , 14.5 , 70.5 , 32.5 , 12.  ,  9.  , 36.5 ,\n",
       "       51.  , 55.5 , 40.5 , 44.  ,  1.  , 61.  , 56.  , 50.  , 36.  ,\n",
       "       45.5 , 20.5 , 62.  , 41.  , 52.  , 63.  , 23.5 ,  0.92, 43.  ,\n",
       "       60.  , 10.  , 64.  , 13.  , 48.  ,  0.75, 53.  , 57.  , 80.  ,\n",
       "       70.  , 24.5 ,  6.  ,  0.67, 30.5 ,  0.42, 34.5 , 74.  ])"
      ]
     },
     "execution_count": 53,
     "metadata": {},
     "output_type": "execute_result"
    }
   ],
   "source": [
    "train['Age'].unique()"
   ]
  },
  {
   "cell_type": "code",
   "execution_count": null,
   "id": "ff777342",
   "metadata": {},
   "outputs": [],
   "source": [
    "age_group_survivability = pd.crosstab(train['age_group'], train['Survived'])\n",
    "age_group_survivability['age_group_survival_rate'] = age_group_survivability[1]/(age_group_survivability[1] + age_group_survivability[0])\n",
    "age_group_survivability"
   ]
  },
  {
   "cell_type": "markdown",
   "id": "e21e6e2a",
   "metadata": {},
   "source": [
    "0-29 Survivability: 70%\n",
    "30+ survivability: 40%"
   ]
  },
  {
   "cell_type": "code",
   "execution_count": null,
   "id": "1794e956",
   "metadata": {},
   "outputs": [],
   "source": [
    "70+86/(70+86+69+159)"
   ]
  },
  {
   "cell_type": "code",
   "execution_count": null,
   "id": "0e846ff6",
   "metadata": {},
   "outputs": [],
   "source": [
    "(96 + 33 + 5)/(131 + 48 + 17 + 96 + 33 + 5)"
   ]
  },
  {
   "cell_type": "code",
   "execution_count": null,
   "id": "58eae3d3",
   "metadata": {},
   "outputs": [],
   "source": [
    "train['Parch'].hist()\n",
    "plt.show()"
   ]
  },
  {
   "cell_type": "code",
   "execution_count": null,
   "id": "07985051",
   "metadata": {},
   "outputs": [],
   "source": [
    "train['SibSp'].hist()\n",
    "plt.show()"
   ]
  },
  {
   "cell_type": "code",
   "execution_count": null,
   "id": "945eb5a6",
   "metadata": {},
   "outputs": [],
   "source": [
    "train['family_size'] = train['Parch'] + train['SibSp'] + 1 # to include yourself"
   ]
  },
  {
   "cell_type": "code",
   "execution_count": null,
   "id": "36a54ce2",
   "metadata": {},
   "outputs": [],
   "source": [
    "train['family_size'].hist()\n",
    "plt.show()"
   ]
  },
  {
   "cell_type": "code",
   "execution_count": null,
   "id": "3a9f8199",
   "metadata": {},
   "outputs": [],
   "source": [
    "train['solo_traveler'] = train['family_size'].apply(lambda x: 1 if x == 1 else 0)\n",
    "train['solo_traveler'].value_counts()\n"
   ]
  },
  {
   "cell_type": "code",
   "execution_count": null,
   "id": "9032aa2c",
   "metadata": {},
   "outputs": [],
   "source": [
    "solo_survivability = pd.crosstab(train['solo_traveler'], train['Survived'])\n",
    "solo_survivability['solo_survival_rate'] = solo_survivability[1]/(solo_survivability[1] + solo_survivability[0])\n",
    "solo_survivability"
   ]
  },
  {
   "cell_type": "markdown",
   "id": "e469d22a",
   "metadata": {},
   "source": [
    "Traveling solo, drastically increases survival rate, you don't have anyone else to look after"
   ]
  },
  {
   "cell_type": "code",
   "execution_count": null,
   "id": "1659d95c",
   "metadata": {},
   "outputs": [],
   "source": [
    "train.columns"
   ]
  },
  {
   "cell_type": "markdown",
   "id": "59a380f6",
   "metadata": {},
   "source": [
    "Assuming ticket prefixes don't matter"
   ]
  },
  {
   "cell_type": "markdown",
   "id": "788267ee",
   "metadata": {},
   "source": [
    "### Fare Survivability"
   ]
  },
  {
   "cell_type": "code",
   "execution_count": null,
   "id": "150f0f08",
   "metadata": {},
   "outputs": [],
   "source": [
    "train['Fare'].hist()\n",
    "plt.show()"
   ]
  },
  {
   "cell_type": "code",
   "execution_count": null,
   "id": "47139f3a",
   "metadata": {},
   "outputs": [],
   "source": [
    "train[train['Fare'] == 0].shape[0]"
   ]
  },
  {
   "cell_type": "code",
   "execution_count": null,
   "id": "8c3b2b7e",
   "metadata": {},
   "outputs": [],
   "source": [
    "train['fare_group'], fare_bins = pd.qcut(train['Fare'], 5, labels=[0, 1, 2, 3, 4], retbins=True)"
   ]
  },
  {
   "cell_type": "code",
   "execution_count": null,
   "id": "ff89221d",
   "metadata": {},
   "outputs": [],
   "source": [
    "fare_bins"
   ]
  },
  {
   "cell_type": "code",
   "execution_count": null,
   "id": "45273b75",
   "metadata": {},
   "outputs": [],
   "source": [
    "fare_group_survivability = pd.crosstab(train['fare_group'], train['Survived'])\n",
    "fare_group_survivability['fare_group_survival_rate'] = fare_group_survivability[1]/(fare_group_survivability[1] + fare_group_survivability[0])\n",
    "fare_group_survivability"
   ]
  },
  {
   "cell_type": "code",
   "execution_count": null,
   "id": "a8f4d744",
   "metadata": {},
   "outputs": [],
   "source": [
    "fare_bins"
   ]
  },
  {
   "cell_type": "markdown",
   "id": "792255da",
   "metadata": {},
   "source": [
    "### Embarked Survivability"
   ]
  },
  {
   "cell_type": "code",
   "execution_count": null,
   "id": "10d5ab32",
   "metadata": {},
   "outputs": [],
   "source": [
    "embarked_survivability = pd.crosstab(train['Embarked'], train['Survived'])\n",
    "embarked_survivability['embarked_survival_rate'] = embarked_survivability[1]/(embarked_survivability[1] + embarked_survivability[0])\n",
    "embarked_survivability"
   ]
  },
  {
   "cell_type": "code",
   "execution_count": null,
   "id": "6fec9e62",
   "metadata": {},
   "outputs": [],
   "source": [
    "def get_cabin(row):\n",
    "    if pd.isnull(row):\n",
    "        return None\n",
    "    else:\n",
    "        return row[0]"
   ]
  },
  {
   "cell_type": "markdown",
   "id": "08bed9f5",
   "metadata": {},
   "source": [
    "Not enough information to do anything with this"
   ]
  },
  {
   "cell_type": "markdown",
   "id": "804ac6d9",
   "metadata": {},
   "source": [
    "### Processing Cabin"
   ]
  },
  {
   "cell_type": "code",
   "execution_count": null,
   "id": "3aa3d206",
   "metadata": {},
   "outputs": [],
   "source": [
    "train['cabin_prefix'] = train['Cabin'].apply(lambda x: get_cabin(x))\n",
    "train['cabin_prefix'].value_counts()"
   ]
  },
  {
   "cell_type": "code",
   "execution_count": null,
   "id": "ed1dd0de",
   "metadata": {},
   "outputs": [],
   "source": [
    "train.groupby('cabin_prefix')['Fare'].mean().sort_values()"
   ]
  },
  {
   "cell_type": "code",
   "execution_count": null,
   "id": "fb3bf3f1",
   "metadata": {},
   "outputs": [],
   "source": [
    "train['Cabin'].value_counts()"
   ]
  },
  {
   "cell_type": "markdown",
   "id": "165cee34",
   "metadata": {},
   "source": [
    "### Processing Ticket"
   ]
  },
  {
   "cell_type": "markdown",
   "id": "8e8e636e",
   "metadata": {},
   "source": [
    "Getting ticket prefix"
   ]
  },
  {
   "cell_type": "code",
   "execution_count": null,
   "id": "9cf21785",
   "metadata": {},
   "outputs": [],
   "source": [
    "train['ticket_prefix'] = train['Ticket'].apply(lambda x: x.split(' ')[0] if ' ' in x else 'NONE')"
   ]
  },
  {
   "cell_type": "code",
   "execution_count": null,
   "id": "aa8b6107",
   "metadata": {},
   "outputs": [],
   "source": [
    "def get_ticket_info(row):\n",
    "    has_code = False\n",
    "    for i in row:\n",
    "        if i.isalpha():\n",
    "            has_code = True\n",
    "    return has_code\n",
    "        "
   ]
  },
  {
   "cell_type": "code",
   "execution_count": null,
   "id": "a372add6",
   "metadata": {},
   "outputs": [],
   "source": [
    "train['ticket_code'] = train['Ticket'].apply(lambda row: get_ticket_info(row))"
   ]
  },
  {
   "cell_type": "code",
   "execution_count": null,
   "id": "7888e591",
   "metadata": {},
   "outputs": [],
   "source": [
    "train['ticket_code'].value_counts()"
   ]
  },
  {
   "cell_type": "markdown",
   "id": "6992d060",
   "metadata": {},
   "source": [
    "All ticket prefixes"
   ]
  },
  {
   "cell_type": "code",
   "execution_count": null,
   "id": "ba8bebf0",
   "metadata": {},
   "outputs": [],
   "source": [
    "train[train['ticket_code'] == True]['ticket_prefix'].unique()"
   ]
  },
  {
   "cell_type": "markdown",
   "id": "1d899f8e",
   "metadata": {},
   "source": [
    "There are multiple passengers with the same ticket number"
   ]
  },
  {
   "cell_type": "code",
   "execution_count": null,
   "id": "765af5cd",
   "metadata": {},
   "outputs": [],
   "source": [
    "train[train['ticket_code'] == False]['Ticket'].value_counts()"
   ]
  },
  {
   "cell_type": "markdown",
   "id": "d30e0562",
   "metadata": {},
   "source": [
    "Really isn't too big of a difference between ticket prefix and Fare"
   ]
  },
  {
   "cell_type": "code",
   "execution_count": null,
   "id": "1387c6fa",
   "metadata": {},
   "outputs": [],
   "source": [
    "ticket_code_present = train[train['ticket_code'] == True]\n",
    "ticket_code_present.groupby('ticket_prefix')['Fare'].mean().sort_values()"
   ]
  },
  {
   "cell_type": "code",
   "execution_count": null,
   "id": "3b7bc39e",
   "metadata": {},
   "outputs": [],
   "source": [
    "ticket_code_present['ticket_prefix'].value_counts()"
   ]
  },
  {
   "cell_type": "code",
   "execution_count": null,
   "id": "42068a3b",
   "metadata": {},
   "outputs": [],
   "source": [
    "train['ticket_prefix_cleaned'] = train.apply(lambda row: row['ticket_prefix']\\\n",
    "                                      .replace('.', '').replace('/', '') if row['ticket_code'] else row['ticket_prefix'], axis='columns')"
   ]
  },
  {
   "cell_type": "code",
   "execution_count": null,
   "id": "f1858bfd",
   "metadata": {},
   "outputs": [],
   "source": [
    "train['Ticket'] = train['Ticket'].replace({'LINE': 'LINE 000'})"
   ]
  },
  {
   "cell_type": "markdown",
   "id": "5097c7af",
   "metadata": {},
   "source": [
    "### Duplicate ticket counts plot"
   ]
  },
  {
   "cell_type": "code",
   "execution_count": null,
   "id": "353b3cba",
   "metadata": {},
   "outputs": [],
   "source": [
    "ticket_counts = train['Ticket'].value_counts().reset_index()\n",
    "ticket_counts['count'].hist(bins=20)"
   ]
  },
  {
   "cell_type": "code",
   "execution_count": null,
   "id": "8784ecff",
   "metadata": {},
   "outputs": [],
   "source": [
    "train['ticket_numeric'] = train['Ticket'].apply(lambda x: x.split()[1] if ' ' in x else x)"
   ]
  },
  {
   "cell_type": "code",
   "execution_count": null,
   "id": "42a2132e",
   "metadata": {},
   "outputs": [],
   "source": [
    "train['ticket_numeric_length'] = train['ticket_numeric'].apply(lambda x: len(x))\n",
    "train['ticket_numeric_length'].value_counts()"
   ]
  },
  {
   "cell_type": "code",
   "execution_count": null,
   "id": "a5518121",
   "metadata": {},
   "outputs": [],
   "source": [
    "ticket_group_sizes = pd.DataFrame(train['Ticket'].value_counts()).reset_index()\n",
    "ticket_group_sizes = ticket_group_sizes.rename(columns={'count': 'ticket_group_size'})\n",
    "ticket_group_sizes"
   ]
  },
  {
   "cell_type": "code",
   "execution_count": null,
   "id": "a4d45297",
   "metadata": {},
   "outputs": [],
   "source": [
    "train = train.merge(ticket_group_sizes, on='Ticket')"
   ]
  },
  {
   "cell_type": "code",
   "execution_count": null,
   "id": "c524d2ac",
   "metadata": {},
   "outputs": [],
   "source": [
    "def get_num_cabins(x):\n",
    "    global errors\n",
    "    if not pd.isnull(x):\n",
    "        try:\n",
    "            return len(x.split(' '))\n",
    "        except:\n",
    "            #print(f\"Cabins {x}\")\n",
    "            errors.add(x)\n",
    "    else:\n",
    "        return None"
   ]
  },
  {
   "cell_type": "code",
   "execution_count": null,
   "id": "34b4bc4f",
   "metadata": {},
   "outputs": [],
   "source": [
    "errors = set()\n",
    "train[\"num_cabins\"] = train[\"Cabin\"].apply(lambda x: get_num_cabins(x))"
   ]
  },
  {
   "cell_type": "code",
   "execution_count": null,
   "id": "b856190b",
   "metadata": {},
   "outputs": [],
   "source": [
    "def describe(data, variable, quantiles):\n",
    "    desc_df = pd.DataFrame(data[variable].describe()).reset_index().rename(columns={\"index\": \"percentile\"})\n",
    "    extra_data = list()\n",
    "    for q in quantiles:\n",
    "        extra = dict()\n",
    "        extra = {\"percentile\": f\"{q*100}%\", f\"{variable}\": data[variable].quantile(q)}\n",
    "        extra_data.append(extra)\n",
    "        \n",
    "    extra_data_df = pd.DataFrame(extra_data)\n",
    "    desc_df = pd.concat([desc_df, extra_data_df], ignore_index=True)\n",
    "        \n",
    "    return desc_df"
   ]
  },
  {
   "cell_type": "markdown",
   "id": "4ffda054",
   "metadata": {},
   "source": [
    "1 cabin: <= 2 ticket group size\n",
    "\n",
    "2 cabin: 3 or 4 ticket group size, and family size <= 4 \n",
    "\n",
    "3 cabin: 3 or 4 ticket group size, and family size >= 5\n",
    "\n",
    "4 cabin all the others"
   ]
  },
  {
   "cell_type": "code",
   "execution_count": null,
   "id": "15cf9670",
   "metadata": {},
   "outputs": [],
   "source": [
    "train.columns"
   ]
  },
  {
   "cell_type": "markdown",
   "id": "51f28e50",
   "metadata": {},
   "source": [
    "If you are a solo traveler, with ticket_group_size more than 1, that means you just ordered teh ticket together, but you are still solo travelers"
   ]
  },
  {
   "cell_type": "code",
   "execution_count": null,
   "id": "2df5199b",
   "metadata": {},
   "outputs": [],
   "source": [
    "solo_travelers = train[train['solo_traveler'] == True]\n",
    "solo_travelers[solo_travelers['ticket_group_size'] > 1][['Name', 'SibSp', 'Parch', 'Age','Ticket', 'ticket_group_size', 'Fare']]"
   ]
  },
  {
   "cell_type": "markdown",
   "id": "c8599041",
   "metadata": {},
   "source": [
    "3 brothers travelling with 2 friends in ticket number 14879"
   ]
  },
  {
   "cell_type": "code",
   "execution_count": null,
   "id": "707a0a79",
   "metadata": {},
   "outputs": [],
   "source": [
    "train[train['ticket_group_size'] == 5][['Name', 'SibSp', 'Parch', 'Age','Ticket', 'ticket_group_size', 'Fare', 'family_size']]"
   ]
  },
  {
   "cell_type": "markdown",
   "id": "c0da0a58",
   "metadata": {},
   "source": [
    "### INSIGHT KAGGLE COMPETITION SET DATA UP POORLY"
   ]
  },
  {
   "cell_type": "markdown",
   "id": "331bb472",
   "metadata": {},
   "source": [
    "can't really use family size or ticket group size to predict survivability, train tells you which ticket groups are most likely to survive, which is cheating on the test data, since you already have that information"
   ]
  },
  {
   "cell_type": "code",
   "execution_count": null,
   "id": "0893a481",
   "metadata": {},
   "outputs": [],
   "source": [
    "for n in [1, 2, 3, 4]:\n",
    "    print(f\"Ticket Group size distribution for {n} cabins\")\n",
    "    n_cabins = train[train[\"num_cabins\"] == n]\n",
    "    desc_df = describe(n_cabins, \"ticket_group_size\", [0.8, 0.85, 0.9, 0.95, 0.99])\n",
    "    display(desc_df)"
   ]
  },
  {
   "cell_type": "markdown",
   "id": "eff802dd",
   "metadata": {},
   "source": [
    "### Filling in number of cabins"
   ]
  },
  {
   "cell_type": "code",
   "execution_count": null,
   "id": "96c97e4b",
   "metadata": {},
   "outputs": [],
   "source": [
    "def get_num_cabins_empty(row):\n",
    "    if not pd.isnull(row['num_cabins']):\n",
    "        return row[\"num_cabins\"]\n",
    "    else:\n",
    "        if row[\"ticket_group_size\"] <= 2:\n",
    "            return 1\n",
    "        elif row[\"ticket_group_size\"] > 2 and row[\"ticket_group_size\"] < 5 and row[\"family_size\"] <= 4: \n",
    "            return 2\n",
    "        elif row[\"ticket_group_size\"] > 2 and row[\"ticket_group_size\"] < 5 and row[\"family_size\"] >= 5:\n",
    "            return 3\n",
    "        else:\n",
    "            return 4"
   ]
  },
  {
   "cell_type": "code",
   "execution_count": null,
   "id": "b4163bd1",
   "metadata": {},
   "outputs": [],
   "source": [
    "train[\"num_cabins\"] = train.apply(lambda row: get_num_cabins(row), axis='columns')"
   ]
  },
  {
   "cell_type": "code",
   "execution_count": null,
   "id": "f1a16e47",
   "metadata": {},
   "outputs": [],
   "source": [
    "train[\"Cabin\"].isna().sum()"
   ]
  },
  {
   "cell_type": "code",
   "execution_count": null,
   "id": "9bb522b4",
   "metadata": {},
   "outputs": [],
   "source": [
    "train[\"num_cabins\"].isna().sum()"
   ]
  },
  {
   "cell_type": "code",
   "execution_count": null,
   "id": "c9b4b3ee",
   "metadata": {},
   "outputs": [],
   "source": [
    "missing_cabins = train[pd.isnull(train[\"Cabin\"])]\n",
    "missing_cabins['num_cabins'].hist()"
   ]
  },
  {
   "cell_type": "code",
   "execution_count": null,
   "id": "c8856cd6",
   "metadata": {},
   "outputs": [],
   "source": [
    "train.columns"
   ]
  },
  {
   "cell_type": "code",
   "execution_count": null,
   "id": "eb2c8f87",
   "metadata": {},
   "outputs": [],
   "source": [
    "missing_cabins[missing_cabins['ticket_group_size'] > 4].shape[0]"
   ]
  },
  {
   "cell_type": "markdown",
   "id": "da9a4b10",
   "metadata": {},
   "source": [
    "### EDA on base features"
   ]
  },
  {
   "cell_type": "code",
   "execution_count": null,
   "id": "73c0c151",
   "metadata": {},
   "outputs": [],
   "source": [
    "train.columns"
   ]
  },
  {
   "cell_type": "code",
   "execution_count": null,
   "id": "07886a21",
   "metadata": {},
   "outputs": [],
   "source": [
    "df_survived_dead = pd.concat([survived, dead], axis='index')\n",
    "df_survived_dead.shape"
   ]
  },
  {
   "cell_type": "code",
   "execution_count": null,
   "id": "b095e181",
   "metadata": {},
   "outputs": [],
   "source": [
    "def bar_chart_stacked(dataset, feature, stacked=True):\n",
    "    survived = dataset[dataset['Survived'] == 1][feature].value_counts()\n",
    "    dead = dataset[dataset['Survived'] == 0][feature].value_counts()\n",
    "    df_survived_dead = pd.DataFrame([survived, dead])\n",
    "    df_survived_dead.index = ['Survived', 'Dead']\n",
    "    df_survived_dead.plot(kind='bar', stacked=stacked, figsize=(5,5))\n",
    "    plt.show()"
   ]
  },
  {
   "cell_type": "code",
   "execution_count": null,
   "id": "5c1f0155",
   "metadata": {},
   "outputs": [],
   "source": [
    "train['Survived'].value_counts(normalize=True)"
   ]
  },
  {
   "cell_type": "code",
   "execution_count": null,
   "id": "f4e085ab",
   "metadata": {},
   "outputs": [],
   "source": [
    "train.groupby(['Pclass']).Survived.mean().to_frame()"
   ]
  },
  {
   "cell_type": "code",
   "execution_count": null,
   "id": "b84d9426",
   "metadata": {},
   "outputs": [],
   "source": [
    "bar"
   ]
  },
  {
   "cell_type": "code",
   "execution_count": null,
   "id": "2d744eb6",
   "metadata": {},
   "outputs": [],
   "source": [
    "train.groupby(['Sex', 'Pclass']).Survived.mean().to_frame()"
   ]
  },
  {
   "cell_type": "code",
   "execution_count": null,
   "id": "4f8e502b",
   "metadata": {},
   "outputs": [],
   "source": [
    "bar_chart_stacked(train, 'Survived')"
   ]
  },
  {
   "cell_type": "code",
   "execution_count": null,
   "id": "186821f2",
   "metadata": {},
   "outputs": [],
   "source": []
  }
 ],
 "metadata": {
  "kernelspec": {
   "display_name": "ml_env",
   "language": "python",
   "name": "ml_env"
  },
  "language_info": {
   "codemirror_mode": {
    "name": "ipython",
    "version": 3
   },
   "file_extension": ".py",
   "mimetype": "text/x-python",
   "name": "python",
   "nbconvert_exporter": "python",
   "pygments_lexer": "ipython3",
   "version": "3.11.2"
  }
 },
 "nbformat": 4,
 "nbformat_minor": 5
}
