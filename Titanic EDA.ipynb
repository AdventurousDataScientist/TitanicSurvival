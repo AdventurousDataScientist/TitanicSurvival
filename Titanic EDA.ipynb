{
 "cells": [
  {
   "cell_type": "code",
   "execution_count": 2,
   "id": "e2df3d09",
   "metadata": {},
   "outputs": [],
   "source": [
    "import sys\n",
    " \n",
    "sys.path.append('C:\\\\Users\\\\Nikhil\\\\Developer\\\\Data_Science_Projects')\n",
    "from common_ds_modules import missing_values, data_manipulation, modeling, eda\n",
    "import os\n",
    "import pandas as pd\n",
    "import numpy as np\n",
    "import numpy as np\n",
    "from sklearn.impute import SimpleImputer\n",
    "from sklearn.linear_model import LogisticRegression\n",
    "import seaborn as sns\n",
    "from sklearn.model_selection import cross_val_score\n",
    "import matplotlib.pyplot as plt\n",
    "from sklearn.model_selection import GridSearchCV, RandomizedSearchCV\n",
    "from sklearn.ensemble import RandomForestClassifier\n",
    "import numpy as np\n",
    "from sklearn.preprocessing import StandardScaler\n",
    "from sklearn.pipeline import Pipeline\n",
    "from sklearn.model_selection import train_test_split, GridSearchCV\n",
    "from sklearn.linear_model import Lasso\n",
    "from sklearn.model_selection import cross_val_score\n",
    "from sklearn.model_selection import RandomizedSearchCV\n",
    "from sklearn.tree import DecisionTreeClassifier\n",
    "from xgboost import XGBClassifier\n",
    "import pickle\n",
    "from sklearn.linear_model import Lasso, Ridge, ElasticNet\n",
    "from sklearn.preprocessing import StandardScaler\n",
    "from sklearn.neighbors import KNeighborsClassifier\n",
    "from sklearn.ensemble import StackingClassifier, GradientBoostingClassifier\n",
    "\n",
    "from sklearn.compose import make_column_transformer \n",
    "from sklearn.pipeline import make_pipeline\n",
    "\n",
    "from sklearn.preprocessing import FunctionTransformer\n",
    "log_transformer = FunctionTransformer(np.log1p)\n",
    "\n",
    "from sklearn.compose import make_column_selector as selector\n",
    "from scipy.stats import skew"
   ]
  },
  {
   "cell_type": "code",
   "execution_count": 3,
   "id": "578197f0",
   "metadata": {},
   "outputs": [],
   "source": [
    "train = pd.read_csv('train.csv')\n",
    "test = pd.read_csv('test.csv')"
   ]
  },
  {
   "cell_type": "code",
   "execution_count": 4,
   "id": "8610b41d",
   "metadata": {},
   "outputs": [
    {
     "data": {
      "text/plain": [
       "PassengerId    0.000000\n",
       "Survived       0.000000\n",
       "Pclass         0.000000\n",
       "Name           0.000000\n",
       "Sex            0.000000\n",
       "Age            0.198653\n",
       "SibSp          0.000000\n",
       "Parch          0.000000\n",
       "Ticket         0.000000\n",
       "Fare           0.000000\n",
       "Cabin          0.771044\n",
       "Embarked       0.002245\n",
       "dtype: float64"
      ]
     },
     "execution_count": 4,
     "metadata": {},
     "output_type": "execute_result"
    }
   ],
   "source": [
    "train.isna().sum()/train.shape[0]"
   ]
  },
  {
   "cell_type": "markdown",
   "id": "4b18c2a1",
   "metadata": {},
   "source": [
    "May have to drop Cabin as a variable, as there are so many missing values"
   ]
  },
  {
   "cell_type": "markdown",
   "id": "cb521bae",
   "metadata": {},
   "source": [
    "#### Survival Distribution"
   ]
  },
  {
   "cell_type": "code",
   "execution_count": 5,
   "id": "f00df387",
   "metadata": {},
   "outputs": [
    {
     "data": {
      "image/png": "[encoded data removed]",
      "text/plain": [
       "<Figure size 640x480 with 1 Axes>"
      ]
     },
     "metadata": {},
     "output_type": "display_data"
    }
   ],
   "source": [
    "train['Survived'].hist()\n",
    "plt.show()"
   ]
  },
  {
   "cell_type": "code",
   "execution_count": 6,
   "id": "1ddd0d2a",
   "metadata": {},
   "outputs": [
    {
     "data": {
      "text/plain": [
       "Survived\n",
       "0    0.616162\n",
       "1    0.383838\n",
       "Name: proportion, dtype: float64"
      ]
     },
     "execution_count": 6,
     "metadata": {},
     "output_type": "execute_result"
    }
   ],
   "source": [
    "train['Survived'].value_counts(normalize=True)"
   ]
  },
  {
   "cell_type": "markdown",
   "id": "fdc4715d",
   "metadata": {},
   "source": [
    "Slightly over 1/3 survive, would be interesting trying to use SMOTE to balance the population"
   ]
  },
  {
   "cell_type": "markdown",
   "id": "c1a52642",
   "metadata": {},
   "source": [
    "#### PClass Distribution"
   ]
  },
  {
   "cell_type": "code",
   "execution_count": 7,
   "id": "1ef70cc1",
   "metadata": {},
   "outputs": [
    {
     "data": {
      "image/png": "[encoded data removed]",
      "text/plain": [
       "<Figure size 640x480 with 1 Axes>"
      ]
     },
     "metadata": {},
     "output_type": "display_data"
    }
   ],
   "source": [
    "train['Pclass'].hist()\n",
    "plt.show()"
   ]
  },
  {
   "cell_type": "code",
   "execution_count": 8,
   "id": "ad02bb8c",
   "metadata": {},
   "outputs": [
    {
     "data": {
      "text/plain": [
       "Pclass\n",
       "1    0.629630\n",
       "2    0.472826\n",
       "3    0.242363\n",
       "Name: class_survival_rate, dtype: float64"
      ]
     },
     "execution_count": 8,
     "metadata": {},
     "output_type": "execute_result"
    }
   ],
   "source": [
    "pclass_survivability = pd.crosstab(train['Pclass'], train['Survived'])\n",
    "pclass_survivability['class_survival_rate'] = pclass_survivability[1]/(pclass_survivability[1] + pclass_survivability[0])\n",
    "pclass_survivability['class_survival_rate']"
   ]
  },
  {
   "cell_type": "code",
   "execution_count": 9,
   "id": "a2b437df",
   "metadata": {},
   "outputs": [
    {
     "data": {
      "text/html": [
       "<div>\n",
       "<style scoped>\n",
       "    .dataframe tbody tr th:only-of-type {\n",
       "        vertical-align: middle;\n",
       "    }\n",
       "\n",
       "    .dataframe tbody tr th {\n",
       "        vertical-align: top;\n",
       "    }\n",
       "\n",
       "    .dataframe thead th {\n",
       "        text-align: right;\n",
       "    }\n",
       "</style>\n",
       "<table border=\"1\" class=\"dataframe\">\n",
       "  <thead>\n",
       "    <tr style=\"text-align: right;\">\n",
       "      <th>Survived</th>\n",
       "      <th>0</th>\n",
       "      <th>1</th>\n",
       "      <th>class_survival_rate</th>\n",
       "    </tr>\n",
       "    <tr>\n",
       "      <th>Pclass</th>\n",
       "      <th></th>\n",
       "      <th></th>\n",
       "      <th></th>\n",
       "    </tr>\n",
       "  </thead>\n",
       "  <tbody>\n",
       "    <tr>\n",
       "      <th>1</th>\n",
       "      <td>80</td>\n",
       "      <td>136</td>\n",
       "      <td>0.629630</td>\n",
       "    </tr>\n",
       "    <tr>\n",
       "      <th>2</th>\n",
       "      <td>97</td>\n",
       "      <td>87</td>\n",
       "      <td>0.472826</td>\n",
       "    </tr>\n",
       "    <tr>\n",
       "      <th>3</th>\n",
       "      <td>372</td>\n",
       "      <td>119</td>\n",
       "      <td>0.242363</td>\n",
       "    </tr>\n",
       "  </tbody>\n",
       "</table>\n",
       "</div>"
      ],
      "text/plain": [
       "Survived    0    1  class_survival_rate\n",
       "Pclass                                 \n",
       "1          80  136             0.629630\n",
       "2          97   87             0.472826\n",
       "3         372  119             0.242363"
      ]
     },
     "execution_count": 9,
     "metadata": {},
     "output_type": "execute_result"
    }
   ],
   "source": [
    "pclass_survivability"
   ]
  },
  {
   "cell_type": "code",
   "execution_count": 10,
   "id": "5634306c",
   "metadata": {},
   "outputs": [
    {
     "data": {
      "image/png": "[encoded data removed]",
      "text/plain": [
       "<Figure size 640x480 with 1 Axes>"
      ]
     },
     "metadata": {},
     "output_type": "display_data"
    }
   ],
   "source": [
    "pclass_survivability['class_survival_rate'].plot.bar()\n",
    "plt.show()"
   ]
  },
  {
   "cell_type": "code",
   "execution_count": 11,
   "id": "17224a9f",
   "metadata": {},
   "outputs": [
    {
     "name": "stdout",
     "output_type": "stream",
     "text": [
      "Name: Braund, Mr. Owen Harris, sex: male\n",
      "Name: Cumings, Mrs. John Bradley (Florence Briggs Thayer), sex: female\n",
      "Name: Heikkinen, Miss. Laina, sex: female\n",
      "Name: Futrelle, Mrs. Jacques Heath (Lily May Peel), sex: female\n",
      "Name: Allen, Mr. William Henry, sex: male\n",
      "Name: Moran, Mr. James, sex: male\n",
      "Name: McCarthy, Mr. Timothy J, sex: male\n",
      "Name: Palsson, Master. Gosta Leonard, sex: male\n",
      "Name: Johnson, Mrs. Oscar W (Elisabeth Vilhelmina Berg), sex: female\n",
      "Name: Nasser, Mrs. Nicholas (Adele Achem), sex: female\n",
      "Name: Sandstrom, Miss. Marguerite Rut, sex: female\n",
      "Name: Bonnell, Miss. Elizabeth, sex: female\n",
      "Name: Saundercock, Mr. William Henry, sex: male\n",
      "Name: Andersson, Mr. Anders Johan, sex: male\n",
      "Name: Vestrom, Miss. Hulda Amanda Adolfina, sex: female\n",
      "Name: Hewlett, Mrs. (Mary D Kingcome) , sex: female\n",
      "Name: Rice, Master. Eugene, sex: male\n",
      "Name: Williams, Mr. Charles Eugene, sex: male\n",
      "Name: Vander Planke, Mrs. Julius (Emelia Maria Vandemoortele), sex: female\n",
      "Name: Masselmani, Mrs. Fatima, sex: female\n"
     ]
    }
   ],
   "source": [
    "for name, sex in zip(train['Name'].values[:20], train['Sex'].values[:20]):\n",
    "    print(f'Name: {name}, sex: {sex}')"
   ]
  },
  {
   "cell_type": "code",
   "execution_count": 12,
   "id": "66334098",
   "metadata": {},
   "outputs": [
    {
     "name": "stdout",
     "output_type": "stream",
     "text": [
      "Name: ('Braund, Mr. Owen Harris',)\n",
      "Name: ('Cumings, Mrs. John Bradley (Florence Briggs Thayer)',)\n",
      "Name: ('Heikkinen, Miss. Laina',)\n",
      "Name: ('Futrelle, Mrs. Jacques Heath (Lily May Peel)',)\n",
      "Name: ('Allen, Mr. William Henry',)\n",
      "Name: ('Moran, Mr. James',)\n",
      "Name: ('McCarthy, Mr. Timothy J',)\n",
      "Name: ('Palsson, Master. Gosta Leonard',)\n",
      "Name: ('Johnson, Mrs. Oscar W (Elisabeth Vilhelmina Berg)',)\n",
      "Name: ('Nasser, Mrs. Nicholas (Adele Achem)',)\n",
      "Name: ('Sandstrom, Miss. Marguerite Rut',)\n",
      "Name: ('Bonnell, Miss. Elizabeth',)\n",
      "Name: ('Saundercock, Mr. William Henry',)\n",
      "Name: ('Andersson, Mr. Anders Johan',)\n",
      "Name: ('Vestrom, Miss. Hulda Amanda Adolfina',)\n",
      "Name: ('Hewlett, Mrs. (Mary D Kingcome) ',)\n",
      "Name: ('Rice, Master. Eugene',)\n",
      "Name: ('Williams, Mr. Charles Eugene',)\n",
      "Name: ('Vander Planke, Mrs. Julius (Emelia Maria Vandemoortele)',)\n",
      "Name: ('Masselmani, Mrs. Fatima',)\n"
     ]
    }
   ],
   "source": [
    "for name in zip(train['Name'].values[:20]):\n",
    "    print(f'Name: {name}')"
   ]
  },
  {
   "cell_type": "code",
   "execution_count": 13,
   "id": "39c8ef93",
   "metadata": {},
   "outputs": [],
   "source": [
    "def is_married(x):\n",
    "    return 'mrs.' in x['Name'].lower() and x['Sex'] == 'female'"
   ]
  },
  {
   "cell_type": "code",
   "execution_count": 14,
   "id": "a8409bde",
   "metadata": {},
   "outputs": [
    {
     "data": {
      "text/plain": [
       "True"
      ]
     },
     "execution_count": 14,
     "metadata": {},
     "output_type": "execute_result"
    }
   ],
   "source": [
    "'(' in train['Name'].values[1].split(', ')[1] and ')' in train['Name'].values[1].split(', ')[1]"
   ]
  },
  {
   "cell_type": "code",
   "execution_count": 15,
   "id": "bbd366f8",
   "metadata": {},
   "outputs": [],
   "source": [
    "def get_title(x):\n",
    "    return x.split(', ')[1].split(' ')[0]"
   ]
  },
  {
   "cell_type": "code",
   "execution_count": 16,
   "id": "80cc9f92",
   "metadata": {},
   "outputs": [],
   "source": [
    "def kept_maiden_name(x):\n",
    "    return '(' in x['Name'].split(', ')[1] and ')' in x['Name'].split(', ')[1] and x['title'] == 'Mrs.'"
   ]
  },
  {
   "cell_type": "code",
   "execution_count": 17,
   "id": "c9ae8b78",
   "metadata": {},
   "outputs": [],
   "source": [
    "train['is_married'] = train.apply(lambda x: is_married(x), axis='columns')"
   ]
  },
  {
   "cell_type": "code",
   "execution_count": 18,
   "id": "c38d9f0e",
   "metadata": {},
   "outputs": [],
   "source": [
    "train['title'] = train['Name'].apply(lambda x: get_title(x))"
   ]
  },
  {
   "cell_type": "code",
   "execution_count": 19,
   "id": "3b7d835e",
   "metadata": {},
   "outputs": [],
   "source": [
    "train['kept_maiden_name'] = train.apply(lambda x: kept_maiden_name(x), axis='columns')"
   ]
  },
  {
   "cell_type": "code",
   "execution_count": 20,
   "id": "6639f05e",
   "metadata": {},
   "outputs": [
    {
     "data": {
      "text/plain": [
       "kept_maiden_name\n",
       "True     121\n",
       "False      4\n",
       "Name: count, dtype: int64"
      ]
     },
     "execution_count": 20,
     "metadata": {},
     "output_type": "execute_result"
    }
   ],
   "source": [
    "train[train['title'] == 'Mrs.']['kept_maiden_name'].value_counts()"
   ]
  },
  {
   "cell_type": "code",
   "execution_count": 21,
   "id": "95f76110",
   "metadata": {},
   "outputs": [
    {
     "data": {
      "text/plain": [
       "is_married\n",
       "False    766\n",
       "True     125\n",
       "Name: count, dtype: int64"
      ]
     },
     "execution_count": 21,
     "metadata": {},
     "output_type": "execute_result"
    }
   ],
   "source": [
    "train['is_married'].value_counts()"
   ]
  },
  {
   "cell_type": "code",
   "execution_count": 22,
   "id": "1fc235f1",
   "metadata": {},
   "outputs": [
    {
     "data": {
      "text/plain": [
       "27"
      ]
     },
     "execution_count": 22,
     "metadata": {},
     "output_type": "execute_result"
    }
   ],
   "source": [
    "train.shape[0] - (517 + 182 + 125 + 40)"
   ]
  },
  {
   "cell_type": "code",
   "execution_count": 23,
   "id": "86700826",
   "metadata": {
    "scrolled": true
   },
   "outputs": [
    {
     "data": {
      "text/plain": [
       "title\n",
       "Mr.          517\n",
       "Miss.        182\n",
       "Mrs.         125\n",
       "Master.       40\n",
       "Dr.            7\n",
       "Rev.           6\n",
       "Mlle.          2\n",
       "Major.         2\n",
       "Col.           2\n",
       "the            1\n",
       "Capt.          1\n",
       "Ms.            1\n",
       "Sir.           1\n",
       "Lady.          1\n",
       "Mme.           1\n",
       "Don.           1\n",
       "Jonkheer.      1\n",
       "Name: count, dtype: int64"
      ]
     },
     "execution_count": 23,
     "metadata": {},
     "output_type": "execute_result"
    }
   ],
   "source": [
    "train['title'].value_counts()"
   ]
  },
  {
   "cell_type": "code",
   "execution_count": 24,
   "id": "2cc30cac",
   "metadata": {},
   "outputs": [
    {
     "data": {
      "text/plain": [
       "False"
      ]
     },
     "execution_count": 24,
     "metadata": {},
     "output_type": "execute_result"
    }
   ],
   "source": [
    "'Lady.' in ['Mr.', 'Miss.']"
   ]
  },
  {
   "cell_type": "code",
   "execution_count": 25,
   "id": "bd4243ad",
   "metadata": {},
   "outputs": [],
   "source": [
    "def convert_title(title):\n",
    "    if title not in ['Mr.', 'Miss.', 'Mrs.', 'Master']:\n",
    "        return 'other'\n",
    "    else:\n",
    "        return title"
   ]
  },
  {
   "cell_type": "code",
   "execution_count": 26,
   "id": "d19b49b4",
   "metadata": {},
   "outputs": [],
   "source": [
    "train['title_converted'] = train['title'].apply(lambda x: convert_title(x) )"
   ]
  },
  {
   "cell_type": "code",
   "execution_count": 27,
   "id": "a09282db",
   "metadata": {},
   "outputs": [
    {
     "data": {
      "text/plain": [
       "array(['Mr.', 'Mrs.', 'Miss.', 'other'], dtype=object)"
      ]
     },
     "execution_count": 27,
     "metadata": {},
     "output_type": "execute_result"
    }
   ],
   "source": [
    "train['title_converted'].unique()"
   ]
  },
  {
   "cell_type": "code",
   "execution_count": 28,
   "id": "1eed5935",
   "metadata": {},
   "outputs": [
    {
     "data": {
      "text/plain": [
       "Index(['PassengerId', 'Survived', 'Pclass', 'Name', 'Sex', 'Age', 'SibSp',\n",
       "       'Parch', 'Ticket', 'Fare', 'Cabin', 'Embarked', 'is_married', 'title',\n",
       "       'kept_maiden_name', 'title_converted'],\n",
       "      dtype='object')"
      ]
     },
     "execution_count": 28,
     "metadata": {},
     "output_type": "execute_result"
    }
   ],
   "source": [
    "train.columns"
   ]
  },
  {
   "cell_type": "code",
   "execution_count": 29,
   "id": "08554a1a",
   "metadata": {},
   "outputs": [],
   "source": [
    "train['sex_converted'] = train['Sex'].apply(lambda x: 1 if x == 'male' else 0)"
   ]
  },
  {
   "cell_type": "markdown",
   "id": "2ecf6b9e",
   "metadata": {},
   "source": [
    "### Survival Rate vs Sex"
   ]
  },
  {
   "cell_type": "code",
   "execution_count": 30,
   "id": "d98b3f6d",
   "metadata": {},
   "outputs": [
    {
     "data": {
      "text/html": [
       "<div>\n",
       "<style scoped>\n",
       "    .dataframe tbody tr th:only-of-type {\n",
       "        vertical-align: middle;\n",
       "    }\n",
       "\n",
       "    .dataframe tbody tr th {\n",
       "        vertical-align: top;\n",
       "    }\n",
       "\n",
       "    .dataframe thead th {\n",
       "        text-align: right;\n",
       "    }\n",
       "</style>\n",
       "<table border=\"1\" class=\"dataframe\">\n",
       "  <thead>\n",
       "    <tr style=\"text-align: right;\">\n",
       "      <th>Survived</th>\n",
       "      <th>0</th>\n",
       "      <th>1</th>\n",
       "      <th>sex_survival_rate</th>\n",
       "    </tr>\n",
       "    <tr>\n",
       "      <th>sex_converted</th>\n",
       "      <th></th>\n",
       "      <th></th>\n",
       "      <th></th>\n",
       "    </tr>\n",
       "  </thead>\n",
       "  <tbody>\n",
       "    <tr>\n",
       "      <th>0</th>\n",
       "      <td>81</td>\n",
       "      <td>233</td>\n",
       "      <td>0.742038</td>\n",
       "    </tr>\n",
       "    <tr>\n",
       "      <th>1</th>\n",
       "      <td>468</td>\n",
       "      <td>109</td>\n",
       "      <td>0.188908</td>\n",
       "    </tr>\n",
       "  </tbody>\n",
       "</table>\n",
       "</div>"
      ],
      "text/plain": [
       "Survived         0    1  sex_survival_rate\n",
       "sex_converted                             \n",
       "0               81  233           0.742038\n",
       "1              468  109           0.188908"
      ]
     },
     "execution_count": 30,
     "metadata": {},
     "output_type": "execute_result"
    }
   ],
   "source": [
    "sex_survivability = pd.crosstab(train['sex_converted'], train['Survived'])\n",
    "sex_survivability['sex_survival_rate'] = sex_survivability[1]/(sex_survivability[1] + sex_survivability[0])\n",
    "sex_survivability"
   ]
  },
  {
   "cell_type": "code",
   "execution_count": 31,
   "id": "8fc87515",
   "metadata": {},
   "outputs": [
    {
     "data": {
      "image/png": "[encoded data removed]",
      "text/plain": [
       "<Figure size 640x480 with 1 Axes>"
      ]
     },
     "metadata": {},
     "output_type": "display_data"
    }
   ],
   "source": [
    "train['Age'].hist()\n",
    "plt.show()"
   ]
  },
  {
   "cell_type": "code",
   "execution_count": 32,
   "id": "66ea6f8b",
   "metadata": {},
   "outputs": [
    {
     "data": {
      "image/png": "[encoded data removed]",
      "text/plain": [
       "<Figure size 640x480 with 1 Axes>"
      ]
     },
     "metadata": {},
     "output_type": "display_data"
    }
   ],
   "source": [
    "train['Age'].hist()\n",
    "plt.show()"
   ]
  },
  {
   "cell_type": "code",
   "execution_count": 33,
   "id": "b1f00520",
   "metadata": {},
   "outputs": [],
   "source": [
    "train['age_group'] = pd.cut(train['Age'], [0,18,29,45,60,1000], labels=[0, 1, 2, 3, 4])"
   ]
  },
  {
   "cell_type": "code",
   "execution_count": 34,
   "id": "ff777342",
   "metadata": {},
   "outputs": [
    {
     "data": {
      "text/html": [
       "<div>\n",
       "<style scoped>\n",
       "    .dataframe tbody tr th:only-of-type {\n",
       "        vertical-align: middle;\n",
       "    }\n",
       "\n",
       "    .dataframe tbody tr th {\n",
       "        vertical-align: top;\n",
       "    }\n",
       "\n",
       "    .dataframe thead th {\n",
       "        text-align: right;\n",
       "    }\n",
       "</style>\n",
       "<table border=\"1\" class=\"dataframe\">\n",
       "  <thead>\n",
       "    <tr style=\"text-align: right;\">\n",
       "      <th>Survived</th>\n",
       "      <th>0</th>\n",
       "      <th>1</th>\n",
       "      <th>age_group_survival_rate</th>\n",
       "    </tr>\n",
       "    <tr>\n",
       "      <th>age_group</th>\n",
       "      <th></th>\n",
       "      <th></th>\n",
       "      <th></th>\n",
       "    </tr>\n",
       "  </thead>\n",
       "  <tbody>\n",
       "    <tr>\n",
       "      <th>0</th>\n",
       "      <td>69</td>\n",
       "      <td>70</td>\n",
       "      <td>0.503597</td>\n",
       "    </tr>\n",
       "    <tr>\n",
       "      <th>1</th>\n",
       "      <td>159</td>\n",
       "      <td>86</td>\n",
       "      <td>0.351020</td>\n",
       "    </tr>\n",
       "    <tr>\n",
       "      <th>2</th>\n",
       "      <td>131</td>\n",
       "      <td>96</td>\n",
       "      <td>0.422907</td>\n",
       "    </tr>\n",
       "    <tr>\n",
       "      <th>3</th>\n",
       "      <td>48</td>\n",
       "      <td>33</td>\n",
       "      <td>0.407407</td>\n",
       "    </tr>\n",
       "    <tr>\n",
       "      <th>4</th>\n",
       "      <td>17</td>\n",
       "      <td>5</td>\n",
       "      <td>0.227273</td>\n",
       "    </tr>\n",
       "  </tbody>\n",
       "</table>\n",
       "</div>"
      ],
      "text/plain": [
       "Survived     0   1  age_group_survival_rate\n",
       "age_group                                  \n",
       "0           69  70                 0.503597\n",
       "1          159  86                 0.351020\n",
       "2          131  96                 0.422907\n",
       "3           48  33                 0.407407\n",
       "4           17   5                 0.227273"
      ]
     },
     "execution_count": 34,
     "metadata": {},
     "output_type": "execute_result"
    }
   ],
   "source": [
    "age_group_survivability = pd.crosstab(train['age_group'], train['Survived'])\n",
    "age_group_survivability['age_group_survival_rate'] = age_group_survivability[1]/(age_group_survivability[1] + age_group_survivability[0])\n",
    "age_group_survivability"
   ]
  },
  {
   "cell_type": "code",
   "execution_count": 35,
   "id": "c7e1d6f0",
   "metadata": {},
   "outputs": [
    {
     "data": {
      "text/plain": [
       "0.6842105263157895"
      ]
     },
     "execution_count": 35,
     "metadata": {},
     "output_type": "execute_result"
    }
   ],
   "source": [
    "156/(159 + 69)"
   ]
  },
  {
   "cell_type": "code",
   "execution_count": 36,
   "id": "0e846ff6",
   "metadata": {},
   "outputs": [
    {
     "data": {
      "text/plain": [
       "0.40606060606060607"
      ]
     },
     "execution_count": 36,
     "metadata": {},
     "output_type": "execute_result"
    }
   ],
   "source": [
    "(96 + 33 + 5)/(131 + 48 + 17 + 96 + 33 + 5)"
   ]
  },
  {
   "cell_type": "code",
   "execution_count": 37,
   "id": "58eae3d3",
   "metadata": {},
   "outputs": [
    {
     "data": {
      "image/png": "[encoded data removed]",
      "text/plain": [
       "<Figure size 640x480 with 1 Axes>"
      ]
     },
     "metadata": {},
     "output_type": "display_data"
    }
   ],
   "source": [
    "train['Parch'].hist()\n",
    "plt.show()"
   ]
  },
  {
   "cell_type": "code",
   "execution_count": 38,
   "id": "07985051",
   "metadata": {},
   "outputs": [
    {
     "data": {
      "image/png": "[encoded data removed]",
      "text/plain": [
       "<Figure size 640x480 with 1 Axes>"
      ]
     },
     "metadata": {},
     "output_type": "display_data"
    }
   ],
   "source": [
    "train['SibSp'].hist()\n",
    "plt.show()"
   ]
  },
  {
   "cell_type": "code",
   "execution_count": 39,
   "id": "945eb5a6",
   "metadata": {},
   "outputs": [],
   "source": [
    "train['family_size'] = train['Parch'] + train['SibSp']"
   ]
  },
  {
   "cell_type": "code",
   "execution_count": 40,
   "id": "36a54ce2",
   "metadata": {},
   "outputs": [
    {
     "data": {
      "image/png": "[encoded data removed]",
      "text/plain": [
       "<Figure size 640x480 with 1 Axes>"
      ]
     },
     "metadata": {},
     "output_type": "display_data"
    }
   ],
   "source": [
    "train['family_size'].hist()\n",
    "plt.show()"
   ]
  },
  {
   "cell_type": "code",
   "execution_count": 41,
   "id": "3a9f8199",
   "metadata": {},
   "outputs": [
    {
     "data": {
      "text/plain": [
       "solo_traveler\n",
       "1    537\n",
       "0    354\n",
       "Name: count, dtype: int64"
      ]
     },
     "execution_count": 41,
     "metadata": {},
     "output_type": "execute_result"
    }
   ],
   "source": [
    "train['solo_traveler'] = train['family_size'].apply(lambda x: 1 if x == 0 else 0)\n",
    "train['solo_traveler'].value_counts()\n"
   ]
  },
  {
   "cell_type": "code",
   "execution_count": 42,
   "id": "9032aa2c",
   "metadata": {},
   "outputs": [
    {
     "data": {
      "text/html": [
       "<div>\n",
       "<style scoped>\n",
       "    .dataframe tbody tr th:only-of-type {\n",
       "        vertical-align: middle;\n",
       "    }\n",
       "\n",
       "    .dataframe tbody tr th {\n",
       "        vertical-align: top;\n",
       "    }\n",
       "\n",
       "    .dataframe thead th {\n",
       "        text-align: right;\n",
       "    }\n",
       "</style>\n",
       "<table border=\"1\" class=\"dataframe\">\n",
       "  <thead>\n",
       "    <tr style=\"text-align: right;\">\n",
       "      <th>Survived</th>\n",
       "      <th>0</th>\n",
       "      <th>1</th>\n",
       "      <th>solo_survival_rate</th>\n",
       "    </tr>\n",
       "    <tr>\n",
       "      <th>solo_traveler</th>\n",
       "      <th></th>\n",
       "      <th></th>\n",
       "      <th></th>\n",
       "    </tr>\n",
       "  </thead>\n",
       "  <tbody>\n",
       "    <tr>\n",
       "      <th>0</th>\n",
       "      <td>175</td>\n",
       "      <td>179</td>\n",
       "      <td>0.505650</td>\n",
       "    </tr>\n",
       "    <tr>\n",
       "      <th>1</th>\n",
       "      <td>374</td>\n",
       "      <td>163</td>\n",
       "      <td>0.303538</td>\n",
       "    </tr>\n",
       "  </tbody>\n",
       "</table>\n",
       "</div>"
      ],
      "text/plain": [
       "Survived         0    1  solo_survival_rate\n",
       "solo_traveler                              \n",
       "0              175  179            0.505650\n",
       "1              374  163            0.303538"
      ]
     },
     "execution_count": 42,
     "metadata": {},
     "output_type": "execute_result"
    }
   ],
   "source": [
    "solo_survivability = pd.crosstab(train['solo_traveler'], train['Survived'])\n",
    "solo_survivability['solo_survival_rate'] = solo_survivability[1]/(solo_survivability[1] + solo_survivability[0])\n",
    "solo_survivability"
   ]
  },
  {
   "cell_type": "markdown",
   "id": "e469d22a",
   "metadata": {},
   "source": [
    "Traveling solo, drastically increases survival rate, you don't have anyone else to look after"
   ]
  },
  {
   "cell_type": "code",
   "execution_count": 43,
   "id": "1659d95c",
   "metadata": {},
   "outputs": [
    {
     "data": {
      "text/plain": [
       "Index(['PassengerId', 'Survived', 'Pclass', 'Name', 'Sex', 'Age', 'SibSp',\n",
       "       'Parch', 'Ticket', 'Fare', 'Cabin', 'Embarked', 'is_married', 'title',\n",
       "       'kept_maiden_name', 'title_converted', 'sex_converted', 'age_group',\n",
       "       'family_size', 'solo_traveler'],\n",
       "      dtype='object')"
      ]
     },
     "execution_count": 43,
     "metadata": {},
     "output_type": "execute_result"
    }
   ],
   "source": [
    "train.columns"
   ]
  },
  {
   "cell_type": "markdown",
   "id": "59a380f6",
   "metadata": {},
   "source": [
    "Assuming ticket prefixes don't matter"
   ]
  },
  {
   "cell_type": "code",
   "execution_count": 44,
   "id": "0ae2f36e",
   "metadata": {},
   "outputs": [],
   "source": [
    "train['ticket_prefix'] = train['Ticket'].apply(lambda x: x.split(' ')[0])"
   ]
  },
  {
   "cell_type": "code",
   "execution_count": 45,
   "id": "150f0f08",
   "metadata": {},
   "outputs": [
    {
     "data": {
      "image/png": "[encoded data removed]",
      "text/plain": [
       "<Figure size 640x480 with 1 Axes>"
      ]
     },
     "metadata": {},
     "output_type": "display_data"
    }
   ],
   "source": [
    "train['Fare'].hist()\n",
    "plt.show()"
   ]
  },
  {
   "cell_type": "code",
   "execution_count": 46,
   "id": "47139f3a",
   "metadata": {},
   "outputs": [
    {
     "data": {
      "text/plain": [
       "(15, 21)"
      ]
     },
     "execution_count": 46,
     "metadata": {},
     "output_type": "execute_result"
    }
   ],
   "source": [
    "train[train['Fare'] == 0].shape"
   ]
  },
  {
   "cell_type": "code",
   "execution_count": 47,
   "id": "f300a4da",
   "metadata": {},
   "outputs": [
    {
     "data": {
      "text/plain": [
       "179    36.0\n",
       "263    40.0\n",
       "271    25.0\n",
       "277     NaN\n",
       "302    19.0\n",
       "413     NaN\n",
       "466     NaN\n",
       "481     NaN\n",
       "597    49.0\n",
       "633     NaN\n",
       "674     NaN\n",
       "732     NaN\n",
       "806    39.0\n",
       "815     NaN\n",
       "822    38.0\n",
       "Name: Age, dtype: float64"
      ]
     },
     "execution_count": 47,
     "metadata": {},
     "output_type": "execute_result"
    }
   ],
   "source": [
    "train[train['Fare'] == 0]['Age']"
   ]
  },
  {
   "cell_type": "code",
   "execution_count": 48,
   "id": "8c3b2b7e",
   "metadata": {},
   "outputs": [],
   "source": [
    "train['fare_group'] = pd.cut(train['Fare'], 5, labels=[0, 1, 2, 3, 4])"
   ]
  },
  {
   "cell_type": "code",
   "execution_count": 49,
   "id": "45273b75",
   "metadata": {},
   "outputs": [
    {
     "data": {
      "text/html": [
       "<div>\n",
       "<style scoped>\n",
       "    .dataframe tbody tr th:only-of-type {\n",
       "        vertical-align: middle;\n",
       "    }\n",
       "\n",
       "    .dataframe tbody tr th {\n",
       "        vertical-align: top;\n",
       "    }\n",
       "\n",
       "    .dataframe thead th {\n",
       "        text-align: right;\n",
       "    }\n",
       "</style>\n",
       "<table border=\"1\" class=\"dataframe\">\n",
       "  <thead>\n",
       "    <tr style=\"text-align: right;\">\n",
       "      <th>Survived</th>\n",
       "      <th>0</th>\n",
       "      <th>1</th>\n",
       "      <th>fare_group_survival_rate</th>\n",
       "    </tr>\n",
       "    <tr>\n",
       "      <th>fare_group</th>\n",
       "      <th></th>\n",
       "      <th></th>\n",
       "      <th></th>\n",
       "    </tr>\n",
       "  </thead>\n",
       "  <tbody>\n",
       "    <tr>\n",
       "      <th>0</th>\n",
       "      <td>535</td>\n",
       "      <td>303</td>\n",
       "      <td>0.361575</td>\n",
       "    </tr>\n",
       "    <tr>\n",
       "      <th>1</th>\n",
       "      <td>8</td>\n",
       "      <td>25</td>\n",
       "      <td>0.757576</td>\n",
       "    </tr>\n",
       "    <tr>\n",
       "      <th>2</th>\n",
       "      <td>6</td>\n",
       "      <td>11</td>\n",
       "      <td>0.647059</td>\n",
       "    </tr>\n",
       "    <tr>\n",
       "      <th>4</th>\n",
       "      <td>0</td>\n",
       "      <td>3</td>\n",
       "      <td>1.000000</td>\n",
       "    </tr>\n",
       "  </tbody>\n",
       "</table>\n",
       "</div>"
      ],
      "text/plain": [
       "Survived      0    1  fare_group_survival_rate\n",
       "fare_group                                    \n",
       "0           535  303                  0.361575\n",
       "1             8   25                  0.757576\n",
       "2             6   11                  0.647059\n",
       "4             0    3                  1.000000"
      ]
     },
     "execution_count": 49,
     "metadata": {},
     "output_type": "execute_result"
    }
   ],
   "source": [
    "fare_group_survivability = pd.crosstab(train['fare_group'], train['Survived'])\n",
    "fare_group_survivability['fare_group_survival_rate'] = fare_group_survivability[1]/(fare_group_survivability[1] + fare_group_survivability[0])\n",
    "fare_group_survivability"
   ]
  },
  {
   "cell_type": "code",
   "execution_count": 50,
   "id": "968aaf11",
   "metadata": {},
   "outputs": [
    {
     "data": {
      "text/plain": [
       "fare_group\n",
       "0    838\n",
       "1     33\n",
       "2     17\n",
       "4      3\n",
       "3      0\n",
       "Name: count, dtype: int64"
      ]
     },
     "execution_count": 50,
     "metadata": {},
     "output_type": "execute_result"
    }
   ],
   "source": [
    "train['fare_group'].value_counts()"
   ]
  },
  {
   "cell_type": "code",
   "execution_count": 51,
   "id": "1959793f",
   "metadata": {},
   "outputs": [
    {
     "data": {
      "text/plain": [
       "count    838.000000\n",
       "mean      22.411942\n",
       "std       20.827218\n",
       "min        0.000000\n",
       "25%        7.895800\n",
       "50%       13.000000\n",
       "75%       27.720800\n",
       "max       93.500000\n",
       "Name: Fare, dtype: float64"
      ]
     },
     "execution_count": 51,
     "metadata": {},
     "output_type": "execute_result"
    }
   ],
   "source": [
    "train[train['fare_group'] == 0]['Fare'].describe()"
   ]
  },
  {
   "cell_type": "code",
   "execution_count": 52,
   "id": "f28560ab",
   "metadata": {},
   "outputs": [
    {
     "data": {
      "text/plain": [
       "<Axes: >"
      ]
     },
     "execution_count": 52,
     "metadata": {},
     "output_type": "execute_result"
    },
    {
     "data": {
      "image/png": "[encoded data removed]",
      "text/plain": [
       "<Figure size 640x480 with 1 Axes>"
      ]
     },
     "metadata": {},
     "output_type": "display_data"
    }
   ],
   "source": [
    "train[train['fare_group'] == 0]['Fare'].hist()"
   ]
  },
  {
   "cell_type": "code",
   "execution_count": 53,
   "id": "b7d592da",
   "metadata": {},
   "outputs": [
    {
     "data": {
      "text/plain": [
       "array([nan, 'C85', 'C123', 'E46', 'G6', 'C103', 'D56', 'A6',\n",
       "       'C23 C25 C27', 'B78', 'D33', 'B30', 'C52', 'B28', 'C83', 'F33',\n",
       "       'F G73', 'E31', 'A5', 'D10 D12', 'D26', 'C110', 'B58 B60', 'E101',\n",
       "       'F E69', 'D47', 'B86', 'F2', 'C2', 'E33', 'B19', 'A7', 'C49', 'F4',\n",
       "       'A32', 'B4', 'B80', 'A31', 'D36', 'D15', 'C93', 'C78', 'D35',\n",
       "       'C87', 'B77', 'E67', 'B94', 'C125', 'C99', 'C118', 'D7', 'A19',\n",
       "       'B49', 'D', 'C22 C26', 'C106', 'C65', 'E36', 'C54',\n",
       "       'B57 B59 B63 B66', 'C7', 'E34', 'C32', 'B18', 'C124', 'C91', 'E40',\n",
       "       'T', 'C128', 'D37', 'B35', 'E50', 'C82', 'B96 B98', 'E10', 'E44',\n",
       "       'A34', 'C104', 'C111', 'C92', 'E38', 'D21', 'E12', 'E63', 'A14',\n",
       "       'B37', 'C30', 'D20', 'B79', 'E25', 'D46', 'B73', 'C95', 'B38',\n",
       "       'B39', 'B22', 'C86', 'C70', 'A16', 'C101', 'C68', 'A10', 'E68',\n",
       "       'B41', 'A20', 'D19', 'D50', 'D9', 'A23', 'B50', 'A26', 'D48',\n",
       "       'E58', 'C126', 'B71', 'B51 B53 B55', 'D49', 'B5', 'B20', 'F G63',\n",
       "       'C62 C64', 'E24', 'C90', 'C45', 'E8', 'B101', 'D45', 'C46', 'D30',\n",
       "       'E121', 'D11', 'E77', 'F38', 'B3', 'D6', 'B82 B84', 'D17', 'A36',\n",
       "       'B102', 'B69', 'E49', 'C47', 'D28', 'E17', 'A24', 'C50', 'B42',\n",
       "       'C148'], dtype=object)"
      ]
     },
     "execution_count": 53,
     "metadata": {},
     "output_type": "execute_result"
    }
   ],
   "source": [
    "train['Cabin'].unique()"
   ]
  },
  {
   "cell_type": "code",
   "execution_count": 54,
   "id": "10d5ab32",
   "metadata": {},
   "outputs": [
    {
     "data": {
      "text/html": [
       "<div>\n",
       "<style scoped>\n",
       "    .dataframe tbody tr th:only-of-type {\n",
       "        vertical-align: middle;\n",
       "    }\n",
       "\n",
       "    .dataframe tbody tr th {\n",
       "        vertical-align: top;\n",
       "    }\n",
       "\n",
       "    .dataframe thead th {\n",
       "        text-align: right;\n",
       "    }\n",
       "</style>\n",
       "<table border=\"1\" class=\"dataframe\">\n",
       "  <thead>\n",
       "    <tr style=\"text-align: right;\">\n",
       "      <th>Survived</th>\n",
       "      <th>0</th>\n",
       "      <th>1</th>\n",
       "      <th>embarked_survival_rate</th>\n",
       "    </tr>\n",
       "    <tr>\n",
       "      <th>Embarked</th>\n",
       "      <th></th>\n",
       "      <th></th>\n",
       "      <th></th>\n",
       "    </tr>\n",
       "  </thead>\n",
       "  <tbody>\n",
       "    <tr>\n",
       "      <th>C</th>\n",
       "      <td>75</td>\n",
       "      <td>93</td>\n",
       "      <td>0.553571</td>\n",
       "    </tr>\n",
       "    <tr>\n",
       "      <th>Q</th>\n",
       "      <td>47</td>\n",
       "      <td>30</td>\n",
       "      <td>0.389610</td>\n",
       "    </tr>\n",
       "    <tr>\n",
       "      <th>S</th>\n",
       "      <td>427</td>\n",
       "      <td>217</td>\n",
       "      <td>0.336957</td>\n",
       "    </tr>\n",
       "  </tbody>\n",
       "</table>\n",
       "</div>"
      ],
      "text/plain": [
       "Survived    0    1  embarked_survival_rate\n",
       "Embarked                                  \n",
       "C          75   93                0.553571\n",
       "Q          47   30                0.389610\n",
       "S         427  217                0.336957"
      ]
     },
     "execution_count": 54,
     "metadata": {},
     "output_type": "execute_result"
    }
   ],
   "source": [
    "embarked_survivability = pd.crosstab(train['Embarked'], train['Survived'])\n",
    "embarked_survivability['embarked_survival_rate'] = embarked_survivability[1]/(embarked_survivability[1] + embarked_survivability[0])\n",
    "embarked_survivability"
   ]
  },
  {
   "cell_type": "code",
   "execution_count": 59,
   "id": "8a8be029",
   "metadata": {},
   "outputs": [
    {
     "data": {
      "text/plain": [
       "Index(['PassengerId', 'Survived', 'Pclass', 'Name', 'Sex', 'Age', 'SibSp',\n",
       "       'Parch', 'Ticket', 'Fare', 'Cabin', 'Embarked', 'is_married', 'title',\n",
       "       'kept_maiden_name', 'title_converted', 'sex_converted', 'age_group',\n",
       "       'family_size', 'solo_traveler', 'ticket_prefix', 'fare_group'],\n",
       "      dtype='object')"
      ]
     },
     "execution_count": 59,
     "metadata": {},
     "output_type": "execute_result"
    }
   ],
   "source": [
    "train.columns"
   ]
  },
  {
   "cell_type": "code",
   "execution_count": 62,
   "id": "1d6349a3",
   "metadata": {},
   "outputs": [
    {
     "data": {
      "text/plain": [
       "title\n",
       "Mr.          517\n",
       "Miss.        182\n",
       "Mrs.         125\n",
       "Master.       40\n",
       "Dr.            7\n",
       "Rev.           6\n",
       "Mlle.          2\n",
       "Major.         2\n",
       "Col.           2\n",
       "the            1\n",
       "Capt.          1\n",
       "Ms.            1\n",
       "Sir.           1\n",
       "Lady.          1\n",
       "Mme.           1\n",
       "Don.           1\n",
       "Jonkheer.      1\n",
       "Name: count, dtype: int64"
      ]
     },
     "execution_count": 62,
     "metadata": {},
     "output_type": "execute_result"
    }
   ],
   "source": [
    "train['title'].value_counts()"
   ]
  },
  {
   "cell_type": "code",
   "execution_count": 64,
   "id": "555b1756",
   "metadata": {},
   "outputs": [
    {
     "data": {
      "text/plain": [
       "687"
      ]
     },
     "execution_count": 64,
     "metadata": {},
     "output_type": "execute_result"
    }
   ],
   "source": [
    "train['Cabin'].isna().sum()"
   ]
  },
  {
   "cell_type": "code",
   "execution_count": 67,
   "id": "8e717f24",
   "metadata": {},
   "outputs": [
    {
     "data": {
      "text/plain": [
       "array([nan, 'C85', 'C123', 'E46', 'G6', 'C103', 'D56', 'A6',\n",
       "       'C23 C25 C27', 'B78', 'D33', 'B30', 'C52', 'B28', 'C83', 'F33',\n",
       "       'F G73', 'E31', 'A5', 'D10 D12', 'D26', 'C110', 'B58 B60', 'E101',\n",
       "       'F E69', 'D47', 'B86', 'F2', 'C2', 'E33', 'B19', 'A7', 'C49', 'F4',\n",
       "       'A32', 'B4', 'B80', 'A31', 'D36', 'D15', 'C93', 'C78', 'D35',\n",
       "       'C87', 'B77', 'E67', 'B94', 'C125', 'C99', 'C118', 'D7', 'A19',\n",
       "       'B49', 'D', 'C22 C26', 'C106', 'C65', 'E36', 'C54',\n",
       "       'B57 B59 B63 B66', 'C7', 'E34', 'C32', 'B18', 'C124', 'C91', 'E40',\n",
       "       'T', 'C128', 'D37', 'B35', 'E50', 'C82', 'B96 B98', 'E10', 'E44',\n",
       "       'A34', 'C104', 'C111', 'C92', 'E38', 'D21', 'E12', 'E63', 'A14',\n",
       "       'B37', 'C30', 'D20', 'B79', 'E25', 'D46', 'B73', 'C95', 'B38',\n",
       "       'B39', 'B22', 'C86', 'C70', 'A16', 'C101', 'C68', 'A10', 'E68',\n",
       "       'B41', 'A20', 'D19', 'D50', 'D9', 'A23', 'B50', 'A26', 'D48',\n",
       "       'E58', 'C126', 'B71', 'B51 B53 B55', 'D49', 'B5', 'B20', 'F G63',\n",
       "       'C62 C64', 'E24', 'C90', 'C45', 'E8', 'B101', 'D45', 'C46', 'D30',\n",
       "       'E121', 'D11', 'E77', 'F38', 'B3', 'D6', 'B82 B84', 'D17', 'A36',\n",
       "       'B102', 'B69', 'E49', 'C47', 'D28', 'E17', 'A24', 'C50', 'B42',\n",
       "       'C148'], dtype=object)"
      ]
     },
     "execution_count": 67,
     "metadata": {},
     "output_type": "execute_result"
    }
   ],
   "source": [
    "train['Cabin'].unique()"
   ]
  },
  {
   "cell_type": "code",
   "execution_count": 70,
   "id": "6fec9e62",
   "metadata": {},
   "outputs": [],
   "source": [
    "def get_cabin(row):\n",
    "    if pd.isnull(row):\n",
    "        return None\n",
    "    else:\n",
    "        return row[0]"
   ]
  },
  {
   "cell_type": "markdown",
   "id": "08bed9f5",
   "metadata": {},
   "source": [
    "Not enough information to do anything with this"
   ]
  },
  {
   "cell_type": "code",
   "execution_count": 72,
   "id": "3aa3d206",
   "metadata": {},
   "outputs": [
    {
     "data": {
      "text/plain": [
       "cabin_prefix\n",
       "C    59\n",
       "B    47\n",
       "D    33\n",
       "E    32\n",
       "A    15\n",
       "F    13\n",
       "G     4\n",
       "T     1\n",
       "Name: count, dtype: int64"
      ]
     },
     "execution_count": 72,
     "metadata": {},
     "output_type": "execute_result"
    }
   ],
   "source": [
    "train['cabin_prefix'] = train['Cabin'].apply(lambda x: get_cabin(x))\n",
    "train['cabin_prefix'].value_counts()"
   ]
  },
  {
   "cell_type": "code",
   "execution_count": 78,
   "id": "ed1dd0de",
   "metadata": {},
   "outputs": [
    {
     "data": {
      "text/plain": [
       "cabin_prefix\n",
       "G     13.581250\n",
       "F     18.696792\n",
       "T     35.500000\n",
       "A     39.623887\n",
       "E     46.026694\n",
       "D     57.244576\n",
       "C    100.151341\n",
       "B    113.505764\n",
       "Name: Fare, dtype: float64"
      ]
     },
     "execution_count": 78,
     "metadata": {},
     "output_type": "execute_result"
    }
   ],
   "source": [
    "train.groupby('cabin_prefix')['Fare'].mean().sort_values()"
   ]
  },
  {
   "cell_type": "code",
   "execution_count": 66,
   "id": "fb3bf3f1",
   "metadata": {},
   "outputs": [
    {
     "data": {
      "text/plain": [
       "Cabin\n",
       "B96 B98        4\n",
       "G6             4\n",
       "C23 C25 C27    4\n",
       "C22 C26        3\n",
       "F33            3\n",
       "              ..\n",
       "E34            1\n",
       "C7             1\n",
       "C54            1\n",
       "E36            1\n",
       "C148           1\n",
       "Name: count, Length: 147, dtype: int64"
      ]
     },
     "execution_count": 66,
     "metadata": {},
     "output_type": "execute_result"
    }
   ],
   "source": [
    "train['Cabin'].value_counts()"
   ]
  },
  {
   "cell_type": "code",
   "execution_count": 65,
   "id": "9e54df0d",
   "metadata": {},
   "outputs": [
    {
     "data": {
      "text/plain": [
       "(891, 22)"
      ]
     },
     "execution_count": 65,
     "metadata": {},
     "output_type": "execute_result"
    }
   ],
   "source": [
    "train.shape"
   ]
  },
  {
   "cell_type": "code",
   "execution_count": null,
   "id": "0ab5405d",
   "metadata": {},
   "outputs": [],
   "source": [
    "train['ticket_length'] = train['ticket_prefix']"
   ]
  },
  {
   "cell_type": "code",
   "execution_count": 79,
   "id": "e301ec3a",
   "metadata": {},
   "outputs": [
    {
     "data": {
      "text/plain": [
       "0             A/5 21171\n",
       "1              PC 17599\n",
       "2      STON/O2. 3101282\n",
       "3                113803\n",
       "4                373450\n",
       "             ...       \n",
       "886              211536\n",
       "887              112053\n",
       "888          W./C. 6607\n",
       "889              111369\n",
       "890              370376\n",
       "Name: Ticket, Length: 891, dtype: object"
      ]
     },
     "execution_count": 79,
     "metadata": {},
     "output_type": "execute_result"
    }
   ],
   "source": [
    "train['Ticket']"
   ]
  },
  {
   "cell_type": "code",
   "execution_count": 80,
   "id": "aa8b6107",
   "metadata": {},
   "outputs": [],
   "source": [
    "def get_ticket_info(row):\n",
    "    has_code = False\n",
    "    for i in row:\n",
    "        if i.isalpha():\n",
    "            has_code = True\n",
    "    return has_code\n",
    "        "
   ]
  },
  {
   "cell_type": "code",
   "execution_count": 81,
   "id": "a372add6",
   "metadata": {},
   "outputs": [],
   "source": [
    "train['ticket_code'] = train['Ticket'].apply(lambda row: get_ticket_info(row))"
   ]
  },
  {
   "cell_type": "code",
   "execution_count": 82,
   "id": "7888e591",
   "metadata": {},
   "outputs": [
    {
     "data": {
      "text/plain": [
       "ticket_code\n",
       "False    661\n",
       "True     230\n",
       "Name: count, dtype: int64"
      ]
     },
     "execution_count": 82,
     "metadata": {},
     "output_type": "execute_result"
    }
   ],
   "source": [
    "train['ticket_code'].value_counts()"
   ]
  },
  {
   "cell_type": "code",
   "execution_count": 83,
   "id": "ba8bebf0",
   "metadata": {},
   "outputs": [
    {
     "data": {
      "text/plain": [
       "array(['A/5', 'PC', 'STON/O2.', 'PP', 'A/5.', 'C.A.', 'A./5.', 'SC/Paris',\n",
       "       'S.C./A.4.', 'A/4.', 'CA', 'S.P.', 'S.O.C.', 'SO/C', 'W./C.',\n",
       "       'SOTON/OQ', 'W.E.P.', 'STON/O', 'A4.', 'C', 'SOTON/O.Q.',\n",
       "       'SC/PARIS', 'S.O.P.', 'A.5.', 'Fa', 'CA.', 'LINE', 'F.C.C.', 'W/C',\n",
       "       'SW/PP', 'SCO/W', 'P/PP', 'SC', 'SC/AH', 'A/S', 'A/4', 'WE/P',\n",
       "       'S.W./PP', 'S.O./P.P.', 'F.C.', 'SOTON/O2', 'S.C./PARIS',\n",
       "       'C.A./SOTON'], dtype=object)"
      ]
     },
     "execution_count": 83,
     "metadata": {},
     "output_type": "execute_result"
    }
   ],
   "source": [
    "train[train['ticket_code'] == True]['ticket_prefix'].unique()"
   ]
  },
  {
   "cell_type": "code",
   "execution_count": 88,
   "id": "765af5cd",
   "metadata": {},
   "outputs": [
    {
     "data": {
      "text/plain": [
       "Ticket\n",
       "1601       7\n",
       "347082     7\n",
       "3101295    6\n",
       "347088     6\n",
       "382652     5\n",
       "          ..\n",
       "3101267    1\n",
       "11765      1\n",
       "14313      1\n",
       "2626       1\n",
       "370376     1\n",
       "Name: count, Length: 514, dtype: int64"
      ]
     },
     "execution_count": 88,
     "metadata": {},
     "output_type": "execute_result"
    }
   ],
   "source": [
    "train[train['ticket_code'] == False]['Ticket'].value_counts()"
   ]
  },
  {
   "cell_type": "code",
   "execution_count": 87,
   "id": "1387c6fa",
   "metadata": {},
   "outputs": [
    {
     "data": {
      "text/plain": [
       "ticket_prefix\n",
       "LINE            0.000000\n",
       "SOTON/O.Q.      7.300000\n",
       "Fa              7.312500\n",
       "SOTON/O2        7.525000\n",
       "A/5             7.650000\n",
       "A/4.            7.700000\n",
       "STON/O          7.725000\n",
       "SOTON/OQ        7.792857\n",
       "S.C./A.4.       8.050000\n",
       "A./5.           8.050000\n",
       "A.5.            8.050000\n",
       "A4.             8.050000\n",
       "A/S             8.050000\n",
       "S.P.            8.158300\n",
       "S.O./P.P.       9.516667\n",
       "C              10.123340\n",
       "SO/C           10.500000\n",
       "S.W./PP        10.500000\n",
       "W/C            10.500000\n",
       "C.A./SOTON     10.500000\n",
       "SW/PP          10.500000\n",
       "STON/O2.       10.566667\n",
       "SC             12.000000\n",
       "A/5.           12.147614\n",
       "SCO/W          12.275000\n",
       "S.O.P.         12.525000\n",
       "PP             14.250000\n",
       "SC/PARIS       17.107480\n",
       "C.A.           18.327778\n",
       "A/4            18.783333\n",
       "SC/AH          21.930567\n",
       "F.C.C.         22.050000\n",
       "W./C.          23.661111\n",
       "P/PP           24.000000\n",
       "SC/Paris       34.403150\n",
       "S.C./PARIS     37.004200\n",
       "CA             46.900000\n",
       "F.C.           52.000000\n",
       "W.E.P.         61.175000\n",
       "CA.            61.800000\n",
       "WE/P           71.000000\n",
       "S.O.C.         73.500000\n",
       "PC            122.080483\n",
       "Name: Fare, dtype: float64"
      ]
     },
     "execution_count": 87,
     "metadata": {},
     "output_type": "execute_result"
    }
   ],
   "source": [
    "ticket_code_present = train[train['ticket_code'] == True]\n",
    "ticket_code_present.groupby('ticket_prefix')['Fare'].mean().sort_values()"
   ]
  },
  {
   "cell_type": "code",
   "execution_count": 90,
   "id": "3b7bc39e",
   "metadata": {},
   "outputs": [
    {
     "data": {
      "text/plain": [
       "ticket_prefix\n",
       "PC            60\n",
       "C.A.          27\n",
       "STON/O        12\n",
       "A/5           10\n",
       "W./C.          9\n",
       "CA.            8\n",
       "SOTON/O.Q.     8\n",
       "A/5.           7\n",
       "SOTON/OQ       7\n",
       "STON/O2.       6\n",
       "CA             6\n",
       "F.C.C.         5\n",
       "C              5\n",
       "SC/PARIS       5\n",
       "S.O.C.         5\n",
       "SC/Paris       4\n",
       "LINE           4\n",
       "A/4            3\n",
       "PP             3\n",
       "A/4.           3\n",
       "S.O./P.P.      3\n",
       "SC/AH          3\n",
       "A.5.           2\n",
       "A./5.          2\n",
       "P/PP           2\n",
       "WE/P           2\n",
       "SOTON/O2       2\n",
       "S.C./PARIS     2\n",
       "S.W./PP        1\n",
       "F.C.           1\n",
       "A/S            1\n",
       "SO/C           1\n",
       "W/C            1\n",
       "SC             1\n",
       "SCO/W          1\n",
       "SW/PP          1\n",
       "Fa             1\n",
       "S.O.P.         1\n",
       "S.C./A.4.      1\n",
       "A4.            1\n",
       "S.P.           1\n",
       "W.E.P.         1\n",
       "C.A./SOTON     1\n",
       "Name: count, dtype: int64"
      ]
     },
     "execution_count": 90,
     "metadata": {},
     "output_type": "execute_result"
    }
   ],
   "source": [
    "ticket_code_present['ticket_prefix'].value_counts()"
   ]
  },
  {
   "cell_type": "code",
   "execution_count": 92,
   "id": "7a785e38",
   "metadata": {},
   "outputs": [
    {
     "data": {
      "text/plain": [
       "count     60.000000\n",
       "mean     122.080483\n",
       "std      114.189525\n",
       "min       25.925000\n",
       "25%       49.504200\n",
       "50%       79.200000\n",
       "75%      148.256225\n",
       "max      512.329200\n",
       "Name: Fare, dtype: float64"
      ]
     },
     "execution_count": 92,
     "metadata": {},
     "output_type": "execute_result"
    }
   ],
   "source": [
    "ticket_code_present[ticket_code_present['ticket_prefix'] == 'PC']['Fare'].describe()"
   ]
  },
  {
   "cell_type": "code",
   "execution_count": 96,
   "id": "6004508a",
   "metadata": {},
   "outputs": [
    {
     "data": {
      "text/plain": [
       "0            A/5 21171\n",
       "1             PC 17599\n",
       "2     STON/O2. 3101282\n",
       "10             PP 9549\n",
       "12           A/5. 2151\n",
       "30            PC 17601\n",
       "31            PC 17569\n",
       "33          C.A. 24579\n",
       "34            PC 17604\n",
       "37          A./5. 2152\n",
       "43       SC/Paris 2123\n",
       "45     S.C./A.4. 23567\n",
       "51          A/4. 39886\n",
       "52            PC 17572\n",
       "56          C.A. 31026\n",
       "58          C.A. 34651\n",
       "59             CA 2144\n",
       "64            PC 17605\n",
       "66          C.A. 29395\n",
       "67           S.P. 3464\n",
       "Name: Ticket, dtype: object"
      ]
     },
     "execution_count": 96,
     "metadata": {},
     "output_type": "execute_result"
    }
   ],
   "source": [
    "ticket_code_present['Ticket'].head(20)"
   ]
  },
  {
   "cell_type": "code",
   "execution_count": 100,
   "id": "8946c786",
   "metadata": {},
   "outputs": [
    {
     "data": {
      "text/plain": [
       "'21'"
      ]
     },
     "execution_count": 100,
     "metadata": {},
     "output_type": "execute_result"
    }
   ],
   "source": [
    "x = 'A/5 21171'\n",
    "x.split()[1][0:2]"
   ]
  },
  {
   "cell_type": "code",
   "execution_count": 103,
   "id": "227a2671",
   "metadata": {},
   "outputs": [],
   "source": [
    "def get_ticket_sub_prefix(ticket):\n",
    "    if ' ' in ticket:\n",
    "        return ticket.split(' ')[1][0:2]\n",
    "    else:\n",
    "        return ticket\n"
   ]
  },
  {
   "cell_type": "code",
   "execution_count": 104,
   "id": "8d430d05",
   "metadata": {},
   "outputs": [
    {
     "name": "stderr",
     "output_type": "stream",
     "text": [
      "C:\\Users\\Nikhil\\AppData\\Local\\Temp\\ipykernel_12336\\326430396.py:1: SettingWithCopyWarning: \n",
      "A value is trying to be set on a copy of a slice from a DataFrame.\n",
      "Try using .loc[row_indexer,col_indexer] = value instead\n",
      "\n",
      "See the caveats in the documentation: https://pandas.pydata.org/pandas-docs/stable/user_guide/indexing.html#returning-a-view-versus-a-copy\n",
      "  ticket_code_present['ticket_sub_prefix'] = ticket_code_present['Ticket'].apply(lambda x: get_ticket_sub_prefix(x))\n"
     ]
    }
   ],
   "source": [
    "ticket_code_present['ticket_sub_prefix'] = ticket_code_present['Ticket'].apply(lambda x: get_ticket_sub_prefix(x))"
   ]
  },
  {
   "cell_type": "code",
   "execution_count": 105,
   "id": "2d698c79",
   "metadata": {},
   "outputs": [
    {
     "data": {
      "text/plain": [
       "ticket_sub_prefix\n",
       "17      63\n",
       "21      21\n",
       "31      20\n",
       "2.      12\n",
       "23      11\n",
       "14       9\n",
       "39       9\n",
       "33       9\n",
       "34       7\n",
       "66       7\n",
       "13       6\n",
       "29       4\n",
       "LINE     4\n",
       "57       3\n",
       "24       3\n",
       "20       3\n",
       "26       3\n",
       "35       3\n",
       "75       3\n",
       "70       3\n",
       "3        2\n",
       "48       2\n",
       "28       2\n",
       "18       2\n",
       "37       2\n",
       "95       2\n",
       "11       2\n",
       "10       1\n",
       "15       1\n",
       "30       1\n",
       "43       1\n",
       "Ba       1\n",
       "45       1\n",
       "62       1\n",
       "40       1\n",
       "85       1\n",
       "32       1\n",
       "12       1\n",
       "54       1\n",
       "55       1\n",
       "Name: count, dtype: int64"
      ]
     },
     "execution_count": 105,
     "metadata": {},
     "output_type": "execute_result"
    }
   ],
   "source": [
    "ticket_code_present['ticket_sub_prefix'].value_counts()"
   ]
  },
  {
   "cell_type": "code",
   "execution_count": 95,
   "id": "72759066",
   "metadata": {},
   "outputs": [
    {
     "data": {
      "text/plain": [
       "1      PC 17599\n",
       "30     PC 17601\n",
       "31     PC 17569\n",
       "34     PC 17604\n",
       "52     PC 17572\n",
       "64     PC 17605\n",
       "96     PC 17754\n",
       "97     PC 17759\n",
       "118    PC 17558\n",
       "139    PC 17593\n",
       "155    PC 17597\n",
       "168    PC 17318\n",
       "177    PC 17595\n",
       "194    PC 17610\n",
       "195    PC 17569\n",
       "256    PC 17585\n",
       "258    PC 17755\n",
       "268    PC 17582\n",
       "269    PC 17760\n",
       "273    PC 17596\n",
       "295    PC 17612\n",
       "299    PC 17558\n",
       "307    PC 17758\n",
       "309    PC 17485\n",
       "311    PC 17608\n",
       "325    PC 17760\n",
       "332    PC 17582\n",
       "334    PC 17611\n",
       "369    PC 17477\n",
       "373    PC 17760\n",
       "375    PC 17604\n",
       "380    PC 17757\n",
       "493    PC 17609\n",
       "505    PC 17758\n",
       "512    PC 17473\n",
       "513    PC 17603\n",
       "527    PC 17483\n",
       "537    PC 17761\n",
       "544    PC 17761\n",
       "557    PC 17757\n",
       "572    PC 17474\n",
       "599    PC 17485\n",
       "609    PC 17582\n",
       "641    PC 17477\n",
       "645    PC 17572\n",
       "660    PC 17611\n",
       "679    PC 17755\n",
       "681    PC 17572\n",
       "700    PC 17757\n",
       "701    PC 17475\n",
       "Name: Ticket, dtype: object"
      ]
     },
     "execution_count": 95,
     "metadata": {},
     "output_type": "execute_result"
    }
   ],
   "source": [
    "ticket_code_present[ticket_code_present['ticket_prefix'] == 'PC']['Ticket'].head(50)"
   ]
  },
  {
   "cell_type": "code",
   "execution_count": 108,
   "id": "573d613b",
   "metadata": {},
   "outputs": [
    {
     "data": {
      "text/plain": [
       "Index(['PassengerId', 'Survived', 'Pclass', 'Name', 'Sex', 'Age', 'SibSp',\n",
       "       'Parch', 'Ticket', 'Fare', 'Cabin', 'Embarked', 'is_married', 'title',\n",
       "       'kept_maiden_name', 'title_converted', 'sex_converted', 'age_group',\n",
       "       'family_size', 'solo_traveler', 'ticket_prefix', 'fare_group',\n",
       "       'cabin_prefix', 'ticket_code', 'ticket_sub_prefix'],\n",
       "      dtype='object')"
      ]
     },
     "execution_count": 108,
     "metadata": {},
     "output_type": "execute_result"
    }
   ],
   "source": [
    "ticket_code_present.columns"
   ]
  },
  {
   "cell_type": "code",
   "execution_count": 111,
   "id": "6886038d",
   "metadata": {},
   "outputs": [
    {
     "data": {
      "text/plain": [
       "ticket_prefix\n",
       "PC            60\n",
       "C.A.          27\n",
       "STON/O        12\n",
       "A/5           10\n",
       "W./C.          9\n",
       "CA.            8\n",
       "SOTON/O.Q.     8\n",
       "A/5.           7\n",
       "SOTON/OQ       7\n",
       "STON/O2.       6\n",
       "CA             6\n",
       "F.C.C.         5\n",
       "C              5\n",
       "SC/PARIS       5\n",
       "S.O.C.         5\n",
       "SC/Paris       4\n",
       "LINE           4\n",
       "A/4            3\n",
       "PP             3\n",
       "A/4.           3\n",
       "S.O./P.P.      3\n",
       "SC/AH          3\n",
       "A.5.           2\n",
       "A./5.          2\n",
       "P/PP           2\n",
       "WE/P           2\n",
       "SOTON/O2       2\n",
       "S.C./PARIS     2\n",
       "S.W./PP        1\n",
       "F.C.           1\n",
       "A/S            1\n",
       "SO/C           1\n",
       "W/C            1\n",
       "SC             1\n",
       "SCO/W          1\n",
       "SW/PP          1\n",
       "Fa             1\n",
       "S.O.P.         1\n",
       "S.C./A.4.      1\n",
       "A4.            1\n",
       "S.P.           1\n",
       "W.E.P.         1\n",
       "C.A./SOTON     1\n",
       "Name: count, dtype: int64"
      ]
     },
     "execution_count": 111,
     "metadata": {},
     "output_type": "execute_result"
    }
   ],
   "source": [
    "ticket_code_present['ticket_prefix'].value_counts()"
   ]
  },
  {
   "cell_type": "code",
   "execution_count": 112,
   "id": "e79679c1",
   "metadata": {},
   "outputs": [
    {
     "name": "stdout",
     "output_type": "stream",
     "text": [
      "A/5 has more than 1\n",
      "PP has more than 1\n",
      "A/5. has more than 1\n",
      "C.A. has more than 1\n",
      "A./5. has more than 1\n",
      "A/4. has more than 1\n",
      "W./C. has more than 1\n",
      "SOTON/OQ has more than 1\n",
      "C has more than 1\n",
      "SOTON/O.Q. has more than 1\n",
      "A.5. has more than 1\n",
      "SC/AH has more than 1\n",
      "A/4 has more than 1\n",
      "S.O./P.P. has more than 1\n"
     ]
    }
   ],
   "source": [
    "for pre in ticket_code_present['ticket_prefix'].unique():\n",
    "    if len(ticket_code_present[ticket_code_present['ticket_prefix'] == pre]['ticket_sub_prefix'].unique()) > 1:\n",
    "        print(f'{pre} has more than 1')\n",
    "    "
   ]
  },
  {
   "cell_type": "code",
   "execution_count": 113,
   "id": "1693da47",
   "metadata": {},
   "outputs": [
    {
     "data": {
      "text/plain": [
       "array(['21', '35', '24', '28', '39'], dtype=object)"
      ]
     },
     "execution_count": 113,
     "metadata": {},
     "output_type": "execute_result"
    }
   ],
   "source": [
    "ticket_code_present[ticket_code_present['ticket_prefix'] == 'A/5']['ticket_sub_prefix'].unique()"
   ]
  },
  {
   "cell_type": "code",
   "execution_count": 114,
   "id": "c4781235",
   "metadata": {},
   "outputs": [
    {
     "data": {
      "text/plain": [
       "array(['21', '33', '85', '10', '13'], dtype=object)"
      ]
     },
     "execution_count": 114,
     "metadata": {},
     "output_type": "execute_result"
    }
   ],
   "source": [
    "ticket_code_present[ticket_code_present['ticket_prefix'] == 'A/5.']['ticket_sub_prefix'].unique()"
   ]
  },
  {
   "cell_type": "code",
   "execution_count": 94,
   "id": "84bb7fb3",
   "metadata": {},
   "outputs": [
    {
     "data": {
      "text/plain": [
       "33     C.A. 24579\n",
       "56     C.A. 31026\n",
       "58     C.A. 34651\n",
       "66     C.A. 29395\n",
       "70     C.A. 33111\n",
       "93      C.A. 2315\n",
       "134    C.A. 29178\n",
       "145    C.A. 33112\n",
       "161    C.A. 33595\n",
       "234    C.A. 29566\n",
       "Name: Ticket, dtype: object"
      ]
     },
     "execution_count": 94,
     "metadata": {},
     "output_type": "execute_result"
    }
   ],
   "source": [
    "ticket_code_present[ticket_code_present['ticket_prefix'] == 'C.A.']['Ticket'].head(10)"
   ]
  },
  {
   "cell_type": "code",
   "execution_count": 136,
   "id": "81cc6394",
   "metadata": {},
   "outputs": [
    {
     "data": {
      "text/plain": [
       "Index(['PassengerId', 'Survived', 'Pclass', 'Name', 'Sex', 'Age', 'SibSp',\n",
       "       'Parch', 'Ticket', 'Fare', 'Cabin', 'Embarked', 'is_married', 'title',\n",
       "       'kept_maiden_name', 'title_converted', 'sex_converted', 'age_group',\n",
       "       'family_size', 'solo_traveler', 'ticket_prefix', 'fare_group',\n",
       "       'cabin_prefix', 'ticket_code'],\n",
       "      dtype='object')"
      ]
     },
     "execution_count": 136,
     "metadata": {},
     "output_type": "execute_result"
    }
   ],
   "source": [
    "train.columns"
   ]
  },
  {
   "cell_type": "code",
   "execution_count": 138,
   "id": "7fa7ec6e",
   "metadata": {},
   "outputs": [
    {
     "data": {
      "text/plain": [
       "array(['A/5', 'PC', 'STON/O2.', 'PP', 'A/5.', 'C.A.', 'A./5.', 'SC/Paris',\n",
       "       'S.C./A.4.', 'A/4.', 'CA', 'S.P.', 'S.O.C.', 'SO/C', 'W./C.',\n",
       "       'SOTON/OQ', 'W.E.P.', 'STON/O', 'A4.', 'C', 'SOTON/O.Q.',\n",
       "       'SC/PARIS', 'S.O.P.', 'A.5.', 'Fa', 'CA.', 'LINE', 'F.C.C.', 'W/C',\n",
       "       'SW/PP', 'SCO/W', 'P/PP', 'SC', 'SC/AH', 'A/S', 'A/4', 'WE/P',\n",
       "       'S.W./PP', 'S.O./P.P.', 'F.C.', 'SOTON/O2', 'S.C./PARIS',\n",
       "       'C.A./SOTON'], dtype=object)"
      ]
     },
     "execution_count": 138,
     "metadata": {},
     "output_type": "execute_result"
    }
   ],
   "source": [
    "#train['ticket_code'].unique()\n",
    "train[train['ticket_code'] == True]['ticket_prefix'].unique()"
   ]
  },
  {
   "cell_type": "markdown",
   "id": "bcb5463b",
   "metadata": {},
   "source": [
    "replace . and / with nothing"
   ]
  },
  {
   "cell_type": "code",
   "execution_count": 144,
   "id": "21e18b1a",
   "metadata": {},
   "outputs": [
    {
     "data": {
      "text/plain": [
       "ticket_prefix\n",
       "PC            60\n",
       "C.A.          27\n",
       "STON/O        12\n",
       "A/5           10\n",
       "W./C.          9\n",
       "CA.            8\n",
       "SOTON/O.Q.     8\n",
       "A/5.           7\n",
       "SOTON/OQ       7\n",
       "STON/O2.       6\n",
       "CA             6\n",
       "F.C.C.         5\n",
       "C              5\n",
       "SC/PARIS       5\n",
       "S.O.C.         5\n",
       "SC/Paris       4\n",
       "LINE           4\n",
       "A/4            3\n",
       "PP             3\n",
       "A/4.           3\n",
       "S.O./P.P.      3\n",
       "SC/AH          3\n",
       "A.5.           2\n",
       "A./5.          2\n",
       "P/PP           2\n",
       "WE/P           2\n",
       "SOTON/O2       2\n",
       "S.C./PARIS     2\n",
       "S.W./PP        1\n",
       "F.C.           1\n",
       "A/S            1\n",
       "SO/C           1\n",
       "W/C            1\n",
       "SC             1\n",
       "SCO/W          1\n",
       "SW/PP          1\n",
       "Fa             1\n",
       "S.O.P.         1\n",
       "S.C./A.4.      1\n",
       "A4.            1\n",
       "S.P.           1\n",
       "W.E.P.         1\n",
       "C.A./SOTON     1\n",
       "Name: count, dtype: int64"
      ]
     },
     "execution_count": 144,
     "metadata": {},
     "output_type": "execute_result"
    }
   ],
   "source": [
    "train[train['ticket_code'] == True]['ticket_prefix'].value_counts()"
   ]
  },
  {
   "cell_type": "code",
   "execution_count": 143,
   "id": "0aa20069",
   "metadata": {},
   "outputs": [
    {
     "data": {
      "text/html": [
       "<div>\n",
       "<style scoped>\n",
       "    .dataframe tbody tr th:only-of-type {\n",
       "        vertical-align: middle;\n",
       "    }\n",
       "\n",
       "    .dataframe tbody tr th {\n",
       "        vertical-align: top;\n",
       "    }\n",
       "\n",
       "    .dataframe thead th {\n",
       "        text-align: right;\n",
       "    }\n",
       "</style>\n",
       "<table border=\"1\" class=\"dataframe\">\n",
       "  <thead>\n",
       "    <tr style=\"text-align: right;\">\n",
       "      <th></th>\n",
       "      <th>ticket_prefix_cleaned</th>\n",
       "      <th>count</th>\n",
       "    </tr>\n",
       "  </thead>\n",
       "  <tbody>\n",
       "    <tr>\n",
       "      <th>0</th>\n",
       "      <td>PC</td>\n",
       "      <td>60</td>\n",
       "    </tr>\n",
       "    <tr>\n",
       "      <th>1</th>\n",
       "      <td>CA</td>\n",
       "      <td>41</td>\n",
       "    </tr>\n",
       "    <tr>\n",
       "      <th>2</th>\n",
       "      <td>A5</td>\n",
       "      <td>21</td>\n",
       "    </tr>\n",
       "    <tr>\n",
       "      <th>3</th>\n",
       "      <td>SOTONOQ</td>\n",
       "      <td>15</td>\n",
       "    </tr>\n",
       "    <tr>\n",
       "      <th>4</th>\n",
       "      <td>STONO</td>\n",
       "      <td>12</td>\n",
       "    </tr>\n",
       "    <tr>\n",
       "      <th>5</th>\n",
       "      <td>WC</td>\n",
       "      <td>10</td>\n",
       "    </tr>\n",
       "    <tr>\n",
       "      <th>6</th>\n",
       "      <td>A4</td>\n",
       "      <td>7</td>\n",
       "    </tr>\n",
       "    <tr>\n",
       "      <th>7</th>\n",
       "      <td>SCPARIS</td>\n",
       "      <td>7</td>\n",
       "    </tr>\n",
       "    <tr>\n",
       "      <th>8</th>\n",
       "      <td>STONO2</td>\n",
       "      <td>6</td>\n",
       "    </tr>\n",
       "    <tr>\n",
       "      <th>9</th>\n",
       "      <td>SOC</td>\n",
       "      <td>6</td>\n",
       "    </tr>\n",
       "    <tr>\n",
       "      <th>10</th>\n",
       "      <td>FCC</td>\n",
       "      <td>5</td>\n",
       "    </tr>\n",
       "    <tr>\n",
       "      <th>11</th>\n",
       "      <td>C</td>\n",
       "      <td>5</td>\n",
       "    </tr>\n",
       "    <tr>\n",
       "      <th>12</th>\n",
       "      <td>SCParis</td>\n",
       "      <td>4</td>\n",
       "    </tr>\n",
       "    <tr>\n",
       "      <th>13</th>\n",
       "      <td>LINE</td>\n",
       "      <td>4</td>\n",
       "    </tr>\n",
       "    <tr>\n",
       "      <th>14</th>\n",
       "      <td>SCAH</td>\n",
       "      <td>3</td>\n",
       "    </tr>\n",
       "    <tr>\n",
       "      <th>15</th>\n",
       "      <td>WEP</td>\n",
       "      <td>3</td>\n",
       "    </tr>\n",
       "    <tr>\n",
       "      <th>16</th>\n",
       "      <td>PP</td>\n",
       "      <td>3</td>\n",
       "    </tr>\n",
       "    <tr>\n",
       "      <th>17</th>\n",
       "      <td>SOPP</td>\n",
       "      <td>3</td>\n",
       "    </tr>\n",
       "    <tr>\n",
       "      <th>18</th>\n",
       "      <td>SOTONO2</td>\n",
       "      <td>2</td>\n",
       "    </tr>\n",
       "    <tr>\n",
       "      <th>19</th>\n",
       "      <td>SWPP</td>\n",
       "      <td>2</td>\n",
       "    </tr>\n",
       "    <tr>\n",
       "      <th>20</th>\n",
       "      <td>PPP</td>\n",
       "      <td>2</td>\n",
       "    </tr>\n",
       "    <tr>\n",
       "      <th>21</th>\n",
       "      <td>FC</td>\n",
       "      <td>1</td>\n",
       "    </tr>\n",
       "    <tr>\n",
       "      <th>22</th>\n",
       "      <td>AS</td>\n",
       "      <td>1</td>\n",
       "    </tr>\n",
       "    <tr>\n",
       "      <th>23</th>\n",
       "      <td>SP</td>\n",
       "      <td>1</td>\n",
       "    </tr>\n",
       "    <tr>\n",
       "      <th>24</th>\n",
       "      <td>SC</td>\n",
       "      <td>1</td>\n",
       "    </tr>\n",
       "    <tr>\n",
       "      <th>25</th>\n",
       "      <td>SCOW</td>\n",
       "      <td>1</td>\n",
       "    </tr>\n",
       "    <tr>\n",
       "      <th>26</th>\n",
       "      <td>Fa</td>\n",
       "      <td>1</td>\n",
       "    </tr>\n",
       "    <tr>\n",
       "      <th>27</th>\n",
       "      <td>SOP</td>\n",
       "      <td>1</td>\n",
       "    </tr>\n",
       "    <tr>\n",
       "      <th>28</th>\n",
       "      <td>SCA4</td>\n",
       "      <td>1</td>\n",
       "    </tr>\n",
       "    <tr>\n",
       "      <th>29</th>\n",
       "      <td>CASOTON</td>\n",
       "      <td>1</td>\n",
       "    </tr>\n",
       "  </tbody>\n",
       "</table>\n",
       "</div>"
      ],
      "text/plain": [
       "   ticket_prefix_cleaned  count\n",
       "0                     PC     60\n",
       "1                     CA     41\n",
       "2                     A5     21\n",
       "3                SOTONOQ     15\n",
       "4                  STONO     12\n",
       "5                     WC     10\n",
       "6                     A4      7\n",
       "7                SCPARIS      7\n",
       "8                 STONO2      6\n",
       "9                    SOC      6\n",
       "10                   FCC      5\n",
       "11                     C      5\n",
       "12               SCParis      4\n",
       "13                  LINE      4\n",
       "14                  SCAH      3\n",
       "15                   WEP      3\n",
       "16                    PP      3\n",
       "17                  SOPP      3\n",
       "18               SOTONO2      2\n",
       "19                  SWPP      2\n",
       "20                   PPP      2\n",
       "21                    FC      1\n",
       "22                    AS      1\n",
       "23                    SP      1\n",
       "24                    SC      1\n",
       "25                  SCOW      1\n",
       "26                    Fa      1\n",
       "27                   SOP      1\n",
       "28                  SCA4      1\n",
       "29               CASOTON      1"
      ]
     },
     "execution_count": 143,
     "metadata": {},
     "output_type": "execute_result"
    }
   ],
   "source": [
    "ticket_prefixes = train[train['ticket_code'] == True]['ticket_prefix_cleaned'].value_counts().reset_index()\n",
    "ticket_prefixes"
   ]
  },
  {
   "cell_type": "code",
   "execution_count": 146,
   "id": "4e6a9d59",
   "metadata": {},
   "outputs": [
    {
     "data": {
      "text/plain": [
       "Ticket\n",
       "347082      7\n",
       "CA. 2343    7\n",
       "1601        7\n",
       "3101295     6\n",
       "CA 2144     6\n",
       "           ..\n",
       "9234        1\n",
       "19988       1\n",
       "2693        1\n",
       "PC 17612    1\n",
       "370376      1\n",
       "Name: count, Length: 681, dtype: int64"
      ]
     },
     "execution_count": 146,
     "metadata": {},
     "output_type": "execute_result"
    }
   ],
   "source": [
    "train['Ticket'].value_counts()"
   ]
  },
  {
   "cell_type": "code",
   "execution_count": null,
   "id": "6c64159c",
   "metadata": {},
   "outputs": [],
   "source": [
    "train['ticket_numeric'] = train"
   ]
  },
  {
   "cell_type": "code",
   "execution_count": 145,
   "id": "44d5fc70",
   "metadata": {},
   "outputs": [
    {
     "data": {
      "text/plain": [
       "0             A/5 21171\n",
       "1              PC 17599\n",
       "2      STON/O2. 3101282\n",
       "10              PP 9549\n",
       "12            A/5. 2151\n",
       "             ...       \n",
       "867            PC 17590\n",
       "874           P/PP 3381\n",
       "883    C.A./SOTON 34068\n",
       "884     SOTON/OQ 392076\n",
       "888          W./C. 6607\n",
       "Name: Ticket, Length: 230, dtype: object"
      ]
     },
     "execution_count": 145,
     "metadata": {},
     "output_type": "execute_result"
    }
   ],
   "source": [
    "train[train['ticket_code'] == True]['Ticket']"
   ]
  },
  {
   "cell_type": "code",
   "execution_count": 139,
   "id": "42068a3b",
   "metadata": {},
   "outputs": [],
   "source": [
    "train['ticket_prefix_cleaned'] = train.apply(lambda row: row['ticket_prefix']\\\n",
    "                                      .replace('.', '').replace('/', '') if row['ticket_code'] else row['ticket_prefix'], axis='columns')"
   ]
  },
  {
   "cell_type": "code",
   "execution_count": 121,
   "id": "c18b4122",
   "metadata": {},
   "outputs": [
    {
     "data": {
      "text/html": [
       "<div>\n",
       "<style scoped>\n",
       "    .dataframe tbody tr th:only-of-type {\n",
       "        vertical-align: middle;\n",
       "    }\n",
       "\n",
       "    .dataframe tbody tr th {\n",
       "        vertical-align: top;\n",
       "    }\n",
       "\n",
       "    .dataframe thead th {\n",
       "        text-align: right;\n",
       "    }\n",
       "</style>\n",
       "<table border=\"1\" class=\"dataframe\">\n",
       "  <thead>\n",
       "    <tr style=\"text-align: right;\">\n",
       "      <th></th>\n",
       "      <th>PassengerId</th>\n",
       "      <th>Pclass</th>\n",
       "      <th>Name</th>\n",
       "      <th>Age</th>\n",
       "      <th>family_size</th>\n",
       "      <th>Fare</th>\n",
       "      <th>Embarked</th>\n",
       "    </tr>\n",
       "  </thead>\n",
       "  <tbody>\n",
       "    <tr>\n",
       "      <th>179</th>\n",
       "      <td>180</td>\n",
       "      <td>3</td>\n",
       "      <td>Leonard, Mr. Lionel</td>\n",
       "      <td>36.0</td>\n",
       "      <td>0</td>\n",
       "      <td>0.0</td>\n",
       "      <td>S</td>\n",
       "    </tr>\n",
       "    <tr>\n",
       "      <th>271</th>\n",
       "      <td>272</td>\n",
       "      <td>3</td>\n",
       "      <td>Tornquist, Mr. William Henry</td>\n",
       "      <td>25.0</td>\n",
       "      <td>0</td>\n",
       "      <td>0.0</td>\n",
       "      <td>S</td>\n",
       "    </tr>\n",
       "    <tr>\n",
       "      <th>302</th>\n",
       "      <td>303</td>\n",
       "      <td>3</td>\n",
       "      <td>Johnson, Mr. William Cahoone Jr</td>\n",
       "      <td>19.0</td>\n",
       "      <td>0</td>\n",
       "      <td>0.0</td>\n",
       "      <td>S</td>\n",
       "    </tr>\n",
       "    <tr>\n",
       "      <th>597</th>\n",
       "      <td>598</td>\n",
       "      <td>3</td>\n",
       "      <td>Johnson, Mr. Alfred</td>\n",
       "      <td>49.0</td>\n",
       "      <td>0</td>\n",
       "      <td>0.0</td>\n",
       "      <td>S</td>\n",
       "    </tr>\n",
       "  </tbody>\n",
       "</table>\n",
       "</div>"
      ],
      "text/plain": [
       "     PassengerId  Pclass                             Name   Age  family_size   \n",
       "179          180       3              Leonard, Mr. Lionel  36.0            0  \\\n",
       "271          272       3     Tornquist, Mr. William Henry  25.0            0   \n",
       "302          303       3  Johnson, Mr. William Cahoone Jr  19.0            0   \n",
       "597          598       3              Johnson, Mr. Alfred  49.0            0   \n",
       "\n",
       "     Fare Embarked  \n",
       "179   0.0        S  \n",
       "271   0.0        S  \n",
       "302   0.0        S  \n",
       "597   0.0        S  "
      ]
     },
     "execution_count": 121,
     "metadata": {},
     "output_type": "execute_result"
    }
   ],
   "source": [
    "train[train['Ticket'] == 'LINE'][['PassengerId', 'Pclass', 'Name', 'Age', 'family_size', 'Fare', 'Embarked']]"
   ]
  },
  {
   "cell_type": "code",
   "execution_count": 123,
   "id": "21a95060",
   "metadata": {},
   "outputs": [
    {
     "data": {
      "text/plain": [
       "Ticket\n",
       "347082      7\n",
       "CA. 2343    7\n",
       "1601        7\n",
       "3101295     6\n",
       "CA 2144     6\n",
       "           ..\n",
       "9234        1\n",
       "19988       1\n",
       "2693        1\n",
       "PC 17612    1\n",
       "370376      1\n",
       "Name: count, Length: 681, dtype: int64"
      ]
     },
     "execution_count": 123,
     "metadata": {},
     "output_type": "execute_result"
    }
   ],
   "source": [
    "train['Ticket'].value_counts()"
   ]
  },
  {
   "cell_type": "code",
   "execution_count": 122,
   "id": "80d5f759",
   "metadata": {},
   "outputs": [
    {
     "data": {
      "text/html": [
       "<div>\n",
       "<style scoped>\n",
       "    .dataframe tbody tr th:only-of-type {\n",
       "        vertical-align: middle;\n",
       "    }\n",
       "\n",
       "    .dataframe tbody tr th {\n",
       "        vertical-align: top;\n",
       "    }\n",
       "\n",
       "    .dataframe thead th {\n",
       "        text-align: right;\n",
       "    }\n",
       "</style>\n",
       "<table border=\"1\" class=\"dataframe\">\n",
       "  <thead>\n",
       "    <tr style=\"text-align: right;\">\n",
       "      <th></th>\n",
       "      <th>PassengerId</th>\n",
       "      <th>Pclass</th>\n",
       "      <th>Name</th>\n",
       "      <th>Age</th>\n",
       "      <th>family_size</th>\n",
       "      <th>Fare</th>\n",
       "      <th>Embarked</th>\n",
       "    </tr>\n",
       "  </thead>\n",
       "  <tbody>\n",
       "    <tr>\n",
       "      <th>179</th>\n",
       "      <td>180</td>\n",
       "      <td>3</td>\n",
       "      <td>Leonard, Mr. Lionel</td>\n",
       "      <td>36.0</td>\n",
       "      <td>0</td>\n",
       "      <td>0.0</td>\n",
       "      <td>S</td>\n",
       "    </tr>\n",
       "    <tr>\n",
       "      <th>263</th>\n",
       "      <td>264</td>\n",
       "      <td>1</td>\n",
       "      <td>Harrison, Mr. William</td>\n",
       "      <td>40.0</td>\n",
       "      <td>0</td>\n",
       "      <td>0.0</td>\n",
       "      <td>S</td>\n",
       "    </tr>\n",
       "    <tr>\n",
       "      <th>271</th>\n",
       "      <td>272</td>\n",
       "      <td>3</td>\n",
       "      <td>Tornquist, Mr. William Henry</td>\n",
       "      <td>25.0</td>\n",
       "      <td>0</td>\n",
       "      <td>0.0</td>\n",
       "      <td>S</td>\n",
       "    </tr>\n",
       "    <tr>\n",
       "      <th>277</th>\n",
       "      <td>278</td>\n",
       "      <td>2</td>\n",
       "      <td>Parkes, Mr. Francis \"Frank\"</td>\n",
       "      <td>NaN</td>\n",
       "      <td>0</td>\n",
       "      <td>0.0</td>\n",
       "      <td>S</td>\n",
       "    </tr>\n",
       "    <tr>\n",
       "      <th>302</th>\n",
       "      <td>303</td>\n",
       "      <td>3</td>\n",
       "      <td>Johnson, Mr. William Cahoone Jr</td>\n",
       "      <td>19.0</td>\n",
       "      <td>0</td>\n",
       "      <td>0.0</td>\n",
       "      <td>S</td>\n",
       "    </tr>\n",
       "    <tr>\n",
       "      <th>413</th>\n",
       "      <td>414</td>\n",
       "      <td>2</td>\n",
       "      <td>Cunningham, Mr. Alfred Fleming</td>\n",
       "      <td>NaN</td>\n",
       "      <td>0</td>\n",
       "      <td>0.0</td>\n",
       "      <td>S</td>\n",
       "    </tr>\n",
       "    <tr>\n",
       "      <th>466</th>\n",
       "      <td>467</td>\n",
       "      <td>2</td>\n",
       "      <td>Campbell, Mr. William</td>\n",
       "      <td>NaN</td>\n",
       "      <td>0</td>\n",
       "      <td>0.0</td>\n",
       "      <td>S</td>\n",
       "    </tr>\n",
       "    <tr>\n",
       "      <th>481</th>\n",
       "      <td>482</td>\n",
       "      <td>2</td>\n",
       "      <td>Frost, Mr. Anthony Wood \"Archie\"</td>\n",
       "      <td>NaN</td>\n",
       "      <td>0</td>\n",
       "      <td>0.0</td>\n",
       "      <td>S</td>\n",
       "    </tr>\n",
       "    <tr>\n",
       "      <th>597</th>\n",
       "      <td>598</td>\n",
       "      <td>3</td>\n",
       "      <td>Johnson, Mr. Alfred</td>\n",
       "      <td>49.0</td>\n",
       "      <td>0</td>\n",
       "      <td>0.0</td>\n",
       "      <td>S</td>\n",
       "    </tr>\n",
       "    <tr>\n",
       "      <th>633</th>\n",
       "      <td>634</td>\n",
       "      <td>1</td>\n",
       "      <td>Parr, Mr. William Henry Marsh</td>\n",
       "      <td>NaN</td>\n",
       "      <td>0</td>\n",
       "      <td>0.0</td>\n",
       "      <td>S</td>\n",
       "    </tr>\n",
       "    <tr>\n",
       "      <th>674</th>\n",
       "      <td>675</td>\n",
       "      <td>2</td>\n",
       "      <td>Watson, Mr. Ennis Hastings</td>\n",
       "      <td>NaN</td>\n",
       "      <td>0</td>\n",
       "      <td>0.0</td>\n",
       "      <td>S</td>\n",
       "    </tr>\n",
       "    <tr>\n",
       "      <th>732</th>\n",
       "      <td>733</td>\n",
       "      <td>2</td>\n",
       "      <td>Knight, Mr. Robert J</td>\n",
       "      <td>NaN</td>\n",
       "      <td>0</td>\n",
       "      <td>0.0</td>\n",
       "      <td>S</td>\n",
       "    </tr>\n",
       "    <tr>\n",
       "      <th>806</th>\n",
       "      <td>807</td>\n",
       "      <td>1</td>\n",
       "      <td>Andrews, Mr. Thomas Jr</td>\n",
       "      <td>39.0</td>\n",
       "      <td>0</td>\n",
       "      <td>0.0</td>\n",
       "      <td>S</td>\n",
       "    </tr>\n",
       "    <tr>\n",
       "      <th>815</th>\n",
       "      <td>816</td>\n",
       "      <td>1</td>\n",
       "      <td>Fry, Mr. Richard</td>\n",
       "      <td>NaN</td>\n",
       "      <td>0</td>\n",
       "      <td>0.0</td>\n",
       "      <td>S</td>\n",
       "    </tr>\n",
       "    <tr>\n",
       "      <th>822</th>\n",
       "      <td>823</td>\n",
       "      <td>1</td>\n",
       "      <td>Reuchlin, Jonkheer. John George</td>\n",
       "      <td>38.0</td>\n",
       "      <td>0</td>\n",
       "      <td>0.0</td>\n",
       "      <td>S</td>\n",
       "    </tr>\n",
       "  </tbody>\n",
       "</table>\n",
       "</div>"
      ],
      "text/plain": [
       "     PassengerId  Pclass                              Name   Age  family_size   \n",
       "179          180       3               Leonard, Mr. Lionel  36.0            0  \\\n",
       "263          264       1             Harrison, Mr. William  40.0            0   \n",
       "271          272       3      Tornquist, Mr. William Henry  25.0            0   \n",
       "277          278       2       Parkes, Mr. Francis \"Frank\"   NaN            0   \n",
       "302          303       3   Johnson, Mr. William Cahoone Jr  19.0            0   \n",
       "413          414       2    Cunningham, Mr. Alfred Fleming   NaN            0   \n",
       "466          467       2             Campbell, Mr. William   NaN            0   \n",
       "481          482       2  Frost, Mr. Anthony Wood \"Archie\"   NaN            0   \n",
       "597          598       3               Johnson, Mr. Alfred  49.0            0   \n",
       "633          634       1     Parr, Mr. William Henry Marsh   NaN            0   \n",
       "674          675       2        Watson, Mr. Ennis Hastings   NaN            0   \n",
       "732          733       2              Knight, Mr. Robert J   NaN            0   \n",
       "806          807       1            Andrews, Mr. Thomas Jr  39.0            0   \n",
       "815          816       1                  Fry, Mr. Richard   NaN            0   \n",
       "822          823       1   Reuchlin, Jonkheer. John George  38.0            0   \n",
       "\n",
       "     Fare Embarked  \n",
       "179   0.0        S  \n",
       "263   0.0        S  \n",
       "271   0.0        S  \n",
       "277   0.0        S  \n",
       "302   0.0        S  \n",
       "413   0.0        S  \n",
       "466   0.0        S  \n",
       "481   0.0        S  \n",
       "597   0.0        S  \n",
       "633   0.0        S  \n",
       "674   0.0        S  \n",
       "732   0.0        S  \n",
       "806   0.0        S  \n",
       "815   0.0        S  \n",
       "822   0.0        S  "
      ]
     },
     "execution_count": 122,
     "metadata": {},
     "output_type": "execute_result"
    }
   ],
   "source": [
    "train[train['Fare'] == 0][['PassengerId', 'Pclass', 'Name', 'Age', 'family_size', 'Fare', 'Embarked']]"
   ]
  },
  {
   "cell_type": "code",
   "execution_count": 134,
   "id": "353b3cba",
   "metadata": {},
   "outputs": [
    {
     "data": {
      "text/plain": [
       "<Axes: >"
      ]
     },
     "execution_count": 134,
     "metadata": {},
     "output_type": "execute_result"
    },
    {
     "data": {
      "image/png": "[encoded data removed]",
      "text/plain": [
       "<Figure size 640x480 with 1 Axes>"
      ]
     },
     "metadata": {},
     "output_type": "display_data"
    }
   ],
   "source": [
    "ticket_counts = train['Ticket'].value_counts().reset_index()\n",
    "ticket_counts['count'].hist(bins=20)"
   ]
  },
  {
   "cell_type": "code",
   "execution_count": 132,
   "id": "d47428b2",
   "metadata": {},
   "outputs": [
    {
     "data": {
      "text/html": [
       "<div>\n",
       "<style scoped>\n",
       "    .dataframe tbody tr th:only-of-type {\n",
       "        vertical-align: middle;\n",
       "    }\n",
       "\n",
       "    .dataframe tbody tr th {\n",
       "        vertical-align: top;\n",
       "    }\n",
       "\n",
       "    .dataframe thead th {\n",
       "        text-align: right;\n",
       "    }\n",
       "</style>\n",
       "<table border=\"1\" class=\"dataframe\">\n",
       "  <thead>\n",
       "    <tr style=\"text-align: right;\">\n",
       "      <th></th>\n",
       "      <th>Ticket</th>\n",
       "      <th>count</th>\n",
       "    </tr>\n",
       "  </thead>\n",
       "  <tbody>\n",
       "    <tr>\n",
       "      <th>0</th>\n",
       "      <td>347082</td>\n",
       "      <td>7</td>\n",
       "    </tr>\n",
       "    <tr>\n",
       "      <th>1</th>\n",
       "      <td>CA. 2343</td>\n",
       "      <td>7</td>\n",
       "    </tr>\n",
       "    <tr>\n",
       "      <th>2</th>\n",
       "      <td>1601</td>\n",
       "      <td>7</td>\n",
       "    </tr>\n",
       "    <tr>\n",
       "      <th>3</th>\n",
       "      <td>3101295</td>\n",
       "      <td>6</td>\n",
       "    </tr>\n",
       "    <tr>\n",
       "      <th>4</th>\n",
       "      <td>CA 2144</td>\n",
       "      <td>6</td>\n",
       "    </tr>\n",
       "    <tr>\n",
       "      <th>...</th>\n",
       "      <td>...</td>\n",
       "      <td>...</td>\n",
       "    </tr>\n",
       "    <tr>\n",
       "      <th>676</th>\n",
       "      <td>9234</td>\n",
       "      <td>1</td>\n",
       "    </tr>\n",
       "    <tr>\n",
       "      <th>677</th>\n",
       "      <td>19988</td>\n",
       "      <td>1</td>\n",
       "    </tr>\n",
       "    <tr>\n",
       "      <th>678</th>\n",
       "      <td>2693</td>\n",
       "      <td>1</td>\n",
       "    </tr>\n",
       "    <tr>\n",
       "      <th>679</th>\n",
       "      <td>PC 17612</td>\n",
       "      <td>1</td>\n",
       "    </tr>\n",
       "    <tr>\n",
       "      <th>680</th>\n",
       "      <td>370376</td>\n",
       "      <td>1</td>\n",
       "    </tr>\n",
       "  </tbody>\n",
       "</table>\n",
       "<p>681 rows × 2 columns</p>\n",
       "</div>"
      ],
      "text/plain": [
       "       Ticket  count\n",
       "0      347082      7\n",
       "1    CA. 2343      7\n",
       "2        1601      7\n",
       "3     3101295      6\n",
       "4     CA 2144      6\n",
       "..        ...    ...\n",
       "676      9234      1\n",
       "677     19988      1\n",
       "678      2693      1\n",
       "679  PC 17612      1\n",
       "680    370376      1\n",
       "\n",
       "[681 rows x 2 columns]"
      ]
     },
     "execution_count": 132,
     "metadata": {},
     "output_type": "execute_result"
    }
   ],
   "source": []
  },
  {
   "cell_type": "code",
   "execution_count": 131,
   "id": "7e566eec",
   "metadata": {},
   "outputs": [
    {
     "data": {
      "text/plain": [
       "Ticket\n",
       "110152         3\n",
       "110413         3\n",
       "110465         2\n",
       "110564         1\n",
       "110813         1\n",
       "              ..\n",
       "W./C. 6608     4\n",
       "W./C. 6609     1\n",
       "W.E.P. 5734    1\n",
       "W/C 14208      1\n",
       "WE/P 5735      2\n",
       "Name: Ticket, Length: 681, dtype: int64"
      ]
     },
     "execution_count": 131,
     "metadata": {},
     "output_type": "execute_result"
    }
   ],
   "source": [
    "train.groupby('Ticket')['Ticket'].size()"
   ]
  },
  {
   "cell_type": "code",
   "execution_count": 124,
   "id": "543b6627",
   "metadata": {},
   "outputs": [
    {
     "data": {
      "text/plain": [
       "Ticket\n",
       "110152         3\n",
       "110413         3\n",
       "110465         2\n",
       "110564         1\n",
       "110813         1\n",
       "              ..\n",
       "W./C. 6608     4\n",
       "W./C. 6609     1\n",
       "W.E.P. 5734    1\n",
       "W/C 14208      1\n",
       "WE/P 5735      2\n",
       "Length: 681, dtype: int64"
      ]
     },
     "execution_count": 124,
     "metadata": {},
     "output_type": "execute_result"
    }
   ],
   "source": [
    "train.groupby('Ticket').size()"
   ]
  },
  {
   "cell_type": "code",
   "execution_count": 155,
   "id": "0c76bf32",
   "metadata": {},
   "outputs": [],
   "source": [
    "train['Ticket'] = train['Ticket'].replace({'LINE': 'LINE 000'})"
   ]
  },
  {
   "cell_type": "code",
   "execution_count": 148,
   "id": "fdceeba7",
   "metadata": {},
   "outputs": [
    {
     "data": {
      "text/plain": [
       "4"
      ]
     },
     "execution_count": 148,
     "metadata": {},
     "output_type": "execute_result"
    }
   ],
   "source": [
    "train[train['Ticket'] == 'LINE 0'].shape[0]"
   ]
  },
  {
   "cell_type": "code",
   "execution_count": 150,
   "id": "8784ecff",
   "metadata": {},
   "outputs": [],
   "source": [
    "train['ticket_numeric'] = train['Ticket'].apply(lambda x: x.split()[1] if ' ' in x else x)"
   ]
  },
  {
   "cell_type": "code",
   "execution_count": 151,
   "id": "c6e40513",
   "metadata": {},
   "outputs": [
    {
     "data": {
      "text/plain": [
       "0        21171\n",
       "1        17599\n",
       "2      3101282\n",
       "3       113803\n",
       "4       373450\n",
       "        ...   \n",
       "886     211536\n",
       "887     112053\n",
       "888       6607\n",
       "889     111369\n",
       "890     370376\n",
       "Name: ticket_numeric, Length: 891, dtype: object"
      ]
     },
     "execution_count": 151,
     "metadata": {},
     "output_type": "execute_result"
    }
   ],
   "source": [
    "train['ticket_numeric']"
   ]
  },
  {
   "cell_type": "code",
   "execution_count": 153,
   "id": "42a2132e",
   "metadata": {},
   "outputs": [
    {
     "data": {
      "text/plain": [
       "ticket_numeric_length\n",
       "6    423\n",
       "5    247\n",
       "4    165\n",
       "7     32\n",
       "2     12\n",
       "3      6\n",
       "1      6\n",
       "Name: count, dtype: int64"
      ]
     },
     "execution_count": 153,
     "metadata": {},
     "output_type": "execute_result"
    }
   ],
   "source": [
    "train['ticket_numeric_length'] = train['ticket_numeric'].apply(lambda x: len(x))\n",
    "train['ticket_numeric_length'].value_counts()"
   ]
  },
  {
   "cell_type": "code",
   "execution_count": 154,
   "id": "fcb9cdf2",
   "metadata": {},
   "outputs": [
    {
     "data": {
      "text/plain": [
       "0"
      ]
     },
     "execution_count": 154,
     "metadata": {},
     "output_type": "execute_result"
    }
   ],
   "source": [
    "train['Ticket'].isna().sum()"
   ]
  },
  {
   "cell_type": "code",
   "execution_count": 161,
   "id": "5cc1145e",
   "metadata": {},
   "outputs": [
    {
     "data": {
      "text/plain": [
       "0      211\n",
       "1      175\n",
       "2      310\n",
       "3      113\n",
       "4      373\n",
       "      ... \n",
       "886    211\n",
       "887    112\n",
       "888    660\n",
       "889    111\n",
       "890    370\n",
       "Name: ticket_numeric_prefix, Length: 891, dtype: object"
      ]
     },
     "execution_count": 161,
     "metadata": {},
     "output_type": "execute_result"
    }
   ],
   "source": [
    "train['ticket_numeric_prefix_2'] = train['ticket_numeric'].apply(lambda x: x[:2])\n",
    "train['ticket_numeric_prefix']"
   ]
  },
  {
   "cell_type": "code",
   "execution_count": 163,
   "id": "6f8fda95",
   "metadata": {},
   "outputs": [
    {
     "data": {
      "text/plain": [
       "array(['17'], dtype=object)"
      ]
     },
     "execution_count": 163,
     "metadata": {},
     "output_type": "execute_result"
    }
   ],
   "source": [
    "train[train['ticket_prefix'] == 'PC']['ticket_numeric_prefix_2'].unique()"
   ]
  },
  {
   "cell_type": "code",
   "execution_count": 166,
   "id": "aac02c5d",
   "metadata": {},
   "outputs": [
    {
     "data": {
      "text/plain": [
       "array([5], dtype=int64)"
      ]
     },
     "execution_count": 166,
     "metadata": {},
     "output_type": "execute_result"
    }
   ],
   "source": [
    "train[train['ticket_prefix'] == 'PC']['ticket_numeric_length'].unique()"
   ]
  },
  {
   "cell_type": "code",
   "execution_count": 164,
   "id": "bbc371fd",
   "metadata": {},
   "outputs": [
    {
     "data": {
      "text/plain": [
       "Index(['PassengerId', 'Survived', 'Pclass', 'Name', 'Sex', 'Age', 'SibSp',\n",
       "       'Parch', 'Ticket', 'Fare', 'Cabin', 'Embarked', 'is_married', 'title',\n",
       "       'kept_maiden_name', 'title_converted', 'sex_converted', 'age_group',\n",
       "       'family_size', 'solo_traveler', 'ticket_prefix', 'fare_group',\n",
       "       'cabin_prefix', 'ticket_code', 'ticket_prefix_cleaned',\n",
       "       'ticket_numeric', 'ticket_numeric_length', 'ticket_numeric_prefix',\n",
       "       'ticket_numeric_prefix_4', 'ticket_numeric_prefix_2'],\n",
       "      dtype='object')"
      ]
     },
     "execution_count": 164,
     "metadata": {},
     "output_type": "execute_result"
    }
   ],
   "source": [
    "train.columns"
   ]
  },
  {
   "cell_type": "code",
   "execution_count": 165,
   "id": "8761dfe6",
   "metadata": {},
   "outputs": [
    {
     "data": {
      "text/plain": [
       "array(['24', '31', '34', '21', '29', '33', '23', '17', '26', '37', '18',\n",
       "       '62', '55'], dtype=object)"
      ]
     },
     "execution_count": 165,
     "metadata": {},
     "output_type": "execute_result"
    }
   ],
   "source": [
    "train[train['ticket_prefix_cleaned'] == 'CA']['ticket_numeric_prefix_2'].unique()"
   ]
  },
  {
   "cell_type": "code",
   "execution_count": 167,
   "id": "c1f45b14",
   "metadata": {},
   "outputs": [
    {
     "data": {
      "text/plain": [
       "array([5, 4], dtype=int64)"
      ]
     },
     "execution_count": 167,
     "metadata": {},
     "output_type": "execute_result"
    }
   ],
   "source": [
    "train[train['ticket_prefix_cleaned'] == 'CA']['ticket_numeric_length'].unique()"
   ]
  },
  {
   "cell_type": "code",
   "execution_count": 158,
   "id": "5bc854fe",
   "metadata": {},
   "outputs": [
    {
     "data": {
      "text/plain": [
       "array(['175', '176', '177', '173', '174'], dtype=object)"
      ]
     },
     "execution_count": 158,
     "metadata": {},
     "output_type": "execute_result"
    }
   ],
   "source": [
    "train[train['ticket_prefix'] == 'PC']['ticket_numeric_prefix'].unique()"
   ]
  },
  {
   "cell_type": "code",
   "execution_count": 169,
   "id": "67696ff7",
   "metadata": {},
   "outputs": [
    {
     "data": {
      "text/plain": [
       "array(['21', '33', '11', '85', '35', '10', '24', '13', '28', '18', '32',\n",
       "       '39'], dtype=object)"
      ]
     },
     "execution_count": 169,
     "metadata": {},
     "output_type": "execute_result"
    }
   ],
   "source": [
    "train[train['ticket_prefix_cleaned'] == 'A5']['ticket_numeric_prefix_2'].unique()"
   ]
  },
  {
   "cell_type": "code",
   "execution_count": 170,
   "id": "1c3d78f6",
   "metadata": {},
   "outputs": [
    {
     "data": {
      "text/plain": [
       "array([5, 4, 3], dtype=int64)"
      ]
     },
     "execution_count": 170,
     "metadata": {},
     "output_type": "execute_result"
    }
   ],
   "source": [
    "train[train['ticket_prefix_cleaned'] == 'A5']['ticket_numeric_length'].unique()"
   ]
  },
  {
   "cell_type": "code",
   "execution_count": 172,
   "id": "09ad1415",
   "metadata": {},
   "outputs": [
    {
     "data": {
      "text/plain": [
       "1      PC 17599\n",
       "30     PC 17601\n",
       "31     PC 17569\n",
       "34     PC 17604\n",
       "52     PC 17572\n",
       "64     PC 17605\n",
       "96     PC 17754\n",
       "97     PC 17759\n",
       "118    PC 17558\n",
       "139    PC 17593\n",
       "155    PC 17597\n",
       "168    PC 17318\n",
       "177    PC 17595\n",
       "194    PC 17610\n",
       "195    PC 17569\n",
       "256    PC 17585\n",
       "258    PC 17755\n",
       "268    PC 17582\n",
       "269    PC 17760\n",
       "273    PC 17596\n",
       "295    PC 17612\n",
       "299    PC 17558\n",
       "307    PC 17758\n",
       "309    PC 17485\n",
       "311    PC 17608\n",
       "325    PC 17760\n",
       "332    PC 17582\n",
       "334    PC 17611\n",
       "369    PC 17477\n",
       "373    PC 17760\n",
       "375    PC 17604\n",
       "380    PC 17757\n",
       "493    PC 17609\n",
       "505    PC 17758\n",
       "512    PC 17473\n",
       "513    PC 17603\n",
       "527    PC 17483\n",
       "537    PC 17761\n",
       "544    PC 17761\n",
       "557    PC 17757\n",
       "572    PC 17474\n",
       "599    PC 17485\n",
       "609    PC 17582\n",
       "641    PC 17477\n",
       "645    PC 17572\n",
       "660    PC 17611\n",
       "679    PC 17755\n",
       "681    PC 17572\n",
       "700    PC 17757\n",
       "701    PC 17475\n",
       "707    PC 17476\n",
       "710    PC 17482\n",
       "716    PC 17757\n",
       "737    PC 17755\n",
       "742    PC 17608\n",
       "789    PC 17593\n",
       "793    PC 17600\n",
       "835    PC 17756\n",
       "853    PC 17592\n",
       "867    PC 17590\n",
       "Name: Ticket, dtype: object"
      ]
     },
     "execution_count": 172,
     "metadata": {},
     "output_type": "execute_result"
    }
   ],
   "source": [
    "train[train['ticket_prefix_cleaned'] == 'PC']['Ticket']"
   ]
  },
  {
   "cell_type": "code",
   "execution_count": 173,
   "id": "cb06f49c",
   "metadata": {},
   "outputs": [
    {
     "data": {
      "text/plain": [
       "33     C.A. 24579\n",
       "56     C.A. 31026\n",
       "58     C.A. 34651\n",
       "59        CA 2144\n",
       "66     C.A. 29395\n",
       "70     C.A. 33111\n",
       "71        CA 2144\n",
       "93      C.A. 2315\n",
       "134    C.A. 29178\n",
       "145    C.A. 33112\n",
       "159      CA. 2343\n",
       "161    C.A. 33595\n",
       "180      CA. 2343\n",
       "201      CA. 2343\n",
       "234    C.A. 29566\n",
       "237    C.A. 31921\n",
       "265    C.A. 17248\n",
       "279     C.A. 2673\n",
       "324      CA. 2343\n",
       "348    C.A. 37671\n",
       "386       CA 2144\n",
       "439    C.A. 18723\n",
       "450    C.A. 34651\n",
       "472    C.A. 34651\n",
       "480       CA 2144\n",
       "489    C.A. 37671\n",
       "497     C.A. 6212\n",
       "516    C.A. 34260\n",
       "549    C.A. 33112\n",
       "637    C.A. 31921\n",
       "649      CA. 2314\n",
       "672    C.A. 24580\n",
       "678       CA 2144\n",
       "683       CA 2144\n",
       "746     C.A. 2673\n",
       "788     C.A. 2315\n",
       "792      CA. 2343\n",
       "801    C.A. 31921\n",
       "845     C.A. 5547\n",
       "846      CA. 2343\n",
       "863      CA. 2343\n",
       "Name: Ticket, dtype: object"
      ]
     },
     "execution_count": 173,
     "metadata": {},
     "output_type": "execute_result"
    }
   ],
   "source": [
    "train[train['ticket_prefix_cleaned'] == 'CA']['Ticket']"
   ]
  },
  {
   "cell_type": "code",
   "execution_count": 174,
   "id": "1dc01dec",
   "metadata": {},
   "outputs": [
    {
     "data": {
      "text/plain": [
       "0       A/5 21171\n",
       "12      A/5. 2151\n",
       "37     A./5. 2152\n",
       "132     A/5. 3337\n",
       "152    A.5. 11206\n",
       "153      A/5. 851\n",
       "204      A/5 3540\n",
       "212     A/5 21174\n",
       "227     A/5 21173\n",
       "253     A/5. 3336\n",
       "283    A/5. 10482\n",
       "304      A/5 2466\n",
       "320     A/5 21172\n",
       "421    A/5. 13032\n",
       "454      A/5 2817\n",
       "482      A/5 3594\n",
       "488    A.5. 18509\n",
       "589    A./5. 3235\n",
       "592      A/5 3902\n",
       "617     A/5. 3336\n",
       "668      A/5 3536\n",
       "Name: Ticket, dtype: object"
      ]
     },
     "execution_count": 174,
     "metadata": {},
     "output_type": "execute_result"
    }
   ],
   "source": [
    "train[train['ticket_prefix_cleaned'] == 'A5']['Ticket']"
   ]
  },
  {
   "cell_type": "code",
   "execution_count": 168,
   "id": "ddb7b458",
   "metadata": {},
   "outputs": [
    {
     "data": {
      "text/plain": [
       "ticket_prefix_cleaned\n",
       "PC         60\n",
       "CA         41\n",
       "A5         21\n",
       "SOTONOQ    15\n",
       "STONO      12\n",
       "           ..\n",
       "113784      1\n",
       "7598        1\n",
       "349225      1\n",
       "113043      1\n",
       "370376      1\n",
       "Name: count, Length: 544, dtype: int64"
      ]
     },
     "execution_count": 168,
     "metadata": {},
     "output_type": "execute_result"
    }
   ],
   "source": [
    "train['ticket_prefix_cleaned'].value_counts()"
   ]
  },
  {
   "cell_type": "code",
   "execution_count": null,
   "id": "0242e582",
   "metadata": {},
   "outputs": [],
   "source": []
  }
 ],
 "metadata": {
  "kernelspec": {
   "display_name": "ml_env",
   "language": "python",
   "name": "ml_env"
  },
  "language_info": {
   "codemirror_mode": {
    "name": "ipython",
    "version": 3
   },
   "file_extension": ".py",
   "mimetype": "text/x-python",
   "name": "python",
   "nbconvert_exporter": "python",
   "pygments_lexer": "ipython3",
   "version": "3.11.2"
  }
 },
 "nbformat": 4,
 "nbformat_minor": 5
}
