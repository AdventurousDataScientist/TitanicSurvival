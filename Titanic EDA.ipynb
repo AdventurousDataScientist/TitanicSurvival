{
 "cells": [
  {
   "cell_type": "code",
   "execution_count": 1,
   "id": "e2df3d09",
   "metadata": {},
   "outputs": [],
   "source": [
    "import sys\n",
    " \n",
    "sys.path.append('C:\\\\Users\\\\Nikhil\\\\Developer\\\\Data_Science_Projects')\n",
    "from common_ds_modules import missing_values, data_manipulation, modeling, eda\n",
    "import os\n",
    "import pandas as pd\n",
    "import numpy as np\n",
    "import numpy as np\n",
    "from sklearn.impute import SimpleImputer\n",
    "from sklearn.linear_model import LogisticRegression\n",
    "import seaborn as sns\n",
    "from sklearn.model_selection import cross_val_score\n",
    "import matplotlib.pyplot as plt\n",
    "from sklearn.model_selection import GridSearchCV, RandomizedSearchCV\n",
    "from sklearn.ensemble import RandomForestClassifier\n",
    "import numpy as np\n",
    "from sklearn.preprocessing import StandardScaler\n",
    "from sklearn.pipeline import Pipeline\n",
    "from sklearn.model_selection import train_test_split, GridSearchCV\n",
    "from sklearn.linear_model import Lasso\n",
    "from sklearn.model_selection import cross_val_score\n",
    "from sklearn.model_selection import RandomizedSearchCV\n",
    "from sklearn.tree import DecisionTreeClassifier\n",
    "from xgboost import XGBClassifier\n",
    "import pickle\n",
    "from sklearn.linear_model import Lasso, Ridge, ElasticNet\n",
    "from sklearn.preprocessing import StandardScaler\n",
    "from sklearn.neighbors import KNeighborsClassifier\n",
    "from sklearn.ensemble import StackingClassifier, GradientBoostingClassifier\n",
    "\n",
    "from sklearn.compose import make_column_transformer \n",
    "from sklearn.pipeline import make_pipeline\n",
    "\n",
    "from sklearn.preprocessing import FunctionTransformer\n",
    "log_transformer = FunctionTransformer(np.log1p)\n",
    "\n",
    "from sklearn.compose import make_column_selector as selector\n",
    "from scipy.stats import skew"
   ]
  },
  {
   "cell_type": "code",
   "execution_count": 2,
   "id": "578197f0",
   "metadata": {},
   "outputs": [],
   "source": [
    "train = pd.read_csv('train.csv')\n",
    "test = pd.read_csv('test.csv')"
   ]
  },
  {
   "cell_type": "code",
   "execution_count": 3,
   "id": "8610b41d",
   "metadata": {},
   "outputs": [
    {
     "data": {
      "text/plain": [
       "PassengerId    0.000000\n",
       "Survived       0.000000\n",
       "Pclass         0.000000\n",
       "Name           0.000000\n",
       "Sex            0.000000\n",
       "Age            0.198653\n",
       "SibSp          0.000000\n",
       "Parch          0.000000\n",
       "Ticket         0.000000\n",
       "Fare           0.000000\n",
       "Cabin          0.771044\n",
       "Embarked       0.002245\n",
       "dtype: float64"
      ]
     },
     "execution_count": 3,
     "metadata": {},
     "output_type": "execute_result"
    }
   ],
   "source": [
    "train.isna().sum()/train.shape[0]"
   ]
  },
  {
   "cell_type": "markdown",
   "id": "4b18c2a1",
   "metadata": {},
   "source": [
    "May have to drop Cabin as a variable, as there are so many missing values"
   ]
  },
  {
   "cell_type": "markdown",
   "id": "cb521bae",
   "metadata": {},
   "source": [
    "#### Survival Distribution"
   ]
  },
  {
   "cell_type": "code",
   "execution_count": 4,
   "id": "f00df387",
   "metadata": {},
   "outputs": [
    {
     "data": {
      "image/png": "[encoded data removed]",
      "text/plain": [
       "<Figure size 640x480 with 1 Axes>"
      ]
     },
     "metadata": {},
     "output_type": "display_data"
    }
   ],
   "source": [
    "train['Survived'].hist()\n",
    "plt.show()"
   ]
  },
  {
   "cell_type": "code",
   "execution_count": 5,
   "id": "1ddd0d2a",
   "metadata": {},
   "outputs": [
    {
     "data": {
      "text/plain": [
       "Survived\n",
       "0    0.616162\n",
       "1    0.383838\n",
       "Name: proportion, dtype: float64"
      ]
     },
     "execution_count": 5,
     "metadata": {},
     "output_type": "execute_result"
    }
   ],
   "source": [
    "train['Survived'].value_counts(normalize=True)"
   ]
  },
  {
   "cell_type": "markdown",
   "id": "fdc4715d",
   "metadata": {},
   "source": [
    "Slightly over 1/3 survive, would be interesting trying to use SMOTE to balance the population"
   ]
  },
  {
   "cell_type": "markdown",
   "id": "c1a52642",
   "metadata": {},
   "source": [
    "#### PClass Distribution"
   ]
  },
  {
   "cell_type": "code",
   "execution_count": 6,
   "id": "1ef70cc1",
   "metadata": {},
   "outputs": [
    {
     "data": {
      "image/png": "[encoded data removed]",
      "text/plain": [
       "<Figure size 640x480 with 1 Axes>"
      ]
     },
     "metadata": {},
     "output_type": "display_data"
    }
   ],
   "source": [
    "train['Pclass'].hist()\n",
    "plt.show()"
   ]
  },
  {
   "cell_type": "code",
   "execution_count": 7,
   "id": "ad02bb8c",
   "metadata": {},
   "outputs": [
    {
     "data": {
      "text/plain": [
       "Pclass\n",
       "1    0.629630\n",
       "2    0.472826\n",
       "3    0.242363\n",
       "Name: class_survival_rate, dtype: float64"
      ]
     },
     "execution_count": 7,
     "metadata": {},
     "output_type": "execute_result"
    }
   ],
   "source": [
    "pclass_survivability = pd.crosstab(train['Pclass'], train['Survived'])\n",
    "pclass_survivability['class_survival_rate'] = pclass_survivability[1]/(pclass_survivability[1] + pclass_survivability[0])\n",
    "pclass_survivability['class_survival_rate']"
   ]
  },
  {
   "cell_type": "markdown",
   "id": "c4e90841",
   "metadata": {},
   "source": [
    "### PClass Survivability"
   ]
  },
  {
   "cell_type": "code",
   "execution_count": 8,
   "id": "a2b437df",
   "metadata": {},
   "outputs": [
    {
     "data": {
      "text/html": [
       "<div>\n",
       "<style scoped>\n",
       "    .dataframe tbody tr th:only-of-type {\n",
       "        vertical-align: middle;\n",
       "    }\n",
       "\n",
       "    .dataframe tbody tr th {\n",
       "        vertical-align: top;\n",
       "    }\n",
       "\n",
       "    .dataframe thead th {\n",
       "        text-align: right;\n",
       "    }\n",
       "</style>\n",
       "<table border=\"1\" class=\"dataframe\">\n",
       "  <thead>\n",
       "    <tr style=\"text-align: right;\">\n",
       "      <th>Survived</th>\n",
       "      <th>0</th>\n",
       "      <th>1</th>\n",
       "      <th>class_survival_rate</th>\n",
       "    </tr>\n",
       "    <tr>\n",
       "      <th>Pclass</th>\n",
       "      <th></th>\n",
       "      <th></th>\n",
       "      <th></th>\n",
       "    </tr>\n",
       "  </thead>\n",
       "  <tbody>\n",
       "    <tr>\n",
       "      <th>1</th>\n",
       "      <td>80</td>\n",
       "      <td>136</td>\n",
       "      <td>0.629630</td>\n",
       "    </tr>\n",
       "    <tr>\n",
       "      <th>2</th>\n",
       "      <td>97</td>\n",
       "      <td>87</td>\n",
       "      <td>0.472826</td>\n",
       "    </tr>\n",
       "    <tr>\n",
       "      <th>3</th>\n",
       "      <td>372</td>\n",
       "      <td>119</td>\n",
       "      <td>0.242363</td>\n",
       "    </tr>\n",
       "  </tbody>\n",
       "</table>\n",
       "</div>"
      ],
      "text/plain": [
       "Survived    0    1  class_survival_rate\n",
       "Pclass                                 \n",
       "1          80  136             0.629630\n",
       "2          97   87             0.472826\n",
       "3         372  119             0.242363"
      ]
     },
     "execution_count": 8,
     "metadata": {},
     "output_type": "execute_result"
    }
   ],
   "source": [
    "pclass_survivability"
   ]
  },
  {
   "cell_type": "code",
   "execution_count": 9,
   "id": "5634306c",
   "metadata": {},
   "outputs": [
    {
     "data": {
      "image/png": "[encoded data removed]",
      "text/plain": [
       "<Figure size 640x480 with 1 Axes>"
      ]
     },
     "metadata": {},
     "output_type": "display_data"
    }
   ],
   "source": [
    "pclass_survivability['class_survival_rate'].plot.bar()\n",
    "plt.show()"
   ]
  },
  {
   "cell_type": "code",
   "execution_count": 10,
   "id": "17224a9f",
   "metadata": {},
   "outputs": [
    {
     "name": "stdout",
     "output_type": "stream",
     "text": [
      "Name: Braund, Mr. Owen Harris, sex: male\n",
      "Name: Cumings, Mrs. John Bradley (Florence Briggs Thayer), sex: female\n",
      "Name: Heikkinen, Miss. Laina, sex: female\n",
      "Name: Futrelle, Mrs. Jacques Heath (Lily May Peel), sex: female\n",
      "Name: Allen, Mr. William Henry, sex: male\n",
      "Name: Moran, Mr. James, sex: male\n",
      "Name: McCarthy, Mr. Timothy J, sex: male\n",
      "Name: Palsson, Master. Gosta Leonard, sex: male\n",
      "Name: Johnson, Mrs. Oscar W (Elisabeth Vilhelmina Berg), sex: female\n",
      "Name: Nasser, Mrs. Nicholas (Adele Achem), sex: female\n",
      "Name: Sandstrom, Miss. Marguerite Rut, sex: female\n",
      "Name: Bonnell, Miss. Elizabeth, sex: female\n",
      "Name: Saundercock, Mr. William Henry, sex: male\n",
      "Name: Andersson, Mr. Anders Johan, sex: male\n",
      "Name: Vestrom, Miss. Hulda Amanda Adolfina, sex: female\n",
      "Name: Hewlett, Mrs. (Mary D Kingcome) , sex: female\n",
      "Name: Rice, Master. Eugene, sex: male\n",
      "Name: Williams, Mr. Charles Eugene, sex: male\n",
      "Name: Vander Planke, Mrs. Julius (Emelia Maria Vandemoortele), sex: female\n",
      "Name: Masselmani, Mrs. Fatima, sex: female\n"
     ]
    }
   ],
   "source": [
    "for name, sex in zip(train['Name'].values[:20], train['Sex'].values[:20]):\n",
    "    print(f'Name: {name}, sex: {sex}')"
   ]
  },
  {
   "cell_type": "code",
   "execution_count": 11,
   "id": "66334098",
   "metadata": {},
   "outputs": [
    {
     "name": "stdout",
     "output_type": "stream",
     "text": [
      "Name: ('Braund, Mr. Owen Harris',)\n",
      "Name: ('Cumings, Mrs. John Bradley (Florence Briggs Thayer)',)\n",
      "Name: ('Heikkinen, Miss. Laina',)\n",
      "Name: ('Futrelle, Mrs. Jacques Heath (Lily May Peel)',)\n",
      "Name: ('Allen, Mr. William Henry',)\n",
      "Name: ('Moran, Mr. James',)\n",
      "Name: ('McCarthy, Mr. Timothy J',)\n",
      "Name: ('Palsson, Master. Gosta Leonard',)\n",
      "Name: ('Johnson, Mrs. Oscar W (Elisabeth Vilhelmina Berg)',)\n",
      "Name: ('Nasser, Mrs. Nicholas (Adele Achem)',)\n",
      "Name: ('Sandstrom, Miss. Marguerite Rut',)\n",
      "Name: ('Bonnell, Miss. Elizabeth',)\n",
      "Name: ('Saundercock, Mr. William Henry',)\n",
      "Name: ('Andersson, Mr. Anders Johan',)\n",
      "Name: ('Vestrom, Miss. Hulda Amanda Adolfina',)\n",
      "Name: ('Hewlett, Mrs. (Mary D Kingcome) ',)\n",
      "Name: ('Rice, Master. Eugene',)\n",
      "Name: ('Williams, Mr. Charles Eugene',)\n",
      "Name: ('Vander Planke, Mrs. Julius (Emelia Maria Vandemoortele)',)\n",
      "Name: ('Masselmani, Mrs. Fatima',)\n"
     ]
    }
   ],
   "source": [
    "for name in zip(train['Name'].values[:20]):\n",
    "    print(f'Name: {name}')"
   ]
  },
  {
   "cell_type": "code",
   "execution_count": 12,
   "id": "39c8ef93",
   "metadata": {},
   "outputs": [],
   "source": [
    "def is_married(x):\n",
    "    return 'mrs.' in x['Name'].lower() and x['Sex'] == 'female'"
   ]
  },
  {
   "cell_type": "code",
   "execution_count": 13,
   "id": "a8409bde",
   "metadata": {},
   "outputs": [
    {
     "data": {
      "text/plain": [
       "True"
      ]
     },
     "execution_count": 13,
     "metadata": {},
     "output_type": "execute_result"
    }
   ],
   "source": [
    "'(' in train['Name'].values[1].split(', ')[1] and ')' in train['Name'].values[1].split(', ')[1]"
   ]
  },
  {
   "cell_type": "code",
   "execution_count": 14,
   "id": "bbd366f8",
   "metadata": {},
   "outputs": [],
   "source": [
    "def get_title(x):\n",
    "    return x.split(', ')[1].split(' ')[0]"
   ]
  },
  {
   "cell_type": "code",
   "execution_count": 15,
   "id": "80cc9f92",
   "metadata": {},
   "outputs": [],
   "source": [
    "def kept_maiden_name(x):\n",
    "    return '(' in x['Name'].split(', ')[1] and ')' in x['Name'].split(', ')[1] and x['title'] == 'Mrs.'"
   ]
  },
  {
   "cell_type": "code",
   "execution_count": 16,
   "id": "c9ae8b78",
   "metadata": {},
   "outputs": [],
   "source": [
    "train['is_married'] = train.apply(lambda x: is_married(x), axis='columns')"
   ]
  },
  {
   "cell_type": "code",
   "execution_count": 17,
   "id": "c38d9f0e",
   "metadata": {},
   "outputs": [],
   "source": [
    "train['title'] = train['Name'].apply(lambda x: get_title(x))"
   ]
  },
  {
   "cell_type": "code",
   "execution_count": 18,
   "id": "3b7d835e",
   "metadata": {},
   "outputs": [],
   "source": [
    "train['kept_maiden_name'] = train.apply(lambda x: kept_maiden_name(x), axis='columns')"
   ]
  },
  {
   "cell_type": "code",
   "execution_count": 19,
   "id": "6639f05e",
   "metadata": {},
   "outputs": [
    {
     "data": {
      "text/plain": [
       "kept_maiden_name\n",
       "True     121\n",
       "False      4\n",
       "Name: count, dtype: int64"
      ]
     },
     "execution_count": 19,
     "metadata": {},
     "output_type": "execute_result"
    }
   ],
   "source": [
    "train[train['title'] == 'Mrs.']['kept_maiden_name'].value_counts()"
   ]
  },
  {
   "cell_type": "code",
   "execution_count": 20,
   "id": "95f76110",
   "metadata": {},
   "outputs": [
    {
     "data": {
      "text/plain": [
       "is_married\n",
       "False    766\n",
       "True     125\n",
       "Name: count, dtype: int64"
      ]
     },
     "execution_count": 20,
     "metadata": {},
     "output_type": "execute_result"
    }
   ],
   "source": [
    "train['is_married'].value_counts()"
   ]
  },
  {
   "cell_type": "code",
   "execution_count": 21,
   "id": "1fc235f1",
   "metadata": {},
   "outputs": [
    {
     "data": {
      "text/plain": [
       "27"
      ]
     },
     "execution_count": 21,
     "metadata": {},
     "output_type": "execute_result"
    }
   ],
   "source": [
    "train.shape[0] - (517 + 182 + 125 + 40)"
   ]
  },
  {
   "cell_type": "code",
   "execution_count": 22,
   "id": "86700826",
   "metadata": {
    "scrolled": true
   },
   "outputs": [
    {
     "data": {
      "text/plain": [
       "title\n",
       "Mr.          517\n",
       "Miss.        182\n",
       "Mrs.         125\n",
       "Master.       40\n",
       "Dr.            7\n",
       "Rev.           6\n",
       "Mlle.          2\n",
       "Major.         2\n",
       "Col.           2\n",
       "the            1\n",
       "Capt.          1\n",
       "Ms.            1\n",
       "Sir.           1\n",
       "Lady.          1\n",
       "Mme.           1\n",
       "Don.           1\n",
       "Jonkheer.      1\n",
       "Name: count, dtype: int64"
      ]
     },
     "execution_count": 22,
     "metadata": {},
     "output_type": "execute_result"
    }
   ],
   "source": [
    "train['title'].value_counts()"
   ]
  },
  {
   "cell_type": "code",
   "execution_count": 23,
   "id": "2cc30cac",
   "metadata": {},
   "outputs": [
    {
     "data": {
      "text/plain": [
       "False"
      ]
     },
     "execution_count": 23,
     "metadata": {},
     "output_type": "execute_result"
    }
   ],
   "source": [
    "'Lady.' in ['Mr.', 'Miss.']"
   ]
  },
  {
   "cell_type": "code",
   "execution_count": 24,
   "id": "bd4243ad",
   "metadata": {},
   "outputs": [],
   "source": [
    "def convert_title(title):\n",
    "    if title not in ['Mr.', 'Miss.', 'Mrs.', 'Master']:\n",
    "        return 'other'\n",
    "    else:\n",
    "        return title"
   ]
  },
  {
   "cell_type": "code",
   "execution_count": 25,
   "id": "d19b49b4",
   "metadata": {},
   "outputs": [],
   "source": [
    "train['title_converted'] = train['title'].apply(lambda x: convert_title(x) )"
   ]
  },
  {
   "cell_type": "markdown",
   "id": "cf655420",
   "metadata": {},
   "source": [
    "### Title Survivability"
   ]
  },
  {
   "cell_type": "code",
   "execution_count": 26,
   "id": "a09282db",
   "metadata": {},
   "outputs": [
    {
     "data": {
      "text/plain": [
       "array(['Mr.', 'Mrs.', 'Miss.', 'other'], dtype=object)"
      ]
     },
     "execution_count": 26,
     "metadata": {},
     "output_type": "execute_result"
    }
   ],
   "source": [
    "train['title_converted'].unique()"
   ]
  },
  {
   "cell_type": "code",
   "execution_count": 282,
   "id": "d95799cc",
   "metadata": {},
   "outputs": [
    {
     "data": {
      "text/plain": [
       "title_converted\n",
       "Miss.    0.697802\n",
       "Mr.      0.156673\n",
       "Mrs.     0.792000\n",
       "other    0.522388\n",
       "Name: class_survival_rate, dtype: float64"
      ]
     },
     "execution_count": 282,
     "metadata": {},
     "output_type": "execute_result"
    }
   ],
   "source": [
    "title_survivability = pd.crosstab(train['title_converted'], train['Survived'])\n",
    "title_survivability['class_survival_rate'] = title_survivability[1]/(title_survivability[1] + title_survivability[0])\n",
    "title_survivability['class_survival_rate']"
   ]
  },
  {
   "cell_type": "markdown",
   "id": "2ecf6b9e",
   "metadata": {},
   "source": [
    "### Survival Rate vs Sex"
   ]
  },
  {
   "cell_type": "code",
   "execution_count": 283,
   "id": "1006f72c",
   "metadata": {},
   "outputs": [],
   "source": [
    "train['sex_converted'] = train['Sex'].apply(lambda x: 1 if x == 'male' else 0)"
   ]
  },
  {
   "cell_type": "code",
   "execution_count": 284,
   "id": "d98b3f6d",
   "metadata": {},
   "outputs": [
    {
     "data": {
      "text/html": [
       "<div>\n",
       "<style scoped>\n",
       "    .dataframe tbody tr th:only-of-type {\n",
       "        vertical-align: middle;\n",
       "    }\n",
       "\n",
       "    .dataframe tbody tr th {\n",
       "        vertical-align: top;\n",
       "    }\n",
       "\n",
       "    .dataframe thead th {\n",
       "        text-align: right;\n",
       "    }\n",
       "</style>\n",
       "<table border=\"1\" class=\"dataframe\">\n",
       "  <thead>\n",
       "    <tr style=\"text-align: right;\">\n",
       "      <th>Survived</th>\n",
       "      <th>0</th>\n",
       "      <th>1</th>\n",
       "      <th>sex_survival_rate</th>\n",
       "    </tr>\n",
       "    <tr>\n",
       "      <th>sex_converted</th>\n",
       "      <th></th>\n",
       "      <th></th>\n",
       "      <th></th>\n",
       "    </tr>\n",
       "  </thead>\n",
       "  <tbody>\n",
       "    <tr>\n",
       "      <th>0</th>\n",
       "      <td>81</td>\n",
       "      <td>233</td>\n",
       "      <td>0.742038</td>\n",
       "    </tr>\n",
       "    <tr>\n",
       "      <th>1</th>\n",
       "      <td>468</td>\n",
       "      <td>109</td>\n",
       "      <td>0.188908</td>\n",
       "    </tr>\n",
       "  </tbody>\n",
       "</table>\n",
       "</div>"
      ],
      "text/plain": [
       "Survived         0    1  sex_survival_rate\n",
       "sex_converted                             \n",
       "0               81  233           0.742038\n",
       "1              468  109           0.188908"
      ]
     },
     "execution_count": 284,
     "metadata": {},
     "output_type": "execute_result"
    }
   ],
   "source": [
    "sex_survivability = pd.crosstab(train['sex_converted'], train['Survived'])\n",
    "sex_survivability['sex_survival_rate'] = sex_survivability[1]/(sex_survivability[1] + sex_survivability[0])\n",
    "sex_survivability"
   ]
  },
  {
   "cell_type": "markdown",
   "id": "b5d1470f",
   "metadata": {},
   "source": [
    "### Age Survivability"
   ]
  },
  {
   "cell_type": "code",
   "execution_count": 30,
   "id": "8fc87515",
   "metadata": {},
   "outputs": [
    {
     "data": {
      "image/png": "[encoded data removed]",
      "text/plain": [
       "<Figure size 640x480 with 1 Axes>"
      ]
     },
     "metadata": {},
     "output_type": "display_data"
    }
   ],
   "source": [
    "train['Age'].hist()\n",
    "plt.show()"
   ]
  },
  {
   "cell_type": "code",
   "execution_count": 285,
   "id": "b1f00520",
   "metadata": {},
   "outputs": [],
   "source": [
    "train['age_group'] = pd.cut(train['Age'], [0,18,29,45,60,1000], labels=[0, 1, 2, 3, 4])"
   ]
  },
  {
   "cell_type": "code",
   "execution_count": 286,
   "id": "ff777342",
   "metadata": {},
   "outputs": [
    {
     "data": {
      "text/html": [
       "<div>\n",
       "<style scoped>\n",
       "    .dataframe tbody tr th:only-of-type {\n",
       "        vertical-align: middle;\n",
       "    }\n",
       "\n",
       "    .dataframe tbody tr th {\n",
       "        vertical-align: top;\n",
       "    }\n",
       "\n",
       "    .dataframe thead th {\n",
       "        text-align: right;\n",
       "    }\n",
       "</style>\n",
       "<table border=\"1\" class=\"dataframe\">\n",
       "  <thead>\n",
       "    <tr style=\"text-align: right;\">\n",
       "      <th>Survived</th>\n",
       "      <th>0</th>\n",
       "      <th>1</th>\n",
       "      <th>age_group_survival_rate</th>\n",
       "    </tr>\n",
       "    <tr>\n",
       "      <th>age_group</th>\n",
       "      <th></th>\n",
       "      <th></th>\n",
       "      <th></th>\n",
       "    </tr>\n",
       "  </thead>\n",
       "  <tbody>\n",
       "    <tr>\n",
       "      <th>0</th>\n",
       "      <td>69</td>\n",
       "      <td>70</td>\n",
       "      <td>0.503597</td>\n",
       "    </tr>\n",
       "    <tr>\n",
       "      <th>1</th>\n",
       "      <td>159</td>\n",
       "      <td>86</td>\n",
       "      <td>0.351020</td>\n",
       "    </tr>\n",
       "    <tr>\n",
       "      <th>2</th>\n",
       "      <td>131</td>\n",
       "      <td>96</td>\n",
       "      <td>0.422907</td>\n",
       "    </tr>\n",
       "    <tr>\n",
       "      <th>3</th>\n",
       "      <td>48</td>\n",
       "      <td>33</td>\n",
       "      <td>0.407407</td>\n",
       "    </tr>\n",
       "    <tr>\n",
       "      <th>4</th>\n",
       "      <td>17</td>\n",
       "      <td>5</td>\n",
       "      <td>0.227273</td>\n",
       "    </tr>\n",
       "  </tbody>\n",
       "</table>\n",
       "</div>"
      ],
      "text/plain": [
       "Survived     0   1  age_group_survival_rate\n",
       "age_group                                  \n",
       "0           69  70                 0.503597\n",
       "1          159  86                 0.351020\n",
       "2          131  96                 0.422907\n",
       "3           48  33                 0.407407\n",
       "4           17   5                 0.227273"
      ]
     },
     "execution_count": 286,
     "metadata": {},
     "output_type": "execute_result"
    }
   ],
   "source": [
    "age_group_survivability = pd.crosstab(train['age_group'], train['Survived'])\n",
    "age_group_survivability['age_group_survival_rate'] = age_group_survivability[1]/(age_group_survivability[1] + age_group_survivability[0])\n",
    "age_group_survivability"
   ]
  },
  {
   "cell_type": "code",
   "execution_count": null,
   "id": "e910c0d9",
   "metadata": {},
   "outputs": [],
   "source": [
    "0-29 Survivability: 70%\n",
    "30+ survivability: 40%"
   ]
  },
  {
   "cell_type": "code",
   "execution_count": 289,
   "id": "6cf5d92c",
   "metadata": {},
   "outputs": [
    {
     "data": {
      "text/plain": [
       "70.22395833333333"
      ]
     },
     "execution_count": 289,
     "metadata": {},
     "output_type": "execute_result"
    }
   ],
   "source": [
    "70+86/(70+86+69+159)"
   ]
  },
  {
   "cell_type": "code",
   "execution_count": 35,
   "id": "0e846ff6",
   "metadata": {},
   "outputs": [
    {
     "data": {
      "text/plain": [
       "0.40606060606060607"
      ]
     },
     "execution_count": 35,
     "metadata": {},
     "output_type": "execute_result"
    }
   ],
   "source": [
    "(96 + 33 + 5)/(131 + 48 + 17 + 96 + 33 + 5)"
   ]
  },
  {
   "cell_type": "code",
   "execution_count": 36,
   "id": "58eae3d3",
   "metadata": {},
   "outputs": [
    {
     "data": {
      "image/png": "[encoded data removed]",
      "text/plain": [
       "<Figure size 640x480 with 1 Axes>"
      ]
     },
     "metadata": {},
     "output_type": "display_data"
    }
   ],
   "source": [
    "train['Parch'].hist()\n",
    "plt.show()"
   ]
  },
  {
   "cell_type": "code",
   "execution_count": 37,
   "id": "07985051",
   "metadata": {},
   "outputs": [
    {
     "data": {
      "image/png": "[encoded data removed]",
      "text/plain": [
       "<Figure size 640x480 with 1 Axes>"
      ]
     },
     "metadata": {},
     "output_type": "display_data"
    }
   ],
   "source": [
    "train['SibSp'].hist()\n",
    "plt.show()"
   ]
  },
  {
   "cell_type": "code",
   "execution_count": 258,
   "id": "945eb5a6",
   "metadata": {},
   "outputs": [],
   "source": [
    "train['family_size'] = train['Parch'] + train['SibSp'] + 1 # to include yourself"
   ]
  },
  {
   "cell_type": "code",
   "execution_count": 39,
   "id": "36a54ce2",
   "metadata": {},
   "outputs": [
    {
     "data": {
      "image/png": "[encoded data removed]",
      "text/plain": [
       "<Figure size 640x480 with 1 Axes>"
      ]
     },
     "metadata": {},
     "output_type": "display_data"
    }
   ],
   "source": [
    "train['family_size'].hist()\n",
    "plt.show()"
   ]
  },
  {
   "cell_type": "code",
   "execution_count": 291,
   "id": "3a9f8199",
   "metadata": {},
   "outputs": [
    {
     "data": {
      "text/plain": [
       "solo_traveler\n",
       "1    537\n",
       "0    354\n",
       "Name: count, dtype: int64"
      ]
     },
     "execution_count": 291,
     "metadata": {},
     "output_type": "execute_result"
    }
   ],
   "source": [
    "train['solo_traveler'] = train['family_size'].apply(lambda x: 1 if x == 1 else 0)\n",
    "train['solo_traveler'].value_counts()\n"
   ]
  },
  {
   "cell_type": "code",
   "execution_count": 292,
   "id": "9032aa2c",
   "metadata": {},
   "outputs": [
    {
     "data": {
      "text/html": [
       "<div>\n",
       "<style scoped>\n",
       "    .dataframe tbody tr th:only-of-type {\n",
       "        vertical-align: middle;\n",
       "    }\n",
       "\n",
       "    .dataframe tbody tr th {\n",
       "        vertical-align: top;\n",
       "    }\n",
       "\n",
       "    .dataframe thead th {\n",
       "        text-align: right;\n",
       "    }\n",
       "</style>\n",
       "<table border=\"1\" class=\"dataframe\">\n",
       "  <thead>\n",
       "    <tr style=\"text-align: right;\">\n",
       "      <th>Survived</th>\n",
       "      <th>0</th>\n",
       "      <th>1</th>\n",
       "      <th>solo_survival_rate</th>\n",
       "    </tr>\n",
       "    <tr>\n",
       "      <th>solo_traveler</th>\n",
       "      <th></th>\n",
       "      <th></th>\n",
       "      <th></th>\n",
       "    </tr>\n",
       "  </thead>\n",
       "  <tbody>\n",
       "    <tr>\n",
       "      <th>0</th>\n",
       "      <td>175</td>\n",
       "      <td>179</td>\n",
       "      <td>0.505650</td>\n",
       "    </tr>\n",
       "    <tr>\n",
       "      <th>1</th>\n",
       "      <td>374</td>\n",
       "      <td>163</td>\n",
       "      <td>0.303538</td>\n",
       "    </tr>\n",
       "  </tbody>\n",
       "</table>\n",
       "</div>"
      ],
      "text/plain": [
       "Survived         0    1  solo_survival_rate\n",
       "solo_traveler                              \n",
       "0              175  179            0.505650\n",
       "1              374  163            0.303538"
      ]
     },
     "execution_count": 292,
     "metadata": {},
     "output_type": "execute_result"
    }
   ],
   "source": [
    "solo_survivability = pd.crosstab(train['solo_traveler'], train['Survived'])\n",
    "solo_survivability['solo_survival_rate'] = solo_survivability[1]/(solo_survivability[1] + solo_survivability[0])\n",
    "solo_survivability"
   ]
  },
  {
   "cell_type": "markdown",
   "id": "e469d22a",
   "metadata": {},
   "source": [
    "Traveling solo, drastically increases survival rate, you don't have anyone else to look after"
   ]
  },
  {
   "cell_type": "code",
   "execution_count": 42,
   "id": "1659d95c",
   "metadata": {},
   "outputs": [
    {
     "data": {
      "text/plain": [
       "Index(['PassengerId', 'Survived', 'Pclass', 'Name', 'Sex', 'Age', 'SibSp',\n",
       "       'Parch', 'Ticket', 'Fare', 'Cabin', 'Embarked', 'is_married', 'title',\n",
       "       'kept_maiden_name', 'title_converted', 'sex_converted', 'age_group',\n",
       "       'family_size', 'solo_traveler'],\n",
       "      dtype='object')"
      ]
     },
     "execution_count": 42,
     "metadata": {},
     "output_type": "execute_result"
    }
   ],
   "source": [
    "train.columns"
   ]
  },
  {
   "cell_type": "markdown",
   "id": "59a380f6",
   "metadata": {},
   "source": [
    "Assuming ticket prefixes don't matter"
   ]
  },
  {
   "cell_type": "markdown",
   "id": "4dbb9235",
   "metadata": {},
   "source": [
    "### Fare Survivability"
   ]
  },
  {
   "cell_type": "code",
   "execution_count": 308,
   "id": "150f0f08",
   "metadata": {},
   "outputs": [
    {
     "data": {
      "image/png": "[encoded data removed]",
      "text/plain": [
       "<Figure size 640x480 with 1 Axes>"
      ]
     },
     "metadata": {},
     "output_type": "display_data"
    }
   ],
   "source": [
    "train['Fare'].hist()\n",
    "plt.show()"
   ]
  },
  {
   "cell_type": "code",
   "execution_count": 309,
   "id": "47139f3a",
   "metadata": {},
   "outputs": [
    {
     "data": {
      "text/plain": [
       "15"
      ]
     },
     "execution_count": 309,
     "metadata": {},
     "output_type": "execute_result"
    }
   ],
   "source": [
    "train[train['Fare'] == 0].shape[0]"
   ]
  },
  {
   "cell_type": "code",
   "execution_count": 310,
   "id": "8c3b2b7e",
   "metadata": {},
   "outputs": [],
   "source": [
    "train['fare_group'], fare_bins = pd.qcut(train['Fare'], 5, labels=[0, 1, 2, 3, 4], retbins=True)"
   ]
  },
  {
   "cell_type": "code",
   "execution_count": 311,
   "id": "45273b75",
   "metadata": {},
   "outputs": [
    {
     "data": {
      "text/html": [
       "<div>\n",
       "<style scoped>\n",
       "    .dataframe tbody tr th:only-of-type {\n",
       "        vertical-align: middle;\n",
       "    }\n",
       "\n",
       "    .dataframe tbody tr th {\n",
       "        vertical-align: top;\n",
       "    }\n",
       "\n",
       "    .dataframe thead th {\n",
       "        text-align: right;\n",
       "    }\n",
       "</style>\n",
       "<table border=\"1\" class=\"dataframe\">\n",
       "  <thead>\n",
       "    <tr style=\"text-align: right;\">\n",
       "      <th>Survived</th>\n",
       "      <th>0</th>\n",
       "      <th>1</th>\n",
       "      <th>fare_group_survival_rate</th>\n",
       "    </tr>\n",
       "    <tr>\n",
       "      <th>fare_group</th>\n",
       "      <th></th>\n",
       "      <th></th>\n",
       "      <th></th>\n",
       "    </tr>\n",
       "  </thead>\n",
       "  <tbody>\n",
       "    <tr>\n",
       "      <th>0</th>\n",
       "      <td>140</td>\n",
       "      <td>39</td>\n",
       "      <td>0.217877</td>\n",
       "    </tr>\n",
       "    <tr>\n",
       "      <th>1</th>\n",
       "      <td>147</td>\n",
       "      <td>37</td>\n",
       "      <td>0.201087</td>\n",
       "    </tr>\n",
       "    <tr>\n",
       "      <th>2</th>\n",
       "      <td>99</td>\n",
       "      <td>73</td>\n",
       "      <td>0.424419</td>\n",
       "    </tr>\n",
       "    <tr>\n",
       "      <th>3</th>\n",
       "      <td>100</td>\n",
       "      <td>80</td>\n",
       "      <td>0.444444</td>\n",
       "    </tr>\n",
       "    <tr>\n",
       "      <th>4</th>\n",
       "      <td>63</td>\n",
       "      <td>113</td>\n",
       "      <td>0.642045</td>\n",
       "    </tr>\n",
       "  </tbody>\n",
       "</table>\n",
       "</div>"
      ],
      "text/plain": [
       "Survived      0    1  fare_group_survival_rate\n",
       "fare_group                                    \n",
       "0           140   39                  0.217877\n",
       "1           147   37                  0.201087\n",
       "2            99   73                  0.424419\n",
       "3           100   80                  0.444444\n",
       "4            63  113                  0.642045"
      ]
     },
     "execution_count": 311,
     "metadata": {},
     "output_type": "execute_result"
    }
   ],
   "source": [
    "fare_group_survivability = pd.crosstab(train['fare_group'], train['Survived'])\n",
    "fare_group_survivability['fare_group_survival_rate'] = fare_group_survivability[1]/(fare_group_survivability[1] + fare_group_survivability[0])\n",
    "fare_group_survivability"
   ]
  },
  {
   "cell_type": "code",
   "execution_count": 312,
   "id": "9b5926f8",
   "metadata": {},
   "outputs": [
    {
     "data": {
      "text/plain": [
       "array([  0.    ,   7.8542,  10.5   ,  21.6792,  39.6875, 512.3292])"
      ]
     },
     "execution_count": 312,
     "metadata": {},
     "output_type": "execute_result"
    }
   ],
   "source": [
    "fare_bins"
   ]
  },
  {
   "cell_type": "markdown",
   "id": "541aa5cf",
   "metadata": {},
   "source": [
    "### Embarked Survivability"
   ]
  },
  {
   "cell_type": "code",
   "execution_count": 313,
   "id": "10d5ab32",
   "metadata": {},
   "outputs": [
    {
     "data": {
      "text/html": [
       "<div>\n",
       "<style scoped>\n",
       "    .dataframe tbody tr th:only-of-type {\n",
       "        vertical-align: middle;\n",
       "    }\n",
       "\n",
       "    .dataframe tbody tr th {\n",
       "        vertical-align: top;\n",
       "    }\n",
       "\n",
       "    .dataframe thead th {\n",
       "        text-align: right;\n",
       "    }\n",
       "</style>\n",
       "<table border=\"1\" class=\"dataframe\">\n",
       "  <thead>\n",
       "    <tr style=\"text-align: right;\">\n",
       "      <th>Survived</th>\n",
       "      <th>0</th>\n",
       "      <th>1</th>\n",
       "      <th>embarked_survival_rate</th>\n",
       "    </tr>\n",
       "    <tr>\n",
       "      <th>Embarked</th>\n",
       "      <th></th>\n",
       "      <th></th>\n",
       "      <th></th>\n",
       "    </tr>\n",
       "  </thead>\n",
       "  <tbody>\n",
       "    <tr>\n",
       "      <th>C</th>\n",
       "      <td>75</td>\n",
       "      <td>93</td>\n",
       "      <td>0.553571</td>\n",
       "    </tr>\n",
       "    <tr>\n",
       "      <th>Q</th>\n",
       "      <td>47</td>\n",
       "      <td>30</td>\n",
       "      <td>0.389610</td>\n",
       "    </tr>\n",
       "    <tr>\n",
       "      <th>S</th>\n",
       "      <td>427</td>\n",
       "      <td>217</td>\n",
       "      <td>0.336957</td>\n",
       "    </tr>\n",
       "  </tbody>\n",
       "</table>\n",
       "</div>"
      ],
      "text/plain": [
       "Survived    0    1  embarked_survival_rate\n",
       "Embarked                                  \n",
       "C          75   93                0.553571\n",
       "Q          47   30                0.389610\n",
       "S         427  217                0.336957"
      ]
     },
     "execution_count": 313,
     "metadata": {},
     "output_type": "execute_result"
    }
   ],
   "source": [
    "embarked_survivability = pd.crosstab(train['Embarked'], train['Survived'])\n",
    "embarked_survivability['embarked_survival_rate'] = embarked_survivability[1]/(embarked_survivability[1] + embarked_survivability[0])\n",
    "embarked_survivability"
   ]
  },
  {
   "cell_type": "code",
   "execution_count": 314,
   "id": "6fec9e62",
   "metadata": {},
   "outputs": [],
   "source": [
    "def get_cabin(row):\n",
    "    if pd.isnull(row):\n",
    "        return None\n",
    "    else:\n",
    "        return row[0]"
   ]
  },
  {
   "cell_type": "markdown",
   "id": "08bed9f5",
   "metadata": {},
   "source": [
    "Not enough information to do anything with this"
   ]
  },
  {
   "cell_type": "markdown",
   "id": "6fb0ef7a",
   "metadata": {},
   "source": [
    "### Processing Cabin"
   ]
  },
  {
   "cell_type": "code",
   "execution_count": 315,
   "id": "3aa3d206",
   "metadata": {},
   "outputs": [
    {
     "data": {
      "text/plain": [
       "cabin_prefix\n",
       "C    59\n",
       "B    47\n",
       "D    33\n",
       "E    32\n",
       "A    15\n",
       "F    13\n",
       "G     4\n",
       "T     1\n",
       "Name: count, dtype: int64"
      ]
     },
     "execution_count": 315,
     "metadata": {},
     "output_type": "execute_result"
    }
   ],
   "source": [
    "train['cabin_prefix'] = train['Cabin'].apply(lambda x: get_cabin(x))\n",
    "train['cabin_prefix'].value_counts()"
   ]
  },
  {
   "cell_type": "code",
   "execution_count": 316,
   "id": "ed1dd0de",
   "metadata": {},
   "outputs": [
    {
     "data": {
      "text/plain": [
       "cabin_prefix\n",
       "G     13.581250\n",
       "F     18.696792\n",
       "T     35.500000\n",
       "A     39.623887\n",
       "E     46.026694\n",
       "D     57.244576\n",
       "C    100.151341\n",
       "B    113.505764\n",
       "Name: Fare, dtype: float64"
      ]
     },
     "execution_count": 316,
     "metadata": {},
     "output_type": "execute_result"
    }
   ],
   "source": [
    "train.groupby('cabin_prefix')['Fare'].mean().sort_values()"
   ]
  },
  {
   "cell_type": "code",
   "execution_count": 317,
   "id": "fb3bf3f1",
   "metadata": {},
   "outputs": [
    {
     "data": {
      "text/plain": [
       "Cabin\n",
       "B96 B98        4\n",
       "C23 C25 C27    4\n",
       "G6             4\n",
       "F2             3\n",
       "E101           3\n",
       "              ..\n",
       "C32            1\n",
       "C99            1\n",
       "C91            1\n",
       "B94            1\n",
       "C148           1\n",
       "Name: count, Length: 147, dtype: int64"
      ]
     },
     "execution_count": 317,
     "metadata": {},
     "output_type": "execute_result"
    }
   ],
   "source": [
    "train['Cabin'].value_counts()"
   ]
  },
  {
   "cell_type": "markdown",
   "id": "0eecd1b8",
   "metadata": {},
   "source": [
    "### Processing Ticket"
   ]
  },
  {
   "cell_type": "markdown",
   "id": "b30d082d",
   "metadata": {},
   "source": [
    "Getting ticket prefix"
   ]
  },
  {
   "cell_type": "code",
   "execution_count": 322,
   "id": "fc848f16",
   "metadata": {},
   "outputs": [],
   "source": [
    "train['ticket_prefix'] = train['Ticket'].apply(lambda x: x.split(' ')[0] if ' ' in x else 'NONE')"
   ]
  },
  {
   "cell_type": "code",
   "execution_count": 318,
   "id": "aa8b6107",
   "metadata": {},
   "outputs": [],
   "source": [
    "def get_ticket_info(row):\n",
    "    has_code = False\n",
    "    for i in row:\n",
    "        if i.isalpha():\n",
    "            has_code = True\n",
    "    return has_code\n",
    "        "
   ]
  },
  {
   "cell_type": "code",
   "execution_count": 323,
   "id": "a372add6",
   "metadata": {},
   "outputs": [],
   "source": [
    "train['ticket_code'] = train['Ticket'].apply(lambda row: get_ticket_info(row))"
   ]
  },
  {
   "cell_type": "code",
   "execution_count": 326,
   "id": "7888e591",
   "metadata": {},
   "outputs": [
    {
     "data": {
      "text/plain": [
       "ticket_code\n",
       "False    661\n",
       "True     230\n",
       "Name: count, dtype: int64"
      ]
     },
     "execution_count": 326,
     "metadata": {},
     "output_type": "execute_result"
    }
   ],
   "source": [
    "train['ticket_code'].value_counts()"
   ]
  },
  {
   "cell_type": "markdown",
   "id": "14628822",
   "metadata": {},
   "source": [
    "All ticket prefixes"
   ]
  },
  {
   "cell_type": "code",
   "execution_count": 327,
   "id": "ba8bebf0",
   "metadata": {},
   "outputs": [
    {
     "data": {
      "text/plain": [
       "array(['A/5', 'PC', 'STON/O2.', 'PP', 'A/5.', 'C.A.', 'A./5.', 'SC/Paris',\n",
       "       'S.C./A.4.', 'A/4.', 'CA', 'S.P.', 'S.O.C.', 'SO/C', 'W./C.',\n",
       "       'SOTON/OQ', 'W.E.P.', 'STON/O', 'A4.', 'C', 'SOTON/O.Q.',\n",
       "       'SC/PARIS', 'S.O.P.', 'A.5.', 'Fa', 'CA.', 'LINE', 'F.C.C.', 'W/C',\n",
       "       'SW/PP', 'SCO/W', 'P/PP', 'SC', 'SC/AH', 'A/S', 'A/4', 'WE/P',\n",
       "       'S.W./PP', 'S.O./P.P.', 'F.C.', 'SOTON/O2', 'S.C./PARIS',\n",
       "       'C.A./SOTON'], dtype=object)"
      ]
     },
     "execution_count": 327,
     "metadata": {},
     "output_type": "execute_result"
    }
   ],
   "source": [
    "train[train['ticket_code'] == True]['ticket_prefix'].unique()"
   ]
  },
  {
   "cell_type": "markdown",
   "id": "6551be98",
   "metadata": {},
   "source": [
    "There are multiple passengers with the same ticket number"
   ]
  },
  {
   "cell_type": "code",
   "execution_count": 328,
   "id": "765af5cd",
   "metadata": {},
   "outputs": [
    {
     "data": {
      "text/plain": [
       "Ticket\n",
       "1601       7\n",
       "347082     7\n",
       "3101295    6\n",
       "347088     6\n",
       "382652     5\n",
       "          ..\n",
       "3101267    1\n",
       "11765      1\n",
       "14313      1\n",
       "2626       1\n",
       "370376     1\n",
       "Name: count, Length: 514, dtype: int64"
      ]
     },
     "execution_count": 328,
     "metadata": {},
     "output_type": "execute_result"
    }
   ],
   "source": [
    "train[train['ticket_code'] == False]['Ticket'].value_counts()"
   ]
  },
  {
   "cell_type": "markdown",
   "id": "d5a24cb0",
   "metadata": {},
   "source": [
    "Really isn't too big of a difference between ticket prefix and Fare"
   ]
  },
  {
   "cell_type": "code",
   "execution_count": 329,
   "id": "1387c6fa",
   "metadata": {},
   "outputs": [
    {
     "data": {
      "text/plain": [
       "ticket_prefix\n",
       "LINE            0.000000\n",
       "SOTON/O.Q.      7.300000\n",
       "Fa              7.312500\n",
       "SOTON/O2        7.525000\n",
       "A/5             7.650000\n",
       "A/4.            7.700000\n",
       "STON/O          7.725000\n",
       "SOTON/OQ        7.792857\n",
       "S.C./A.4.       8.050000\n",
       "A./5.           8.050000\n",
       "A.5.            8.050000\n",
       "A4.             8.050000\n",
       "A/S             8.050000\n",
       "S.P.            8.158300\n",
       "S.O./P.P.       9.516667\n",
       "C              10.123340\n",
       "SO/C           10.500000\n",
       "S.W./PP        10.500000\n",
       "W/C            10.500000\n",
       "C.A./SOTON     10.500000\n",
       "SW/PP          10.500000\n",
       "STON/O2.       10.566667\n",
       "SC             12.000000\n",
       "A/5.           12.147614\n",
       "SCO/W          12.275000\n",
       "S.O.P.         12.525000\n",
       "PP             14.250000\n",
       "SC/PARIS       17.107480\n",
       "C.A.           18.327778\n",
       "A/4            18.783333\n",
       "SC/AH          21.930567\n",
       "F.C.C.         22.050000\n",
       "W./C.          23.661111\n",
       "P/PP           24.000000\n",
       "SC/Paris       34.403150\n",
       "S.C./PARIS     37.004200\n",
       "CA             46.900000\n",
       "F.C.           52.000000\n",
       "W.E.P.         61.175000\n",
       "CA.            61.800000\n",
       "WE/P           71.000000\n",
       "S.O.C.         73.500000\n",
       "PC            122.080483\n",
       "Name: Fare, dtype: float64"
      ]
     },
     "execution_count": 329,
     "metadata": {},
     "output_type": "execute_result"
    }
   ],
   "source": [
    "ticket_code_present = train[train['ticket_code'] == True]\n",
    "ticket_code_present.groupby('ticket_prefix')['Fare'].mean().sort_values()"
   ]
  },
  {
   "cell_type": "code",
   "execution_count": 71,
   "id": "3b7bc39e",
   "metadata": {},
   "outputs": [
    {
     "data": {
      "text/plain": [
       "ticket_prefix\n",
       "PC            60\n",
       "C.A.          27\n",
       "STON/O        12\n",
       "A/5           10\n",
       "W./C.          9\n",
       "CA.            8\n",
       "SOTON/O.Q.     8\n",
       "A/5.           7\n",
       "SOTON/OQ       7\n",
       "STON/O2.       6\n",
       "CA             6\n",
       "F.C.C.         5\n",
       "C              5\n",
       "SC/PARIS       5\n",
       "S.O.C.         5\n",
       "SC/Paris       4\n",
       "LINE           4\n",
       "A/4            3\n",
       "PP             3\n",
       "A/4.           3\n",
       "S.O./P.P.      3\n",
       "SC/AH          3\n",
       "A.5.           2\n",
       "A./5.          2\n",
       "P/PP           2\n",
       "WE/P           2\n",
       "SOTON/O2       2\n",
       "S.C./PARIS     2\n",
       "S.W./PP        1\n",
       "F.C.           1\n",
       "A/S            1\n",
       "SO/C           1\n",
       "W/C            1\n",
       "SC             1\n",
       "SCO/W          1\n",
       "SW/PP          1\n",
       "Fa             1\n",
       "S.O.P.         1\n",
       "S.C./A.4.      1\n",
       "A4.            1\n",
       "S.P.           1\n",
       "W.E.P.         1\n",
       "C.A./SOTON     1\n",
       "Name: count, dtype: int64"
      ]
     },
     "execution_count": 71,
     "metadata": {},
     "output_type": "execute_result"
    }
   ],
   "source": [
    "ticket_code_present['ticket_prefix'].value_counts()"
   ]
  },
  {
   "cell_type": "code",
   "execution_count": 72,
   "id": "7a785e38",
   "metadata": {},
   "outputs": [
    {
     "data": {
      "text/plain": [
       "count     60.000000\n",
       "mean     122.080483\n",
       "std      114.189525\n",
       "min       25.925000\n",
       "25%       49.504200\n",
       "50%       79.200000\n",
       "75%      148.256225\n",
       "max      512.329200\n",
       "Name: Fare, dtype: float64"
      ]
     },
     "execution_count": 72,
     "metadata": {},
     "output_type": "execute_result"
    }
   ],
   "source": [
    "ticket_code_present[ticket_code_present['ticket_prefix'] == 'PC']['Fare'].describe()"
   ]
  },
  {
   "cell_type": "code",
   "execution_count": 73,
   "id": "6004508a",
   "metadata": {},
   "outputs": [
    {
     "data": {
      "text/plain": [
       "0            A/5 21171\n",
       "1             PC 17599\n",
       "2     STON/O2. 3101282\n",
       "10             PP 9549\n",
       "12           A/5. 2151\n",
       "30            PC 17601\n",
       "31            PC 17569\n",
       "33          C.A. 24579\n",
       "34            PC 17604\n",
       "37          A./5. 2152\n",
       "43       SC/Paris 2123\n",
       "45     S.C./A.4. 23567\n",
       "51          A/4. 39886\n",
       "52            PC 17572\n",
       "56          C.A. 31026\n",
       "58          C.A. 34651\n",
       "59             CA 2144\n",
       "64            PC 17605\n",
       "66          C.A. 29395\n",
       "67           S.P. 3464\n",
       "Name: Ticket, dtype: object"
      ]
     },
     "execution_count": 73,
     "metadata": {},
     "output_type": "execute_result"
    }
   ],
   "source": [
    "ticket_code_present['Ticket'].head(20)"
   ]
  },
  {
   "cell_type": "code",
   "execution_count": 74,
   "id": "8946c786",
   "metadata": {},
   "outputs": [
    {
     "data": {
      "text/plain": [
       "'21'"
      ]
     },
     "execution_count": 74,
     "metadata": {},
     "output_type": "execute_result"
    }
   ],
   "source": [
    "x = 'A/5 21171'\n",
    "x.split()[1][0:2]"
   ]
  },
  {
   "cell_type": "code",
   "execution_count": 75,
   "id": "227a2671",
   "metadata": {},
   "outputs": [],
   "source": [
    "def get_ticket_sub_prefix(ticket):\n",
    "    if ' ' in ticket:\n",
    "        return ticket.split(' ')[1][0:2]\n",
    "    else:\n",
    "        return ticket\n"
   ]
  },
  {
   "cell_type": "code",
   "execution_count": 76,
   "id": "8d430d05",
   "metadata": {},
   "outputs": [
    {
     "name": "stderr",
     "output_type": "stream",
     "text": [
      "C:\\Users\\Nikhil\\AppData\\Local\\Temp\\ipykernel_32184\\326430396.py:1: SettingWithCopyWarning: \n",
      "A value is trying to be set on a copy of a slice from a DataFrame.\n",
      "Try using .loc[row_indexer,col_indexer] = value instead\n",
      "\n",
      "See the caveats in the documentation: https://pandas.pydata.org/pandas-docs/stable/user_guide/indexing.html#returning-a-view-versus-a-copy\n",
      "  ticket_code_present['ticket_sub_prefix'] = ticket_code_present['Ticket'].apply(lambda x: get_ticket_sub_prefix(x))\n"
     ]
    }
   ],
   "source": [
    "ticket_code_present['ticket_sub_prefix'] = ticket_code_present['Ticket'].apply(lambda x: get_ticket_sub_prefix(x))"
   ]
  },
  {
   "cell_type": "code",
   "execution_count": 77,
   "id": "2d698c79",
   "metadata": {},
   "outputs": [
    {
     "data": {
      "text/plain": [
       "ticket_sub_prefix\n",
       "17      63\n",
       "21      21\n",
       "31      20\n",
       "2.      12\n",
       "23      11\n",
       "14       9\n",
       "39       9\n",
       "33       9\n",
       "34       7\n",
       "66       7\n",
       "13       6\n",
       "29       4\n",
       "LINE     4\n",
       "57       3\n",
       "24       3\n",
       "20       3\n",
       "26       3\n",
       "35       3\n",
       "75       3\n",
       "70       3\n",
       "3        2\n",
       "48       2\n",
       "28       2\n",
       "18       2\n",
       "37       2\n",
       "95       2\n",
       "11       2\n",
       "10       1\n",
       "15       1\n",
       "30       1\n",
       "43       1\n",
       "Ba       1\n",
       "45       1\n",
       "62       1\n",
       "40       1\n",
       "85       1\n",
       "32       1\n",
       "12       1\n",
       "54       1\n",
       "55       1\n",
       "Name: count, dtype: int64"
      ]
     },
     "execution_count": 77,
     "metadata": {},
     "output_type": "execute_result"
    }
   ],
   "source": [
    "ticket_code_present['ticket_sub_prefix'].value_counts()"
   ]
  },
  {
   "cell_type": "code",
   "execution_count": 78,
   "id": "72759066",
   "metadata": {},
   "outputs": [
    {
     "data": {
      "text/plain": [
       "1      PC 17599\n",
       "30     PC 17601\n",
       "31     PC 17569\n",
       "34     PC 17604\n",
       "52     PC 17572\n",
       "64     PC 17605\n",
       "96     PC 17754\n",
       "97     PC 17759\n",
       "118    PC 17558\n",
       "139    PC 17593\n",
       "155    PC 17597\n",
       "168    PC 17318\n",
       "177    PC 17595\n",
       "194    PC 17610\n",
       "195    PC 17569\n",
       "256    PC 17585\n",
       "258    PC 17755\n",
       "268    PC 17582\n",
       "269    PC 17760\n",
       "273    PC 17596\n",
       "295    PC 17612\n",
       "299    PC 17558\n",
       "307    PC 17758\n",
       "309    PC 17485\n",
       "311    PC 17608\n",
       "325    PC 17760\n",
       "332    PC 17582\n",
       "334    PC 17611\n",
       "369    PC 17477\n",
       "373    PC 17760\n",
       "375    PC 17604\n",
       "380    PC 17757\n",
       "493    PC 17609\n",
       "505    PC 17758\n",
       "512    PC 17473\n",
       "513    PC 17603\n",
       "527    PC 17483\n",
       "537    PC 17761\n",
       "544    PC 17761\n",
       "557    PC 17757\n",
       "572    PC 17474\n",
       "599    PC 17485\n",
       "609    PC 17582\n",
       "641    PC 17477\n",
       "645    PC 17572\n",
       "660    PC 17611\n",
       "679    PC 17755\n",
       "681    PC 17572\n",
       "700    PC 17757\n",
       "701    PC 17475\n",
       "Name: Ticket, dtype: object"
      ]
     },
     "execution_count": 78,
     "metadata": {},
     "output_type": "execute_result"
    }
   ],
   "source": [
    "ticket_code_present[ticket_code_present['ticket_prefix'] == 'PC']['Ticket'].head(50)"
   ]
  },
  {
   "cell_type": "code",
   "execution_count": 79,
   "id": "573d613b",
   "metadata": {},
   "outputs": [
    {
     "data": {
      "text/plain": [
       "Index(['PassengerId', 'Survived', 'Pclass', 'Name', 'Sex', 'Age', 'SibSp',\n",
       "       'Parch', 'Ticket', 'Fare', 'Cabin', 'Embarked', 'is_married', 'title',\n",
       "       'kept_maiden_name', 'title_converted', 'sex_converted', 'age_group',\n",
       "       'family_size', 'solo_traveler', 'ticket_prefix', 'fare_group',\n",
       "       'cabin_prefix', 'ticket_length', 'ticket_code', 'ticket_sub_prefix'],\n",
       "      dtype='object')"
      ]
     },
     "execution_count": 79,
     "metadata": {},
     "output_type": "execute_result"
    }
   ],
   "source": [
    "ticket_code_present.columns"
   ]
  },
  {
   "cell_type": "code",
   "execution_count": 80,
   "id": "6886038d",
   "metadata": {},
   "outputs": [
    {
     "data": {
      "text/plain": [
       "ticket_prefix\n",
       "PC            60\n",
       "C.A.          27\n",
       "STON/O        12\n",
       "A/5           10\n",
       "W./C.          9\n",
       "CA.            8\n",
       "SOTON/O.Q.     8\n",
       "A/5.           7\n",
       "SOTON/OQ       7\n",
       "STON/O2.       6\n",
       "CA             6\n",
       "F.C.C.         5\n",
       "C              5\n",
       "SC/PARIS       5\n",
       "S.O.C.         5\n",
       "SC/Paris       4\n",
       "LINE           4\n",
       "A/4            3\n",
       "PP             3\n",
       "A/4.           3\n",
       "S.O./P.P.      3\n",
       "SC/AH          3\n",
       "A.5.           2\n",
       "A./5.          2\n",
       "P/PP           2\n",
       "WE/P           2\n",
       "SOTON/O2       2\n",
       "S.C./PARIS     2\n",
       "S.W./PP        1\n",
       "F.C.           1\n",
       "A/S            1\n",
       "SO/C           1\n",
       "W/C            1\n",
       "SC             1\n",
       "SCO/W          1\n",
       "SW/PP          1\n",
       "Fa             1\n",
       "S.O.P.         1\n",
       "S.C./A.4.      1\n",
       "A4.            1\n",
       "S.P.           1\n",
       "W.E.P.         1\n",
       "C.A./SOTON     1\n",
       "Name: count, dtype: int64"
      ]
     },
     "execution_count": 80,
     "metadata": {},
     "output_type": "execute_result"
    }
   ],
   "source": [
    "ticket_code_present['ticket_prefix'].value_counts()"
   ]
  },
  {
   "cell_type": "code",
   "execution_count": 81,
   "id": "e79679c1",
   "metadata": {},
   "outputs": [
    {
     "name": "stdout",
     "output_type": "stream",
     "text": [
      "A/5 has more than 1\n",
      "PP has more than 1\n",
      "A/5. has more than 1\n",
      "C.A. has more than 1\n",
      "A./5. has more than 1\n",
      "A/4. has more than 1\n",
      "W./C. has more than 1\n",
      "SOTON/OQ has more than 1\n",
      "C has more than 1\n",
      "SOTON/O.Q. has more than 1\n",
      "A.5. has more than 1\n",
      "SC/AH has more than 1\n",
      "A/4 has more than 1\n",
      "S.O./P.P. has more than 1\n"
     ]
    }
   ],
   "source": [
    "for pre in ticket_code_present['ticket_prefix'].unique():\n",
    "    if len(ticket_code_present[ticket_code_present['ticket_prefix'] == pre]['ticket_sub_prefix'].unique()) > 1:\n",
    "        print(f'{pre} has more than 1')\n",
    "    "
   ]
  },
  {
   "cell_type": "code",
   "execution_count": 82,
   "id": "1693da47",
   "metadata": {},
   "outputs": [
    {
     "data": {
      "text/plain": [
       "array(['21', '35', '24', '28', '39'], dtype=object)"
      ]
     },
     "execution_count": 82,
     "metadata": {},
     "output_type": "execute_result"
    }
   ],
   "source": [
    "ticket_code_present[ticket_code_present['ticket_prefix'] == 'A/5']['ticket_sub_prefix'].unique()"
   ]
  },
  {
   "cell_type": "code",
   "execution_count": 83,
   "id": "c4781235",
   "metadata": {},
   "outputs": [
    {
     "data": {
      "text/plain": [
       "array(['21', '33', '85', '10', '13'], dtype=object)"
      ]
     },
     "execution_count": 83,
     "metadata": {},
     "output_type": "execute_result"
    }
   ],
   "source": [
    "ticket_code_present[ticket_code_present['ticket_prefix'] == 'A/5.']['ticket_sub_prefix'].unique()"
   ]
  },
  {
   "cell_type": "code",
   "execution_count": 84,
   "id": "84bb7fb3",
   "metadata": {},
   "outputs": [
    {
     "data": {
      "text/plain": [
       "33     C.A. 24579\n",
       "56     C.A. 31026\n",
       "58     C.A. 34651\n",
       "66     C.A. 29395\n",
       "70     C.A. 33111\n",
       "93      C.A. 2315\n",
       "134    C.A. 29178\n",
       "145    C.A. 33112\n",
       "161    C.A. 33595\n",
       "234    C.A. 29566\n",
       "Name: Ticket, dtype: object"
      ]
     },
     "execution_count": 84,
     "metadata": {},
     "output_type": "execute_result"
    }
   ],
   "source": [
    "ticket_code_present[ticket_code_present['ticket_prefix'] == 'C.A.']['Ticket'].head(10)"
   ]
  },
  {
   "cell_type": "code",
   "execution_count": 85,
   "id": "81cc6394",
   "metadata": {},
   "outputs": [
    {
     "data": {
      "text/plain": [
       "Index(['PassengerId', 'Survived', 'Pclass', 'Name', 'Sex', 'Age', 'SibSp',\n",
       "       'Parch', 'Ticket', 'Fare', 'Cabin', 'Embarked', 'is_married', 'title',\n",
       "       'kept_maiden_name', 'title_converted', 'sex_converted', 'age_group',\n",
       "       'family_size', 'solo_traveler', 'ticket_prefix', 'fare_group',\n",
       "       'cabin_prefix', 'ticket_length', 'ticket_code'],\n",
       "      dtype='object')"
      ]
     },
     "execution_count": 85,
     "metadata": {},
     "output_type": "execute_result"
    }
   ],
   "source": [
    "train.columns"
   ]
  },
  {
   "cell_type": "code",
   "execution_count": 86,
   "id": "7fa7ec6e",
   "metadata": {},
   "outputs": [
    {
     "data": {
      "text/plain": [
       "array(['A/5', 'PC', 'STON/O2.', 'PP', 'A/5.', 'C.A.', 'A./5.', 'SC/Paris',\n",
       "       'S.C./A.4.', 'A/4.', 'CA', 'S.P.', 'S.O.C.', 'SO/C', 'W./C.',\n",
       "       'SOTON/OQ', 'W.E.P.', 'STON/O', 'A4.', 'C', 'SOTON/O.Q.',\n",
       "       'SC/PARIS', 'S.O.P.', 'A.5.', 'Fa', 'CA.', 'LINE', 'F.C.C.', 'W/C',\n",
       "       'SW/PP', 'SCO/W', 'P/PP', 'SC', 'SC/AH', 'A/S', 'A/4', 'WE/P',\n",
       "       'S.W./PP', 'S.O./P.P.', 'F.C.', 'SOTON/O2', 'S.C./PARIS',\n",
       "       'C.A./SOTON'], dtype=object)"
      ]
     },
     "execution_count": 86,
     "metadata": {},
     "output_type": "execute_result"
    }
   ],
   "source": [
    "#train['ticket_code'].unique()\n",
    "train[train['ticket_code'] == True]['ticket_prefix'].unique()"
   ]
  },
  {
   "cell_type": "markdown",
   "id": "bcb5463b",
   "metadata": {},
   "source": [
    "replace . and / with nothing"
   ]
  },
  {
   "cell_type": "code",
   "execution_count": 87,
   "id": "21e18b1a",
   "metadata": {},
   "outputs": [
    {
     "data": {
      "text/plain": [
       "ticket_prefix\n",
       "PC            60\n",
       "C.A.          27\n",
       "STON/O        12\n",
       "A/5           10\n",
       "W./C.          9\n",
       "CA.            8\n",
       "SOTON/O.Q.     8\n",
       "A/5.           7\n",
       "SOTON/OQ       7\n",
       "STON/O2.       6\n",
       "CA             6\n",
       "F.C.C.         5\n",
       "C              5\n",
       "SC/PARIS       5\n",
       "S.O.C.         5\n",
       "SC/Paris       4\n",
       "LINE           4\n",
       "A/4            3\n",
       "PP             3\n",
       "A/4.           3\n",
       "S.O./P.P.      3\n",
       "SC/AH          3\n",
       "A.5.           2\n",
       "A./5.          2\n",
       "P/PP           2\n",
       "WE/P           2\n",
       "SOTON/O2       2\n",
       "S.C./PARIS     2\n",
       "S.W./PP        1\n",
       "F.C.           1\n",
       "A/S            1\n",
       "SO/C           1\n",
       "W/C            1\n",
       "SC             1\n",
       "SCO/W          1\n",
       "SW/PP          1\n",
       "Fa             1\n",
       "S.O.P.         1\n",
       "S.C./A.4.      1\n",
       "A4.            1\n",
       "S.P.           1\n",
       "W.E.P.         1\n",
       "C.A./SOTON     1\n",
       "Name: count, dtype: int64"
      ]
     },
     "execution_count": 87,
     "metadata": {},
     "output_type": "execute_result"
    }
   ],
   "source": [
    "train[train['ticket_code'] == True]['ticket_prefix'].value_counts()"
   ]
  },
  {
   "cell_type": "code",
   "execution_count": 88,
   "id": "4e6a9d59",
   "metadata": {},
   "outputs": [
    {
     "data": {
      "text/plain": [
       "Ticket\n",
       "347082      7\n",
       "CA. 2343    7\n",
       "1601        7\n",
       "3101295     6\n",
       "CA 2144     6\n",
       "           ..\n",
       "9234        1\n",
       "19988       1\n",
       "2693        1\n",
       "PC 17612    1\n",
       "370376      1\n",
       "Name: count, Length: 681, dtype: int64"
      ]
     },
     "execution_count": 88,
     "metadata": {},
     "output_type": "execute_result"
    }
   ],
   "source": [
    "train['Ticket'].value_counts()"
   ]
  },
  {
   "cell_type": "code",
   "execution_count": 89,
   "id": "44d5fc70",
   "metadata": {},
   "outputs": [
    {
     "data": {
      "text/plain": [
       "0             A/5 21171\n",
       "1              PC 17599\n",
       "2      STON/O2. 3101282\n",
       "10              PP 9549\n",
       "12            A/5. 2151\n",
       "             ...       \n",
       "867            PC 17590\n",
       "874           P/PP 3381\n",
       "883    C.A./SOTON 34068\n",
       "884     SOTON/OQ 392076\n",
       "888          W./C. 6607\n",
       "Name: Ticket, Length: 230, dtype: object"
      ]
     },
     "execution_count": 89,
     "metadata": {},
     "output_type": "execute_result"
    }
   ],
   "source": [
    "train[train['ticket_code'] == True]['Ticket']"
   ]
  },
  {
   "cell_type": "code",
   "execution_count": 90,
   "id": "42068a3b",
   "metadata": {},
   "outputs": [],
   "source": [
    "train['ticket_prefix_cleaned'] = train.apply(lambda row: row['ticket_prefix']\\\n",
    "                                      .replace('.', '').replace('/', '') if row['ticket_code'] else row['ticket_prefix'], axis='columns')"
   ]
  },
  {
   "cell_type": "code",
   "execution_count": 91,
   "id": "c18b4122",
   "metadata": {},
   "outputs": [
    {
     "data": {
      "text/html": [
       "<div>\n",
       "<style scoped>\n",
       "    .dataframe tbody tr th:only-of-type {\n",
       "        vertical-align: middle;\n",
       "    }\n",
       "\n",
       "    .dataframe tbody tr th {\n",
       "        vertical-align: top;\n",
       "    }\n",
       "\n",
       "    .dataframe thead th {\n",
       "        text-align: right;\n",
       "    }\n",
       "</style>\n",
       "<table border=\"1\" class=\"dataframe\">\n",
       "  <thead>\n",
       "    <tr style=\"text-align: right;\">\n",
       "      <th></th>\n",
       "      <th>PassengerId</th>\n",
       "      <th>Pclass</th>\n",
       "      <th>Name</th>\n",
       "      <th>Age</th>\n",
       "      <th>family_size</th>\n",
       "      <th>Fare</th>\n",
       "      <th>Embarked</th>\n",
       "    </tr>\n",
       "  </thead>\n",
       "  <tbody>\n",
       "    <tr>\n",
       "      <th>179</th>\n",
       "      <td>180</td>\n",
       "      <td>3</td>\n",
       "      <td>Leonard, Mr. Lionel</td>\n",
       "      <td>36.0</td>\n",
       "      <td>0</td>\n",
       "      <td>0.0</td>\n",
       "      <td>S</td>\n",
       "    </tr>\n",
       "    <tr>\n",
       "      <th>271</th>\n",
       "      <td>272</td>\n",
       "      <td>3</td>\n",
       "      <td>Tornquist, Mr. William Henry</td>\n",
       "      <td>25.0</td>\n",
       "      <td>0</td>\n",
       "      <td>0.0</td>\n",
       "      <td>S</td>\n",
       "    </tr>\n",
       "    <tr>\n",
       "      <th>302</th>\n",
       "      <td>303</td>\n",
       "      <td>3</td>\n",
       "      <td>Johnson, Mr. William Cahoone Jr</td>\n",
       "      <td>19.0</td>\n",
       "      <td>0</td>\n",
       "      <td>0.0</td>\n",
       "      <td>S</td>\n",
       "    </tr>\n",
       "    <tr>\n",
       "      <th>597</th>\n",
       "      <td>598</td>\n",
       "      <td>3</td>\n",
       "      <td>Johnson, Mr. Alfred</td>\n",
       "      <td>49.0</td>\n",
       "      <td>0</td>\n",
       "      <td>0.0</td>\n",
       "      <td>S</td>\n",
       "    </tr>\n",
       "  </tbody>\n",
       "</table>\n",
       "</div>"
      ],
      "text/plain": [
       "     PassengerId  Pclass                             Name   Age  family_size   \n",
       "179          180       3              Leonard, Mr. Lionel  36.0            0  \\\n",
       "271          272       3     Tornquist, Mr. William Henry  25.0            0   \n",
       "302          303       3  Johnson, Mr. William Cahoone Jr  19.0            0   \n",
       "597          598       3              Johnson, Mr. Alfred  49.0            0   \n",
       "\n",
       "     Fare Embarked  \n",
       "179   0.0        S  \n",
       "271   0.0        S  \n",
       "302   0.0        S  \n",
       "597   0.0        S  "
      ]
     },
     "execution_count": 91,
     "metadata": {},
     "output_type": "execute_result"
    }
   ],
   "source": [
    "train[train['Ticket'] == 'LINE'][['PassengerId', 'Pclass', 'Name', 'Age', 'family_size', 'Fare', 'Embarked']]"
   ]
  },
  {
   "cell_type": "code",
   "execution_count": 92,
   "id": "80d5f759",
   "metadata": {},
   "outputs": [
    {
     "data": {
      "text/html": [
       "<div>\n",
       "<style scoped>\n",
       "    .dataframe tbody tr th:only-of-type {\n",
       "        vertical-align: middle;\n",
       "    }\n",
       "\n",
       "    .dataframe tbody tr th {\n",
       "        vertical-align: top;\n",
       "    }\n",
       "\n",
       "    .dataframe thead th {\n",
       "        text-align: right;\n",
       "    }\n",
       "</style>\n",
       "<table border=\"1\" class=\"dataframe\">\n",
       "  <thead>\n",
       "    <tr style=\"text-align: right;\">\n",
       "      <th></th>\n",
       "      <th>PassengerId</th>\n",
       "      <th>Pclass</th>\n",
       "      <th>Name</th>\n",
       "      <th>Age</th>\n",
       "      <th>family_size</th>\n",
       "      <th>Fare</th>\n",
       "      <th>Embarked</th>\n",
       "    </tr>\n",
       "  </thead>\n",
       "  <tbody>\n",
       "    <tr>\n",
       "      <th>179</th>\n",
       "      <td>180</td>\n",
       "      <td>3</td>\n",
       "      <td>Leonard, Mr. Lionel</td>\n",
       "      <td>36.0</td>\n",
       "      <td>0</td>\n",
       "      <td>0.0</td>\n",
       "      <td>S</td>\n",
       "    </tr>\n",
       "    <tr>\n",
       "      <th>263</th>\n",
       "      <td>264</td>\n",
       "      <td>1</td>\n",
       "      <td>Harrison, Mr. William</td>\n",
       "      <td>40.0</td>\n",
       "      <td>0</td>\n",
       "      <td>0.0</td>\n",
       "      <td>S</td>\n",
       "    </tr>\n",
       "    <tr>\n",
       "      <th>271</th>\n",
       "      <td>272</td>\n",
       "      <td>3</td>\n",
       "      <td>Tornquist, Mr. William Henry</td>\n",
       "      <td>25.0</td>\n",
       "      <td>0</td>\n",
       "      <td>0.0</td>\n",
       "      <td>S</td>\n",
       "    </tr>\n",
       "    <tr>\n",
       "      <th>277</th>\n",
       "      <td>278</td>\n",
       "      <td>2</td>\n",
       "      <td>Parkes, Mr. Francis \"Frank\"</td>\n",
       "      <td>NaN</td>\n",
       "      <td>0</td>\n",
       "      <td>0.0</td>\n",
       "      <td>S</td>\n",
       "    </tr>\n",
       "    <tr>\n",
       "      <th>302</th>\n",
       "      <td>303</td>\n",
       "      <td>3</td>\n",
       "      <td>Johnson, Mr. William Cahoone Jr</td>\n",
       "      <td>19.0</td>\n",
       "      <td>0</td>\n",
       "      <td>0.0</td>\n",
       "      <td>S</td>\n",
       "    </tr>\n",
       "    <tr>\n",
       "      <th>413</th>\n",
       "      <td>414</td>\n",
       "      <td>2</td>\n",
       "      <td>Cunningham, Mr. Alfred Fleming</td>\n",
       "      <td>NaN</td>\n",
       "      <td>0</td>\n",
       "      <td>0.0</td>\n",
       "      <td>S</td>\n",
       "    </tr>\n",
       "    <tr>\n",
       "      <th>466</th>\n",
       "      <td>467</td>\n",
       "      <td>2</td>\n",
       "      <td>Campbell, Mr. William</td>\n",
       "      <td>NaN</td>\n",
       "      <td>0</td>\n",
       "      <td>0.0</td>\n",
       "      <td>S</td>\n",
       "    </tr>\n",
       "    <tr>\n",
       "      <th>481</th>\n",
       "      <td>482</td>\n",
       "      <td>2</td>\n",
       "      <td>Frost, Mr. Anthony Wood \"Archie\"</td>\n",
       "      <td>NaN</td>\n",
       "      <td>0</td>\n",
       "      <td>0.0</td>\n",
       "      <td>S</td>\n",
       "    </tr>\n",
       "    <tr>\n",
       "      <th>597</th>\n",
       "      <td>598</td>\n",
       "      <td>3</td>\n",
       "      <td>Johnson, Mr. Alfred</td>\n",
       "      <td>49.0</td>\n",
       "      <td>0</td>\n",
       "      <td>0.0</td>\n",
       "      <td>S</td>\n",
       "    </tr>\n",
       "    <tr>\n",
       "      <th>633</th>\n",
       "      <td>634</td>\n",
       "      <td>1</td>\n",
       "      <td>Parr, Mr. William Henry Marsh</td>\n",
       "      <td>NaN</td>\n",
       "      <td>0</td>\n",
       "      <td>0.0</td>\n",
       "      <td>S</td>\n",
       "    </tr>\n",
       "    <tr>\n",
       "      <th>674</th>\n",
       "      <td>675</td>\n",
       "      <td>2</td>\n",
       "      <td>Watson, Mr. Ennis Hastings</td>\n",
       "      <td>NaN</td>\n",
       "      <td>0</td>\n",
       "      <td>0.0</td>\n",
       "      <td>S</td>\n",
       "    </tr>\n",
       "    <tr>\n",
       "      <th>732</th>\n",
       "      <td>733</td>\n",
       "      <td>2</td>\n",
       "      <td>Knight, Mr. Robert J</td>\n",
       "      <td>NaN</td>\n",
       "      <td>0</td>\n",
       "      <td>0.0</td>\n",
       "      <td>S</td>\n",
       "    </tr>\n",
       "    <tr>\n",
       "      <th>806</th>\n",
       "      <td>807</td>\n",
       "      <td>1</td>\n",
       "      <td>Andrews, Mr. Thomas Jr</td>\n",
       "      <td>39.0</td>\n",
       "      <td>0</td>\n",
       "      <td>0.0</td>\n",
       "      <td>S</td>\n",
       "    </tr>\n",
       "    <tr>\n",
       "      <th>815</th>\n",
       "      <td>816</td>\n",
       "      <td>1</td>\n",
       "      <td>Fry, Mr. Richard</td>\n",
       "      <td>NaN</td>\n",
       "      <td>0</td>\n",
       "      <td>0.0</td>\n",
       "      <td>S</td>\n",
       "    </tr>\n",
       "    <tr>\n",
       "      <th>822</th>\n",
       "      <td>823</td>\n",
       "      <td>1</td>\n",
       "      <td>Reuchlin, Jonkheer. John George</td>\n",
       "      <td>38.0</td>\n",
       "      <td>0</td>\n",
       "      <td>0.0</td>\n",
       "      <td>S</td>\n",
       "    </tr>\n",
       "  </tbody>\n",
       "</table>\n",
       "</div>"
      ],
      "text/plain": [
       "     PassengerId  Pclass                              Name   Age  family_size   \n",
       "179          180       3               Leonard, Mr. Lionel  36.0            0  \\\n",
       "263          264       1             Harrison, Mr. William  40.0            0   \n",
       "271          272       3      Tornquist, Mr. William Henry  25.0            0   \n",
       "277          278       2       Parkes, Mr. Francis \"Frank\"   NaN            0   \n",
       "302          303       3   Johnson, Mr. William Cahoone Jr  19.0            0   \n",
       "413          414       2    Cunningham, Mr. Alfred Fleming   NaN            0   \n",
       "466          467       2             Campbell, Mr. William   NaN            0   \n",
       "481          482       2  Frost, Mr. Anthony Wood \"Archie\"   NaN            0   \n",
       "597          598       3               Johnson, Mr. Alfred  49.0            0   \n",
       "633          634       1     Parr, Mr. William Henry Marsh   NaN            0   \n",
       "674          675       2        Watson, Mr. Ennis Hastings   NaN            0   \n",
       "732          733       2              Knight, Mr. Robert J   NaN            0   \n",
       "806          807       1            Andrews, Mr. Thomas Jr  39.0            0   \n",
       "815          816       1                  Fry, Mr. Richard   NaN            0   \n",
       "822          823       1   Reuchlin, Jonkheer. John George  38.0            0   \n",
       "\n",
       "     Fare Embarked  \n",
       "179   0.0        S  \n",
       "263   0.0        S  \n",
       "271   0.0        S  \n",
       "277   0.0        S  \n",
       "302   0.0        S  \n",
       "413   0.0        S  \n",
       "466   0.0        S  \n",
       "481   0.0        S  \n",
       "597   0.0        S  \n",
       "633   0.0        S  \n",
       "674   0.0        S  \n",
       "732   0.0        S  \n",
       "806   0.0        S  \n",
       "815   0.0        S  \n",
       "822   0.0        S  "
      ]
     },
     "execution_count": 92,
     "metadata": {},
     "output_type": "execute_result"
    }
   ],
   "source": [
    "train[train['Fare'] == 0][['PassengerId', 'Pclass', 'Name', 'Age', 'family_size', 'Fare', 'Embarked']]"
   ]
  },
  {
   "cell_type": "code",
   "execution_count": 93,
   "id": "8d8d71e5",
   "metadata": {},
   "outputs": [],
   "source": [
    "### Duplicate ticket counts plot"
   ]
  },
  {
   "cell_type": "code",
   "execution_count": 94,
   "id": "353b3cba",
   "metadata": {},
   "outputs": [
    {
     "data": {
      "text/plain": [
       "<Axes: >"
      ]
     },
     "execution_count": 94,
     "metadata": {},
     "output_type": "execute_result"
    },
    {
     "data": {
      "image/png": "[encoded data removed]",
      "text/plain": [
       "<Figure size 640x480 with 1 Axes>"
      ]
     },
     "metadata": {},
     "output_type": "display_data"
    }
   ],
   "source": [
    "ticket_counts = train['Ticket'].value_counts().reset_index()\n",
    "ticket_counts['count'].hist(bins=20)"
   ]
  },
  {
   "cell_type": "code",
   "execution_count": 95,
   "id": "7e566eec",
   "metadata": {},
   "outputs": [
    {
     "data": {
      "text/plain": [
       "Ticket\n",
       "1601        7\n",
       "CA. 2343    7\n",
       "347082      7\n",
       "CA 2144     6\n",
       "347088      6\n",
       "           ..\n",
       "345572      1\n",
       "345364      1\n",
       "343276      1\n",
       "343275      1\n",
       "347464      1\n",
       "Name: Ticket, Length: 681, dtype: int64"
      ]
     },
     "execution_count": 95,
     "metadata": {},
     "output_type": "execute_result"
    }
   ],
   "source": [
    "train.groupby('Ticket')['Ticket'].count().sort_values(ascending=False)"
   ]
  },
  {
   "cell_type": "code",
   "execution_count": 96,
   "id": "09579b15",
   "metadata": {},
   "outputs": [
    {
     "data": {
      "text/plain": [
       "Index(['PassengerId', 'Survived', 'Pclass', 'Name', 'Sex', 'Age', 'SibSp',\n",
       "       'Parch', 'Ticket', 'Fare', 'Cabin', 'Embarked', 'is_married', 'title',\n",
       "       'kept_maiden_name', 'title_converted', 'sex_converted', 'age_group',\n",
       "       'family_size', 'solo_traveler', 'ticket_prefix', 'fare_group',\n",
       "       'cabin_prefix', 'ticket_length', 'ticket_code',\n",
       "       'ticket_prefix_cleaned'],\n",
       "      dtype='object')"
      ]
     },
     "execution_count": 96,
     "metadata": {},
     "output_type": "execute_result"
    }
   ],
   "source": [
    "train.columns"
   ]
  },
  {
   "cell_type": "markdown",
   "id": "855eb086",
   "metadata": {},
   "source": [
    "Ticket reveals groupings, family"
   ]
  },
  {
   "cell_type": "code",
   "execution_count": 97,
   "id": "094f3e49",
   "metadata": {},
   "outputs": [
    {
     "data": {
      "text/html": [
       "<div>\n",
       "<style scoped>\n",
       "    .dataframe tbody tr th:only-of-type {\n",
       "        vertical-align: middle;\n",
       "    }\n",
       "\n",
       "    .dataframe tbody tr th {\n",
       "        vertical-align: top;\n",
       "    }\n",
       "\n",
       "    .dataframe thead th {\n",
       "        text-align: right;\n",
       "    }\n",
       "</style>\n",
       "<table border=\"1\" class=\"dataframe\">\n",
       "  <thead>\n",
       "    <tr style=\"text-align: right;\">\n",
       "      <th></th>\n",
       "      <th>PassengerId</th>\n",
       "      <th>Survived</th>\n",
       "      <th>Pclass</th>\n",
       "      <th>Name</th>\n",
       "      <th>Sex</th>\n",
       "      <th>Age</th>\n",
       "      <th>SibSp</th>\n",
       "      <th>Parch</th>\n",
       "      <th>family_size</th>\n",
       "      <th>Ticket</th>\n",
       "      <th>Fare</th>\n",
       "      <th>Cabin</th>\n",
       "      <th>Embarked</th>\n",
       "    </tr>\n",
       "  </thead>\n",
       "  <tbody>\n",
       "    <tr>\n",
       "      <th>74</th>\n",
       "      <td>75</td>\n",
       "      <td>1</td>\n",
       "      <td>3</td>\n",
       "      <td>Bing, Mr. Lee</td>\n",
       "      <td>male</td>\n",
       "      <td>32.0</td>\n",
       "      <td>0</td>\n",
       "      <td>0</td>\n",
       "      <td>0</td>\n",
       "      <td>1601</td>\n",
       "      <td>56.4958</td>\n",
       "      <td>NaN</td>\n",
       "      <td>S</td>\n",
       "    </tr>\n",
       "    <tr>\n",
       "      <th>169</th>\n",
       "      <td>170</td>\n",
       "      <td>0</td>\n",
       "      <td>3</td>\n",
       "      <td>Ling, Mr. Lee</td>\n",
       "      <td>male</td>\n",
       "      <td>28.0</td>\n",
       "      <td>0</td>\n",
       "      <td>0</td>\n",
       "      <td>0</td>\n",
       "      <td>1601</td>\n",
       "      <td>56.4958</td>\n",
       "      <td>NaN</td>\n",
       "      <td>S</td>\n",
       "    </tr>\n",
       "    <tr>\n",
       "      <th>509</th>\n",
       "      <td>510</td>\n",
       "      <td>1</td>\n",
       "      <td>3</td>\n",
       "      <td>Lang, Mr. Fang</td>\n",
       "      <td>male</td>\n",
       "      <td>26.0</td>\n",
       "      <td>0</td>\n",
       "      <td>0</td>\n",
       "      <td>0</td>\n",
       "      <td>1601</td>\n",
       "      <td>56.4958</td>\n",
       "      <td>NaN</td>\n",
       "      <td>S</td>\n",
       "    </tr>\n",
       "    <tr>\n",
       "      <th>643</th>\n",
       "      <td>644</td>\n",
       "      <td>1</td>\n",
       "      <td>3</td>\n",
       "      <td>Foo, Mr. Choong</td>\n",
       "      <td>male</td>\n",
       "      <td>NaN</td>\n",
       "      <td>0</td>\n",
       "      <td>0</td>\n",
       "      <td>0</td>\n",
       "      <td>1601</td>\n",
       "      <td>56.4958</td>\n",
       "      <td>NaN</td>\n",
       "      <td>S</td>\n",
       "    </tr>\n",
       "    <tr>\n",
       "      <th>692</th>\n",
       "      <td>693</td>\n",
       "      <td>1</td>\n",
       "      <td>3</td>\n",
       "      <td>Lam, Mr. Ali</td>\n",
       "      <td>male</td>\n",
       "      <td>NaN</td>\n",
       "      <td>0</td>\n",
       "      <td>0</td>\n",
       "      <td>0</td>\n",
       "      <td>1601</td>\n",
       "      <td>56.4958</td>\n",
       "      <td>NaN</td>\n",
       "      <td>S</td>\n",
       "    </tr>\n",
       "    <tr>\n",
       "      <th>826</th>\n",
       "      <td>827</td>\n",
       "      <td>0</td>\n",
       "      <td>3</td>\n",
       "      <td>Lam, Mr. Len</td>\n",
       "      <td>male</td>\n",
       "      <td>NaN</td>\n",
       "      <td>0</td>\n",
       "      <td>0</td>\n",
       "      <td>0</td>\n",
       "      <td>1601</td>\n",
       "      <td>56.4958</td>\n",
       "      <td>NaN</td>\n",
       "      <td>S</td>\n",
       "    </tr>\n",
       "    <tr>\n",
       "      <th>838</th>\n",
       "      <td>839</td>\n",
       "      <td>1</td>\n",
       "      <td>3</td>\n",
       "      <td>Chip, Mr. Chang</td>\n",
       "      <td>male</td>\n",
       "      <td>32.0</td>\n",
       "      <td>0</td>\n",
       "      <td>0</td>\n",
       "      <td>0</td>\n",
       "      <td>1601</td>\n",
       "      <td>56.4958</td>\n",
       "      <td>NaN</td>\n",
       "      <td>S</td>\n",
       "    </tr>\n",
       "  </tbody>\n",
       "</table>\n",
       "</div>"
      ],
      "text/plain": [
       "     PassengerId  Survived  Pclass             Name   Sex   Age  SibSp  Parch   \n",
       "74            75         1       3    Bing, Mr. Lee  male  32.0      0      0  \\\n",
       "169          170         0       3    Ling, Mr. Lee  male  28.0      0      0   \n",
       "509          510         1       3   Lang, Mr. Fang  male  26.0      0      0   \n",
       "643          644         1       3  Foo, Mr. Choong  male   NaN      0      0   \n",
       "692          693         1       3     Lam, Mr. Ali  male   NaN      0      0   \n",
       "826          827         0       3     Lam, Mr. Len  male   NaN      0      0   \n",
       "838          839         1       3  Chip, Mr. Chang  male  32.0      0      0   \n",
       "\n",
       "     family_size Ticket     Fare Cabin Embarked  \n",
       "74             0   1601  56.4958   NaN        S  \n",
       "169            0   1601  56.4958   NaN        S  \n",
       "509            0   1601  56.4958   NaN        S  \n",
       "643            0   1601  56.4958   NaN        S  \n",
       "692            0   1601  56.4958   NaN        S  \n",
       "826            0   1601  56.4958   NaN        S  \n",
       "838            0   1601  56.4958   NaN        S  "
      ]
     },
     "execution_count": 97,
     "metadata": {},
     "output_type": "execute_result"
    }
   ],
   "source": [
    "train[train['Ticket'] == '1601'][['PassengerId', 'Survived', 'Pclass', 'Name', 'Sex', 'Age', 'SibSp',\n",
    "       'Parch', 'family_size','Ticket', 'Fare', 'Cabin', 'Embarked']]"
   ]
  },
  {
   "cell_type": "code",
   "execution_count": 98,
   "id": "931e2a9e",
   "metadata": {},
   "outputs": [
    {
     "data": {
      "text/html": [
       "<div>\n",
       "<style scoped>\n",
       "    .dataframe tbody tr th:only-of-type {\n",
       "        vertical-align: middle;\n",
       "    }\n",
       "\n",
       "    .dataframe tbody tr th {\n",
       "        vertical-align: top;\n",
       "    }\n",
       "\n",
       "    .dataframe thead th {\n",
       "        text-align: right;\n",
       "    }\n",
       "</style>\n",
       "<table border=\"1\" class=\"dataframe\">\n",
       "  <thead>\n",
       "    <tr style=\"text-align: right;\">\n",
       "      <th></th>\n",
       "      <th>PassengerId</th>\n",
       "      <th>Survived</th>\n",
       "      <th>Pclass</th>\n",
       "      <th>Name</th>\n",
       "      <th>Sex</th>\n",
       "      <th>Age</th>\n",
       "      <th>SibSp</th>\n",
       "      <th>Parch</th>\n",
       "      <th>family_size</th>\n",
       "      <th>Ticket</th>\n",
       "      <th>Fare</th>\n",
       "      <th>Cabin</th>\n",
       "      <th>Embarked</th>\n",
       "    </tr>\n",
       "  </thead>\n",
       "  <tbody>\n",
       "    <tr>\n",
       "      <th>13</th>\n",
       "      <td>14</td>\n",
       "      <td>0</td>\n",
       "      <td>3</td>\n",
       "      <td>Andersson, Mr. Anders Johan</td>\n",
       "      <td>male</td>\n",
       "      <td>39.0</td>\n",
       "      <td>1</td>\n",
       "      <td>5</td>\n",
       "      <td>6</td>\n",
       "      <td>347082</td>\n",
       "      <td>31.275</td>\n",
       "      <td>NaN</td>\n",
       "      <td>S</td>\n",
       "    </tr>\n",
       "    <tr>\n",
       "      <th>119</th>\n",
       "      <td>120</td>\n",
       "      <td>0</td>\n",
       "      <td>3</td>\n",
       "      <td>Andersson, Miss. Ellis Anna Maria</td>\n",
       "      <td>female</td>\n",
       "      <td>2.0</td>\n",
       "      <td>4</td>\n",
       "      <td>2</td>\n",
       "      <td>6</td>\n",
       "      <td>347082</td>\n",
       "      <td>31.275</td>\n",
       "      <td>NaN</td>\n",
       "      <td>S</td>\n",
       "    </tr>\n",
       "    <tr>\n",
       "      <th>541</th>\n",
       "      <td>542</td>\n",
       "      <td>0</td>\n",
       "      <td>3</td>\n",
       "      <td>Andersson, Miss. Ingeborg Constanzia</td>\n",
       "      <td>female</td>\n",
       "      <td>9.0</td>\n",
       "      <td>4</td>\n",
       "      <td>2</td>\n",
       "      <td>6</td>\n",
       "      <td>347082</td>\n",
       "      <td>31.275</td>\n",
       "      <td>NaN</td>\n",
       "      <td>S</td>\n",
       "    </tr>\n",
       "    <tr>\n",
       "      <th>542</th>\n",
       "      <td>543</td>\n",
       "      <td>0</td>\n",
       "      <td>3</td>\n",
       "      <td>Andersson, Miss. Sigrid Elisabeth</td>\n",
       "      <td>female</td>\n",
       "      <td>11.0</td>\n",
       "      <td>4</td>\n",
       "      <td>2</td>\n",
       "      <td>6</td>\n",
       "      <td>347082</td>\n",
       "      <td>31.275</td>\n",
       "      <td>NaN</td>\n",
       "      <td>S</td>\n",
       "    </tr>\n",
       "    <tr>\n",
       "      <th>610</th>\n",
       "      <td>611</td>\n",
       "      <td>0</td>\n",
       "      <td>3</td>\n",
       "      <td>Andersson, Mrs. Anders Johan (Alfrida Konstant...</td>\n",
       "      <td>female</td>\n",
       "      <td>39.0</td>\n",
       "      <td>1</td>\n",
       "      <td>5</td>\n",
       "      <td>6</td>\n",
       "      <td>347082</td>\n",
       "      <td>31.275</td>\n",
       "      <td>NaN</td>\n",
       "      <td>S</td>\n",
       "    </tr>\n",
       "    <tr>\n",
       "      <th>813</th>\n",
       "      <td>814</td>\n",
       "      <td>0</td>\n",
       "      <td>3</td>\n",
       "      <td>Andersson, Miss. Ebba Iris Alfrida</td>\n",
       "      <td>female</td>\n",
       "      <td>6.0</td>\n",
       "      <td>4</td>\n",
       "      <td>2</td>\n",
       "      <td>6</td>\n",
       "      <td>347082</td>\n",
       "      <td>31.275</td>\n",
       "      <td>NaN</td>\n",
       "      <td>S</td>\n",
       "    </tr>\n",
       "    <tr>\n",
       "      <th>850</th>\n",
       "      <td>851</td>\n",
       "      <td>0</td>\n",
       "      <td>3</td>\n",
       "      <td>Andersson, Master. Sigvard Harald Elias</td>\n",
       "      <td>male</td>\n",
       "      <td>4.0</td>\n",
       "      <td>4</td>\n",
       "      <td>2</td>\n",
       "      <td>6</td>\n",
       "      <td>347082</td>\n",
       "      <td>31.275</td>\n",
       "      <td>NaN</td>\n",
       "      <td>S</td>\n",
       "    </tr>\n",
       "  </tbody>\n",
       "</table>\n",
       "</div>"
      ],
      "text/plain": [
       "     PassengerId  Survived  Pclass   \n",
       "13            14         0       3  \\\n",
       "119          120         0       3   \n",
       "541          542         0       3   \n",
       "542          543         0       3   \n",
       "610          611         0       3   \n",
       "813          814         0       3   \n",
       "850          851         0       3   \n",
       "\n",
       "                                                  Name     Sex   Age  SibSp   \n",
       "13                         Andersson, Mr. Anders Johan    male  39.0      1  \\\n",
       "119                  Andersson, Miss. Ellis Anna Maria  female   2.0      4   \n",
       "541               Andersson, Miss. Ingeborg Constanzia  female   9.0      4   \n",
       "542                  Andersson, Miss. Sigrid Elisabeth  female  11.0      4   \n",
       "610  Andersson, Mrs. Anders Johan (Alfrida Konstant...  female  39.0      1   \n",
       "813                 Andersson, Miss. Ebba Iris Alfrida  female   6.0      4   \n",
       "850            Andersson, Master. Sigvard Harald Elias    male   4.0      4   \n",
       "\n",
       "     Parch  family_size  Ticket    Fare Cabin Embarked  \n",
       "13       5            6  347082  31.275   NaN        S  \n",
       "119      2            6  347082  31.275   NaN        S  \n",
       "541      2            6  347082  31.275   NaN        S  \n",
       "542      2            6  347082  31.275   NaN        S  \n",
       "610      5            6  347082  31.275   NaN        S  \n",
       "813      2            6  347082  31.275   NaN        S  \n",
       "850      2            6  347082  31.275   NaN        S  "
      ]
     },
     "execution_count": 98,
     "metadata": {},
     "output_type": "execute_result"
    }
   ],
   "source": [
    "train[train['Ticket'] == '347082'][['PassengerId', 'Survived', 'Pclass', 'Name', 'Sex', 'Age', 'SibSp',\n",
    "       'Parch', 'family_size','Ticket', 'Fare', 'Cabin', 'Embarked']]"
   ]
  },
  {
   "cell_type": "code",
   "execution_count": 99,
   "id": "0c76bf32",
   "metadata": {},
   "outputs": [],
   "source": [
    "train['Ticket'] = train['Ticket'].replace({'LINE': 'LINE 000'})"
   ]
  },
  {
   "cell_type": "code",
   "execution_count": 100,
   "id": "8784ecff",
   "metadata": {},
   "outputs": [],
   "source": [
    "train['ticket_numeric'] = train['Ticket'].apply(lambda x: x.split()[1] if ' ' in x else x)"
   ]
  },
  {
   "cell_type": "code",
   "execution_count": 101,
   "id": "42a2132e",
   "metadata": {},
   "outputs": [
    {
     "data": {
      "text/plain": [
       "ticket_numeric_length\n",
       "6    423\n",
       "5    247\n",
       "4    165\n",
       "7     32\n",
       "2     12\n",
       "3     10\n",
       "1      2\n",
       "Name: count, dtype: int64"
      ]
     },
     "execution_count": 101,
     "metadata": {},
     "output_type": "execute_result"
    }
   ],
   "source": [
    "train['ticket_numeric_length'] = train['ticket_numeric'].apply(lambda x: len(x))\n",
    "train['ticket_numeric_length'].value_counts()"
   ]
  },
  {
   "cell_type": "code",
   "execution_count": 102,
   "id": "5cc1145e",
   "metadata": {},
   "outputs": [
    {
     "data": {
      "text/plain": [
       "array(['21', '17', '31', '11', '37', '33', '34', '23', '95', '35', '24',\n",
       "       '38', '26', '19', '75', '14', '39', '29', '36', '16', '66', '57',\n",
       "       '32', '41', '2.', '54', '27', '22', '85', '25', '00', '28', '45',\n",
       "       '13', '43', '15', '10', '92', '72', '70', '20', '30', '18', '65',\n",
       "       'Ba', '62', '40', '12', '69', '48', '84', '3', '55'], dtype=object)"
      ]
     },
     "execution_count": 102,
     "metadata": {},
     "output_type": "execute_result"
    }
   ],
   "source": [
    "train['ticket_numeric_prefix_2'] = train['ticket_numeric'].apply(lambda x: x[:2])\n",
    "train['ticket_numeric_prefix_2'].unique()"
   ]
  },
  {
   "cell_type": "code",
   "execution_count": 103,
   "id": "b5f3fcd7",
   "metadata": {},
   "outputs": [
    {
     "data": {
      "text/plain": [
       "array(['211', '175', '310', '113', '373', '330', '174', '349', '347',\n",
       "       '237', '954', '215', '350', '248', '382', '244', '345', '264',\n",
       "       '239', '263', '199', '176', '335', '245', '267', '265', '754',\n",
       "       '116', '212', '235', '370', '143', '266', '398', '292', '269',\n",
       "       '346', '214', '369', '293', '315', '331', '148', '268', '160',\n",
       "       '348', '374', '364', '660', '392', '343', '573', '231', '177',\n",
       "       '352', '312', '371', '110', '324', '413', '262', '2.', '545',\n",
       "       '272', '173', '333', '228', '291', '213', '117', '753', '365',\n",
       "       '230', '112', '851', '358', '234', '363', '111', '250', '000',\n",
       "       '284', '368', '457', '354', '367', '135', '243', '118', '142',\n",
       "       '220', '434', '751', '236', '295', '319', '286', '158', '362',\n",
       "       '384', '172', '336', '104', '198', '119', '216', '923', '226',\n",
       "       '246', '338', '290', '169', '285', '759', '229', '314', '386',\n",
       "       '376', '726', '707', '323', '278', '240', '341', '394', '282',\n",
       "       '130', '342', '200', '308', '187', '653', '281', 'Bas', '755',\n",
       "       '359', '185', '453', '621', '400', '127', '270', '693', '372',\n",
       "       '218', '488', '752', '205', '149', '390', '546', '219', '334',\n",
       "       '132', '847', '297', '572', '353', '656', '241', '223', '122',\n",
       "       '233', '3', '383', '124', '207', '222', '554', '695', '340'],\n",
       "      dtype=object)"
      ]
     },
     "execution_count": 103,
     "metadata": {},
     "output_type": "execute_result"
    }
   ],
   "source": [
    "train['ticket_numeric_prefix_3'] = train['ticket_numeric'].apply(lambda x: x[:3])\n",
    "train['ticket_numeric_prefix_3'].unique()"
   ]
  },
  {
   "cell_type": "code",
   "execution_count": 104,
   "id": "6f8fda95",
   "metadata": {},
   "outputs": [
    {
     "data": {
      "text/plain": [
       "array(['17'], dtype=object)"
      ]
     },
     "execution_count": 104,
     "metadata": {},
     "output_type": "execute_result"
    }
   ],
   "source": [
    "train[train['ticket_prefix'] == 'PC']['ticket_numeric_prefix_2'].unique()"
   ]
  },
  {
   "cell_type": "code",
   "execution_count": 105,
   "id": "ef9d0aac",
   "metadata": {},
   "outputs": [
    {
     "data": {
      "text/plain": [
       "array(['175', '176', '177', '173', '174'], dtype=object)"
      ]
     },
     "execution_count": 105,
     "metadata": {},
     "output_type": "execute_result"
    }
   ],
   "source": [
    "train[train['ticket_prefix'] == 'PC']['ticket_numeric_prefix_3'].unique()"
   ]
  },
  {
   "cell_type": "code",
   "execution_count": 106,
   "id": "7119c6ad",
   "metadata": {},
   "outputs": [
    {
     "data": {
      "text/plain": [
       "ticket_numeric_prefix_3\n",
       "175    19\n",
       "177    17\n",
       "176    13\n",
       "174    10\n",
       "173     1\n",
       "Name: count, dtype: int64"
      ]
     },
     "execution_count": 106,
     "metadata": {},
     "output_type": "execute_result"
    }
   ],
   "source": [
    "train[train['ticket_prefix'] == 'PC']['ticket_numeric_prefix_3'].value_counts()"
   ]
  },
  {
   "cell_type": "code",
   "execution_count": 107,
   "id": "a3f07f73",
   "metadata": {},
   "outputs": [
    {
     "data": {
      "text/plain": [
       "ticket_numeric_prefix_2\n",
       "17    60\n",
       "Name: count, dtype: int64"
      ]
     },
     "execution_count": 107,
     "metadata": {},
     "output_type": "execute_result"
    }
   ],
   "source": [
    "train[train['ticket_prefix'] == 'PC']['ticket_numeric_prefix_2'].value_counts()"
   ]
  },
  {
   "cell_type": "code",
   "execution_count": 108,
   "id": "aac02c5d",
   "metadata": {},
   "outputs": [
    {
     "data": {
      "text/plain": [
       "array([5], dtype=int64)"
      ]
     },
     "execution_count": 108,
     "metadata": {},
     "output_type": "execute_result"
    }
   ],
   "source": [
    "train[train['ticket_prefix'] == 'PC']['ticket_numeric_length'].unique()"
   ]
  },
  {
   "cell_type": "code",
   "execution_count": 109,
   "id": "8761dfe6",
   "metadata": {},
   "outputs": [
    {
     "data": {
      "text/plain": [
       "array(['24', '31', '34', '21', '29', '33', '23', '17', '26', '37', '18',\n",
       "       '62', '55'], dtype=object)"
      ]
     },
     "execution_count": 109,
     "metadata": {},
     "output_type": "execute_result"
    }
   ],
   "source": [
    "train[train['ticket_prefix_cleaned'] == 'CA']['ticket_numeric_prefix_2'].unique()"
   ]
  },
  {
   "cell_type": "code",
   "execution_count": 110,
   "id": "ac010364",
   "metadata": {},
   "outputs": [
    {
     "data": {
      "text/plain": [
       "ticket_numeric_prefix_2\n",
       "23    10\n",
       "21     6\n",
       "31     4\n",
       "34     4\n",
       "33     4\n",
       "29     3\n",
       "24     2\n",
       "26     2\n",
       "37     2\n",
       "17     1\n",
       "18     1\n",
       "62     1\n",
       "55     1\n",
       "Name: count, dtype: int64"
      ]
     },
     "execution_count": 110,
     "metadata": {},
     "output_type": "execute_result"
    }
   ],
   "source": [
    "train[train['ticket_prefix_cleaned'] == 'CA']['ticket_numeric_prefix_2'].value_counts()"
   ]
  },
  {
   "cell_type": "code",
   "execution_count": 111,
   "id": "e527de94",
   "metadata": {},
   "outputs": [
    {
     "data": {
      "text/plain": [
       "Index(['PassengerId', 'Survived', 'Pclass', 'Name', 'Sex', 'Age', 'SibSp',\n",
       "       'Parch', 'Ticket', 'Fare', 'Cabin', 'Embarked', 'is_married', 'title',\n",
       "       'kept_maiden_name', 'title_converted', 'sex_converted', 'age_group',\n",
       "       'family_size', 'solo_traveler', 'ticket_prefix', 'fare_group',\n",
       "       'cabin_prefix', 'ticket_length', 'ticket_code', 'ticket_prefix_cleaned',\n",
       "       'ticket_numeric', 'ticket_numeric_length', 'ticket_numeric_prefix_2',\n",
       "       'ticket_numeric_prefix_3'],\n",
       "      dtype='object')"
      ]
     },
     "execution_count": 111,
     "metadata": {},
     "output_type": "execute_result"
    }
   ],
   "source": [
    "train.columns"
   ]
  },
  {
   "cell_type": "code",
   "execution_count": 113,
   "id": "79977272",
   "metadata": {},
   "outputs": [
    {
     "data": {
      "text/plain": [
       "array([ True, False])"
      ]
     },
     "execution_count": 113,
     "metadata": {},
     "output_type": "execute_result"
    }
   ],
   "source": [
    "train['ticket_code'].unique()"
   ]
  },
  {
   "cell_type": "code",
   "execution_count": 114,
   "id": "4929d011",
   "metadata": {},
   "outputs": [],
   "source": [
    "train['ticket_group'] = train.apply(lambda row: row['ticket_prefix_cleaned'] + ' ' + row['ticket_numeric_prefix_2'] if row['ticket_code'] else None, axis='columns')"
   ]
  },
  {
   "cell_type": "code",
   "execution_count": 115,
   "id": "69c6d49e",
   "metadata": {},
   "outputs": [
    {
     "data": {
      "text/plain": [
       "661"
      ]
     },
     "execution_count": 115,
     "metadata": {},
     "output_type": "execute_result"
    }
   ],
   "source": [
    "no_ticket_groups = train[pd.isnull(train['ticket_group'])]\n",
    "no_ticket_groups.shape[0]"
   ]
  },
  {
   "cell_type": "code",
   "execution_count": 116,
   "id": "354c35f0",
   "metadata": {},
   "outputs": [
    {
     "data": {
      "text/plain": [
       "511"
      ]
     },
     "execution_count": 116,
     "metadata": {},
     "output_type": "execute_result"
    }
   ],
   "source": [
    "no_ticket_groups['Cabin'].isna().sum()"
   ]
  },
  {
   "cell_type": "code",
   "execution_count": 117,
   "id": "d42432a5",
   "metadata": {},
   "outputs": [
    {
     "data": {
      "text/plain": [
       "ticket_numeric_prefix_2\n",
       "34    132\n",
       "11     88\n",
       "26     60\n",
       "36     46\n",
       "31     37\n",
       "23     36\n",
       "24     29\n",
       "35     27\n",
       "37     25\n",
       "33     16\n",
       "19     16\n",
       "29     14\n",
       "25     14\n",
       "17     13\n",
       "28     12\n",
       "13     11\n",
       "38     10\n",
       "16     10\n",
       "22      9\n",
       "41      9\n",
       "75      8\n",
       "39      5\n",
       "27      4\n",
       "14      4\n",
       "21      4\n",
       "65      4\n",
       "12      4\n",
       "32      3\n",
       "69      2\n",
       "54      2\n",
       "84      2\n",
       "45      1\n",
       "92      1\n",
       "72      1\n",
       "20      1\n",
       "57      1\n",
       "Name: count, dtype: int64"
      ]
     },
     "execution_count": 117,
     "metadata": {},
     "output_type": "execute_result"
    }
   ],
   "source": [
    "no_ticket_groups['ticket_numeric_prefix_2'].value_counts()"
   ]
  },
  {
   "cell_type": "code",
   "execution_count": 118,
   "id": "66fe08f7",
   "metadata": {},
   "outputs": [
    {
     "data": {
      "text/plain": [
       "7      349909\n",
       "8      347742\n",
       "13     347082\n",
       "18     345763\n",
       "24     349909\n",
       "        ...  \n",
       "870    349248\n",
       "873    345765\n",
       "877    349212\n",
       "878    349217\n",
       "881    349257\n",
       "Name: Ticket, Length: 132, dtype: object"
      ]
     },
     "execution_count": 118,
     "metadata": {},
     "output_type": "execute_result"
    }
   ],
   "source": [
    "no_ticket_groups[no_ticket_groups['ticket_numeric_prefix_2'] == '34']['Ticket']"
   ]
  },
  {
   "cell_type": "code",
   "execution_count": 119,
   "id": "4209bb40",
   "metadata": {},
   "outputs": [
    {
     "data": {
      "text/plain": [
       "ticket_numeric_prefix_3\n",
       "349    53\n",
       "347    48\n",
       "345    19\n",
       "343     4\n",
       "348     3\n",
       "341     2\n",
       "342     2\n",
       "346     1\n",
       "Name: count, dtype: int64"
      ]
     },
     "execution_count": 119,
     "metadata": {},
     "output_type": "execute_result"
    }
   ],
   "source": [
    "no_ticket_groups[no_ticket_groups['ticket_numeric_prefix_2'] == '34']['ticket_numeric_prefix_3'].value_counts()"
   ]
  },
  {
   "cell_type": "code",
   "execution_count": 120,
   "id": "b1eac602",
   "metadata": {},
   "outputs": [
    {
     "data": {
      "text/plain": [
       "array(['A/5', 'PC', 'STON/O2.', '113803', '373450', '330877', '17463',\n",
       "       '349909', '347742', '237736', 'PP', '113783', 'A/5.', '347082',\n",
       "       '350406', '248706', '382652', '244373', '345763', '2649', '239865',\n",
       "       '248698', '330923', '113788', '347077', '2631', '19950', '330959',\n",
       "       '349216', '335677', 'C.A.', '113789', '2677', 'A./5.', '345764',\n",
       "       '2651', '7546', '11668', '349253', 'SC/Paris', '330958',\n",
       "       'S.C./A.4.', '370371', '14311', '2662', '349237', '3101295',\n",
       "       'A/4.', '2926', '113509', '19947', '2697', 'CA', '2669', '113572',\n",
       "       '36973', '347088', '2661', 'S.P.', '3101281', '315151', 'S.O.C.',\n",
       "       '2680', '1601', '348123', '349208', '374746', '248738', '364516',\n",
       "       '345767', '345779', '330932', '113059', 'SO/C', '3101278', 'W./C.',\n",
       "       'SOTON/OQ', '343275', '343276', '347466', 'W.E.P.', '364500',\n",
       "       '374910', '231919', '244367', '349245', '349215', '35281', '7540',\n",
       "       '3101276', '349207', '343120', '312991', '349249', '371110',\n",
       "       '110465', '2665', '324669', '4136', '2627', 'STON/O', '370369',\n",
       "       'A4.', '27267', '370372', 'C', '2668', '347061', '349241',\n",
       "       'SOTON/O.Q.', '228414', 'SC/PARIS', '11752', '7534', '2678',\n",
       "       '347081', '365222', '231945', '350043', '230080', '244310',\n",
       "       'S.O.P.', '113776', 'A.5.', 'Fa', '35851', '315037', 'CA.',\n",
       "       '371362', '347068', '315093', '363291', '113505', '111240',\n",
       "       '17764', '350404', '4133', '250653', 'LINE', '230136', '315153',\n",
       "       '113767', '370365', '111428', '364849', '349247', '234604',\n",
       "       '28424', '350046', '368703', '4579', '370370', '248747', '345770',\n",
       "       '3101264', '2628', '347054', '2699', '367231', '112277', 'F.C.C.',\n",
       "       '250646', '367229', '35273', '243847', '11813', 'W/C', '220367',\n",
       "       '21440', '349234', '19943', 'SW/PP', '236171', '347067', '237442',\n",
       "       '26707', '28665', 'SCO/W', '367230', '2694', '19928', '347071',\n",
       "       '250649', '11751', '244252', '362316', '113514', '370129', '2650',\n",
       "       '110152', '230433', '384461', '110413', '112059', '382649',\n",
       "       '347083', '113798', '250644', '370375', '13502', '347073',\n",
       "       '239853', '336439', '347464', '345778', '113056', '349239',\n",
       "       '345774', '349206', '237798', '370373', '19877', '11967', '349236',\n",
       "       '349233', '2693', '113781', '19988', '9234', '367226', '226593',\n",
       "       '17421', 'P/PP', '11767', '250651', '349243', '347470', '29011',\n",
       "       '36928', '16966', '349219', '234818', '345364', '28551', '111361',\n",
       "       '113043', '349225', '7598', '113784', '248740', '244361', '229236',\n",
       "       '248733', '31418', '386525', '315088', '7267', '113510', '2695',\n",
       "       '2647', '345783', '237671', '330931', '330980', '2691', '110813',\n",
       "       '2626', '14313', '11765', '3101267', '323951', '113503', '2648',\n",
       "       '347069', '2653', '349227', '27849', '367655', 'SC', '113760',\n",
       "       '350034', '3101277', '350052', '350407', '28403', '244278',\n",
       "       '240929', '341826', '4137', '315096', '28664', '347064', '29106',\n",
       "       '312992', '349222', '394140', '343095', '28220', '250652', '28228',\n",
       "       '345773', '349254', '315082', '347080', '2003', '250655', '364851',\n",
       "       '110564', '376564', 'SC/AH', '13507', '345769', '347076', '230434',\n",
       "       '65306', '33638', '113794', '2666', '113786', '65303', '113051',\n",
       "       '17453', '349240', '13509', '17464', '371060', '19952', '364506',\n",
       "       '111320', '234360', 'A/S', '113792', '36209', '323592', '315089',\n",
       "       '7553', '31027', '3460', '350060', '3101298', '239854', '4134',\n",
       "       '11771', '65304', '113787', 'A/4', '36947', '350035', '315086',\n",
       "       '364846', '330909', '4135', '26360', '111427', '382651', '349209',\n",
       "       '36967', '226875', '349242', '12749', '349252', '2624', '2700',\n",
       "       '367232', '3101296', '29104', '2641', '2690', '315084', '113050',\n",
       "       '364498', '13568', 'WE/P', '2908', '693', '244358', '330979',\n",
       "       '2620', '347085', '113807', '11755', '345572', '372622', '349251',\n",
       "       '218629', '349205', '2686', '350417', 'S.W./PP', '11769', '14312',\n",
       "       '358585', '243880', '2689', '237789', '13049', '3411', '237565',\n",
       "       '13567', '14973', '364848', '248727', '2664', '349214', '113796',\n",
       "       '364511', '111426', '349910', '349246', '113804', '370377',\n",
       "       '364512', '220845', '31028', '2659', '11753', '350029', '54636',\n",
       "       '36963', '219533', '349224', '334912', '27042', '347743', '13214',\n",
       "       '112052', '237668', '350050', '349231', '13213', 'S.O./P.P.',\n",
       "       '349221', '8475', '330919', '365226', '349223', '29751', '2623',\n",
       "       '5727', '349210', '234686', '312993', '19996', '29750', 'F.C.',\n",
       "       '244270', '239856', '349912', '342826', '4138', '330935', '6563',\n",
       "       '349228', '350036', '24160', '17474', '349256', '2672', '113800',\n",
       "       '248731', '363592', '35852', '348121', '36864', '350025', '223596',\n",
       "       '113028', '7545', '250647', '348124', '34218', '36568', '347062',\n",
       "       '350048', '12233', '250643', '113806', '315094', '36866', '236853',\n",
       "       '239855', '28425', '233639', '349201', '349218', '16988', '376566',\n",
       "       '250648', '113773', '335097', '29103', '392096', '345780',\n",
       "       '349204', '350042', '29108', '363294', 'SOTON/O2', '2663',\n",
       "       '347074', '112379', '364850', '8471', '345781', '350047', '2674',\n",
       "       '29105', '347078', '383121', '36865', '2687', '113501', '374887',\n",
       "       '3101265', '12460', '349203', '28213', '17465', '349244', '2685',\n",
       "       '2625', '347089', '347063', '112050', '347087', '248723', '3474',\n",
       "       '28206', '364499', '112058', 'S.C./PARIS', '315098', '19972',\n",
       "       '368323', '367228', '2671', '347468', '2223', '315097', '392092',\n",
       "       '11774', '2683', '315090', '349213', '347060', '392091', '113055',\n",
       "       '2629', '350026', '28134', '17466', '233866', '236852', '345777',\n",
       "       '349248', '695', '345765', '2667', '349212', '349217', '349257',\n",
       "       '7552', 'C.A./SOTON', '211536', '112053', '111369', '370376'],\n",
       "      dtype=object)"
      ]
     },
     "execution_count": 120,
     "metadata": {},
     "output_type": "execute_result"
    }
   ],
   "source": [
    "train['ticket_prefix'].unique()"
   ]
  },
  {
   "cell_type": "code",
   "execution_count": 121,
   "id": "227a49d2",
   "metadata": {},
   "outputs": [
    {
     "data": {
      "text/plain": [
       "array(['211', '175', '310', '113', '373', '330', '174', '349', '347',\n",
       "       '237', '954', '215', '350', '248', '382', '244', '345', '264',\n",
       "       '239', '263', '199', '176', '335', '245', '267', '265', '754',\n",
       "       '116', '212', '235', '370', '143', '266', '398', '292', '269',\n",
       "       '346', '214', '369', '293', '315', '331', '148', '268', '160',\n",
       "       '348', '374', '364', '660', '392', '343', '573', '231', '177',\n",
       "       '352', '312', '371', '110', '324', '413', '262', '2.', '545',\n",
       "       '272', '173', '333', '228', '291', '213', '117', '753', '365',\n",
       "       '230', '112', '851', '358', '234', '363', '111', '250', '000',\n",
       "       '284', '368', '457', '354', '367', '135', '243', '118', '142',\n",
       "       '220', '434', '751', '236', '295', '319', '286', '158', '362',\n",
       "       '384', '172', '336', '104', '198', '119', '216', '923', '226',\n",
       "       '246', '338', '290', '169', '285', '759', '229', '314', '386',\n",
       "       '376', '726', '707', '323', '278', '240', '341', '394', '282',\n",
       "       '130', '342', '200', '308', '187', '653', '281', 'Bas', '755',\n",
       "       '359', '185', '453', '621', '400', '127', '270', '693', '372',\n",
       "       '218', '488', '752', '205', '149', '390', '546', '219', '334',\n",
       "       '132', '847', '297', '572', '353', '656', '241', '223', '122',\n",
       "       '233', '3', '383', '124', '207', '222', '554', '695', '340'],\n",
       "      dtype=object)"
      ]
     },
     "execution_count": 121,
     "metadata": {},
     "output_type": "execute_result"
    }
   ],
   "source": [
    "train['ticket_numeric_prefix_3'] = train['ticket_numeric'].apply(lambda x: x[:3])\n",
    "train['ticket_numeric_prefix_3'].unique()"
   ]
  },
  {
   "cell_type": "code",
   "execution_count": 122,
   "id": "f71af3a9",
   "metadata": {},
   "outputs": [
    {
     "data": {
      "text/plain": [
       "Cabin\n",
       "C23 C25 C27    4\n",
       "B96 B98        4\n",
       "E101           3\n",
       "F2             3\n",
       "C22 C26        3\n",
       "              ..\n",
       "C128           1\n",
       "F33            1\n",
       "T              1\n",
       "E40            1\n",
       "C148           1\n",
       "Name: count, Length: 109, dtype: int64"
      ]
     },
     "execution_count": 122,
     "metadata": {},
     "output_type": "execute_result"
    }
   ],
   "source": [
    "no_ticket_groups['Cabin'].value_counts()"
   ]
  },
  {
   "cell_type": "code",
   "execution_count": 123,
   "id": "7932438c",
   "metadata": {},
   "outputs": [
    {
     "data": {
      "text/plain": [
       "Index(['PassengerId', 'Survived', 'Pclass', 'Name', 'Sex', 'Age', 'SibSp',\n",
       "       'Parch', 'Ticket', 'Fare', 'Cabin', 'Embarked', 'is_married', 'title',\n",
       "       'kept_maiden_name', 'title_converted', 'sex_converted', 'age_group',\n",
       "       'family_size', 'solo_traveler', 'ticket_prefix', 'fare_group',\n",
       "       'cabin_prefix', 'ticket_length', 'ticket_code', 'ticket_prefix_cleaned',\n",
       "       'ticket_numeric', 'ticket_numeric_length', 'ticket_numeric_prefix_2',\n",
       "       'ticket_numeric_prefix_3', 'ticket_group'],\n",
       "      dtype='object')"
      ]
     },
     "execution_count": 123,
     "metadata": {},
     "output_type": "execute_result"
    }
   ],
   "source": [
    "no_ticket_groups.columns"
   ]
  },
  {
   "cell_type": "code",
   "execution_count": 124,
   "id": "f788fa6e",
   "metadata": {},
   "outputs": [
    {
     "data": {
      "text/plain": [
       "0          A5 21\n",
       "1          PC 17\n",
       "2      STONO2 31\n",
       "3           None\n",
       "4           None\n",
       "         ...    \n",
       "886         None\n",
       "887         None\n",
       "888        WC 66\n",
       "889         None\n",
       "890         None\n",
       "Name: ticket_group, Length: 891, dtype: object"
      ]
     },
     "execution_count": 124,
     "metadata": {},
     "output_type": "execute_result"
    }
   ],
   "source": [
    "train['ticket_group']"
   ]
  },
  {
   "cell_type": "code",
   "execution_count": 125,
   "id": "db71a900",
   "metadata": {},
   "outputs": [
    {
     "data": {
      "text/plain": [
       "Index(['PassengerId', 'Survived', 'Pclass', 'Name', 'Sex', 'Age', 'SibSp',\n",
       "       'Parch', 'Ticket', 'Fare', 'Cabin', 'Embarked', 'is_married', 'title',\n",
       "       'kept_maiden_name', 'title_converted', 'sex_converted', 'age_group',\n",
       "       'family_size', 'solo_traveler', 'ticket_prefix', 'fare_group',\n",
       "       'cabin_prefix', 'ticket_length', 'ticket_code', 'ticket_prefix_cleaned',\n",
       "       'ticket_numeric', 'ticket_numeric_length', 'ticket_numeric_prefix_2',\n",
       "       'ticket_numeric_prefix_3', 'ticket_group'],\n",
       "      dtype='object')"
      ]
     },
     "execution_count": 125,
     "metadata": {},
     "output_type": "execute_result"
    }
   ],
   "source": [
    "train.columns"
   ]
  },
  {
   "cell_type": "code",
   "execution_count": 158,
   "id": "ba3e85ca",
   "metadata": {},
   "outputs": [
    {
     "data": {
      "text/html": [
       "<div>\n",
       "<style scoped>\n",
       "    .dataframe tbody tr th:only-of-type {\n",
       "        vertical-align: middle;\n",
       "    }\n",
       "\n",
       "    .dataframe tbody tr th {\n",
       "        vertical-align: top;\n",
       "    }\n",
       "\n",
       "    .dataframe thead th {\n",
       "        text-align: right;\n",
       "    }\n",
       "</style>\n",
       "<table border=\"1\" class=\"dataframe\">\n",
       "  <thead>\n",
       "    <tr style=\"text-align: right;\">\n",
       "      <th></th>\n",
       "      <th>Ticket</th>\n",
       "      <th>ticket_group_size</th>\n",
       "    </tr>\n",
       "  </thead>\n",
       "  <tbody>\n",
       "    <tr>\n",
       "      <th>0</th>\n",
       "      <td>347082</td>\n",
       "      <td>7</td>\n",
       "    </tr>\n",
       "    <tr>\n",
       "      <th>1</th>\n",
       "      <td>CA. 2343</td>\n",
       "      <td>7</td>\n",
       "    </tr>\n",
       "    <tr>\n",
       "      <th>2</th>\n",
       "      <td>1601</td>\n",
       "      <td>7</td>\n",
       "    </tr>\n",
       "    <tr>\n",
       "      <th>3</th>\n",
       "      <td>3101295</td>\n",
       "      <td>6</td>\n",
       "    </tr>\n",
       "    <tr>\n",
       "      <th>4</th>\n",
       "      <td>CA 2144</td>\n",
       "      <td>6</td>\n",
       "    </tr>\n",
       "    <tr>\n",
       "      <th>...</th>\n",
       "      <td>...</td>\n",
       "      <td>...</td>\n",
       "    </tr>\n",
       "    <tr>\n",
       "      <th>676</th>\n",
       "      <td>9234</td>\n",
       "      <td>1</td>\n",
       "    </tr>\n",
       "    <tr>\n",
       "      <th>677</th>\n",
       "      <td>19988</td>\n",
       "      <td>1</td>\n",
       "    </tr>\n",
       "    <tr>\n",
       "      <th>678</th>\n",
       "      <td>2693</td>\n",
       "      <td>1</td>\n",
       "    </tr>\n",
       "    <tr>\n",
       "      <th>679</th>\n",
       "      <td>PC 17612</td>\n",
       "      <td>1</td>\n",
       "    </tr>\n",
       "    <tr>\n",
       "      <th>680</th>\n",
       "      <td>370376</td>\n",
       "      <td>1</td>\n",
       "    </tr>\n",
       "  </tbody>\n",
       "</table>\n",
       "<p>681 rows × 2 columns</p>\n",
       "</div>"
      ],
      "text/plain": [
       "       Ticket  ticket_group_size\n",
       "0      347082                  7\n",
       "1    CA. 2343                  7\n",
       "2        1601                  7\n",
       "3     3101295                  6\n",
       "4     CA 2144                  6\n",
       "..        ...                ...\n",
       "676      9234                  1\n",
       "677     19988                  1\n",
       "678      2693                  1\n",
       "679  PC 17612                  1\n",
       "680    370376                  1\n",
       "\n",
       "[681 rows x 2 columns]"
      ]
     },
     "execution_count": 158,
     "metadata": {},
     "output_type": "execute_result"
    }
   ],
   "source": [
    "ticket_group_sizes = pd.DataFrame(train['Ticket'].value_counts()).reset_index()\n",
    "ticket_group_sizes = ticket_group_sizes.rename(columns={'count': 'ticket_group_size'})\n",
    "ticket_group_sizes"
   ]
  },
  {
   "cell_type": "code",
   "execution_count": 161,
   "id": "27a07531",
   "metadata": {},
   "outputs": [],
   "source": [
    "train = train.merge(ticket_group_sizes, on='Ticket')"
   ]
  },
  {
   "cell_type": "code",
   "execution_count": null,
   "id": "1d6ff99f",
   "metadata": {},
   "outputs": [],
   "source": []
  },
  {
   "cell_type": "code",
   "execution_count": 163,
   "id": "3e8b93fc",
   "metadata": {},
   "outputs": [
    {
     "data": {
      "text/plain": [
       "Cabin\n",
       "B96 B98            4\n",
       "C23 C25 C27        4\n",
       "G6                 4\n",
       "F2                 3\n",
       "E101               3\n",
       "D                  3\n",
       "C22 C26            3\n",
       "F33                3\n",
       "B57 B59 B63 B66    2\n",
       "B51 B53 B55        2\n",
       "F4                 2\n",
       "C92                2\n",
       "B5                 2\n",
       "D36                2\n",
       "C126               2\n",
       "C93                2\n",
       "B35                2\n",
       "C78                2\n",
       "E44                2\n",
       "B77                2\n",
       "Name: count, dtype: int64"
      ]
     },
     "execution_count": 163,
     "metadata": {},
     "output_type": "execute_result"
    }
   ],
   "source": [
    "train['Cabin'].value_counts().head(20)"
   ]
  },
  {
   "cell_type": "code",
   "execution_count": 164,
   "id": "d854f4c7",
   "metadata": {},
   "outputs": [
    {
     "data": {
      "text/plain": [
       "dtype('O')"
      ]
     },
     "execution_count": 164,
     "metadata": {},
     "output_type": "execute_result"
    }
   ],
   "source": [
    "train['Cabin'].dtype"
   ]
  },
  {
   "cell_type": "code",
   "execution_count": 169,
   "id": "db0dc677",
   "metadata": {},
   "outputs": [
    {
     "data": {
      "text/plain": [
       "Index(['PassengerId', 'Survived', 'Pclass', 'Name', 'Sex', 'Age', 'SibSp',\n",
       "       'Parch', 'Ticket', 'Fare', 'Cabin', 'Embarked', 'is_married', 'title',\n",
       "       'kept_maiden_name', 'title_converted', 'sex_converted', 'age_group',\n",
       "       'family_size', 'solo_traveler', 'ticket_prefix', 'fare_group',\n",
       "       'cabin_prefix', 'ticket_length', 'ticket_code', 'ticket_prefix_cleaned',\n",
       "       'ticket_numeric', 'ticket_numeric_length', 'ticket_numeric_prefix_2',\n",
       "       'ticket_numeric_prefix_3', 'ticket_group', 'ticket_group_size'],\n",
       "      dtype='object')"
      ]
     },
     "execution_count": 169,
     "metadata": {},
     "output_type": "execute_result"
    }
   ],
   "source": [
    "train.columns"
   ]
  },
  {
   "cell_type": "code",
   "execution_count": 172,
   "id": "628d408e",
   "metadata": {},
   "outputs": [
    {
     "data": {
      "text/plain": [
       "array([nan, 'C85', 'C123', 'E46', 'G6', 'C103', 'D56', 'A6',\n",
       "       'C23 C25 C27', 'B78', 'B80', 'D33', 'D49', 'B30', 'C52', 'B28',\n",
       "       'C83', 'F33', 'F G73', 'E31', 'A5', 'D10 D12', 'D26', 'C110',\n",
       "       'A14', 'B58 B60', 'E101', 'F E69', 'D47', 'B86', 'B82 B84', 'F2',\n",
       "       'C2', 'E33', 'B19', 'A7', 'C49', 'F4', 'A32', 'B4', 'A31', 'D36',\n",
       "       'D48', 'D15', 'C93', 'C78', 'D35', 'C87', 'B77', 'B79',\n",
       "       'B51 B53 B55', 'B101', 'E67', 'E68', 'B94', 'C125', 'C91', 'C99',\n",
       "       'C32', 'C118', 'D7', 'D9', 'D11', 'A19', 'C46', 'B49', 'D',\n",
       "       'C22 C26', 'C106', 'C70', 'C68', 'C65', 'E36', 'A20', 'C54', 'C50',\n",
       "       'B57 B59 B63 B66', 'C7', 'E34', 'E40', 'B18', 'C124', 'T', 'C128',\n",
       "       'D37', 'B35', 'E50', 'C82', 'C62 C64', 'C45', 'B96 B98', 'E10',\n",
       "       'E44', 'A34', 'C104', 'C111', 'C92', 'E38', 'D21', 'E12', 'E63',\n",
       "       'B37', 'C30', 'D20', 'E25', 'D46', 'B73', 'B69', 'C95', 'B38',\n",
       "       'C86', 'B39', 'B22', 'A16', 'C101', 'A10', 'B41', 'D19', 'D50',\n",
       "       'A23', 'B50', 'A26', 'E58', 'C126', 'B71', 'B5', 'B3', 'B20',\n",
       "       'F G63', 'E24', 'C90', 'E8', 'D45', 'D30', 'E121', 'E77', 'F38',\n",
       "       'D6', 'D17', 'A36', 'B102', 'E49', 'C47', 'D28', 'E17', 'A24',\n",
       "       'B42', 'C148'], dtype=object)"
      ]
     },
     "execution_count": 172,
     "metadata": {},
     "output_type": "execute_result"
    }
   ],
   "source": [
    "train['Cabin'].unique()"
   ]
  },
  {
   "cell_type": "code",
   "execution_count": null,
   "id": "b6be70a8",
   "metadata": {},
   "outputs": [],
   "source": [
    "train['num_cabins']"
   ]
  },
  {
   "cell_type": "code",
   "execution_count": 183,
   "id": "e06bf465",
   "metadata": {},
   "outputs": [],
   "source": [
    "def get_num_cabins(x):\n",
    "    global errors\n",
    "    if not pd.isnull(x):\n",
    "        try:\n",
    "            return len(x.split(' '))\n",
    "        except:\n",
    "            #print(f\"Cabins {x}\")\n",
    "            errors.add(x)\n",
    "    else:\n",
    "        return None"
   ]
  },
  {
   "cell_type": "code",
   "execution_count": 186,
   "id": "8fcced6a",
   "metadata": {},
   "outputs": [],
   "source": [
    "errors = set()\n",
    "train[\"num_cabins\"] = train[\"Cabin\"].apply(lambda x: get_num_cabins(x))"
   ]
  },
  {
   "cell_type": "code",
   "execution_count": 188,
   "id": "8b7c5eb6",
   "metadata": {},
   "outputs": [
    {
     "data": {
      "text/plain": [
       "num_cabins\n",
       "1.0    180\n",
       "2.0     16\n",
       "3.0      6\n",
       "4.0      2\n",
       "Name: count, dtype: int64"
      ]
     },
     "execution_count": 188,
     "metadata": {},
     "output_type": "execute_result"
    }
   ],
   "source": [
    "train[\"num_cabins\"].value_counts()"
   ]
  },
  {
   "cell_type": "code",
   "execution_count": 189,
   "id": "d9f06ca8",
   "metadata": {},
   "outputs": [
    {
     "data": {
      "text/plain": [
       "family_size\n",
       "0     537\n",
       "1     161\n",
       "2     102\n",
       "3      29\n",
       "5      22\n",
       "4      15\n",
       "6      12\n",
       "10      7\n",
       "7       6\n",
       "Name: count, dtype: int64"
      ]
     },
     "execution_count": 189,
     "metadata": {},
     "output_type": "execute_result"
    }
   ],
   "source": [
    "train['family_size'].value_counts()"
   ]
  },
  {
   "cell_type": "code",
   "execution_count": 205,
   "id": "b182910a",
   "metadata": {},
   "outputs": [
    {
     "data": {
      "text/html": [
       "<div>\n",
       "<style scoped>\n",
       "    .dataframe tbody tr th:only-of-type {\n",
       "        vertical-align: middle;\n",
       "    }\n",
       "\n",
       "    .dataframe tbody tr th {\n",
       "        vertical-align: top;\n",
       "    }\n",
       "\n",
       "    .dataframe thead th {\n",
       "        text-align: right;\n",
       "    }\n",
       "</style>\n",
       "<table border=\"1\" class=\"dataframe\">\n",
       "  <thead>\n",
       "    <tr style=\"text-align: right;\">\n",
       "      <th></th>\n",
       "      <th>Name</th>\n",
       "      <th>SibSp</th>\n",
       "      <th>Parch</th>\n",
       "      <th>Age</th>\n",
       "      <th>Ticket</th>\n",
       "      <th>ticket_group_size</th>\n",
       "    </tr>\n",
       "  </thead>\n",
       "  <tbody>\n",
       "    <tr>\n",
       "      <th>432</th>\n",
       "      <td>Ryerson, Miss. Emily Borie</td>\n",
       "      <td>2</td>\n",
       "      <td>2</td>\n",
       "      <td>18.0</td>\n",
       "      <td>PC 17608</td>\n",
       "      <td>2</td>\n",
       "    </tr>\n",
       "    <tr>\n",
       "      <th>433</th>\n",
       "      <td>Ryerson, Miss. Susan Parker \"Suzette\"</td>\n",
       "      <td>2</td>\n",
       "      <td>2</td>\n",
       "      <td>21.0</td>\n",
       "      <td>PC 17608</td>\n",
       "      <td>2</td>\n",
       "    </tr>\n",
       "  </tbody>\n",
       "</table>\n",
       "</div>"
      ],
      "text/plain": [
       "                                      Name  SibSp  Parch   Age    Ticket   \n",
       "432             Ryerson, Miss. Emily Borie      2      2  18.0  PC 17608  \\\n",
       "433  Ryerson, Miss. Susan Parker \"Suzette\"      2      2  21.0  PC 17608   \n",
       "\n",
       "     ticket_group_size  \n",
       "432                  2  \n",
       "433                  2  "
      ]
     },
     "execution_count": 205,
     "metadata": {},
     "output_type": "execute_result"
    }
   ],
   "source": [
    "train[train[\"num_cabins\"] == 4][['Name', 'SibSp', 'Parch', 'Age','Ticket', 'ticket_group_size']]"
   ]
  },
  {
   "cell_type": "code",
   "execution_count": 203,
   "id": "9a46e7c7",
   "metadata": {},
   "outputs": [
    {
     "data": {
      "text/plain": [
       "8"
      ]
     },
     "execution_count": 203,
     "metadata": {},
     "output_type": "execute_result"
    }
   ],
   "source": [
    "x = train[train[\"num_cabins\"] == 2]\n",
    "x[x['family_size'] > 1].shape[0]"
   ]
  },
  {
   "cell_type": "code",
   "execution_count": 207,
   "id": "2efa1136",
   "metadata": {},
   "outputs": [
    {
     "data": {
      "text/plain": [
       "num_cabins\n",
       "1.0    180\n",
       "2.0     16\n",
       "3.0      6\n",
       "4.0      2\n",
       "Name: count, dtype: int64"
      ]
     },
     "execution_count": 207,
     "metadata": {},
     "output_type": "execute_result"
    }
   ],
   "source": [
    "train['num_cabins'].value_counts()"
   ]
  },
  {
   "cell_type": "code",
   "execution_count": 242,
   "id": "d02e1967",
   "metadata": {},
   "outputs": [],
   "source": [
    "def describe(data, variable, quantiles):\n",
    "    desc_df = pd.DataFrame(data[variable].describe()).reset_index().rename(columns={\"index\": \"percentile\"})\n",
    "    extra_data = list()\n",
    "    for q in quantiles:\n",
    "        extra = dict()\n",
    "        extra = {\"percentile\": f\"{q*100}%\", f\"{variable}\": data[variable].quantile(q)}\n",
    "        extra_data.append(extra)\n",
    "        \n",
    "    extra_data_df = pd.DataFrame(extra_data)\n",
    "    desc_df = pd.concat([desc_df, extra_data_df], ignore_index=True)\n",
    "        \n",
    "    return desc_df"
   ]
  },
  {
   "cell_type": "code",
   "execution_count": null,
   "id": "955a379e",
   "metadata": {},
   "outputs": [],
   "source": [
    "1 to 2 people, 2 cabins"
   ]
  },
  {
   "cell_type": "code",
   "execution_count": 231,
   "id": "2f140c54",
   "metadata": {},
   "outputs": [
    {
     "data": {
      "text/html": [
       "<div>\n",
       "<style scoped>\n",
       "    .dataframe tbody tr th:only-of-type {\n",
       "        vertical-align: middle;\n",
       "    }\n",
       "\n",
       "    .dataframe tbody tr th {\n",
       "        vertical-align: top;\n",
       "    }\n",
       "\n",
       "    .dataframe thead th {\n",
       "        text-align: right;\n",
       "    }\n",
       "</style>\n",
       "<table border=\"1\" class=\"dataframe\">\n",
       "  <thead>\n",
       "    <tr style=\"text-align: right;\">\n",
       "      <th></th>\n",
       "      <th>index</th>\n",
       "      <th>ticket_group_size</th>\n",
       "    </tr>\n",
       "  </thead>\n",
       "  <tbody>\n",
       "    <tr>\n",
       "      <th>0</th>\n",
       "      <td>count</td>\n",
       "      <td>16.000000</td>\n",
       "    </tr>\n",
       "    <tr>\n",
       "      <th>1</th>\n",
       "      <td>mean</td>\n",
       "      <td>2.750000</td>\n",
       "    </tr>\n",
       "    <tr>\n",
       "      <th>2</th>\n",
       "      <td>std</td>\n",
       "      <td>1.341641</td>\n",
       "    </tr>\n",
       "    <tr>\n",
       "      <th>3</th>\n",
       "      <td>min</td>\n",
       "      <td>1.000000</td>\n",
       "    </tr>\n",
       "    <tr>\n",
       "      <th>4</th>\n",
       "      <td>25%</td>\n",
       "      <td>1.750000</td>\n",
       "    </tr>\n",
       "    <tr>\n",
       "      <th>5</th>\n",
       "      <td>50%</td>\n",
       "      <td>3.000000</td>\n",
       "    </tr>\n",
       "    <tr>\n",
       "      <th>6</th>\n",
       "      <td>75%</td>\n",
       "      <td>4.000000</td>\n",
       "    </tr>\n",
       "    <tr>\n",
       "      <th>7</th>\n",
       "      <td>80%</td>\n",
       "      <td>4.000000</td>\n",
       "    </tr>\n",
       "  </tbody>\n",
       "</table>\n",
       "</div>"
      ],
      "text/plain": [
       "   index  ticket_group_size\n",
       "0  count          16.000000\n",
       "1   mean           2.750000\n",
       "2    std           1.341641\n",
       "3    min           1.000000\n",
       "4    25%           1.750000\n",
       "5    50%           3.000000\n",
       "6    75%           4.000000\n",
       "7    80%           4.000000"
      ]
     },
     "execution_count": 231,
     "metadata": {},
     "output_type": "execute_result"
    }
   ],
   "source": [
    "x = pd.DataFrame(train[train[\"num_cabins\"] == 2]['ticket_group_size'].describe()).reset_index()\n",
    "for q in quantiles:\n",
    "    x.loc[len(x.index) - 1] = ['80%', train[train[\"num_cabins\"] == 2]['ticket_group_size'].quantile(q)]\n",
    "x"
   ]
  },
  {
   "cell_type": "code",
   "execution_count": 232,
   "id": "6a92cc83",
   "metadata": {},
   "outputs": [
    {
     "data": {
      "text/html": [
       "<div>\n",
       "<style scoped>\n",
       "    .dataframe tbody tr th:only-of-type {\n",
       "        vertical-align: middle;\n",
       "    }\n",
       "\n",
       "    .dataframe tbody tr th {\n",
       "        vertical-align: top;\n",
       "    }\n",
       "\n",
       "    .dataframe thead th {\n",
       "        text-align: right;\n",
       "    }\n",
       "</style>\n",
       "<table border=\"1\" class=\"dataframe\">\n",
       "  <thead>\n",
       "    <tr style=\"text-align: right;\">\n",
       "      <th></th>\n",
       "      <th>index</th>\n",
       "      <th>ticket_group_size</th>\n",
       "    </tr>\n",
       "  </thead>\n",
       "  <tbody>\n",
       "    <tr>\n",
       "      <th>0</th>\n",
       "      <td>count</td>\n",
       "      <td>16.000000</td>\n",
       "    </tr>\n",
       "    <tr>\n",
       "      <th>1</th>\n",
       "      <td>mean</td>\n",
       "      <td>2.750000</td>\n",
       "    </tr>\n",
       "    <tr>\n",
       "      <th>2</th>\n",
       "      <td>std</td>\n",
       "      <td>1.341641</td>\n",
       "    </tr>\n",
       "    <tr>\n",
       "      <th>3</th>\n",
       "      <td>min</td>\n",
       "      <td>1.000000</td>\n",
       "    </tr>\n",
       "    <tr>\n",
       "      <th>4</th>\n",
       "      <td>25%</td>\n",
       "      <td>1.750000</td>\n",
       "    </tr>\n",
       "    <tr>\n",
       "      <th>5</th>\n",
       "      <td>50%</td>\n",
       "      <td>3.000000</td>\n",
       "    </tr>\n",
       "    <tr>\n",
       "      <th>6</th>\n",
       "      <td>75%</td>\n",
       "      <td>4.000000</td>\n",
       "    </tr>\n",
       "    <tr>\n",
       "      <th>7</th>\n",
       "      <td>85%</td>\n",
       "      <td>4.000000</td>\n",
       "    </tr>\n",
       "  </tbody>\n",
       "</table>\n",
       "</div>"
      ],
      "text/plain": [
       "   index  ticket_group_size\n",
       "0  count          16.000000\n",
       "1   mean           2.750000\n",
       "2    std           1.341641\n",
       "3    min           1.000000\n",
       "4    25%           1.750000\n",
       "5    50%           3.000000\n",
       "6    75%           4.000000\n",
       "7    85%           4.000000"
      ]
     },
     "execution_count": 232,
     "metadata": {},
     "output_type": "execute_result"
    }
   ],
   "source": [
    "x.loc[len(x.index) - 1] = ['85%', train[train[\"num_cabins\"] == 2]['ticket_group_size'].quantile(0.85)] \n",
    "x"
   ]
  },
  {
   "cell_type": "code",
   "execution_count": 243,
   "id": "90f81831",
   "metadata": {},
   "outputs": [
    {
     "data": {
      "text/html": [
       "<div>\n",
       "<style scoped>\n",
       "    .dataframe tbody tr th:only-of-type {\n",
       "        vertical-align: middle;\n",
       "    }\n",
       "\n",
       "    .dataframe tbody tr th {\n",
       "        vertical-align: top;\n",
       "    }\n",
       "\n",
       "    .dataframe thead th {\n",
       "        text-align: right;\n",
       "    }\n",
       "</style>\n",
       "<table border=\"1\" class=\"dataframe\">\n",
       "  <thead>\n",
       "    <tr style=\"text-align: right;\">\n",
       "      <th></th>\n",
       "      <th>percentile</th>\n",
       "      <th>ticket_group_size</th>\n",
       "    </tr>\n",
       "  </thead>\n",
       "  <tbody>\n",
       "    <tr>\n",
       "      <th>0</th>\n",
       "      <td>count</td>\n",
       "      <td>180.000000</td>\n",
       "    </tr>\n",
       "    <tr>\n",
       "      <th>1</th>\n",
       "      <td>mean</td>\n",
       "      <td>1.727778</td>\n",
       "    </tr>\n",
       "    <tr>\n",
       "      <th>2</th>\n",
       "      <td>std</td>\n",
       "      <td>0.796855</td>\n",
       "    </tr>\n",
       "    <tr>\n",
       "      <th>3</th>\n",
       "      <td>min</td>\n",
       "      <td>1.000000</td>\n",
       "    </tr>\n",
       "    <tr>\n",
       "      <th>4</th>\n",
       "      <td>25%</td>\n",
       "      <td>1.000000</td>\n",
       "    </tr>\n",
       "    <tr>\n",
       "      <th>5</th>\n",
       "      <td>50%</td>\n",
       "      <td>2.000000</td>\n",
       "    </tr>\n",
       "    <tr>\n",
       "      <th>6</th>\n",
       "      <td>75%</td>\n",
       "      <td>2.000000</td>\n",
       "    </tr>\n",
       "    <tr>\n",
       "      <th>7</th>\n",
       "      <td>max</td>\n",
       "      <td>4.000000</td>\n",
       "    </tr>\n",
       "    <tr>\n",
       "      <th>8</th>\n",
       "      <td>80.0%</td>\n",
       "      <td>2.000000</td>\n",
       "    </tr>\n",
       "    <tr>\n",
       "      <th>9</th>\n",
       "      <td>85.0%</td>\n",
       "      <td>3.000000</td>\n",
       "    </tr>\n",
       "    <tr>\n",
       "      <th>10</th>\n",
       "      <td>90.0%</td>\n",
       "      <td>3.000000</td>\n",
       "    </tr>\n",
       "    <tr>\n",
       "      <th>11</th>\n",
       "      <td>95.0%</td>\n",
       "      <td>3.000000</td>\n",
       "    </tr>\n",
       "    <tr>\n",
       "      <th>12</th>\n",
       "      <td>99.0%</td>\n",
       "      <td>4.000000</td>\n",
       "    </tr>\n",
       "  </tbody>\n",
       "</table>\n",
       "</div>"
      ],
      "text/plain": [
       "   percentile  ticket_group_size\n",
       "0       count         180.000000\n",
       "1        mean           1.727778\n",
       "2         std           0.796855\n",
       "3         min           1.000000\n",
       "4         25%           1.000000\n",
       "5         50%           2.000000\n",
       "6         75%           2.000000\n",
       "7         max           4.000000\n",
       "8       80.0%           2.000000\n",
       "9       85.0%           3.000000\n",
       "10      90.0%           3.000000\n",
       "11      95.0%           3.000000\n",
       "12      99.0%           4.000000"
      ]
     },
     "execution_count": 243,
     "metadata": {},
     "output_type": "execute_result"
    }
   ],
   "source": [
    "n_cabins = train[train[\"num_cabins\"] == 1]\n",
    "desc_df = describe(n_cabins, \"ticket_group_size\", [0.8, 0.85, 0.9, 0.95, 0.99])\n",
    "desc_df"
   ]
  },
  {
   "cell_type": "code",
   "execution_count": 245,
   "id": "d0b46173",
   "metadata": {},
   "outputs": [
    {
     "data": {
      "text/plain": [
       "Index(['PassengerId', 'Survived', 'Pclass', 'Name', 'Sex', 'Age', 'SibSp',\n",
       "       'Parch', 'Ticket', 'Fare', 'Cabin', 'Embarked', 'is_married', 'title',\n",
       "       'kept_maiden_name', 'title_converted', 'sex_converted', 'age_group',\n",
       "       'family_size', 'solo_traveler', 'ticket_prefix', 'fare_group',\n",
       "       'cabin_prefix', 'ticket_length', 'ticket_code', 'ticket_prefix_cleaned',\n",
       "       'ticket_numeric', 'ticket_numeric_length', 'ticket_numeric_prefix_2',\n",
       "       'ticket_numeric_prefix_3', 'ticket_group', 'ticket_group_size',\n",
       "       'num_cabins'],\n",
       "      dtype='object')"
      ]
     },
     "execution_count": 245,
     "metadata": {},
     "output_type": "execute_result"
    }
   ],
   "source": [
    "train.columns"
   ]
  },
  {
   "cell_type": "code",
   "execution_count": null,
   "id": "fa1c37e4",
   "metadata": {},
   "outputs": [],
   "source": [
    "If you are a solo traveler, with ticket_group_size more than 1, that means you just ordered teh ticket together, but you are still solo travelers"
   ]
  },
  {
   "cell_type": "code",
   "execution_count": 251,
   "id": "100f839d",
   "metadata": {},
   "outputs": [
    {
     "data": {
      "text/html": [
       "<div>\n",
       "<style scoped>\n",
       "    .dataframe tbody tr th:only-of-type {\n",
       "        vertical-align: middle;\n",
       "    }\n",
       "\n",
       "    .dataframe tbody tr th {\n",
       "        vertical-align: top;\n",
       "    }\n",
       "\n",
       "    .dataframe thead th {\n",
       "        text-align: right;\n",
       "    }\n",
       "</style>\n",
       "<table border=\"1\" class=\"dataframe\">\n",
       "  <thead>\n",
       "    <tr style=\"text-align: right;\">\n",
       "      <th></th>\n",
       "      <th>Name</th>\n",
       "      <th>SibSp</th>\n",
       "      <th>Parch</th>\n",
       "      <th>Age</th>\n",
       "      <th>Ticket</th>\n",
       "      <th>ticket_group_size</th>\n",
       "      <th>Fare</th>\n",
       "    </tr>\n",
       "  </thead>\n",
       "  <tbody>\n",
       "    <tr>\n",
       "      <th>38</th>\n",
       "      <td>Fynney, Mr. Joseph J</td>\n",
       "      <td>0</td>\n",
       "      <td>0</td>\n",
       "      <td>35.0</td>\n",
       "      <td>239865</td>\n",
       "      <td>2</td>\n",
       "      <td>26.0000</td>\n",
       "    </tr>\n",
       "    <tr>\n",
       "      <th>39</th>\n",
       "      <td>Gaskell, Mr. Alfred</td>\n",
       "      <td>0</td>\n",
       "      <td>0</td>\n",
       "      <td>16.0</td>\n",
       "      <td>239865</td>\n",
       "      <td>2</td>\n",
       "      <td>26.0000</td>\n",
       "    </tr>\n",
       "    <tr>\n",
       "      <th>56</th>\n",
       "      <td>Lurette, Miss. Elise</td>\n",
       "      <td>0</td>\n",
       "      <td>0</td>\n",
       "      <td>58.0</td>\n",
       "      <td>PC 17569</td>\n",
       "      <td>2</td>\n",
       "      <td>146.5208</td>\n",
       "    </tr>\n",
       "    <tr>\n",
       "      <th>92</th>\n",
       "      <td>Hassab, Mr. Hammad</td>\n",
       "      <td>0</td>\n",
       "      <td>0</td>\n",
       "      <td>27.0</td>\n",
       "      <td>PC 17572</td>\n",
       "      <td>3</td>\n",
       "      <td>76.7292</td>\n",
       "    </tr>\n",
       "    <tr>\n",
       "      <th>108</th>\n",
       "      <td>Icard, Miss. Amelie</td>\n",
       "      <td>0</td>\n",
       "      <td>0</td>\n",
       "      <td>38.0</td>\n",
       "      <td>113572</td>\n",
       "      <td>2</td>\n",
       "      <td>80.0000</td>\n",
       "    </tr>\n",
       "    <tr>\n",
       "      <th>...</th>\n",
       "      <td>...</td>\n",
       "      <td>...</td>\n",
       "      <td>...</td>\n",
       "      <td>...</td>\n",
       "      <td>...</td>\n",
       "      <td>...</td>\n",
       "      <td>...</td>\n",
       "    </tr>\n",
       "    <tr>\n",
       "      <th>752</th>\n",
       "      <td>Allen, Miss. Elisabeth Walton</td>\n",
       "      <td>0</td>\n",
       "      <td>0</td>\n",
       "      <td>29.0</td>\n",
       "      <td>24160</td>\n",
       "      <td>3</td>\n",
       "      <td>211.3375</td>\n",
       "    </tr>\n",
       "    <tr>\n",
       "      <th>771</th>\n",
       "      <td>Greenberg, Mr. Samuel</td>\n",
       "      <td>0</td>\n",
       "      <td>0</td>\n",
       "      <td>52.0</td>\n",
       "      <td>250647</td>\n",
       "      <td>2</td>\n",
       "      <td>13.0000</td>\n",
       "    </tr>\n",
       "    <tr>\n",
       "      <th>772</th>\n",
       "      <td>Ponesell, Mr. Martin</td>\n",
       "      <td>0</td>\n",
       "      <td>0</td>\n",
       "      <td>34.0</td>\n",
       "      <td>250647</td>\n",
       "      <td>2</td>\n",
       "      <td>13.0000</td>\n",
       "    </tr>\n",
       "    <tr>\n",
       "      <th>813</th>\n",
       "      <td>Mack, Mrs. (Mary)</td>\n",
       "      <td>0</td>\n",
       "      <td>0</td>\n",
       "      <td>57.0</td>\n",
       "      <td>S.O./P.P. 3</td>\n",
       "      <td>2</td>\n",
       "      <td>10.5000</td>\n",
       "    </tr>\n",
       "    <tr>\n",
       "      <th>814</th>\n",
       "      <td>Mudd, Mr. Thomas Charles</td>\n",
       "      <td>0</td>\n",
       "      <td>0</td>\n",
       "      <td>16.0</td>\n",
       "      <td>S.O./P.P. 3</td>\n",
       "      <td>2</td>\n",
       "      <td>10.5000</td>\n",
       "    </tr>\n",
       "  </tbody>\n",
       "</table>\n",
       "<p>75 rows × 7 columns</p>\n",
       "</div>"
      ],
      "text/plain": [
       "                              Name  SibSp  Parch   Age       Ticket   \n",
       "38            Fynney, Mr. Joseph J      0      0  35.0       239865  \\\n",
       "39             Gaskell, Mr. Alfred      0      0  16.0       239865   \n",
       "56            Lurette, Miss. Elise      0      0  58.0     PC 17569   \n",
       "92              Hassab, Mr. Hammad      0      0  27.0     PC 17572   \n",
       "108            Icard, Miss. Amelie      0      0  38.0       113572   \n",
       "..                             ...    ...    ...   ...          ...   \n",
       "752  Allen, Miss. Elisabeth Walton      0      0  29.0        24160   \n",
       "771          Greenberg, Mr. Samuel      0      0  52.0       250647   \n",
       "772           Ponesell, Mr. Martin      0      0  34.0       250647   \n",
       "813              Mack, Mrs. (Mary)      0      0  57.0  S.O./P.P. 3   \n",
       "814       Mudd, Mr. Thomas Charles      0      0  16.0  S.O./P.P. 3   \n",
       "\n",
       "     ticket_group_size      Fare  \n",
       "38                   2   26.0000  \n",
       "39                   2   26.0000  \n",
       "56                   2  146.5208  \n",
       "92                   3   76.7292  \n",
       "108                  2   80.0000  \n",
       "..                 ...       ...  \n",
       "752                  3  211.3375  \n",
       "771                  2   13.0000  \n",
       "772                  2   13.0000  \n",
       "813                  2   10.5000  \n",
       "814                  2   10.5000  \n",
       "\n",
       "[75 rows x 7 columns]"
      ]
     },
     "execution_count": 251,
     "metadata": {},
     "output_type": "execute_result"
    }
   ],
   "source": [
    "solo_travelers = train[train['solo_traveler'] == True]\n",
    "solo_travelers[solo_travelers['ticket_group_size'] > 1][['Name', 'SibSp', 'Parch', 'Age','Ticket', 'ticket_group_size', 'Fare']]"
   ]
  },
  {
   "cell_type": "code",
   "execution_count": 252,
   "id": "819296dc",
   "metadata": {},
   "outputs": [
    {
     "data": {
      "text/plain": [
       "ticket_group_size\n",
       "1    462\n",
       "2     40\n",
       "3     17\n",
       "4      9\n",
       "7      7\n",
       "5      2\n",
       "Name: count, dtype: int64"
      ]
     },
     "execution_count": 252,
     "metadata": {},
     "output_type": "execute_result"
    }
   ],
   "source": [
    "solo_travelers['ticket_group_size'].value_counts()"
   ]
  },
  {
   "cell_type": "code",
   "execution_count": 253,
   "id": "bebde3a5",
   "metadata": {},
   "outputs": [
    {
     "data": {
      "text/html": [
       "<div>\n",
       "<style scoped>\n",
       "    .dataframe tbody tr th:only-of-type {\n",
       "        vertical-align: middle;\n",
       "    }\n",
       "\n",
       "    .dataframe tbody tr th {\n",
       "        vertical-align: top;\n",
       "    }\n",
       "\n",
       "    .dataframe thead th {\n",
       "        text-align: right;\n",
       "    }\n",
       "</style>\n",
       "<table border=\"1\" class=\"dataframe\">\n",
       "  <thead>\n",
       "    <tr style=\"text-align: right;\">\n",
       "      <th></th>\n",
       "      <th>Name</th>\n",
       "      <th>SibSp</th>\n",
       "      <th>Parch</th>\n",
       "      <th>Age</th>\n",
       "      <th>Ticket</th>\n",
       "      <th>ticket_group_size</th>\n",
       "      <th>Fare</th>\n",
       "    </tr>\n",
       "  </thead>\n",
       "  <tbody>\n",
       "    <tr>\n",
       "      <th>126</th>\n",
       "      <td>Hood, Mr. Ambrose Jr</td>\n",
       "      <td>0</td>\n",
       "      <td>0</td>\n",
       "      <td>21.0</td>\n",
       "      <td>S.O.C. 14879</td>\n",
       "      <td>5</td>\n",
       "      <td>73.5</td>\n",
       "    </tr>\n",
       "    <tr>\n",
       "      <th>128</th>\n",
       "      <td>Davies, Mr. Charles Henry</td>\n",
       "      <td>0</td>\n",
       "      <td>0</td>\n",
       "      <td>18.0</td>\n",
       "      <td>S.O.C. 14879</td>\n",
       "      <td>5</td>\n",
       "      <td>73.5</td>\n",
       "    </tr>\n",
       "  </tbody>\n",
       "</table>\n",
       "</div>"
      ],
      "text/plain": [
       "                          Name  SibSp  Parch   Age        Ticket   \n",
       "126       Hood, Mr. Ambrose Jr      0      0  21.0  S.O.C. 14879  \\\n",
       "128  Davies, Mr. Charles Henry      0      0  18.0  S.O.C. 14879   \n",
       "\n",
       "     ticket_group_size  Fare  \n",
       "126                  5  73.5  \n",
       "128                  5  73.5  "
      ]
     },
     "execution_count": 253,
     "metadata": {},
     "output_type": "execute_result"
    }
   ],
   "source": [
    "solo_travelers[solo_travelers['ticket_group_size'] == 5][['Name', 'SibSp', 'Parch', 'Age','Ticket', 'ticket_group_size', 'Fare']]"
   ]
  },
  {
   "cell_type": "markdown",
   "id": "df905e6b",
   "metadata": {},
   "source": [
    "3 brothers travelling with 2 friends"
   ]
  },
  {
   "cell_type": "code",
   "execution_count": 259,
   "id": "426281de",
   "metadata": {},
   "outputs": [
    {
     "data": {
      "text/html": [
       "<div>\n",
       "<style scoped>\n",
       "    .dataframe tbody tr th:only-of-type {\n",
       "        vertical-align: middle;\n",
       "    }\n",
       "\n",
       "    .dataframe tbody tr th {\n",
       "        vertical-align: top;\n",
       "    }\n",
       "\n",
       "    .dataframe thead th {\n",
       "        text-align: right;\n",
       "    }\n",
       "</style>\n",
       "<table border=\"1\" class=\"dataframe\">\n",
       "  <thead>\n",
       "    <tr style=\"text-align: right;\">\n",
       "      <th></th>\n",
       "      <th>Name</th>\n",
       "      <th>SibSp</th>\n",
       "      <th>Parch</th>\n",
       "      <th>Age</th>\n",
       "      <th>Ticket</th>\n",
       "      <th>ticket_group_size</th>\n",
       "      <th>Fare</th>\n",
       "      <th>family_size</th>\n",
       "    </tr>\n",
       "  </thead>\n",
       "  <tbody>\n",
       "    <tr>\n",
       "      <th>30</th>\n",
       "      <td>Rice, Master. Eugene</td>\n",
       "      <td>4</td>\n",
       "      <td>1</td>\n",
       "      <td>2.0</td>\n",
       "      <td>382652</td>\n",
       "      <td>5</td>\n",
       "      <td>29.125</td>\n",
       "      <td>6</td>\n",
       "    </tr>\n",
       "    <tr>\n",
       "      <th>31</th>\n",
       "      <td>Rice, Master. Arthur</td>\n",
       "      <td>4</td>\n",
       "      <td>1</td>\n",
       "      <td>4.0</td>\n",
       "      <td>382652</td>\n",
       "      <td>5</td>\n",
       "      <td>29.125</td>\n",
       "      <td>6</td>\n",
       "    </tr>\n",
       "    <tr>\n",
       "      <th>32</th>\n",
       "      <td>Rice, Master. Eric</td>\n",
       "      <td>4</td>\n",
       "      <td>1</td>\n",
       "      <td>7.0</td>\n",
       "      <td>382652</td>\n",
       "      <td>5</td>\n",
       "      <td>29.125</td>\n",
       "      <td>6</td>\n",
       "    </tr>\n",
       "    <tr>\n",
       "      <th>33</th>\n",
       "      <td>Rice, Master. George Hugh</td>\n",
       "      <td>4</td>\n",
       "      <td>1</td>\n",
       "      <td>8.0</td>\n",
       "      <td>382652</td>\n",
       "      <td>5</td>\n",
       "      <td>29.125</td>\n",
       "      <td>6</td>\n",
       "    </tr>\n",
       "    <tr>\n",
       "      <th>34</th>\n",
       "      <td>Rice, Mrs. William (Margaret Norton)</td>\n",
       "      <td>0</td>\n",
       "      <td>5</td>\n",
       "      <td>39.0</td>\n",
       "      <td>382652</td>\n",
       "      <td>5</td>\n",
       "      <td>29.125</td>\n",
       "      <td>6</td>\n",
       "    </tr>\n",
       "    <tr>\n",
       "      <th>126</th>\n",
       "      <td>Hood, Mr. Ambrose Jr</td>\n",
       "      <td>0</td>\n",
       "      <td>0</td>\n",
       "      <td>21.0</td>\n",
       "      <td>S.O.C. 14879</td>\n",
       "      <td>5</td>\n",
       "      <td>73.500</td>\n",
       "      <td>1</td>\n",
       "    </tr>\n",
       "    <tr>\n",
       "      <th>127</th>\n",
       "      <td>Hickman, Mr. Stanley George</td>\n",
       "      <td>2</td>\n",
       "      <td>0</td>\n",
       "      <td>21.0</td>\n",
       "      <td>S.O.C. 14879</td>\n",
       "      <td>5</td>\n",
       "      <td>73.500</td>\n",
       "      <td>3</td>\n",
       "    </tr>\n",
       "    <tr>\n",
       "      <th>128</th>\n",
       "      <td>Davies, Mr. Charles Henry</td>\n",
       "      <td>0</td>\n",
       "      <td>0</td>\n",
       "      <td>18.0</td>\n",
       "      <td>S.O.C. 14879</td>\n",
       "      <td>5</td>\n",
       "      <td>73.500</td>\n",
       "      <td>1</td>\n",
       "    </tr>\n",
       "    <tr>\n",
       "      <th>129</th>\n",
       "      <td>Hickman, Mr. Leonard Mark</td>\n",
       "      <td>2</td>\n",
       "      <td>0</td>\n",
       "      <td>24.0</td>\n",
       "      <td>S.O.C. 14879</td>\n",
       "      <td>5</td>\n",
       "      <td>73.500</td>\n",
       "      <td>3</td>\n",
       "    </tr>\n",
       "    <tr>\n",
       "      <th>130</th>\n",
       "      <td>Hickman, Mr. Lewis</td>\n",
       "      <td>2</td>\n",
       "      <td>0</td>\n",
       "      <td>32.0</td>\n",
       "      <td>S.O.C. 14879</td>\n",
       "      <td>5</td>\n",
       "      <td>73.500</td>\n",
       "      <td>3</td>\n",
       "    </tr>\n",
       "  </tbody>\n",
       "</table>\n",
       "</div>"
      ],
      "text/plain": [
       "                                     Name  SibSp  Parch   Age        Ticket   \n",
       "30                   Rice, Master. Eugene      4      1   2.0        382652  \\\n",
       "31                   Rice, Master. Arthur      4      1   4.0        382652   \n",
       "32                     Rice, Master. Eric      4      1   7.0        382652   \n",
       "33              Rice, Master. George Hugh      4      1   8.0        382652   \n",
       "34   Rice, Mrs. William (Margaret Norton)      0      5  39.0        382652   \n",
       "126                  Hood, Mr. Ambrose Jr      0      0  21.0  S.O.C. 14879   \n",
       "127           Hickman, Mr. Stanley George      2      0  21.0  S.O.C. 14879   \n",
       "128             Davies, Mr. Charles Henry      0      0  18.0  S.O.C. 14879   \n",
       "129             Hickman, Mr. Leonard Mark      2      0  24.0  S.O.C. 14879   \n",
       "130                    Hickman, Mr. Lewis      2      0  32.0  S.O.C. 14879   \n",
       "\n",
       "     ticket_group_size    Fare  family_size  \n",
       "30                   5  29.125            6  \n",
       "31                   5  29.125            6  \n",
       "32                   5  29.125            6  \n",
       "33                   5  29.125            6  \n",
       "34                   5  29.125            6  \n",
       "126                  5  73.500            1  \n",
       "127                  5  73.500            3  \n",
       "128                  5  73.500            1  \n",
       "129                  5  73.500            3  \n",
       "130                  5  73.500            3  "
      ]
     },
     "execution_count": 259,
     "metadata": {},
     "output_type": "execute_result"
    }
   ],
   "source": [
    "train[train['ticket_group_size'] == 5][['Name', 'SibSp', 'Parch', 'Age','Ticket', 'ticket_group_size', 'Fare', 'family_size']]"
   ]
  },
  {
   "cell_type": "code",
   "execution_count": 261,
   "id": "d3bdd129",
   "metadata": {},
   "outputs": [
    {
     "data": {
      "text/plain": [
       "family_size\n",
       "1     537\n",
       "2     161\n",
       "3     102\n",
       "4      29\n",
       "6      22\n",
       "5      15\n",
       "7      12\n",
       "11      7\n",
       "8       6\n",
       "Name: count, dtype: int64"
      ]
     },
     "execution_count": 261,
     "metadata": {},
     "output_type": "execute_result"
    }
   ],
   "source": [
    "train['family_size'].value_counts()"
   ]
  },
  {
   "cell_type": "code",
   "execution_count": 262,
   "id": "9f9403e5",
   "metadata": {},
   "outputs": [
    {
     "data": {
      "text/html": [
       "<div>\n",
       "<style scoped>\n",
       "    .dataframe tbody tr th:only-of-type {\n",
       "        vertical-align: middle;\n",
       "    }\n",
       "\n",
       "    .dataframe tbody tr th {\n",
       "        vertical-align: top;\n",
       "    }\n",
       "\n",
       "    .dataframe thead th {\n",
       "        text-align: right;\n",
       "    }\n",
       "</style>\n",
       "<table border=\"1\" class=\"dataframe\">\n",
       "  <thead>\n",
       "    <tr style=\"text-align: right;\">\n",
       "      <th></th>\n",
       "      <th>Name</th>\n",
       "      <th>SibSp</th>\n",
       "      <th>Parch</th>\n",
       "      <th>Age</th>\n",
       "      <th>Ticket</th>\n",
       "      <th>ticket_group_size</th>\n",
       "      <th>Fare</th>\n",
       "    </tr>\n",
       "  </thead>\n",
       "  <tbody>\n",
       "    <tr>\n",
       "      <th>239</th>\n",
       "      <td>Sage, Master. Thomas Henry</td>\n",
       "      <td>8</td>\n",
       "      <td>2</td>\n",
       "      <td>NaN</td>\n",
       "      <td>CA. 2343</td>\n",
       "      <td>7</td>\n",
       "      <td>69.55</td>\n",
       "    </tr>\n",
       "    <tr>\n",
       "      <th>240</th>\n",
       "      <td>Sage, Miss. Constance Gladys</td>\n",
       "      <td>8</td>\n",
       "      <td>2</td>\n",
       "      <td>NaN</td>\n",
       "      <td>CA. 2343</td>\n",
       "      <td>7</td>\n",
       "      <td>69.55</td>\n",
       "    </tr>\n",
       "    <tr>\n",
       "      <th>241</th>\n",
       "      <td>Sage, Mr. Frederick</td>\n",
       "      <td>8</td>\n",
       "      <td>2</td>\n",
       "      <td>NaN</td>\n",
       "      <td>CA. 2343</td>\n",
       "      <td>7</td>\n",
       "      <td>69.55</td>\n",
       "    </tr>\n",
       "    <tr>\n",
       "      <th>242</th>\n",
       "      <td>Sage, Mr. George John Jr</td>\n",
       "      <td>8</td>\n",
       "      <td>2</td>\n",
       "      <td>NaN</td>\n",
       "      <td>CA. 2343</td>\n",
       "      <td>7</td>\n",
       "      <td>69.55</td>\n",
       "    </tr>\n",
       "    <tr>\n",
       "      <th>243</th>\n",
       "      <td>Sage, Miss. Stella Anna</td>\n",
       "      <td>8</td>\n",
       "      <td>2</td>\n",
       "      <td>NaN</td>\n",
       "      <td>CA. 2343</td>\n",
       "      <td>7</td>\n",
       "      <td>69.55</td>\n",
       "    </tr>\n",
       "    <tr>\n",
       "      <th>244</th>\n",
       "      <td>Sage, Mr. Douglas Bullen</td>\n",
       "      <td>8</td>\n",
       "      <td>2</td>\n",
       "      <td>NaN</td>\n",
       "      <td>CA. 2343</td>\n",
       "      <td>7</td>\n",
       "      <td>69.55</td>\n",
       "    </tr>\n",
       "    <tr>\n",
       "      <th>245</th>\n",
       "      <td>Sage, Miss. Dorothy Edith \"Dolly\"</td>\n",
       "      <td>8</td>\n",
       "      <td>2</td>\n",
       "      <td>NaN</td>\n",
       "      <td>CA. 2343</td>\n",
       "      <td>7</td>\n",
       "      <td>69.55</td>\n",
       "    </tr>\n",
       "  </tbody>\n",
       "</table>\n",
       "</div>"
      ],
      "text/plain": [
       "                                  Name  SibSp  Parch  Age    Ticket   \n",
       "239         Sage, Master. Thomas Henry      8      2  NaN  CA. 2343  \\\n",
       "240       Sage, Miss. Constance Gladys      8      2  NaN  CA. 2343   \n",
       "241                Sage, Mr. Frederick      8      2  NaN  CA. 2343   \n",
       "242           Sage, Mr. George John Jr      8      2  NaN  CA. 2343   \n",
       "243            Sage, Miss. Stella Anna      8      2  NaN  CA. 2343   \n",
       "244           Sage, Mr. Douglas Bullen      8      2  NaN  CA. 2343   \n",
       "245  Sage, Miss. Dorothy Edith \"Dolly\"      8      2  NaN  CA. 2343   \n",
       "\n",
       "     ticket_group_size   Fare  \n",
       "239                  7  69.55  \n",
       "240                  7  69.55  \n",
       "241                  7  69.55  \n",
       "242                  7  69.55  \n",
       "243                  7  69.55  \n",
       "244                  7  69.55  \n",
       "245                  7  69.55  "
      ]
     },
     "execution_count": 262,
     "metadata": {},
     "output_type": "execute_result"
    }
   ],
   "source": [
    "train[train['family_size'] == 11][['Name', 'SibSp', 'Parch', 'Age','Ticket', 'ticket_group_size', 'Fare']]"
   ]
  },
  {
   "cell_type": "code",
   "execution_count": 267,
   "id": "9028c171",
   "metadata": {},
   "outputs": [
    {
     "data": {
      "text/plain": [
       "7"
      ]
     },
     "execution_count": 267,
     "metadata": {},
     "output_type": "execute_result"
    }
   ],
   "source": [
    "train[train['family_size'] == 11].shape[0]"
   ]
  },
  {
   "cell_type": "code",
   "execution_count": 265,
   "id": "7121fabd",
   "metadata": {},
   "outputs": [],
   "source": [
    "test = pd.read_csv('test.csv')"
   ]
  },
  {
   "cell_type": "code",
   "execution_count": 266,
   "id": "43a0c2db",
   "metadata": {},
   "outputs": [
    {
     "data": {
      "text/html": [
       "<div>\n",
       "<style scoped>\n",
       "    .dataframe tbody tr th:only-of-type {\n",
       "        vertical-align: middle;\n",
       "    }\n",
       "\n",
       "    .dataframe tbody tr th {\n",
       "        vertical-align: top;\n",
       "    }\n",
       "\n",
       "    .dataframe thead th {\n",
       "        text-align: right;\n",
       "    }\n",
       "</style>\n",
       "<table border=\"1\" class=\"dataframe\">\n",
       "  <thead>\n",
       "    <tr style=\"text-align: right;\">\n",
       "      <th></th>\n",
       "      <th>Name</th>\n",
       "      <th>SibSp</th>\n",
       "      <th>Parch</th>\n",
       "      <th>Age</th>\n",
       "      <th>Ticket</th>\n",
       "      <th>Fare</th>\n",
       "    </tr>\n",
       "  </thead>\n",
       "  <tbody>\n",
       "    <tr>\n",
       "      <th>188</th>\n",
       "      <td>Sage, Miss. Ada</td>\n",
       "      <td>8</td>\n",
       "      <td>2</td>\n",
       "      <td>NaN</td>\n",
       "      <td>CA. 2343</td>\n",
       "      <td>69.55</td>\n",
       "    </tr>\n",
       "    <tr>\n",
       "      <th>342</th>\n",
       "      <td>Sage, Mr. John George</td>\n",
       "      <td>1</td>\n",
       "      <td>9</td>\n",
       "      <td>NaN</td>\n",
       "      <td>CA. 2343</td>\n",
       "      <td>69.55</td>\n",
       "    </tr>\n",
       "    <tr>\n",
       "      <th>360</th>\n",
       "      <td>Sage, Master. William Henry</td>\n",
       "      <td>8</td>\n",
       "      <td>2</td>\n",
       "      <td>14.5</td>\n",
       "      <td>CA. 2343</td>\n",
       "      <td>69.55</td>\n",
       "    </tr>\n",
       "    <tr>\n",
       "      <th>365</th>\n",
       "      <td>Sage, Mrs. John (Annie Bullen)</td>\n",
       "      <td>1</td>\n",
       "      <td>9</td>\n",
       "      <td>NaN</td>\n",
       "      <td>CA. 2343</td>\n",
       "      <td>69.55</td>\n",
       "    </tr>\n",
       "  </tbody>\n",
       "</table>\n",
       "</div>"
      ],
      "text/plain": [
       "                               Name  SibSp  Parch   Age    Ticket   Fare\n",
       "188                 Sage, Miss. Ada      8      2   NaN  CA. 2343  69.55\n",
       "342           Sage, Mr. John George      1      9   NaN  CA. 2343  69.55\n",
       "360     Sage, Master. William Henry      8      2  14.5  CA. 2343  69.55\n",
       "365  Sage, Mrs. John (Annie Bullen)      1      9   NaN  CA. 2343  69.55"
      ]
     },
     "execution_count": 266,
     "metadata": {},
     "output_type": "execute_result"
    }
   ],
   "source": [
    "x_test = test[test['Ticket'] == 'CA. 2343']\n",
    "x_test[['Name', 'SibSp', 'Parch', 'Age','Ticket','Fare']]"
   ]
  },
  {
   "cell_type": "markdown",
   "id": "38347b55",
   "metadata": {},
   "source": [
    "### INSIGHT KAGGLE COMPETITION SET DATA UP POORLY"
   ]
  },
  {
   "cell_type": "markdown",
   "id": "0a394c42",
   "metadata": {},
   "source": [
    "can't really use family size or ticket group size to predict survivability, train tells you which ticket groups are most likely to survive, which is cheating on the test data, since you already have that information"
   ]
  },
  {
   "cell_type": "code",
   "execution_count": 244,
   "id": "e3e0020c",
   "metadata": {},
   "outputs": [
    {
     "name": "stdout",
     "output_type": "stream",
     "text": [
      "Ticket Group size distribution for 1 cabins\n"
     ]
    },
    {
     "data": {
      "text/html": [
       "<div>\n",
       "<style scoped>\n",
       "    .dataframe tbody tr th:only-of-type {\n",
       "        vertical-align: middle;\n",
       "    }\n",
       "\n",
       "    .dataframe tbody tr th {\n",
       "        vertical-align: top;\n",
       "    }\n",
       "\n",
       "    .dataframe thead th {\n",
       "        text-align: right;\n",
       "    }\n",
       "</style>\n",
       "<table border=\"1\" class=\"dataframe\">\n",
       "  <thead>\n",
       "    <tr style=\"text-align: right;\">\n",
       "      <th></th>\n",
       "      <th>percentile</th>\n",
       "      <th>ticket_group_size</th>\n",
       "    </tr>\n",
       "  </thead>\n",
       "  <tbody>\n",
       "    <tr>\n",
       "      <th>0</th>\n",
       "      <td>count</td>\n",
       "      <td>180.000000</td>\n",
       "    </tr>\n",
       "    <tr>\n",
       "      <th>1</th>\n",
       "      <td>mean</td>\n",
       "      <td>1.727778</td>\n",
       "    </tr>\n",
       "    <tr>\n",
       "      <th>2</th>\n",
       "      <td>std</td>\n",
       "      <td>0.796855</td>\n",
       "    </tr>\n",
       "    <tr>\n",
       "      <th>3</th>\n",
       "      <td>min</td>\n",
       "      <td>1.000000</td>\n",
       "    </tr>\n",
       "    <tr>\n",
       "      <th>4</th>\n",
       "      <td>25%</td>\n",
       "      <td>1.000000</td>\n",
       "    </tr>\n",
       "    <tr>\n",
       "      <th>5</th>\n",
       "      <td>50%</td>\n",
       "      <td>2.000000</td>\n",
       "    </tr>\n",
       "    <tr>\n",
       "      <th>6</th>\n",
       "      <td>75%</td>\n",
       "      <td>2.000000</td>\n",
       "    </tr>\n",
       "    <tr>\n",
       "      <th>7</th>\n",
       "      <td>max</td>\n",
       "      <td>4.000000</td>\n",
       "    </tr>\n",
       "    <tr>\n",
       "      <th>8</th>\n",
       "      <td>80.0%</td>\n",
       "      <td>2.000000</td>\n",
       "    </tr>\n",
       "    <tr>\n",
       "      <th>9</th>\n",
       "      <td>85.0%</td>\n",
       "      <td>3.000000</td>\n",
       "    </tr>\n",
       "    <tr>\n",
       "      <th>10</th>\n",
       "      <td>90.0%</td>\n",
       "      <td>3.000000</td>\n",
       "    </tr>\n",
       "    <tr>\n",
       "      <th>11</th>\n",
       "      <td>95.0%</td>\n",
       "      <td>3.000000</td>\n",
       "    </tr>\n",
       "    <tr>\n",
       "      <th>12</th>\n",
       "      <td>99.0%</td>\n",
       "      <td>4.000000</td>\n",
       "    </tr>\n",
       "  </tbody>\n",
       "</table>\n",
       "</div>"
      ],
      "text/plain": [
       "   percentile  ticket_group_size\n",
       "0       count         180.000000\n",
       "1        mean           1.727778\n",
       "2         std           0.796855\n",
       "3         min           1.000000\n",
       "4         25%           1.000000\n",
       "5         50%           2.000000\n",
       "6         75%           2.000000\n",
       "7         max           4.000000\n",
       "8       80.0%           2.000000\n",
       "9       85.0%           3.000000\n",
       "10      90.0%           3.000000\n",
       "11      95.0%           3.000000\n",
       "12      99.0%           4.000000"
      ]
     },
     "metadata": {},
     "output_type": "display_data"
    },
    {
     "name": "stdout",
     "output_type": "stream",
     "text": [
      "Ticket Group size distribution for 2 cabins\n"
     ]
    },
    {
     "data": {
      "text/html": [
       "<div>\n",
       "<style scoped>\n",
       "    .dataframe tbody tr th:only-of-type {\n",
       "        vertical-align: middle;\n",
       "    }\n",
       "\n",
       "    .dataframe tbody tr th {\n",
       "        vertical-align: top;\n",
       "    }\n",
       "\n",
       "    .dataframe thead th {\n",
       "        text-align: right;\n",
       "    }\n",
       "</style>\n",
       "<table border=\"1\" class=\"dataframe\">\n",
       "  <thead>\n",
       "    <tr style=\"text-align: right;\">\n",
       "      <th></th>\n",
       "      <th>percentile</th>\n",
       "      <th>ticket_group_size</th>\n",
       "    </tr>\n",
       "  </thead>\n",
       "  <tbody>\n",
       "    <tr>\n",
       "      <th>0</th>\n",
       "      <td>count</td>\n",
       "      <td>16.000000</td>\n",
       "    </tr>\n",
       "    <tr>\n",
       "      <th>1</th>\n",
       "      <td>mean</td>\n",
       "      <td>2.750000</td>\n",
       "    </tr>\n",
       "    <tr>\n",
       "      <th>2</th>\n",
       "      <td>std</td>\n",
       "      <td>1.341641</td>\n",
       "    </tr>\n",
       "    <tr>\n",
       "      <th>3</th>\n",
       "      <td>min</td>\n",
       "      <td>1.000000</td>\n",
       "    </tr>\n",
       "    <tr>\n",
       "      <th>4</th>\n",
       "      <td>25%</td>\n",
       "      <td>1.750000</td>\n",
       "    </tr>\n",
       "    <tr>\n",
       "      <th>5</th>\n",
       "      <td>50%</td>\n",
       "      <td>3.000000</td>\n",
       "    </tr>\n",
       "    <tr>\n",
       "      <th>6</th>\n",
       "      <td>75%</td>\n",
       "      <td>4.000000</td>\n",
       "    </tr>\n",
       "    <tr>\n",
       "      <th>7</th>\n",
       "      <td>max</td>\n",
       "      <td>4.000000</td>\n",
       "    </tr>\n",
       "    <tr>\n",
       "      <th>8</th>\n",
       "      <td>80.0%</td>\n",
       "      <td>4.000000</td>\n",
       "    </tr>\n",
       "    <tr>\n",
       "      <th>9</th>\n",
       "      <td>85.0%</td>\n",
       "      <td>4.000000</td>\n",
       "    </tr>\n",
       "    <tr>\n",
       "      <th>10</th>\n",
       "      <td>90.0%</td>\n",
       "      <td>4.000000</td>\n",
       "    </tr>\n",
       "    <tr>\n",
       "      <th>11</th>\n",
       "      <td>95.0%</td>\n",
       "      <td>4.000000</td>\n",
       "    </tr>\n",
       "    <tr>\n",
       "      <th>12</th>\n",
       "      <td>99.0%</td>\n",
       "      <td>4.000000</td>\n",
       "    </tr>\n",
       "  </tbody>\n",
       "</table>\n",
       "</div>"
      ],
      "text/plain": [
       "   percentile  ticket_group_size\n",
       "0       count          16.000000\n",
       "1        mean           2.750000\n",
       "2         std           1.341641\n",
       "3         min           1.000000\n",
       "4         25%           1.750000\n",
       "5         50%           3.000000\n",
       "6         75%           4.000000\n",
       "7         max           4.000000\n",
       "8       80.0%           4.000000\n",
       "9       85.0%           4.000000\n",
       "10      90.0%           4.000000\n",
       "11      95.0%           4.000000\n",
       "12      99.0%           4.000000"
      ]
     },
     "metadata": {},
     "output_type": "display_data"
    },
    {
     "name": "stdout",
     "output_type": "stream",
     "text": [
      "Ticket Group size distribution for 3 cabins\n"
     ]
    },
    {
     "data": {
      "text/html": [
       "<div>\n",
       "<style scoped>\n",
       "    .dataframe tbody tr th:only-of-type {\n",
       "        vertical-align: middle;\n",
       "    }\n",
       "\n",
       "    .dataframe tbody tr th {\n",
       "        vertical-align: top;\n",
       "    }\n",
       "\n",
       "    .dataframe thead th {\n",
       "        text-align: right;\n",
       "    }\n",
       "</style>\n",
       "<table border=\"1\" class=\"dataframe\">\n",
       "  <thead>\n",
       "    <tr style=\"text-align: right;\">\n",
       "      <th></th>\n",
       "      <th>percentile</th>\n",
       "      <th>ticket_group_size</th>\n",
       "    </tr>\n",
       "  </thead>\n",
       "  <tbody>\n",
       "    <tr>\n",
       "      <th>0</th>\n",
       "      <td>count</td>\n",
       "      <td>6.000000</td>\n",
       "    </tr>\n",
       "    <tr>\n",
       "      <th>1</th>\n",
       "      <td>mean</td>\n",
       "      <td>3.333333</td>\n",
       "    </tr>\n",
       "    <tr>\n",
       "      <th>2</th>\n",
       "      <td>std</td>\n",
       "      <td>1.211060</td>\n",
       "    </tr>\n",
       "    <tr>\n",
       "      <th>3</th>\n",
       "      <td>min</td>\n",
       "      <td>1.000000</td>\n",
       "    </tr>\n",
       "    <tr>\n",
       "      <th>4</th>\n",
       "      <td>25%</td>\n",
       "      <td>3.250000</td>\n",
       "    </tr>\n",
       "    <tr>\n",
       "      <th>5</th>\n",
       "      <td>50%</td>\n",
       "      <td>4.000000</td>\n",
       "    </tr>\n",
       "    <tr>\n",
       "      <th>6</th>\n",
       "      <td>75%</td>\n",
       "      <td>4.000000</td>\n",
       "    </tr>\n",
       "    <tr>\n",
       "      <th>7</th>\n",
       "      <td>max</td>\n",
       "      <td>4.000000</td>\n",
       "    </tr>\n",
       "    <tr>\n",
       "      <th>8</th>\n",
       "      <td>80.0%</td>\n",
       "      <td>4.000000</td>\n",
       "    </tr>\n",
       "    <tr>\n",
       "      <th>9</th>\n",
       "      <td>85.0%</td>\n",
       "      <td>4.000000</td>\n",
       "    </tr>\n",
       "    <tr>\n",
       "      <th>10</th>\n",
       "      <td>90.0%</td>\n",
       "      <td>4.000000</td>\n",
       "    </tr>\n",
       "    <tr>\n",
       "      <th>11</th>\n",
       "      <td>95.0%</td>\n",
       "      <td>4.000000</td>\n",
       "    </tr>\n",
       "    <tr>\n",
       "      <th>12</th>\n",
       "      <td>99.0%</td>\n",
       "      <td>4.000000</td>\n",
       "    </tr>\n",
       "  </tbody>\n",
       "</table>\n",
       "</div>"
      ],
      "text/plain": [
       "   percentile  ticket_group_size\n",
       "0       count           6.000000\n",
       "1        mean           3.333333\n",
       "2         std           1.211060\n",
       "3         min           1.000000\n",
       "4         25%           3.250000\n",
       "5         50%           4.000000\n",
       "6         75%           4.000000\n",
       "7         max           4.000000\n",
       "8       80.0%           4.000000\n",
       "9       85.0%           4.000000\n",
       "10      90.0%           4.000000\n",
       "11      95.0%           4.000000\n",
       "12      99.0%           4.000000"
      ]
     },
     "metadata": {},
     "output_type": "display_data"
    },
    {
     "name": "stdout",
     "output_type": "stream",
     "text": [
      "Ticket Group size distribution for 4 cabins\n"
     ]
    },
    {
     "data": {
      "text/html": [
       "<div>\n",
       "<style scoped>\n",
       "    .dataframe tbody tr th:only-of-type {\n",
       "        vertical-align: middle;\n",
       "    }\n",
       "\n",
       "    .dataframe tbody tr th {\n",
       "        vertical-align: top;\n",
       "    }\n",
       "\n",
       "    .dataframe thead th {\n",
       "        text-align: right;\n",
       "    }\n",
       "</style>\n",
       "<table border=\"1\" class=\"dataframe\">\n",
       "  <thead>\n",
       "    <tr style=\"text-align: right;\">\n",
       "      <th></th>\n",
       "      <th>percentile</th>\n",
       "      <th>ticket_group_size</th>\n",
       "    </tr>\n",
       "  </thead>\n",
       "  <tbody>\n",
       "    <tr>\n",
       "      <th>0</th>\n",
       "      <td>count</td>\n",
       "      <td>2.0</td>\n",
       "    </tr>\n",
       "    <tr>\n",
       "      <th>1</th>\n",
       "      <td>mean</td>\n",
       "      <td>2.0</td>\n",
       "    </tr>\n",
       "    <tr>\n",
       "      <th>2</th>\n",
       "      <td>std</td>\n",
       "      <td>0.0</td>\n",
       "    </tr>\n",
       "    <tr>\n",
       "      <th>3</th>\n",
       "      <td>min</td>\n",
       "      <td>2.0</td>\n",
       "    </tr>\n",
       "    <tr>\n",
       "      <th>4</th>\n",
       "      <td>25%</td>\n",
       "      <td>2.0</td>\n",
       "    </tr>\n",
       "    <tr>\n",
       "      <th>5</th>\n",
       "      <td>50%</td>\n",
       "      <td>2.0</td>\n",
       "    </tr>\n",
       "    <tr>\n",
       "      <th>6</th>\n",
       "      <td>75%</td>\n",
       "      <td>2.0</td>\n",
       "    </tr>\n",
       "    <tr>\n",
       "      <th>7</th>\n",
       "      <td>max</td>\n",
       "      <td>2.0</td>\n",
       "    </tr>\n",
       "    <tr>\n",
       "      <th>8</th>\n",
       "      <td>80.0%</td>\n",
       "      <td>2.0</td>\n",
       "    </tr>\n",
       "    <tr>\n",
       "      <th>9</th>\n",
       "      <td>85.0%</td>\n",
       "      <td>2.0</td>\n",
       "    </tr>\n",
       "    <tr>\n",
       "      <th>10</th>\n",
       "      <td>90.0%</td>\n",
       "      <td>2.0</td>\n",
       "    </tr>\n",
       "    <tr>\n",
       "      <th>11</th>\n",
       "      <td>95.0%</td>\n",
       "      <td>2.0</td>\n",
       "    </tr>\n",
       "    <tr>\n",
       "      <th>12</th>\n",
       "      <td>99.0%</td>\n",
       "      <td>2.0</td>\n",
       "    </tr>\n",
       "  </tbody>\n",
       "</table>\n",
       "</div>"
      ],
      "text/plain": [
       "   percentile  ticket_group_size\n",
       "0       count                2.0\n",
       "1        mean                2.0\n",
       "2         std                0.0\n",
       "3         min                2.0\n",
       "4         25%                2.0\n",
       "5         50%                2.0\n",
       "6         75%                2.0\n",
       "7         max                2.0\n",
       "8       80.0%                2.0\n",
       "9       85.0%                2.0\n",
       "10      90.0%                2.0\n",
       "11      95.0%                2.0\n",
       "12      99.0%                2.0"
      ]
     },
     "metadata": {},
     "output_type": "display_data"
    }
   ],
   "source": [
    "for n in [1, 2, 3, 4]:\n",
    "    print(f\"Ticket Group size distribution for {n} cabins\")\n",
    "    n_cabins = train[train[\"num_cabins\"] == n]\n",
    "    desc_df = describe(n_cabins, \"ticket_group_size\", [0.8, 0.85, 0.9, 0.95, 0.99])\n",
    "    display(desc_df)"
   ]
  },
  {
   "cell_type": "code",
   "execution_count": 269,
   "id": "395d92fa",
   "metadata": {},
   "outputs": [
    {
     "data": {
      "text/plain": [
       "count    16.000000\n",
       "mean      2.687500\n",
       "std       1.302242\n",
       "min       1.000000\n",
       "25%       1.750000\n",
       "50%       2.500000\n",
       "75%       4.000000\n",
       "max       4.000000\n",
       "Name: family_size, dtype: float64"
      ]
     },
     "execution_count": 269,
     "metadata": {},
     "output_type": "execute_result"
    }
   ],
   "source": [
    "train[train['num_cabins'] == 2]['family_size'].describe()"
   ]
  },
  {
   "cell_type": "code",
   "execution_count": 270,
   "id": "fcb0d65b",
   "metadata": {},
   "outputs": [
    {
     "data": {
      "text/plain": [
       "count    6.000000\n",
       "mean     4.500000\n",
       "std      2.345208\n",
       "min      1.000000\n",
       "25%      3.000000\n",
       "50%      6.000000\n",
       "75%      6.000000\n",
       "max      6.000000\n",
       "Name: family_size, dtype: float64"
      ]
     },
     "execution_count": 270,
     "metadata": {},
     "output_type": "execute_result"
    }
   ],
   "source": [
    "train[train['num_cabins'] == 3]['family_size'].describe()"
   ]
  },
  {
   "cell_type": "code",
   "execution_count": 271,
   "id": "8f930487",
   "metadata": {},
   "outputs": [
    {
     "data": {
      "text/plain": [
       "array([nan, 'C85', 'C123', 'E46', 'G6', 'C103', 'D56', 'A6',\n",
       "       'C23 C25 C27', 'B78', 'B80', 'D33', 'D49', 'B30', 'C52', 'B28',\n",
       "       'C83', 'F33', 'F G73', 'E31', 'A5', 'D10 D12', 'D26', 'C110',\n",
       "       'A14', 'B58 B60', 'E101', 'F E69', 'D47', 'B86', 'B82 B84', 'F2',\n",
       "       'C2', 'E33', 'B19', 'A7', 'C49', 'F4', 'A32', 'B4', 'A31', 'D36',\n",
       "       'D48', 'D15', 'C93', 'C78', 'D35', 'C87', 'B77', 'B79',\n",
       "       'B51 B53 B55', 'B101', 'E67', 'E68', 'B94', 'C125', 'C91', 'C99',\n",
       "       'C32', 'C118', 'D7', 'D9', 'D11', 'A19', 'C46', 'B49', 'D',\n",
       "       'C22 C26', 'C106', 'C70', 'C68', 'C65', 'E36', 'A20', 'C54', 'C50',\n",
       "       'B57 B59 B63 B66', 'C7', 'E34', 'E40', 'B18', 'C124', 'T', 'C128',\n",
       "       'D37', 'B35', 'E50', 'C82', 'C62 C64', 'C45', 'B96 B98', 'E10',\n",
       "       'E44', 'A34', 'C104', 'C111', 'C92', 'E38', 'D21', 'E12', 'E63',\n",
       "       'B37', 'C30', 'D20', 'E25', 'D46', 'B73', 'B69', 'C95', 'B38',\n",
       "       'C86', 'B39', 'B22', 'A16', 'C101', 'A10', 'B41', 'D19', 'D50',\n",
       "       'A23', 'B50', 'A26', 'E58', 'C126', 'B71', 'B5', 'B3', 'B20',\n",
       "       'F G63', 'E24', 'C90', 'E8', 'D45', 'D30', 'E121', 'E77', 'F38',\n",
       "       'D6', 'D17', 'A36', 'B102', 'E49', 'C47', 'D28', 'E17', 'A24',\n",
       "       'B42', 'C148'], dtype=object)"
      ]
     },
     "execution_count": 271,
     "metadata": {},
     "output_type": "execute_result"
    }
   ],
   "source": [
    "train['Cabin'].unique()"
   ]
  },
  {
   "cell_type": "code",
   "execution_count": 274,
   "id": "5cda2616",
   "metadata": {},
   "outputs": [
    {
     "data": {
      "text/plain": [
       "array([nan,  1.,  3.,  2.,  4.])"
      ]
     },
     "execution_count": 274,
     "metadata": {},
     "output_type": "execute_result"
    }
   ],
   "source": [
    "train[\"num_cabins\"].unique()"
   ]
  },
  {
   "cell_type": "markdown",
   "id": "fac5fb56",
   "metadata": {},
   "source": [
    "### Filling in number of cabins"
   ]
  },
  {
   "cell_type": "code",
   "execution_count": 276,
   "id": "01ed000b",
   "metadata": {},
   "outputs": [],
   "source": [
    "def get_num_cabins(row):\n",
    "    if not pd.isnull(row['num_cabins']):\n",
    "        return row[\"num_cabins\"]\n",
    "    else:\n",
    "        if row[\"ticket_group_size\"] <= 2:\n",
    "            return 1\n",
    "        elif row[\"ticket_group_size\"] > 2 and row[\"ticket_group_size\"] < 5 and row[\"family_size\"] <= 4: \n",
    "            return 2\n",
    "        elif row[\"ticket_group_size\"] > 2 and row[\"ticket_group_size\"] < 5 and row[\"family_size\"] >= 5:\n",
    "            return 3\n",
    "        else:\n",
    "            return 4"
   ]
  },
  {
   "cell_type": "code",
   "execution_count": 277,
   "id": "8ffe4692",
   "metadata": {},
   "outputs": [],
   "source": [
    "train[\"num_cabins\"] = train.apply(lambda row: get_num_cabins(row), axis='columns')"
   ]
  },
  {
   "cell_type": "code",
   "execution_count": 278,
   "id": "9878e013",
   "metadata": {},
   "outputs": [
    {
     "data": {
      "text/plain": [
       "0"
      ]
     },
     "execution_count": 278,
     "metadata": {},
     "output_type": "execute_result"
    }
   ],
   "source": [
    "train[\"num_cabins\"].isna().sum()"
   ]
  },
  {
   "cell_type": "code",
   "execution_count": 280,
   "id": "ca7f93ac",
   "metadata": {},
   "outputs": [
    {
     "data": {
      "text/plain": [
       "<Axes: >"
      ]
     },
     "execution_count": 280,
     "metadata": {},
     "output_type": "execute_result"
    },
    {
     "data": {
      "image/png": "[encoded data removed]",
      "text/plain": [
       "<Figure size 640x480 with 1 Axes>"
      ]
     },
     "metadata": {},
     "output_type": "display_data"
    }
   ],
   "source": [
    "missing_cabins = train[pd.isnull(train[\"Cabin\"])]\n",
    "missing_cabins['num_cabins'].hist()"
   ]
  },
  {
   "cell_type": "code",
   "execution_count": 281,
   "id": "d7c2011f",
   "metadata": {},
   "outputs": [
    {
     "data": {
      "text/plain": [
       "Index(['PassengerId', 'Survived', 'Pclass', 'Name', 'Sex', 'Age', 'SibSp',\n",
       "       'Parch', 'Ticket', 'Fare', 'Cabin', 'Embarked', 'is_married', 'title',\n",
       "       'kept_maiden_name', 'title_converted', 'sex_converted', 'age_group',\n",
       "       'family_size', 'solo_traveler', 'ticket_prefix', 'fare_group',\n",
       "       'cabin_prefix', 'ticket_length', 'ticket_code', 'ticket_prefix_cleaned',\n",
       "       'ticket_numeric', 'ticket_numeric_length', 'ticket_numeric_prefix_2',\n",
       "       'ticket_numeric_prefix_3', 'ticket_group', 'ticket_group_size',\n",
       "       'num_cabins'],\n",
       "      dtype='object')"
      ]
     },
     "execution_count": 281,
     "metadata": {},
     "output_type": "execute_result"
    }
   ],
   "source": [
    "train.columns"
   ]
  },
  {
   "cell_type": "code",
   "execution_count": 214,
   "id": "8b8c96ad",
   "metadata": {},
   "outputs": [
    {
     "data": {
      "text/plain": [
       "49"
      ]
     },
     "execution_count": 214,
     "metadata": {},
     "output_type": "execute_result"
    }
   ],
   "source": [
    "missing_cabins[missing_cabins['ticket_group_size'] > 4].shape[0]"
   ]
  },
  {
   "cell_type": "code",
   "execution_count": 206,
   "id": "da0faaf4",
   "metadata": {},
   "outputs": [
    {
     "data": {
      "text/plain": [
       "count    16.000000\n",
       "mean      2.750000\n",
       "std       1.341641\n",
       "min       1.000000\n",
       "25%       1.750000\n",
       "50%       3.000000\n",
       "75%       4.000000\n",
       "max       4.000000\n",
       "Name: ticket_group_size, dtype: float64"
      ]
     },
     "execution_count": 206,
     "metadata": {},
     "output_type": "execute_result"
    }
   ],
   "source": [
    "train[train[\"num_cabins\"] == 2]['ticket_group_size'].describe() # 2 or 3 people"
   ]
  },
  {
   "cell_type": "code",
   "execution_count": 204,
   "id": "b88de75c",
   "metadata": {},
   "outputs": [
    {
     "data": {
      "text/plain": [
       "count    6.000000\n",
       "mean     3.500000\n",
       "std      2.345208\n",
       "min      0.000000\n",
       "25%      2.000000\n",
       "50%      5.000000\n",
       "75%      5.000000\n",
       "max      5.000000\n",
       "Name: family_size, dtype: float64"
      ]
     },
     "execution_count": 204,
     "metadata": {},
     "output_type": "execute_result"
    }
   ],
   "source": [
    "train[train[\"num_cabins\"] == 3]['family_size'].describe()"
   ]
  },
  {
   "cell_type": "code",
   "execution_count": 196,
   "id": "cfed5486",
   "metadata": {},
   "outputs": [
    {
     "data": {
      "text/plain": [
       "count    180.000000\n",
       "mean       0.683333\n",
       "std        0.772972\n",
       "min        0.000000\n",
       "25%        0.000000\n",
       "50%        1.000000\n",
       "75%        1.000000\n",
       "max        3.000000\n",
       "Name: family_size, dtype: float64"
      ]
     },
     "execution_count": 196,
     "metadata": {},
     "output_type": "execute_result"
    }
   ],
   "source": [
    "train[train[\"num_cabins\"] == 1]['family_size'].describe()"
   ]
  },
  {
   "cell_type": "code",
   "execution_count": 197,
   "id": "9ebf9571",
   "metadata": {},
   "outputs": [
    {
     "data": {
      "text/plain": [
       "count    687.000000\n",
       "mean       0.912664\n",
       "std        1.740765\n",
       "min        0.000000\n",
       "25%        0.000000\n",
       "50%        0.000000\n",
       "75%        1.000000\n",
       "max       10.000000\n",
       "Name: family_size, dtype: float64"
      ]
     },
     "execution_count": 197,
     "metadata": {},
     "output_type": "execute_result"
    }
   ],
   "source": [
    "train[pd.isnull(train[\"num_cabins\"])]['family_size'].describe()"
   ]
  },
  {
   "cell_type": "code",
   "execution_count": 198,
   "id": "0a559c5b",
   "metadata": {},
   "outputs": [],
   "source": [
    "missing_cabin = train[pd.isnull(train[\"num_cabins\"])]"
   ]
  },
  {
   "cell_type": "code",
   "execution_count": 200,
   "id": "73beecef",
   "metadata": {},
   "outputs": [
    {
     "data": {
      "text/plain": [
       "149"
      ]
     },
     "execution_count": 200,
     "metadata": {},
     "output_type": "execute_result"
    }
   ],
   "source": [
    "missing_cabin[missing_cabin['family_size'] > 1].shape[0]"
   ]
  },
  {
   "cell_type": "code",
   "execution_count": 201,
   "id": "bbe98b29",
   "metadata": {},
   "outputs": [
    {
     "data": {
      "text/plain": [
       "(687, 33)"
      ]
     },
     "execution_count": 201,
     "metadata": {},
     "output_type": "execute_result"
    }
   ],
   "source": [
    "missing_cabin.shape"
   ]
  },
  {
   "cell_type": "code",
   "execution_count": 193,
   "id": "4691b426",
   "metadata": {},
   "outputs": [
    {
     "data": {
      "text/html": [
       "<div>\n",
       "<style scoped>\n",
       "    .dataframe tbody tr th:only-of-type {\n",
       "        vertical-align: middle;\n",
       "    }\n",
       "\n",
       "    .dataframe tbody tr th {\n",
       "        vertical-align: top;\n",
       "    }\n",
       "\n",
       "    .dataframe thead th {\n",
       "        text-align: right;\n",
       "    }\n",
       "</style>\n",
       "<table border=\"1\" class=\"dataframe\">\n",
       "  <thead>\n",
       "    <tr style=\"text-align: right;\">\n",
       "      <th></th>\n",
       "      <th>PassengerId</th>\n",
       "      <th>Survived</th>\n",
       "      <th>Pclass</th>\n",
       "      <th>Name</th>\n",
       "      <th>Sex</th>\n",
       "      <th>Age</th>\n",
       "      <th>SibSp</th>\n",
       "      <th>Parch</th>\n",
       "      <th>Ticket</th>\n",
       "      <th>Fare</th>\n",
       "      <th>...</th>\n",
       "      <th>ticket_length</th>\n",
       "      <th>ticket_code</th>\n",
       "      <th>ticket_prefix_cleaned</th>\n",
       "      <th>ticket_numeric</th>\n",
       "      <th>ticket_numeric_length</th>\n",
       "      <th>ticket_numeric_prefix_2</th>\n",
       "      <th>ticket_numeric_prefix_3</th>\n",
       "      <th>ticket_group</th>\n",
       "      <th>ticket_group_size</th>\n",
       "      <th>num_cabins</th>\n",
       "    </tr>\n",
       "  </thead>\n",
       "  <tbody>\n",
       "    <tr>\n",
       "      <th>432</th>\n",
       "      <td>312</td>\n",
       "      <td>1</td>\n",
       "      <td>1</td>\n",
       "      <td>Ryerson, Miss. Emily Borie</td>\n",
       "      <td>female</td>\n",
       "      <td>18.0</td>\n",
       "      <td>2</td>\n",
       "      <td>2</td>\n",
       "      <td>PC 17608</td>\n",
       "      <td>262.375</td>\n",
       "      <td>...</td>\n",
       "      <td>PC</td>\n",
       "      <td>True</td>\n",
       "      <td>PC</td>\n",
       "      <td>17608</td>\n",
       "      <td>5</td>\n",
       "      <td>17</td>\n",
       "      <td>176</td>\n",
       "      <td>PC 17</td>\n",
       "      <td>2</td>\n",
       "      <td>4.0</td>\n",
       "    </tr>\n",
       "    <tr>\n",
       "      <th>433</th>\n",
       "      <td>743</td>\n",
       "      <td>1</td>\n",
       "      <td>1</td>\n",
       "      <td>Ryerson, Miss. Susan Parker \"Suzette\"</td>\n",
       "      <td>female</td>\n",
       "      <td>21.0</td>\n",
       "      <td>2</td>\n",
       "      <td>2</td>\n",
       "      <td>PC 17608</td>\n",
       "      <td>262.375</td>\n",
       "      <td>...</td>\n",
       "      <td>PC</td>\n",
       "      <td>True</td>\n",
       "      <td>PC</td>\n",
       "      <td>17608</td>\n",
       "      <td>5</td>\n",
       "      <td>17</td>\n",
       "      <td>176</td>\n",
       "      <td>PC 17</td>\n",
       "      <td>2</td>\n",
       "      <td>4.0</td>\n",
       "    </tr>\n",
       "  </tbody>\n",
       "</table>\n",
       "<p>2 rows × 33 columns</p>\n",
       "</div>"
      ],
      "text/plain": [
       "     PassengerId  Survived  Pclass                                   Name   \n",
       "432          312         1       1             Ryerson, Miss. Emily Borie  \\\n",
       "433          743         1       1  Ryerson, Miss. Susan Parker \"Suzette\"   \n",
       "\n",
       "        Sex   Age  SibSp  Parch    Ticket     Fare  ... ticket_length   \n",
       "432  female  18.0      2      2  PC 17608  262.375  ...            PC  \\\n",
       "433  female  21.0      2      2  PC 17608  262.375  ...            PC   \n",
       "\n",
       "    ticket_code  ticket_prefix_cleaned ticket_numeric  ticket_numeric_length   \n",
       "432        True                     PC          17608                      5  \\\n",
       "433        True                     PC          17608                      5   \n",
       "\n",
       "    ticket_numeric_prefix_2  ticket_numeric_prefix_3 ticket_group   \n",
       "432                      17                      176        PC 17  \\\n",
       "433                      17                      176        PC 17   \n",
       "\n",
       "     ticket_group_size  num_cabins  \n",
       "432                  2         4.0  \n",
       "433                  2         4.0  \n",
       "\n",
       "[2 rows x 33 columns]"
      ]
     },
     "execution_count": 193,
     "metadata": {},
     "output_type": "execute_result"
    }
   ],
   "source": [
    "train[train['Ticket'] == 'PC 17608']"
   ]
  },
  {
   "cell_type": "code",
   "execution_count": 185,
   "id": "6adde291",
   "metadata": {},
   "outputs": [
    {
     "data": {
      "text/plain": [
       "set()"
      ]
     },
     "execution_count": 185,
     "metadata": {},
     "output_type": "execute_result"
    }
   ],
   "source": [
    "errors"
   ]
  },
  {
   "cell_type": "code",
   "execution_count": 171,
   "id": "73fb670e",
   "metadata": {},
   "outputs": [
    {
     "data": {
      "text/html": [
       "<div>\n",
       "<style scoped>\n",
       "    .dataframe tbody tr th:only-of-type {\n",
       "        vertical-align: middle;\n",
       "    }\n",
       "\n",
       "    .dataframe tbody tr th {\n",
       "        vertical-align: top;\n",
       "    }\n",
       "\n",
       "    .dataframe thead th {\n",
       "        text-align: right;\n",
       "    }\n",
       "</style>\n",
       "<table border=\"1\" class=\"dataframe\">\n",
       "  <thead>\n",
       "    <tr style=\"text-align: right;\">\n",
       "      <th></th>\n",
       "      <th>Name</th>\n",
       "      <th>SibSp</th>\n",
       "      <th>Parch</th>\n",
       "      <th>Age</th>\n",
       "      <th>Ticket</th>\n",
       "      <th>family_size</th>\n",
       "    </tr>\n",
       "  </thead>\n",
       "  <tbody>\n",
       "    <tr>\n",
       "      <th>503</th>\n",
       "      <td>Carter, Mr. William Ernest</td>\n",
       "      <td>1</td>\n",
       "      <td>2</td>\n",
       "      <td>36.0</td>\n",
       "      <td>113760</td>\n",
       "      <td>3</td>\n",
       "    </tr>\n",
       "    <tr>\n",
       "      <th>504</th>\n",
       "      <td>Carter, Miss. Lucile Polk</td>\n",
       "      <td>1</td>\n",
       "      <td>2</td>\n",
       "      <td>14.0</td>\n",
       "      <td>113760</td>\n",
       "      <td>3</td>\n",
       "    </tr>\n",
       "    <tr>\n",
       "      <th>505</th>\n",
       "      <td>Carter, Mrs. William Ernest (Lucile Polk)</td>\n",
       "      <td>1</td>\n",
       "      <td>2</td>\n",
       "      <td>36.0</td>\n",
       "      <td>113760</td>\n",
       "      <td>3</td>\n",
       "    </tr>\n",
       "    <tr>\n",
       "      <th>506</th>\n",
       "      <td>Carter, Master. William Thornton II</td>\n",
       "      <td>1</td>\n",
       "      <td>2</td>\n",
       "      <td>11.0</td>\n",
       "      <td>113760</td>\n",
       "      <td>3</td>\n",
       "    </tr>\n",
       "  </tbody>\n",
       "</table>\n",
       "</div>"
      ],
      "text/plain": [
       "                                          Name  SibSp  Parch   Age  Ticket   \n",
       "503                 Carter, Mr. William Ernest      1      2  36.0  113760  \\\n",
       "504                  Carter, Miss. Lucile Polk      1      2  14.0  113760   \n",
       "505  Carter, Mrs. William Ernest (Lucile Polk)      1      2  36.0  113760   \n",
       "506        Carter, Master. William Thornton II      1      2  11.0  113760   \n",
       "\n",
       "     family_size  \n",
       "503            3  \n",
       "504            3  \n",
       "505            3  \n",
       "506            3  "
      ]
     },
     "execution_count": 171,
     "metadata": {},
     "output_type": "execute_result"
    }
   ],
   "source": [
    "train[train['Cabin'] == 'B96 B98'][['Name', 'SibSp', 'Parch', 'Age','Ticket', 'family_size']]"
   ]
  },
  {
   "cell_type": "code",
   "execution_count": 152,
   "id": "5c3c9136",
   "metadata": {},
   "outputs": [
    {
     "data": {
      "text/html": [
       "<div>\n",
       "<style scoped>\n",
       "    .dataframe tbody tr th:only-of-type {\n",
       "        vertical-align: middle;\n",
       "    }\n",
       "\n",
       "    .dataframe tbody tr th {\n",
       "        vertical-align: top;\n",
       "    }\n",
       "\n",
       "    .dataframe thead th {\n",
       "        text-align: right;\n",
       "    }\n",
       "</style>\n",
       "<table border=\"1\" class=\"dataframe\">\n",
       "  <thead>\n",
       "    <tr style=\"text-align: right;\">\n",
       "      <th></th>\n",
       "      <th>Ticket</th>\n",
       "    </tr>\n",
       "    <tr>\n",
       "      <th>Ticket</th>\n",
       "      <th></th>\n",
       "    </tr>\n",
       "  </thead>\n",
       "  <tbody>\n",
       "    <tr>\n",
       "      <th>110152</th>\n",
       "      <td>3</td>\n",
       "    </tr>\n",
       "    <tr>\n",
       "      <th>110413</th>\n",
       "      <td>3</td>\n",
       "    </tr>\n",
       "    <tr>\n",
       "      <th>110465</th>\n",
       "      <td>2</td>\n",
       "    </tr>\n",
       "    <tr>\n",
       "      <th>110564</th>\n",
       "      <td>1</td>\n",
       "    </tr>\n",
       "    <tr>\n",
       "      <th>110813</th>\n",
       "      <td>1</td>\n",
       "    </tr>\n",
       "    <tr>\n",
       "      <th>...</th>\n",
       "      <td>...</td>\n",
       "    </tr>\n",
       "    <tr>\n",
       "      <th>W./C. 6608</th>\n",
       "      <td>4</td>\n",
       "    </tr>\n",
       "    <tr>\n",
       "      <th>W./C. 6609</th>\n",
       "      <td>1</td>\n",
       "    </tr>\n",
       "    <tr>\n",
       "      <th>W.E.P. 5734</th>\n",
       "      <td>1</td>\n",
       "    </tr>\n",
       "    <tr>\n",
       "      <th>W/C 14208</th>\n",
       "      <td>1</td>\n",
       "    </tr>\n",
       "    <tr>\n",
       "      <th>WE/P 5735</th>\n",
       "      <td>2</td>\n",
       "    </tr>\n",
       "  </tbody>\n",
       "</table>\n",
       "<p>681 rows × 1 columns</p>\n",
       "</div>"
      ],
      "text/plain": [
       "             Ticket\n",
       "Ticket             \n",
       "110152            3\n",
       "110413            3\n",
       "110465            2\n",
       "110564            1\n",
       "110813            1\n",
       "...             ...\n",
       "W./C. 6608        4\n",
       "W./C. 6609        1\n",
       "W.E.P. 5734       1\n",
       "W/C 14208         1\n",
       "WE/P 5735         2\n",
       "\n",
       "[681 rows x 1 columns]"
      ]
     },
     "execution_count": 152,
     "metadata": {},
     "output_type": "execute_result"
    }
   ],
   "source": [
    "pd.DataFrame(train.groupby('Ticket')['Ticket'].count())"
   ]
  },
  {
   "cell_type": "code",
   "execution_count": 132,
   "id": "65620739",
   "metadata": {},
   "outputs": [
    {
     "data": {
      "text/plain": [
       "Ticket\n",
       "347082      7\n",
       "CA. 2343    7\n",
       "1601        7\n",
       "3101295     6\n",
       "CA 2144     6\n",
       "           ..\n",
       "9234        1\n",
       "19988       1\n",
       "2693        1\n",
       "PC 17612    1\n",
       "370376      1\n",
       "Name: count, Length: 681, dtype: int64"
      ]
     },
     "execution_count": 132,
     "metadata": {},
     "output_type": "execute_result"
    }
   ],
   "source": [
    "train['Ticket'].value_counts()"
   ]
  },
  {
   "cell_type": "code",
   "execution_count": 126,
   "id": "e9c5b042",
   "metadata": {},
   "outputs": [
    {
     "data": {
      "text/plain": [
       "3      113803\n",
       "137    113803\n",
       "Name: Ticket, dtype: object"
      ]
     },
     "execution_count": 126,
     "metadata": {},
     "output_type": "execute_result"
    }
   ],
   "source": [
    "train[train['ticket_prefix_cleaned'] == '113803']['Ticket']"
   ]
  },
  {
   "cell_type": "code",
   "execution_count": 127,
   "id": "d758dc95",
   "metadata": {},
   "outputs": [
    {
     "data": {
      "text/plain": [
       "array(['A5', 'PC', 'STONO2', '113803', '373450', '330877', '17463',\n",
       "       '349909', '347742', '237736', 'PP', '113783', '347082', '350406',\n",
       "       '248706', '382652', '244373', '345763', '2649', '239865', '248698',\n",
       "       '330923', '113788', '347077', '2631', '19950', '330959', '349216',\n",
       "       '335677', 'CA', '113789', '2677', '345764', '2651', '7546',\n",
       "       '11668', '349253', 'SCParis', '330958', 'SCA4', '370371', '14311',\n",
       "       '2662', '349237', '3101295', 'A4', '2926', '113509', '19947',\n",
       "       '2697', '2669', '113572', '36973', '347088', '2661', 'SP',\n",
       "       '3101281', '315151', 'SOC', '2680', '1601', '348123', '349208',\n",
       "       '374746', '248738', '364516', '345767', '345779', '330932',\n",
       "       '113059', '3101278', 'WC', 'SOTONOQ', '343275', '343276', '347466',\n",
       "       'WEP', '364500', '374910', '231919', '244367', '349245', '349215',\n",
       "       '35281', '7540', '3101276', '349207', '343120', '312991', '349249',\n",
       "       '371110', '110465', '2665', '324669', '4136', '2627', 'STONO',\n",
       "       '370369', '27267', '370372', 'C', '2668', '347061', '349241',\n",
       "       '228414', 'SCPARIS', '11752', '7534', '2678', '347081', '365222',\n",
       "       '231945', '350043', '230080', '244310', 'SOP', '113776', 'Fa',\n",
       "       '35851', '315037', '371362', '347068', '315093', '363291',\n",
       "       '113505', '111240', '17764', '350404', '4133', '250653', 'LINE',\n",
       "       '230136', '315153', '113767', '370365', '111428', '364849',\n",
       "       '349247', '234604', '28424', '350046', '368703', '4579', '370370',\n",
       "       '248747', '345770', '3101264', '2628', '347054', '2699', '367231',\n",
       "       '112277', 'FCC', '250646', '367229', '35273', '243847', '11813',\n",
       "       '220367', '21440', '349234', '19943', 'SWPP', '236171', '347067',\n",
       "       '237442', '26707', '28665', 'SCOW', '367230', '2694', '19928',\n",
       "       '347071', '250649', '11751', '244252', '362316', '113514',\n",
       "       '370129', '2650', '110152', '230433', '384461', '110413', '112059',\n",
       "       '382649', '347083', '113798', '250644', '370375', '13502',\n",
       "       '347073', '239853', '336439', '347464', '345778', '113056',\n",
       "       '349239', '345774', '349206', '237798', '370373', '19877', '11967',\n",
       "       '349236', '349233', '2693', '113781', '19988', '9234', '367226',\n",
       "       '226593', '17421', 'PPP', '11767', '250651', '349243', '347470',\n",
       "       '29011', '36928', '16966', '349219', '234818', '345364', '28551',\n",
       "       '111361', '113043', '349225', '7598', '113784', '248740', '244361',\n",
       "       '229236', '248733', '31418', '386525', '315088', '7267', '113510',\n",
       "       '2695', '2647', '345783', '237671', '330931', '330980', '2691',\n",
       "       '110813', '2626', '14313', '11765', '3101267', '323951', '113503',\n",
       "       '2648', '347069', '2653', '349227', '27849', '367655', 'SC',\n",
       "       '113760', '350034', '3101277', '350052', '350407', '28403',\n",
       "       '244278', '240929', '341826', '4137', '315096', '28664', '347064',\n",
       "       '29106', '312992', '349222', '394140', '343095', '28220', '250652',\n",
       "       '28228', '345773', '349254', '315082', '347080', '2003', '250655',\n",
       "       '364851', '110564', '376564', 'SCAH', '13507', '345769', '347076',\n",
       "       '230434', '65306', '33638', '113794', '2666', '113786', '65303',\n",
       "       '113051', '17453', '349240', '13509', '17464', '371060', '19952',\n",
       "       '364506', '111320', '234360', 'AS', '113792', '36209', '323592',\n",
       "       '315089', '7553', '31027', '3460', '350060', '3101298', '239854',\n",
       "       '4134', '11771', '65304', '113787', '36947', '350035', '315086',\n",
       "       '364846', '330909', '4135', '26360', '111427', '382651', '349209',\n",
       "       '36967', '226875', '349242', '12749', '349252', '2624', '2700',\n",
       "       '367232', '3101296', '29104', '2641', '2690', '315084', '113050',\n",
       "       '364498', '13568', '2908', '693', '244358', '330979', '2620',\n",
       "       '347085', '113807', '11755', '345572', '372622', '349251',\n",
       "       '218629', '349205', '2686', '350417', '11769', '14312', '358585',\n",
       "       '243880', '2689', '237789', '13049', '3411', '237565', '13567',\n",
       "       '14973', '364848', '248727', '2664', '349214', '113796', '364511',\n",
       "       '111426', '349910', '349246', '113804', '370377', '364512',\n",
       "       '220845', '31028', '2659', '11753', '350029', '54636', '36963',\n",
       "       '219533', '349224', '334912', '27042', '347743', '13214', '112052',\n",
       "       '237668', '350050', '349231', '13213', 'SOPP', '349221', '8475',\n",
       "       '330919', '365226', '349223', '29751', '2623', '5727', '349210',\n",
       "       '234686', '312993', '19996', '29750', 'FC', '244270', '239856',\n",
       "       '349912', '342826', '4138', '330935', '6563', '349228', '350036',\n",
       "       '24160', '17474', '349256', '2672', '113800', '248731', '363592',\n",
       "       '35852', '348121', '36864', '350025', '223596', '113028', '7545',\n",
       "       '250647', '348124', '34218', '36568', '347062', '350048', '12233',\n",
       "       '250643', '113806', '315094', '36866', '236853', '239855', '28425',\n",
       "       '233639', '349201', '349218', '16988', '376566', '250648',\n",
       "       '113773', '335097', '29103', '392096', '345780', '349204',\n",
       "       '350042', '29108', '363294', 'SOTONO2', '2663', '347074', '112379',\n",
       "       '364850', '8471', '345781', '350047', '2674', '29105', '347078',\n",
       "       '383121', '36865', '2687', '113501', '374887', '3101265', '12460',\n",
       "       '349203', '28213', '17465', '349244', '2685', '2625', '347089',\n",
       "       '347063', '112050', '347087', '248723', '3474', '28206', '364499',\n",
       "       '112058', '315098', '19972', '368323', '367228', '2671', '347468',\n",
       "       '2223', '315097', '392092', '11774', '2683', '315090', '349213',\n",
       "       '347060', '392091', '113055', '2629', '350026', '28134', '17466',\n",
       "       '233866', '236852', '345777', '349248', '695', '345765', '2667',\n",
       "       '349212', '349217', '349257', '7552', 'CASOTON', '211536',\n",
       "       '112053', '111369', '370376'], dtype=object)"
      ]
     },
     "execution_count": 127,
     "metadata": {},
     "output_type": "execute_result"
    }
   ],
   "source": [
    "train['ticket_prefix_cleaned'].unique()"
   ]
  },
  {
   "cell_type": "code",
   "execution_count": 128,
   "id": "e1bcb102",
   "metadata": {},
   "outputs": [
    {
     "data": {
      "text/plain": [
       "array(['A5 21', 'PC 17', 'STONO2 31', None, 'PP 95', 'CA 24',\n",
       "       'SCParis 21', 'SCA4 23', 'A4 39', 'CA 31', 'CA 34', 'CA 21',\n",
       "       'CA 29', 'SP 34', 'CA 33', 'SOC 14', 'WC 66', 'SOTONOQ 39',\n",
       "       'WEP 57', 'CA 23', 'STONO 2.', 'A4 54', 'C 17', 'SOTONOQ 31',\n",
       "       'A5 33', 'SCPARIS 21', 'SOP 11', 'A5 11', 'A5 85', 'Fa 26',\n",
       "       'LINE 00', 'A5 35', 'FCC 13', 'WC 14', 'PP 43', 'SWPP 75',\n",
       "       'SCOW 15', 'CA 17', 'CA 26', 'A5 10', 'A5 24', 'PPP 33', 'CA 37',\n",
       "       'C 70', 'SC 17', 'A5 13', 'A4 34', 'SCAH 30', 'CA 18', 'A5 28',\n",
       "       'AS 28', 'SCAH Ba', 'A5 18', 'A4 45', 'CA 62', 'C 40', 'A4 48',\n",
       "       'A4 20', 'A5 32', 'A5 39', 'SCAH 29', 'SOPP 75', 'FC 12',\n",
       "       'SOTONO2 31', 'SOPP 3', 'SCPARIS 20', 'CA 55', 'CASOTON 34'],\n",
       "      dtype=object)"
      ]
     },
     "execution_count": 128,
     "metadata": {},
     "output_type": "execute_result"
    }
   ],
   "source": [
    "train['ticket_group'].unique()"
   ]
  },
  {
   "cell_type": "code",
   "execution_count": 129,
   "id": "c1f45b14",
   "metadata": {},
   "outputs": [
    {
     "data": {
      "text/plain": [
       "array([5, 4], dtype=int64)"
      ]
     },
     "execution_count": 129,
     "metadata": {},
     "output_type": "execute_result"
    }
   ],
   "source": [
    "train[train['ticket_prefix_cleaned'] == 'CA']['ticket_numeric_length'].unique()"
   ]
  },
  {
   "cell_type": "code",
   "execution_count": null,
   "id": "67696ff7",
   "metadata": {},
   "outputs": [],
   "source": [
    "train[train['ticket_prefix_cleaned'] == 'A5']['ticket_numeric_prefix_2'].unique()"
   ]
  },
  {
   "cell_type": "code",
   "execution_count": null,
   "id": "1c3d78f6",
   "metadata": {},
   "outputs": [],
   "source": [
    "train[train['ticket_prefix_cleaned'] == 'A5']['ticket_numeric_length'].unique()"
   ]
  },
  {
   "cell_type": "code",
   "execution_count": null,
   "id": "09ad1415",
   "metadata": {},
   "outputs": [],
   "source": [
    "train[train['ticket_prefix_cleaned'] == 'PC']['Ticket']"
   ]
  },
  {
   "cell_type": "code",
   "execution_count": null,
   "id": "cb06f49c",
   "metadata": {},
   "outputs": [],
   "source": [
    "train[train['ticket_prefix_cleaned'] == 'CA']['Ticket']"
   ]
  },
  {
   "cell_type": "code",
   "execution_count": null,
   "id": "1dc01dec",
   "metadata": {},
   "outputs": [],
   "source": [
    "train[train['ticket_prefix_cleaned'] == 'A5']['Ticket']"
   ]
  },
  {
   "cell_type": "code",
   "execution_count": null,
   "id": "ddb7b458",
   "metadata": {},
   "outputs": [],
   "source": [
    "train['ticket_prefix_cleaned'].value_counts()"
   ]
  },
  {
   "cell_type": "code",
   "execution_count": null,
   "id": "0242e582",
   "metadata": {},
   "outputs": [],
   "source": []
  }
 ],
 "metadata": {
  "kernelspec": {
   "display_name": "ml_env",
   "language": "python",
   "name": "ml_env"
  },
  "language_info": {
   "codemirror_mode": {
    "name": "ipython",
    "version": 3
   },
   "file_extension": ".py",
   "mimetype": "text/x-python",
   "name": "python",
   "nbconvert_exporter": "python",
   "pygments_lexer": "ipython3",
   "version": "3.11.2"
  }
 },
 "nbformat": 4,
 "nbformat_minor": 5
}
